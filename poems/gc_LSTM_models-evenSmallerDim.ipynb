{
 "cells": [
  {
   "cell_type": "markdown",
   "id": "858a5735-8db4-4be9-be5b-a0d3e6cbfab7",
   "metadata": {
    "id": "858a5735-8db4-4be9-be5b-a0d3e6cbfab7"
   },
   "source": [
    "# LSTM"
   ]
  },
  {
   "cell_type": "code",
   "execution_count": 1,
   "id": "7eec7180-b53a-44be-a57f-13840fe87b21",
   "metadata": {
    "id": "7eec7180-b53a-44be-a57f-13840fe87b21"
   },
   "outputs": [],
   "source": [
    "import numpy as np\n",
    "import pandas as pd \n",
    "import re\n",
    "import helper\n",
    "import random\n",
    "import string\n",
    "import matplotlib.pyplot as plt\n",
    "\n",
    "import torch\n",
    "import torch.nn as nn\n",
    "\n",
    "import pdb\n",
    "\n",
    "import time\n",
    "import math"
   ]
  },
  {
   "cell_type": "code",
   "execution_count": 2,
   "id": "87fa110a-640b-42ac-8a7d-806d251e4952",
   "metadata": {
    "colab": {
     "base_uri": "https://localhost:8080/"
    },
    "id": "87fa110a-640b-42ac-8a7d-806d251e4952",
    "outputId": "6c5f22d0-6797-47e1-95c5-817663acd2e5"
   },
   "outputs": [
    {
     "data": {
      "text/plain": [
       "<module 'helper' from '/Users/glchau/Desktop/Caltech/CS155/loan-sharks/poems/helper.py'>"
      ]
     },
     "execution_count": 2,
     "metadata": {},
     "output_type": "execute_result"
    }
   ],
   "source": [
    "# Run this to reload helper.py so you don't have to restart the kernel\n",
    "import importlib\n",
    "\n",
    "importlib.reload(helper)"
   ]
  },
  {
   "cell_type": "markdown",
   "id": "7bace0ca-0c69-4877-ba48-cc5342abd20d",
   "metadata": {
    "id": "7bace0ca-0c69-4877-ba48-cc5342abd20d"
   },
   "source": [
    "## Preprocess data"
   ]
  },
  {
   "cell_type": "code",
   "execution_count": 3,
   "id": "ea55bd15-6a4b-4a6c-b20c-f09f63acda0b",
   "metadata": {
    "id": "ea55bd15-6a4b-4a6c-b20c-f09f63acda0b"
   },
   "outputs": [],
   "source": [
    "all_words, all_sequences, word_dict, all_sonnet_int = helper.getAllWordsAndSequences(\"data/shakespeare.txt\", \"data/Syllable_dictionary.txt\")"
   ]
  },
  {
   "cell_type": "markdown",
   "id": "bad57e2b-ffe2-469e-8b78-fbe87687a3e4",
   "metadata": {
    "id": "bad57e2b-ffe2-469e-8b78-fbe87687a3e4"
   },
   "source": [
    "## Variables and helper functions for RNN training "
   ]
  },
  {
   "cell_type": "code",
   "execution_count": 4,
   "id": "a9b8403d-f8c5-4a2a-94ed-b51fa187a16d",
   "metadata": {
    "id": "a9b8403d-f8c5-4a2a-94ed-b51fa187a16d"
   },
   "outputs": [],
   "source": [
    "all_character_sequences = [' '.join(seq[:-1]) for seq in all_sequences]\n",
    "all_character_sequences_no_empty = [seq for seq in all_character_sequences if len(seq) > 0]\n"
   ]
  },
  {
   "cell_type": "code",
   "execution_count": 5,
   "id": "a793b073-1909-4945-aa82-534f35343e1b",
   "metadata": {
    "id": "a793b073-1909-4945-aa82-534f35343e1b"
   },
   "outputs": [],
   "source": [
    "fixed_length_character_sequences_valid_start = [] \n",
    "big_string = ' '.join(all_character_sequences_no_empty)\n",
    "big_string = ' ' + big_string\n",
    "step_size = 5\n",
    "for i in range(0, len(big_string)):\n",
    "    if (big_string[i-1] == ' ') and (big_string[i] != ' '):\n",
    "        if len(big_string[i:i+40]) == 40: \n",
    "            fixed_length_character_sequences_valid_start.append(big_string[i:i+40])        "
   ]
  },
  {
   "cell_type": "code",
   "execution_count": 6,
   "id": "dIjkH1vllj3E",
   "metadata": {
    "colab": {
     "base_uri": "https://localhost:8080/"
    },
    "id": "dIjkH1vllj3E",
    "outputId": "03982446-9069-4ba5-a908-1c90dbf299cf"
   },
   "outputs": [
    {
     "data": {
      "text/plain": [
       "17566"
      ]
     },
     "execution_count": 6,
     "metadata": {},
     "output_type": "execute_result"
    }
   ],
   "source": [
    "len(fixed_length_character_sequences_valid_start)"
   ]
  },
  {
   "cell_type": "code",
   "execution_count": 7,
   "id": "debd5e9a-ff3c-48a8-93da-1571cced25e0",
   "metadata": {
    "id": "debd5e9a-ff3c-48a8-93da-1571cced25e0"
   },
   "outputs": [
    {
     "data": {
      "text/plain": [
       "40"
      ]
     },
     "execution_count": 7,
     "metadata": {},
     "output_type": "execute_result"
    }
   ],
   "source": [
    "all_letters = string.ascii_lowercase + \" '-\"  # abcdefghijklmnopqrstuvwxyz '-\n",
    "n_letters = len(all_letters) + 1 # Plus EOS marker\n",
    "all_categories = [0] # Only have 1 category for now. We could try to categorize lines by position or ending rhyme\n",
    "n_categories = len(all_categories)\n",
    "\n",
    "lens = [len(seq) for seq in fixed_length_character_sequences_valid_start]\n",
    "max_length = max(lens)\n",
    "min_lenth = min(lens)\n",
    "max_length"
   ]
  },
  {
   "cell_type": "code",
   "execution_count": 8,
   "id": "a0830690-3e2d-4a92-87a0-d03d2c631fee",
   "metadata": {
    "id": "a0830690-3e2d-4a92-87a0-d03d2c631fee"
   },
   "outputs": [
    {
     "data": {
      "text/plain": [
       "device(type='cpu')"
      ]
     },
     "execution_count": 8,
     "metadata": {},
     "output_type": "execute_result"
    }
   ],
   "source": [
    "device = torch.device(\"cuda:0\" if torch.cuda.is_available() else \"cpu\")\n",
    "device"
   ]
  },
  {
   "cell_type": "code",
   "execution_count": 9,
   "id": "3a2e1100-9420-4f4c-b46c-e7a269fc1796",
   "metadata": {
    "id": "3a2e1100-9420-4f4c-b46c-e7a269fc1796"
   },
   "outputs": [],
   "source": [
    "def inputTensor(line):\n",
    "    # One-hot matrix of first to last letters (not including EOS) for input\n",
    "    # tensor = torch.zeros(len(line), n_letters)\n",
    "    # for li in range(len(line)):\n",
    "    #     letter = line[li]\n",
    "    #     tensor[li][all_letters.find(letter)] = 1\n",
    "    \n",
    "    # Indices \n",
    "    letter_indexes = [all_letters.find(line[li]) for li in range(0, len(line))]\n",
    "    return torch.LongTensor(letter_indexes) #tensor\n",
    "\n",
    "# LongTensor of second letter to end (EOS) for target\n",
    "def targetTensor(line):\n",
    "    letter_indexes = [all_letters.find(line[li]) for li in range(1, len(line))]\n",
    "    letter_indexes.append(n_letters - 1) # EOS\n",
    "    return torch.LongTensor(letter_indexes)\n",
    "\n",
    "def inputTargetLists(line): \n",
    "    inputList = [all_letters.find(line[li]) for li in range(0, len(line))]\n",
    "    targetList = [all_letters.find(line[li]) for li in range(1, len(line))]\n",
    "    targetList.append(n_letters - 1)\n",
    "    return inputList, targetList"
   ]
  },
  {
   "cell_type": "code",
   "execution_count": 10,
   "id": "8d0738f2-f47d-41a0-8777-ccda74863a42",
   "metadata": {
    "id": "8d0738f2-f47d-41a0-8777-ccda74863a42"
   },
   "outputs": [],
   "source": [
    "# Random item from a list\n",
    "def randomChoice(l):\n",
    "    return l[random.randint(0, len(l) - 1)]\n",
    "\n",
    "# Generate a batch of lines with input and target tensors \n",
    "def randomBatch(category_lines, batch_size=16):\n",
    "    input_tensors = []\n",
    "    target_tensors = []\n",
    "    for b in range(batch_size): \n",
    "        line = randomChoice(category_lines)\n",
    "        inputList, targetList = inputTargetLists(line)\n",
    "        \n",
    "        input_tensors.append(inputList)\n",
    "        target_tensors.append(targetList)\n",
    "    return torch.LongTensor(input_tensors), torch.LongTensor(target_tensors)"
   ]
  },
  {
   "cell_type": "markdown",
   "id": "309c8d4b-b6f3-48fe-a577-9717ebffc1af",
   "metadata": {
    "id": "309c8d4b-b6f3-48fe-a577-9717ebffc1af"
   },
   "source": [
    "### Training Functions"
   ]
  },
  {
   "cell_type": "code",
   "execution_count": 11,
   "id": "445fc3a6-2055-4e5b-bf25-3aa28718d306",
   "metadata": {
    "id": "445fc3a6-2055-4e5b-bf25-3aa28718d306"
   },
   "outputs": [],
   "source": [
    "def timeSince(since):\n",
    "    now = time.time()\n",
    "    s = now - since\n",
    "    m = math.floor(s / 60)\n",
    "    s -= m * 60\n",
    "    return '%dm %ds' % (m, s)"
   ]
  },
  {
   "cell_type": "code",
   "execution_count": 12,
   "id": "3d5498fa-d334-4afe-8261-4dddef793cd7",
   "metadata": {
    "id": "3d5498fa-d334-4afe-8261-4dddef793cd7"
   },
   "outputs": [],
   "source": [
    "# train the RNN on the input and target batch values \n",
    "\n",
    "def train_batch(rnn, input_line_tensor, target_line_tensor, optimizer, criterion):\n",
    "    \n",
    "    # Put in extra dimension for the \"Layer\" dimension of LSTM inputs \n",
    "    input_line_tensor = torch.unsqueeze(input_line_tensor, dim=0)\n",
    "    target_line_tensor = torch.unsqueeze(target_line_tensor, dim=0)\n",
    "    \n",
    "    # Initilize the hidden and cell matrices \n",
    "    hidden, cell = rnn.initHidden()\n",
    "\n",
    "    # Zero out the gradients for each batch\n",
    "    rnn.zero_grad()\n",
    "\n",
    "    # Initlize loss to 0\n",
    "    loss = 0\n",
    "\n",
    "    # Iterate through all 40 characters in the sequence\n",
    "    for i in range(input_line_tensor.size(2)):\n",
    "        \n",
    "        # Select only the ith character for the batch\n",
    "        input_tensor = input_line_tensor[:, :, i] \n",
    "        target_tensor = target_line_tensor[:, :, i] \n",
    "        \n",
    "        # Forward pass through RNN \n",
    "        output, (hidden, cell) = rnn(input_tensor, (hidden, cell))\n",
    "        \n",
    "        # Loss calculation\n",
    "        l = criterion(torch.squeeze(output, dim=0), torch.squeeze(target_tensor, dim=0))\n",
    "        loss += l.item() \n",
    "\n",
    "        # Compute gradients and take optimizer step\n",
    "        optimizer.zero_grad()\n",
    "        l.backward(retain_graph=True)\n",
    "        optimizer.step()\n",
    "\n",
    "    return loss / rnn.batch_size"
   ]
  },
  {
   "cell_type": "code",
   "execution_count": 13,
   "id": "e9891d34-227d-4305-9036-f09e30fe05ae",
   "metadata": {
    "id": "e9891d34-227d-4305-9036-f09e30fe05ae"
   },
   "outputs": [],
   "source": [
    "# Sample from a category and starting letter\n",
    "\n",
    "def sample(rnn, start_letter='a', length=max_length, temperature=1):\n",
    "    with torch.no_grad():  # no need to track history in sampling\n",
    "        rnn.eval()\n",
    "        inputs = inputTensor(start_letter).to(device)\n",
    "        hidden, cell = torch.zeros(1, 1, rnn.hidden_size).to(device), torch.zeros(1, 1, rnn.hidden_size).to(device)\n",
    "\n",
    "        output_name = start_letter\n",
    "\n",
    "        for i in range(length):\n",
    "            inputs = inputs[None, :]\n",
    "            \n",
    "            output, (hidden, cell) = rnn(inputs, (hidden, cell), temperature=temperature)\n",
    "            \n",
    "            topi = torch.multinomial(output.data[0], 1)\n",
    "            # pdb.set_trace()\n",
    "            # topv, topi = output.topk(1)\n",
    "            topi = topi[0][0]\n",
    "            \n",
    "            # Last index is <EOS> so we just kill the appending\n",
    "            if topi == n_letters - 1:\n",
    "                break \n",
    "            else:\n",
    "                letter = all_letters[topi]\n",
    "                output_name += letter\n",
    "            \n",
    "            inputs = inputTensor(letter).to(device)\n",
    "\n",
    "        return output_name"
   ]
  },
  {
   "cell_type": "code",
   "execution_count": 14,
   "id": "554a28f4-2e9b-499e-a62e-63447290409c",
   "metadata": {},
   "outputs": [],
   "source": [
    "# Sample from a category and starting letter\n",
    "\n",
    "def sampleMultipleStart(rnn, start_seq='ant', length=max_length, temperature=1):\n",
    "    with torch.no_grad():  # no need to track history in sampling\n",
    "        rnn.eval()\n",
    "        \n",
    "        \n",
    "        hidden, cell = torch.zeros(1, 1, rnn.hidden_size).to(device), torch.zeros(1, 1, rnn.hidden_size).to(device)\n",
    "\n",
    "        input_array = []\n",
    "        for char in start_seq: \n",
    "            input_array.append(inputTensor(char).to(device))\n",
    "        output_sequence = start_seq\n",
    "        \n",
    "        for i in range(len(start_seq) - 1): \n",
    "            inputs = input_array[i][None, :].to(device)\n",
    "            output, (hidden, cell) = rnn(inputs, (hidden, cell), temperature=temperature)\n",
    "\n",
    "        inputs = input_array[len(start_seq) - 1][None, :]\n",
    "        for i in range(length):\n",
    "            \n",
    "            output, (hidden, cell) = rnn(inputs, (hidden, cell), temperature=temperature)\n",
    "            # output = output.data[0] / sum(output.data[0][0]) \n",
    "            topi = torch.multinomial(output.data[0], 1)\n",
    "            \n",
    "            # topv, topi = output.topk(1)\n",
    "            topi = topi[0][0]\n",
    "            \n",
    "            # Last index is <EOS> so we just kill the appending\n",
    "            if topi == n_letters - 1:\n",
    "                break \n",
    "            else:\n",
    "                letter = all_letters[topi]\n",
    "                output_sequence += letter\n",
    "            \n",
    "            inputs = inputTensor(letter)[None, :].to(device)\n",
    "\n",
    "        return output_sequence"
   ]
  },
  {
   "cell_type": "markdown",
   "id": "08ncG8mBk96R",
   "metadata": {
    "id": "08ncG8mBk96R"
   },
   "source": [
    "## One Hot encoding LSTM"
   ]
  },
  {
   "cell_type": "code",
   "execution_count": 15,
   "id": "bb404074-20ea-4a9f-859e-14675bec362e",
   "metadata": {
    "id": "bb404074-20ea-4a9f-859e-14675bec362e"
   },
   "outputs": [],
   "source": [
    "class RNN(nn.Module):\n",
    "    def __init__(self, input_size, hidden_size, n_classes, batch_size, device, n_layers=1): # n_classes is output_size \n",
    "        super(RNN, self).__init__()\n",
    "        self.input_size = input_size # input size is number of classes in our case \n",
    "        self.hidden_size = hidden_size # hidden layer size \n",
    "        self.n_classes = n_classes # number of classes \n",
    "        self.batch_size = batch_size # size of batch\n",
    "        self.n_layers = n_layers # number of layers in LSTM\n",
    "        self.device = device # 'cuda' or 'cpu'\n",
    "        \n",
    "\n",
    "        # self.embedding = nn.Embedding(input_size, input_size)\n",
    "        self.lstm = nn.LSTM(input_size=input_size, hidden_size=hidden_size, num_layers=1)\n",
    "        self.decoder = nn.Linear(hidden_size, n_classes)\n",
    "        self.dropout = nn.Dropout(0.1)\n",
    "        self.softmax = nn.Softmax(dim=2)\n",
    "        \n",
    "\n",
    "    def forward(self, input_vals, hc, temperature=1):\n",
    "        # embeding = self.embedding(input_vals)\n",
    "        one_hot = torch.nn.functional.one_hot(input_vals, num_classes=self.n_classes)\n",
    "        # pdb.set_trace()\n",
    "        output, hc = self.lstm(one_hot.float(), hc)\n",
    "        output = self.decoder(output)\n",
    "        output = self.dropout(output)\n",
    "        # pdb.set_trace()\n",
    "        output = self.softmax(output / temperature)\n",
    "        return output, (hc[0].detach(), hc[1].detach())\n",
    "\n",
    "    def initHidden(self, num_layers=None, batch_size=None, hidden_size=None):\n",
    "        if num_layers is None:\n",
    "            num_layers = self.n_layers\n",
    "        if batch_size is None:\n",
    "            batch_size = self.batch_size\n",
    "        if hidden_size is None:\n",
    "            hidden_size = self.hidden_size\n",
    "            \n",
    "        return torch.zeros(num_layers, batch_size, hidden_size).to(self.device), torch.zeros(num_layers, batch_size, hidden_size).to(self.device)"
   ]
  },
  {
   "cell_type": "code",
   "execution_count": 16,
   "id": "46a31cc0-8346-4d34-a866-a94666eb60ba",
   "metadata": {
    "colab": {
     "base_uri": "https://localhost:8080/"
    },
    "id": "46a31cc0-8346-4d34-a866-a94666eb60ba",
    "outputId": "e0aba8e1-8a10-4e5a-eb65-5248751033ae"
   },
   "outputs": [
    {
     "name": "stdout",
     "output_type": "stream",
     "text": [
      "0m 42s (500 3%) 3.9196\n",
      "1m 23s (1000 6%) 3.8813\n",
      "2m 4s (1500 10%) 3.9059\n",
      "2m 44s (2000 13%) 3.8400\n",
      "3m 24s (2500 16%) 3.8448\n",
      "4m 4s (3000 20%) 3.8288\n",
      "4m 44s (3500 23%) 3.7489\n",
      "5m 24s (4000 26%) 3.7851\n",
      "6m 3s (4500 30%) 3.7938\n",
      "6m 44s (5000 33%) 3.7675\n",
      "7m 24s (5500 36%) 3.7803\n",
      "8m 4s (6000 40%) 3.7789\n",
      "8m 43s (6500 43%) 3.7557\n",
      "9m 23s (7000 46%) 3.7586\n",
      "10m 3s (7500 50%) 3.7528\n",
      "10m 43s (8000 53%) 3.7455\n",
      "11m 22s (8500 56%) 3.7599\n",
      "12m 2s (9000 60%) 3.7317\n",
      "12m 42s (9500 63%) 3.7447\n",
      "13m 22s (10000 66%) 3.7865\n",
      "14m 2s (10500 70%) 3.7632\n",
      "14m 42s (11000 73%) 3.7398\n",
      "15m 22s (11500 76%) 3.7468\n",
      "16m 2s (12000 80%) 3.7898\n",
      "16m 42s (12500 83%) 3.7306\n",
      "17m 23s (13000 86%) 3.7324\n",
      "18m 4s (13500 90%) 3.7592\n",
      "18m 44s (14000 93%) 3.7161\n",
      "19m 24s (14500 96%) 3.7371\n",
      "20m 3s (15000 100%) 3.7528\n"
     ]
    }
   ],
   "source": [
    "######### PARAMETERS #########\n",
    "batch_size = 32\n",
    "hidden_size = 128\n",
    "n_iters = 15000\n",
    "print_every = 500\n",
    "plot_every = 500\n",
    "learning_rate = 0.0005\n",
    "############################## \n",
    "\n",
    "rnn = RNN(n_letters, hidden_size, n_letters, device=device, batch_size=batch_size).to(device) # expand hidden units \n",
    "\n",
    "criterion = nn.CrossEntropyLoss() \n",
    "\n",
    "optimizer = torch.optim.Adam(rnn.parameters(), lr=learning_rate)\n",
    "\n",
    "all_losses = []\n",
    "total_loss = 0 # Reset every plot_every iters\n",
    "\n",
    "start = time.time()\n",
    "\n",
    "for iter in range(1, n_iters + 1):\n",
    "    try : \n",
    "        input_line_tensor, target_line_tensor = randomBatch(fixed_length_character_sequences_valid_start, batch_size=batch_size)\n",
    "        loss = train_batch(rnn, input_line_tensor.to(device), target_line_tensor.to(device), criterion=criterion, optimizer=optimizer)\n",
    "        total_loss += loss\n",
    "    except : \n",
    "        print(input_line_tensor)\n",
    "        raise\n",
    "\n",
    "    if iter % print_every == 0:\n",
    "        print('%s (%d %d%%) %.4f' % (timeSince(start), iter, iter / n_iters * 100, loss))\n",
    "\n",
    "    if iter % plot_every == 0:\n",
    "        all_losses.append(total_loss / plot_every)\n",
    "        total_loss = 0"
   ]
  },
  {
   "cell_type": "code",
   "execution_count": 17,
   "id": "d8888ad1-d1aa-4c4a-87c9-599930bc7438",
   "metadata": {
    "colab": {
     "base_uri": "https://localhost:8080/",
     "height": 282
    },
    "id": "d8888ad1-d1aa-4c4a-87c9-599930bc7438",
    "outputId": "1ed98845-b4f5-430d-bc07-d4cad1b48bcc"
   },
   "outputs": [
    {
     "data": {
      "text/plain": [
       "[<matplotlib.lines.Line2D at 0x7fabbe34a040>]"
      ]
     },
     "execution_count": 17,
     "metadata": {},
     "output_type": "execute_result"
    },
    {
     "data": {
      "image/png": "[encoded data removed]",
      "text/plain": [
       "<Figure size 432x288 with 1 Axes>"
      ]
     },
     "metadata": {
      "needs_background": "light"
     },
     "output_type": "display_data"
    }
   ],
   "source": [
    "plt.plot(all_losses)"
   ]
  },
  {
   "cell_type": "code",
   "execution_count": 57,
   "id": "09559e2c-bb7d-4e14-83bc-1f6abff56af3",
   "metadata": {
    "colab": {
     "base_uri": "https://localhost:8080/",
     "height": 35
    },
    "id": "09559e2c-bb7d-4e14-83bc-1f6abff56af3",
    "outputId": "33e3162c-12cc-4b35-b523-f23919254afd"
   },
   "outputs": [
    {
     "name": "stdout",
     "output_type": "stream",
     "text": [
      "just the shall the shall the\n",
      "unth the shall the seare the seall\n",
      "man the seart the seare that the\n",
      "when the sease the sealth the seare that the\n",
      "\n",
      "pose the seare that the searin the\n",
      "content the shall the seare the seall the\n",
      "of the sealt the seart the seare\n",
      "for the seare the seare that the\n",
      "\n",
      "the searer that the searen the\n",
      "man the seart the seare that the searin the\n",
      "rest that the seed the shall the shall\n",
      "unth the shall the seare the seall the seall the\n",
      "\n",
      "doth the seart the seared the shall the sear the\n",
      "anter the shall the shall the\n"
     ]
    }
   ],
   "source": [
    "# Sample a poem\n",
    "for i in range(14): \n",
    "    original_sample = sample(rnn, random.choice(string.ascii_lowercase[:-3]), \n",
    "                             length=random.randint(30, 50), temperature=0.5)\n",
    "    print(' '.join(original_sample.split(\" \")[:-1]))\n",
    "    if i in [3, 7, 11]:\n",
    "        print()"
   ]
  },
  {
   "cell_type": "code",
   "execution_count": 19,
   "id": "00819690-1893-455e-b4df-84ca8523f160",
   "metadata": {},
   "outputs": [],
   "source": [
    "# Save model\n",
    "torch.save(rnn.state_dict(), \"./models/lstm_onehot_model_128hdim.pt\")\n",
    "\n"
   ]
  },
  {
   "cell_type": "code",
   "execution_count": 56,
   "id": "6dea578e-14a6-4cb0-80d4-104d093399a0",
   "metadata": {},
   "outputs": [
    {
     "name": "stdout",
     "output_type": "stream",
     "text": [
      "shall i compare thee to a summer's day the shall\n",
      "the shall the shall the shall the shall the selose\n",
      "selone the seart the sean the seared the shall the\n",
      "seleed the shall that the searin the seare the star\n",
      "the seart the s shall the seare the seall the\n",
      "sear the searin the seall the seare the seare that\n",
      "searer that the seed the s so the seare that\n",
      "the seare the searine the seare that the searin the\n",
      "that the sear the s shall the seless the shall\n",
      "the sell sears the shall the shall the sell the\n",
      "selt the snoul the seare that the selone the seare\n",
      "the seared the seart the seart the sear the sear\n",
      "the searine the seart the seare that the seart the\n",
      "shall the seart the searlone the seart the s shall\n"
     ]
    }
   ],
   "source": [
    "start_sample = sampleMultipleStart(rnn, start_seq=\"shall i compare thee to a summer's day\", \n",
    "                             length=1000, temperature=1.5)\n",
    "\n",
    "for line in range(14):\n",
    "    print(' '.join(start_sample.split(\" \")[line * 14:line * 14 + 10]))\n"
   ]
  },
  {
   "cell_type": "code",
   "execution_count": null,
   "id": "f2bf55d5-96eb-4e23-bf37-951e61379dcf",
   "metadata": {},
   "outputs": [],
   "source": [
    "# Sample a poem\n",
    "for i in range(14): \n",
    "    original_sample = sample(rnn_load_model, random.choice(string.ascii_lowercase[:-3]), \n",
    "                             length=random.randint(30, 50), temperature=3.05)\n",
    "    print(' '.join(original_sample.split(\" \")[:-1]))\n",
    "    if i in [3, 7, 11]:\n",
    "        print()"
   ]
  },
  {
   "cell_type": "markdown",
   "id": "S-eR5T1BlDEI",
   "metadata": {
    "id": "S-eR5T1BlDEI"
   },
   "source": [
    "## Embedding LSTM"
   ]
  },
  {
   "cell_type": "code",
   "execution_count": 20,
   "id": "qe9-xqxndmHR",
   "metadata": {
    "id": "qe9-xqxndmHR"
   },
   "outputs": [],
   "source": [
    "class RNN_Embedding(nn.Module):\n",
    "    def __init__(self, input_size, hidden_size, n_classes, device, batch_size, n_layers=1): # n_classes is output_size \n",
    "        super(RNN_Embedding, self).__init__()\n",
    "        self.input_size = input_size # input size is number of classes in our case \n",
    "        self.hidden_size = hidden_size # hidden layer size \n",
    "        self.n_classes = n_classes # number of classes \n",
    "        self.batch_size = batch_size # size of batch\n",
    "        self.n_layers = n_layers # number of layers in LSTM\n",
    "        self.device = device # 'cuda' or 'cpu'\n",
    "\n",
    "        self.embedding = nn.Embedding(input_size, input_size)\n",
    "        self.lstm = nn.LSTM(input_size=input_size, hidden_size=hidden_size, num_layers=n_layers)\n",
    "        self.decoder = nn.Linear(hidden_size, n_classes)\n",
    "        self.dropout = nn.Dropout(0.1)\n",
    "        self.softmax = nn.Softmax(dim=2)\n",
    "        \n",
    "\n",
    "    def forward(self, input_vals, hc, temperature=1):\n",
    "        embeding = self.embedding(input_vals)\n",
    "        # pdb.set_trace()\n",
    "        output, hc = self.lstm(embeding, hc)\n",
    "        output = self.decoder(output)\n",
    "        output = self.dropout(output)\n",
    "        # pdb.set_trace()\n",
    "        output = self.softmax(output / temperature)\n",
    "        return output, (hc[0].detach(), hc[1].detach())\n",
    "\n",
    "    def initHidden(self, num_layers=None, batch_size=None, hidden_size=None):\n",
    "        if num_layers is None:\n",
    "            num_layers = self.n_layers\n",
    "        if batch_size is None:\n",
    "            batch_size = self.batch_size\n",
    "        if hidden_size is None:\n",
    "            hidden_size = self.hidden_size\n",
    "            \n",
    "        return torch.zeros(num_layers, batch_size, hidden_size).to(device), torch.zeros(num_layers, batch_size, hidden_size).to(device)"
   ]
  },
  {
   "cell_type": "code",
   "execution_count": 22,
   "id": "sT4Wij0Udsll",
   "metadata": {
    "colab": {
     "base_uri": "https://localhost:8080/",
     "height": 1000
    },
    "id": "sT4Wij0Udsll",
    "outputId": "b9bc93e8-507e-41be-bd31-c0b8d29d28d5"
   },
   "outputs": [
    {
     "name": "stdout",
     "output_type": "stream",
     "text": [
      "0m 45s (500 2%) 3.8301\n",
      "1m 33s (1000 4%) 3.8271\n",
      "2m 18s (1500 6%) 3.7849\n",
      "3m 2s (2000 8%) 3.8033\n",
      "3m 46s (2500 10%) 3.7771\n",
      "4m 31s (3000 12%) 3.7499\n",
      "5m 15s (3500 14%) 3.7788\n",
      "5m 59s (4000 16%) 3.7510\n",
      "6m 44s (4500 18%) 3.7611\n",
      "7m 29s (5000 20%) 3.7799\n",
      "8m 13s (5500 22%) 3.7509\n",
      "8m 57s (6000 24%) 3.7391\n",
      "9m 42s (6500 26%) 3.7589\n",
      "10m 26s (7000 28%) 3.7678\n",
      "11m 11s (7500 30%) 3.7626\n",
      "11m 56s (8000 32%) 3.7430\n",
      "12m 40s (8500 34%) 3.7426\n",
      "13m 25s (9000 36%) 3.7206\n",
      "14m 10s (9500 38%) 3.7391\n",
      "14m 57s (10000 40%) 3.7542\n",
      "15m 44s (10500 42%) 3.7429\n",
      "16m 31s (11000 44%) 3.7483\n",
      "17m 15s (11500 46%) 3.7245\n",
      "18m 0s (12000 48%) 3.7308\n",
      "18m 44s (12500 50%) 3.7229\n",
      "19m 29s (13000 52%) 3.7543\n",
      "20m 14s (13500 54%) 3.7331\n",
      "20m 58s (14000 56%) 3.7296\n",
      "21m 43s (14500 57%) 3.7283\n",
      "22m 27s (15000 60%) 3.7606\n",
      "23m 11s (15500 62%) 3.7322\n",
      "23m 55s (16000 64%) 3.7477\n",
      "24m 40s (16500 66%) 3.7225\n",
      "25m 24s (17000 68%) 3.7382\n",
      "26m 9s (17500 70%) 3.7327\n",
      "26m 53s (18000 72%) 3.7155\n",
      "27m 37s (18500 74%) 3.7254\n",
      "28m 21s (19000 76%) 3.7334\n",
      "29m 6s (19500 78%) 3.7277\n",
      "29m 50s (20000 80%) 3.7453\n",
      "30m 34s (20500 82%) 3.7427\n",
      "31m 19s (21000 84%) 3.7211\n",
      "32m 3s (21500 86%) 3.7078\n",
      "32m 48s (22000 88%) 3.7488\n",
      "33m 32s (22500 90%) 3.7076\n",
      "34m 16s (23000 92%) 3.7125\n",
      "35m 1s (23500 94%) 3.7362\n",
      "35m 45s (24000 96%) 3.7309\n",
      "36m 28s (24500 98%) 3.7398\n",
      "37m 11s (25000 100%) 3.7201\n"
     ]
    }
   ],
   "source": [
    "######### PARAMETERS #########\n",
    "batch_size = 32\n",
    "hidden_size = 128\n",
    "n_iters = 25000\n",
    "print_every = 500\n",
    "plot_every = 500\n",
    "learning_rate = 0.0005\n",
    "############################## \n",
    "\n",
    "rnn_embedding = RNN_Embedding(input_size=n_letters, hidden_size=hidden_size, n_classes=n_letters, n_layers=1, device=device, batch_size=batch_size).to(device) # expand hidden units \n",
    "\n",
    "criterion = nn.CrossEntropyLoss() \n",
    "\n",
    "optimizer = torch.optim.Adam(rnn_embedding.parameters(), lr=learning_rate)\n",
    "\n",
    "import pdb\n",
    "\n",
    "all_losses_embed = []\n",
    "total_loss_embed = 0 # Reset every plot_every iters\n",
    "\n",
    "start = time.time()\n",
    "\n",
    "for iter in range(1, n_iters + 1):\n",
    "    try : \n",
    "        input_line_tensor, target_line_tensor = randomBatch(fixed_length_character_sequences_valid_start, batch_size=batch_size)\n",
    "        loss = train_batch(rnn_embedding, input_line_tensor.to(device), target_line_tensor.to(device), criterion=criterion, optimizer=optimizer)\n",
    "        total_loss_embed += loss\n",
    "    except : \n",
    "        print(input_line_tensor)\n",
    "        raise\n",
    "\n",
    "    if iter % print_every == 0:\n",
    "        print('%s (%d %d%%) %.4f' % (timeSince(start), iter, iter / n_iters * 100, loss))\n",
    "\n",
    "    if iter % plot_every == 0:\n",
    "        all_losses_embed.append(total_loss_embed / plot_every)\n",
    "        total_loss_embed = 0"
   ]
  },
  {
   "cell_type": "code",
   "execution_count": 23,
   "id": "ukzPajiGfI7h",
   "metadata": {
    "id": "ukzPajiGfI7h"
   },
   "outputs": [
    {
     "data": {
      "text/plain": [
       "[<matplotlib.lines.Line2D at 0x7fab9ee85fa0>]"
      ]
     },
     "execution_count": 23,
     "metadata": {},
     "output_type": "execute_result"
    },
    {
     "data": {
      "image/png": "[encoded data removed]",
      "text/plain": [
       "<Figure size 432x288 with 1 Axes>"
      ]
     },
     "metadata": {
      "needs_background": "light"
     },
     "output_type": "display_data"
    }
   ],
   "source": [
    "plt.plot(all_losses_embed)"
   ]
  },
  {
   "cell_type": "code",
   "execution_count": 26,
   "id": "26d81bfb-664c-4a70-8084-81d8f02b077e",
   "metadata": {},
   "outputs": [],
   "source": [
    "torch.save(rnn_embedding.state_dict(), \"./models/lstm_embedding_model_128hdim_25000iters.pt\")\n"
   ]
  },
  {
   "cell_type": "code",
   "execution_count": 24,
   "id": "mqqFvXiEeTQm",
   "metadata": {
    "id": "mqqFvXiEeTQm"
   },
   "outputs": [
    {
     "name": "stdout",
     "output_type": "stream",
     "text": [
      "when the star shall shoull the sail the star\n",
      "love the st the st the s use the st the star the\n",
      "conter so the stare to the star the st the\n",
      "not lover the star the st the\n",
      "\n",
      "eyes the strainter the stares\n",
      "when the st the star the st the star\n",
      "doth the stae the st the state the\n",
      "conter state shoul save the star\n",
      "\n",
      "of the star the st the star sense the star\n",
      "verse the one so the star the state\n",
      "love the st the star seen the state\n",
      "nour sell the state the star the\n",
      "\n",
      "juit in the star the st the\n",
      "part the stare the st the state\n"
     ]
    }
   ],
   "source": [
    "# Sample a poem\n",
    "for i in range(14): \n",
    "    original_sample = sample(rnn_embedding, random.choice(string.ascii_lowercase[:-3]), \n",
    "                             length=random.randint(30, 50), temperature=3.05)\n",
    "    print(' '.join(original_sample.split(\" \")[:-1]))\n",
    "    if i in [3, 7, 11]:\n",
    "        print()"
   ]
  },
  {
   "cell_type": "code",
   "execution_count": 59,
   "id": "9683b447-0550-4a2e-bd7d-d23b7d0eb1aa",
   "metadata": {},
   "outputs": [
    {
     "name": "stdout",
     "output_type": "stream",
     "text": [
      "shall i compare thee to a summer's day the star\n",
      "the star the star the state the st the star\n",
      "the st the st the st the star the st\n",
      "the st the st the state the stron the star\n",
      "st the star the st the stares the star the\n",
      "st the star the st the star the st the\n",
      "st the st the state the star the st the\n",
      "star the stare the star the starest the star the\n",
      "st the st the star the stare the star the\n",
      "st the state the state the state the star the\n",
      "star the star the stare the state the star the\n",
      "the st the star the star the st the star\n",
      "the st the star the star the stare the st\n",
      "the st the star the st the star the st\n"
     ]
    }
   ],
   "source": [
    "start_sample = sampleMultipleStart(rnn_embedding, start_seq=\"shall i compare thee to a summer's day\", \n",
    "                             length=1000, temperature=0.75)\n",
    "\n",
    "for line in range(14):\n",
    "    print(' '.join(start_sample.split(\" \")[line * 14:line * 14 + 10]))\n"
   ]
  },
  {
   "cell_type": "code",
   "execution_count": 44,
   "id": "c875e792-5d73-47d8-9acf-cd39287953c5",
   "metadata": {},
   "outputs": [
    {
     "name": "stdout",
     "output_type": "stream",
     "text": [
      "shall i compare thee to a summer's day the star\n",
      "the star the star the st the star the st\n",
      "the stron the st the star the st the star\n",
      "the st the star the star the st the star\n",
      "the st the star the st the st the st\n",
      "the state the star the star the st the st\n",
      "the state the star the star the st the star\n",
      "the star the star the st the star the star\n",
      "the stare the state the star the stare the state\n",
      "the star the stare the state the strest the star\n",
      "so the st the star the st the st the\n",
      "st the st the state the star the st the\n",
      "star the star the state the st the star the\n",
      "stares the state the starest the stares the star the\n"
     ]
    }
   ],
   "source": [
    "for line in range(14):\n",
    "    print(' '.join(start_sample.split(\" \")[line * 14:line * 14 + 10]))"
   ]
  },
  {
   "cell_type": "code",
   "execution_count": null,
   "id": "24280f9f-4462-4323-bbc6-cf939299a985",
   "metadata": {},
   "outputs": [],
   "source": [
    "# Load model\n",
    "# Model class must be defined somewhere\n",
    "rnn_load_model = RNN_Embedding(n_letters, hidden_size, n_letters, device=device, batch_size=batch_size)\n",
    "rnn_load_model.load_state_dict(torch.load(\"./models/lstm_embedding_model.pt\"))\n",
    "rnn_load_model.eval()"
   ]
  }
 ],
 "metadata": {
  "accelerator": "GPU",
  "colab": {
   "collapsed_sections": [],
   "name": "gc_LSTM_scratch-OneHot.ipynb",
   "provenance": []
  },
  "kernelspec": {
   "display_name": "Python 3 (ipykernel)",
   "language": "python",
   "name": "python3"
  },
  "language_info": {
   "codemirror_mode": {
    "name": "ipython",
    "version": 3
   },
   "file_extension": ".py",
   "mimetype": "text/x-python",
   "name": "python",
   "nbconvert_exporter": "python",
   "pygments_lexer": "ipython3",
   "version": "3.8.12"
  }
 },
 "nbformat": 4,
 "nbformat_minor": 5
}
