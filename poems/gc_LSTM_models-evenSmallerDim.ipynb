{
 "cells": [
  {
   "cell_type": "markdown",
   "id": "858a5735-8db4-4be9-be5b-a0d3e6cbfab7",
   "metadata": {
    "id": "858a5735-8db4-4be9-be5b-a0d3e6cbfab7"
   },
   "source": [
    "# LSTM"
   ]
  },
  {
   "cell_type": "code",
   "execution_count": 1,
   "id": "7eec7180-b53a-44be-a57f-13840fe87b21",
   "metadata": {
    "id": "7eec7180-b53a-44be-a57f-13840fe87b21"
   },
   "outputs": [],
   "source": [
    "import numpy as np\n",
    "import pandas as pd \n",
    "import re\n",
    "import helper\n",
    "import random\n",
    "import string\n",
    "import matplotlib.pyplot as plt\n",
    "\n",
    "import torch\n",
    "import torch.nn as nn\n",
    "\n",
    "import pdb\n",
    "\n",
    "import time\n",
    "import math"
   ]
  },
  {
   "cell_type": "code",
   "execution_count": 2,
   "id": "87fa110a-640b-42ac-8a7d-806d251e4952",
   "metadata": {
    "colab": {
     "base_uri": "https://localhost:8080/"
    },
    "id": "87fa110a-640b-42ac-8a7d-806d251e4952",
    "outputId": "6c5f22d0-6797-47e1-95c5-817663acd2e5"
   },
   "outputs": [
    {
     "data": {
      "text/plain": [
       "<module 'helper' from '/Users/glchau/Desktop/Caltech/CS155/loan-sharks/poems/helper.py'>"
      ]
     },
     "execution_count": 2,
     "metadata": {},
     "output_type": "execute_result"
    }
   ],
   "source": [
    "# Run this to reload helper.py so you don't have to restart the kernel\n",
    "import importlib\n",
    "\n",
    "importlib.reload(helper)"
   ]
  },
  {
   "cell_type": "markdown",
   "id": "7bace0ca-0c69-4877-ba48-cc5342abd20d",
   "metadata": {
    "id": "7bace0ca-0c69-4877-ba48-cc5342abd20d"
   },
   "source": [
    "## Preprocess data"
   ]
  },
  {
   "cell_type": "code",
   "execution_count": 3,
   "id": "ea55bd15-6a4b-4a6c-b20c-f09f63acda0b",
   "metadata": {
    "id": "ea55bd15-6a4b-4a6c-b20c-f09f63acda0b"
   },
   "outputs": [],
   "source": [
    "all_words, all_sequences, word_dict, all_sonnet_int = helper.getAllWordsAndSequences(\"data/shakespeare.txt\", \"data/Syllable_dictionary.txt\")"
   ]
  },
  {
   "cell_type": "markdown",
   "id": "bad57e2b-ffe2-469e-8b78-fbe87687a3e4",
   "metadata": {
    "id": "bad57e2b-ffe2-469e-8b78-fbe87687a3e4"
   },
   "source": [
    "## Variables and helper functions for RNN training "
   ]
  },
  {
   "cell_type": "code",
   "execution_count": 4,
   "id": "a9b8403d-f8c5-4a2a-94ed-b51fa187a16d",
   "metadata": {
    "id": "a9b8403d-f8c5-4a2a-94ed-b51fa187a16d"
   },
   "outputs": [],
   "source": [
    "all_character_sequences = [' '.join(seq[:-1]) for seq in all_sequences]\n",
    "all_character_sequences_no_empty = [seq for seq in all_character_sequences if len(seq) > 0]\n"
   ]
  },
  {
   "cell_type": "code",
   "execution_count": 5,
   "id": "a793b073-1909-4945-aa82-534f35343e1b",
   "metadata": {
    "id": "a793b073-1909-4945-aa82-534f35343e1b"
   },
   "outputs": [],
   "source": [
    "fixed_length_character_sequences_valid_start = [] \n",
    "big_string = ' '.join(all_character_sequences_no_empty)\n",
    "big_string = ' ' + big_string\n",
    "step_size = 5\n",
    "for i in range(0, len(big_string)):\n",
    "    if (big_string[i-1] == ' ') and (big_string[i] != ' '):\n",
    "        if len(big_string[i:i+40]) == 40: \n",
    "            fixed_length_character_sequences_valid_start.append(big_string[i:i+40])        "
   ]
  },
  {
   "cell_type": "code",
   "execution_count": 81,
   "id": "dIjkH1vllj3E",
   "metadata": {
    "colab": {
     "base_uri": "https://localhost:8080/"
    },
    "id": "dIjkH1vllj3E",
    "outputId": "03982446-9069-4ba5-a908-1c90dbf299cf"
   },
   "outputs": [
    {
     "data": {
      "text/plain": [
       "[1, 2, 3]"
      ]
     },
     "execution_count": 81,
     "metadata": {},
     "output_type": "execute_result"
    }
   ],
   "source": [
    "[1, 2, 3][:10]"
   ]
  },
  {
   "cell_type": "code",
   "execution_count": 84,
   "id": "82ceeb56-70f1-4413-a7cc-26f6f92777cd",
   "metadata": {},
   "outputs": [],
   "source": [
    "clipped_sequences = []\n",
    "for seq in all_character_sequences_no_empty: \n",
    "    if (len(seq[:40]) == 40) : \n",
    "        clipped_sequences.append(seq[:40]) "
   ]
  },
  {
   "cell_type": "code",
   "execution_count": 7,
   "id": "debd5e9a-ff3c-48a8-93da-1571cced25e0",
   "metadata": {
    "id": "debd5e9a-ff3c-48a8-93da-1571cced25e0"
   },
   "outputs": [
    {
     "data": {
      "text/plain": [
       "40"
      ]
     },
     "execution_count": 7,
     "metadata": {},
     "output_type": "execute_result"
    }
   ],
   "source": [
    "all_letters = string.ascii_lowercase + \" '-\"  # abcdefghijklmnopqrstuvwxyz '-\n",
    "n_letters = len(all_letters) + 1 # Plus EOS marker\n",
    "all_categories = [0] # Only have 1 category for now. We could try to categorize lines by position or ending rhyme\n",
    "n_categories = len(all_categories)\n",
    "\n",
    "lens = [len(seq) for seq in fixed_length_character_sequences_valid_start]\n",
    "max_length = max(lens)\n",
    "min_lenth = min(lens)\n",
    "max_length"
   ]
  },
  {
   "cell_type": "code",
   "execution_count": 125,
   "id": "a0830690-3e2d-4a92-87a0-d03d2c631fee",
   "metadata": {
    "id": "a0830690-3e2d-4a92-87a0-d03d2c631fee"
   },
   "outputs": [],
   "source": [
    "device = torch.device(\"cuda:0\" if torch.cuda.is_available() else \"cpu\")"
   ]
  },
  {
   "cell_type": "code",
   "execution_count": 9,
   "id": "3a2e1100-9420-4f4c-b46c-e7a269fc1796",
   "metadata": {
    "id": "3a2e1100-9420-4f4c-b46c-e7a269fc1796"
   },
   "outputs": [],
   "source": [
    "def inputTensor(line):\n",
    "    # One-hot matrix of first to last letters (not including EOS) for input\n",
    "    # tensor = torch.zeros(len(line), n_letters)\n",
    "    # for li in range(len(line)):\n",
    "    #     letter = line[li]\n",
    "    #     tensor[li][all_letters.find(letter)] = 1\n",
    "    \n",
    "    # Indices \n",
    "    letter_indexes = [all_letters.find(line[li]) for li in range(0, len(line))]\n",
    "    return torch.LongTensor(letter_indexes) #tensor\n",
    "\n",
    "# LongTensor of second letter to end (EOS) for target\n",
    "def targetTensor(line):\n",
    "    letter_indexes = [all_letters.find(line[li]) for li in range(1, len(line))]\n",
    "    letter_indexes.append(n_letters - 1) # EOS\n",
    "    return torch.LongTensor(letter_indexes)\n",
    "\n",
    "def inputTargetLists(line): \n",
    "    inputList = [all_letters.find(line[li]) for li in range(0, len(line))]\n",
    "    targetList = [all_letters.find(line[li]) for li in range(1, len(line))]\n",
    "    targetList.append(n_letters - 1)\n",
    "    return inputList, targetList"
   ]
  },
  {
   "cell_type": "code",
   "execution_count": 10,
   "id": "8d0738f2-f47d-41a0-8777-ccda74863a42",
   "metadata": {
    "id": "8d0738f2-f47d-41a0-8777-ccda74863a42"
   },
   "outputs": [],
   "source": [
    "# Random item from a list\n",
    "def randomChoice(l):\n",
    "    return l[random.randint(0, len(l) - 1)]\n",
    "\n",
    "# Generate a batch of lines with input and target tensors \n",
    "def randomBatch(category_lines, batch_size=16):\n",
    "    input_tensors = []\n",
    "    target_tensors = []\n",
    "    for b in range(batch_size): \n",
    "        line = randomChoice(category_lines)\n",
    "        inputList, targetList = inputTargetLists(line)\n",
    "        \n",
    "        input_tensors.append(inputList)\n",
    "        target_tensors.append(targetList)\n",
    "    return torch.LongTensor(input_tensors), torch.LongTensor(target_tensors)"
   ]
  },
  {
   "cell_type": "markdown",
   "id": "309c8d4b-b6f3-48fe-a577-9717ebffc1af",
   "metadata": {
    "id": "309c8d4b-b6f3-48fe-a577-9717ebffc1af"
   },
   "source": [
    "### Training Functions"
   ]
  },
  {
   "cell_type": "code",
   "execution_count": 11,
   "id": "445fc3a6-2055-4e5b-bf25-3aa28718d306",
   "metadata": {
    "id": "445fc3a6-2055-4e5b-bf25-3aa28718d306"
   },
   "outputs": [],
   "source": [
    "def timeSince(since):\n",
    "    now = time.time()\n",
    "    s = now - since\n",
    "    m = math.floor(s / 60)\n",
    "    s -= m * 60\n",
    "    return '%dm %ds' % (m, s)"
   ]
  },
  {
   "cell_type": "code",
   "execution_count": 12,
   "id": "3d5498fa-d334-4afe-8261-4dddef793cd7",
   "metadata": {
    "id": "3d5498fa-d334-4afe-8261-4dddef793cd7"
   },
   "outputs": [],
   "source": [
    "# train the RNN on the input and target batch values \n",
    "\n",
    "def train_batch(rnn, input_line_tensor, target_line_tensor, optimizer, criterion):\n",
    "    \n",
    "    # Put in extra dimension for the \"Layer\" dimension of LSTM inputs \n",
    "    input_line_tensor = torch.unsqueeze(input_line_tensor, dim=0)\n",
    "    target_line_tensor = torch.unsqueeze(target_line_tensor, dim=0)\n",
    "    \n",
    "    # Initilize the hidden and cell matrices \n",
    "    hidden, cell = rnn.initHidden()\n",
    "\n",
    "    # Zero out the gradients for each batch\n",
    "    rnn.zero_grad()\n",
    "\n",
    "    # Initlize loss to 0\n",
    "    loss = 0\n",
    "\n",
    "    # Iterate through all 40 characters in the sequence\n",
    "    for i in range(input_line_tensor.size(2)):\n",
    "        \n",
    "        # Select only the ith character for the batch\n",
    "        input_tensor = input_line_tensor[:, :, i] \n",
    "        target_tensor = target_line_tensor[:, :, i] \n",
    "        \n",
    "        # Forward pass through RNN \n",
    "        output, (hidden, cell) = rnn(input_tensor, (hidden, cell))\n",
    "        \n",
    "        # Loss calculation\n",
    "        l = criterion(torch.squeeze(output, dim=0), torch.squeeze(target_tensor, dim=0))\n",
    "        loss += l.item() \n",
    "\n",
    "        # Compute gradients and take optimizer step\n",
    "        optimizer.zero_grad()\n",
    "        l.backward(retain_graph=True)\n",
    "        optimizer.step()\n",
    "\n",
    "    return loss / rnn.batch_size"
   ]
  },
  {
   "cell_type": "code",
   "execution_count": 13,
   "id": "e9891d34-227d-4305-9036-f09e30fe05ae",
   "metadata": {
    "id": "e9891d34-227d-4305-9036-f09e30fe05ae"
   },
   "outputs": [],
   "source": [
    "# Sample from a category and starting letter\n",
    "\n",
    "def sample(rnn, start_letter='a', length=max_length, temperature=1):\n",
    "    with torch.no_grad():  # no need to track history in sampling\n",
    "        rnn.eval()\n",
    "        inputs = inputTensor(start_letter).to(device)\n",
    "        hidden, cell = torch.zeros(1, 1, rnn.hidden_size).to(device), torch.zeros(1, 1, rnn.hidden_size).to(device)\n",
    "\n",
    "        output_name = start_letter\n",
    "\n",
    "        for i in range(length):\n",
    "            inputs = inputs[None, :]\n",
    "            \n",
    "            output, (hidden, cell) = rnn(inputs, (hidden, cell), temperature=temperature)\n",
    "            \n",
    "            topi = torch.multinomial(output.data[0], 1)\n",
    "            # pdb.set_trace()\n",
    "            # topv, topi = output.topk(1)\n",
    "            topi = topi[0][0]\n",
    "            \n",
    "            # Last index is <EOS> so we just kill the appending\n",
    "            if topi == n_letters - 1:\n",
    "                break \n",
    "            else:\n",
    "                letter = all_letters[topi]\n",
    "                output_name += letter\n",
    "            \n",
    "            inputs = inputTensor(letter).to(device)\n",
    "\n",
    "        return output_name"
   ]
  },
  {
   "cell_type": "code",
   "execution_count": 14,
   "id": "554a28f4-2e9b-499e-a62e-63447290409c",
   "metadata": {},
   "outputs": [],
   "source": [
    "# Sample from a category and starting letter\n",
    "\n",
    "def sampleMultipleStart(rnn, start_seq='ant', length=max_length, temperature=1):\n",
    "    with torch.no_grad():  # no need to track history in sampling\n",
    "        rnn.eval()\n",
    "        \n",
    "        \n",
    "        hidden, cell = torch.zeros(1, 1, rnn.hidden_size).to(device), torch.zeros(1, 1, rnn.hidden_size).to(device)\n",
    "\n",
    "        input_array = []\n",
    "        for char in start_seq: \n",
    "            input_array.append(inputTensor(char).to(device))\n",
    "        output_sequence = start_seq\n",
    "        \n",
    "        for i in range(len(start_seq) - 1): \n",
    "            inputs = input_array[i][None, :].to(device)\n",
    "            output, (hidden, cell) = rnn(inputs, (hidden, cell), temperature=temperature)\n",
    "\n",
    "        inputs = input_array[len(start_seq) - 1][None, :]\n",
    "        for i in range(length):\n",
    "            \n",
    "            output, (hidden, cell) = rnn(inputs, (hidden, cell), temperature=temperature)\n",
    "            # output = output.data[0] / sum(output.data[0][0]) \n",
    "            topi = torch.multinomial(output.data[0], 1)\n",
    "            \n",
    "            # topv, topi = output.topk(1)\n",
    "            topi = topi[0][0]\n",
    "            \n",
    "            # Last index is <EOS> so we just kill the appending\n",
    "            if topi == n_letters - 1:\n",
    "                break \n",
    "            else:\n",
    "                letter = all_letters[topi]\n",
    "                output_sequence += letter\n",
    "            \n",
    "            inputs = inputTensor(letter)[None, :].to(device)\n",
    "\n",
    "        return output_sequence"
   ]
  },
  {
   "cell_type": "markdown",
   "id": "08ncG8mBk96R",
   "metadata": {
    "id": "08ncG8mBk96R"
   },
   "source": [
    "## One Hot encoding LSTM"
   ]
  },
  {
   "cell_type": "code",
   "execution_count": 60,
   "id": "bb404074-20ea-4a9f-859e-14675bec362e",
   "metadata": {
    "id": "bb404074-20ea-4a9f-859e-14675bec362e"
   },
   "outputs": [],
   "source": [
    "class RNN(nn.Module):\n",
    "    def __init__(self, input_size, hidden_size, n_classes, batch_size, device, n_layers=1): # n_classes is output_size \n",
    "        super(RNN, self).__init__()\n",
    "        self.input_size = input_size # input size is number of classes in our case \n",
    "        self.hidden_size = hidden_size # hidden layer size \n",
    "        self.n_classes = n_classes # number of classes \n",
    "        self.batch_size = batch_size # size of batch\n",
    "        self.n_layers = n_layers # number of layers in LSTM\n",
    "        self.device = device # 'cuda' or 'cpu'\n",
    "        \n",
    "\n",
    "        # self.embedding = nn.Embedding(input_size, input_size)\n",
    "        self.lstm = nn.LSTM(input_size=input_size, hidden_size=hidden_size, num_layers=1)\n",
    "        self.decoder = nn.Linear(hidden_size, n_classes)\n",
    "        self.dropout = nn.Dropout(0.1)\n",
    "        self.softmax = nn.Softmax(dim=2)\n",
    "        \n",
    "\n",
    "    def forward(self, input_vals, hc, temperature=1):\n",
    "        # embeding = self.embedding(input_vals)\n",
    "        one_hot = torch.nn.functional.one_hot(input_vals, num_classes=self.n_classes)\n",
    "        # pdb.set_trace()\n",
    "        output, hc = self.lstm(one_hot.float(), hc)\n",
    "        output = self.decoder(output)\n",
    "        output = self.dropout(output)\n",
    "        # pdb.set_trace()\n",
    "        output = self.softmax(output / temperature)\n",
    "        return output, (hc[0].detach(), hc[1].detach())\n",
    "\n",
    "    def initHidden(self, num_layers=None, batch_size=None, hidden_size=None):\n",
    "        if num_layers is None:\n",
    "            num_layers = self.n_layers\n",
    "        if batch_size is None:\n",
    "            batch_size = self.batch_size\n",
    "        if hidden_size is None:\n",
    "            hidden_size = self.hidden_size\n",
    "            \n",
    "        return torch.zeros(num_layers, batch_size, hidden_size).to(self.device), torch.zeros(num_layers, batch_size, hidden_size).to(self.device)"
   ]
  },
  {
   "cell_type": "code",
   "execution_count": 117,
   "id": "46a31cc0-8346-4d34-a866-a94666eb60ba",
   "metadata": {
    "colab": {
     "base_uri": "https://localhost:8080/"
    },
    "id": "46a31cc0-8346-4d34-a866-a94666eb60ba",
    "outputId": "e0aba8e1-8a10-4e5a-eb65-5248751033ae"
   },
   "outputs": [
    {
     "name": "stdout",
     "output_type": "stream",
     "text": [
      "0m 42s (500 10%) 3.8604\n",
      "1m 23s (1000 20%) 3.8660\n",
      "2m 6s (1500 30%) 3.8229\n",
      "2m 48s (2000 40%) 3.8155\n",
      "3m 30s (2500 50%) 3.8300\n",
      "4m 12s (3000 60%) 3.7993\n",
      "4m 53s (3500 70%) 3.7994\n",
      "5m 34s (4000 80%) 3.7702\n",
      "6m 16s (4500 90%) 3.7763\n",
      "6m 58s (5000 100%) 3.7763\n"
     ]
    }
   ],
   "source": [
    "######### PARAMETERS #########\n",
    "batch_size = 32\n",
    "hidden_size = 128\n",
    "n_iters = 5000\n",
    "print_every = 500\n",
    "plot_every = 500\n",
    "learning_rate = 0.0005\n",
    "############################## \n",
    "\n",
    "rnn = RNN(n_letters, hidden_size, n_letters, device=device, batch_size=batch_size).to(device) # expand hidden units \n",
    "\n",
    "criterion = nn.CrossEntropyLoss() \n",
    "\n",
    "optimizer = torch.optim.Adam(rnn.parameters(), lr=learning_rate)\n",
    "\n",
    "all_losses = []\n",
    "total_loss = 0 # Reset every plot_every iters\n",
    "\n",
    "start = time.time()\n",
    "\n",
    "for iter in range(1, n_iters + 1):\n",
    "    try : \n",
    "        input_line_tensor, target_line_tensor = randomBatch(clipped_sequences, batch_size=batch_size)\n",
    "        loss = train_batch(rnn, input_line_tensor.to(device), target_line_tensor.to(device), criterion=criterion, optimizer=optimizer)\n",
    "        total_loss += loss\n",
    "    except : \n",
    "        print(input_line_tensor)\n",
    "        raise\n",
    "\n",
    "    if iter % print_every == 0:\n",
    "        print('%s (%d %d%%) %.4f' % (timeSince(start), iter, iter / n_iters * 100, loss))\n",
    "\n",
    "    if iter % plot_every == 0:\n",
    "        all_losses.append(total_loss / plot_every)\n",
    "        total_loss = 0"
   ]
  },
  {
   "cell_type": "code",
   "execution_count": 119,
   "id": "d8888ad1-d1aa-4c4a-87c9-599930bc7438",
   "metadata": {
    "colab": {
     "base_uri": "https://localhost:8080/",
     "height": 282
    },
    "id": "d8888ad1-d1aa-4c4a-87c9-599930bc7438",
    "outputId": "1ed98845-b4f5-430d-bc07-d4cad1b48bcc"
   },
   "outputs": [
    {
     "data": {
      "image/png": "[encoded data removed]",
      "text/plain": [
       "<Figure size 432x288 with 1 Axes>"
      ]
     },
     "metadata": {
      "needs_background": "light"
     },
     "output_type": "display_data"
    }
   ],
   "source": [
    "plt.plot(np.arange(0, n_iters, plot_every), all_losses)\n",
    "plt.ylabel(\"loss\")\n",
    "plt.xlabel(\"iteration number\")\n",
    "plt.title(\"LSTM Training loss curve: Trained on line starts only\") \n",
    "plt.show()"
   ]
  },
  {
   "cell_type": "code",
   "execution_count": 120,
   "id": "09559e2c-bb7d-4e14-83bc-1f6abff56af3",
   "metadata": {
    "colab": {
     "base_uri": "https://localhost:8080/",
     "height": 35
    },
    "id": "09559e2c-bb7d-4e14-83bc-1f6abff56af3",
    "outputId": "33e3162c-12cc-4b35-b523-f23919254afd"
   },
   "outputs": [
    {
     "name": "stdout",
     "output_type": "stream",
     "text": [
      "an the worl shall the worl shall the\n",
      "for the worl the worl stare the worl the worl\n",
      "that the that the worl stare the worth the\n",
      "kno the worl the worl the worl the\n",
      "\n",
      "reser the worl the worl the worl\n",
      "so th that the worl the worl the\n",
      "doth the worl the worl the worl the when the\n",
      "gin the worlore that the worl the worl the whes\n",
      "\n",
      "jor the worl shall the worl shall the\n",
      "pot the worl the worl the when the worl the when\n",
      "where that the worl the worl the\n",
      "or the worl the worl the worl the worl the\n",
      "\n",
      "hath then the worl the worl the when the that the\n",
      "even the worl shall the worl shall the worl\n"
     ]
    }
   ],
   "source": [
    "# Sample a poem\n",
    "for i in range(14): \n",
    "    original_sample = sample(rnn, random.choice(string.ascii_lowercase[:-3]), \n",
    "                             length=random.randint(30, 50), temperature=1)\n",
    "    print(' '.join(original_sample.split(\" \")[:-1]))\n",
    "    if i in [3, 7, 11]:\n",
    "        print()"
   ]
  },
  {
   "cell_type": "code",
   "execution_count": 124,
   "id": "00819690-1893-455e-b4df-84ca8523f160",
   "metadata": {},
   "outputs": [],
   "source": [
    "# Save model\n",
    "torch.save(rnn.state_dict(), \"./models/lstm_onehot_model_128hdim_10000iters_lineStart.pt\")\n",
    "\n"
   ]
  },
  {
   "cell_type": "code",
   "execution_count": 121,
   "id": "6dea578e-14a6-4cb0-80d4-104d093399a0",
   "metadata": {},
   "outputs": [
    {
     "name": "stdout",
     "output_type": "stream",
     "text": [
      "shall i compare thee to a summer's day the worl\n",
      "worlore the see the sees that the worl the worl\n",
      "that the worl the worl the worl the worl the\n",
      "whe th the the worl shall the worth the worl\n",
      "worl shall the worl the worl stare the worl the\n",
      "worl shall the worl the worl stare the se stare\n",
      "the worl shall the worl the worl the worl the\n",
      "see the worl the whese that the worl the worl\n",
      "whese that the worlore that the that the worl the\n",
      "the worlest the worl the worl stare the worth the\n",
      "that the worlore that the the that the worth the\n",
      "worl the where that the worlore that the the worl\n",
      "the that the worl the worl the worl the worl\n",
      "worlart the worl the worl the whes that the the\n"
     ]
    }
   ],
   "source": [
    "start_sample = sampleMultipleStart(rnn, start_seq=\"shall i compare thee to a summer's day\", \n",
    "                             length=1000, temperature=1.5)\n",
    "\n",
    "for line in range(14):\n",
    "    print(' '.join(start_sample.split(\" \")[line * 14:line * 14 + 10]))\n"
   ]
  },
  {
   "cell_type": "markdown",
   "id": "S-eR5T1BlDEI",
   "metadata": {
    "id": "S-eR5T1BlDEI"
   },
   "source": [
    "## Embedding LSTM"
   ]
  },
  {
   "cell_type": "code",
   "execution_count": 20,
   "id": "qe9-xqxndmHR",
   "metadata": {
    "id": "qe9-xqxndmHR"
   },
   "outputs": [],
   "source": [
    "class RNN_Embedding(nn.Module):\n",
    "    def __init__(self, input_size, hidden_size, n_classes, device, batch_size, n_layers=1): # n_classes is output_size \n",
    "        super(RNN_Embedding, self).__init__()\n",
    "        self.input_size = input_size # input size is number of classes in our case \n",
    "        self.hidden_size = hidden_size # hidden layer size \n",
    "        self.n_classes = n_classes # number of classes \n",
    "        self.batch_size = batch_size # size of batch\n",
    "        self.n_layers = n_layers # number of layers in LSTM\n",
    "        self.device = device # 'cuda' or 'cpu'\n",
    "\n",
    "        self.embedding = nn.Embedding(input_size, input_size)\n",
    "        self.lstm = nn.LSTM(input_size=input_size, hidden_size=hidden_size, num_layers=n_layers)\n",
    "        self.decoder = nn.Linear(hidden_size, n_classes)\n",
    "        self.dropout = nn.Dropout(0.1)\n",
    "        self.softmax = nn.Softmax(dim=2)\n",
    "        \n",
    "\n",
    "    def forward(self, input_vals, hc, temperature=1):\n",
    "        embeding = self.embedding(input_vals)\n",
    "        # pdb.set_trace()\n",
    "        output, hc = self.lstm(embeding, hc)\n",
    "        output = self.decoder(output)\n",
    "        output = self.dropout(output)\n",
    "        # pdb.set_trace()\n",
    "        output = self.softmax(output / temperature)\n",
    "        return output, (hc[0].detach(), hc[1].detach())\n",
    "\n",
    "    def initHidden(self, num_layers=None, batch_size=None, hidden_size=None):\n",
    "        if num_layers is None:\n",
    "            num_layers = self.n_layers\n",
    "        if batch_size is None:\n",
    "            batch_size = self.batch_size\n",
    "        if hidden_size is None:\n",
    "            hidden_size = self.hidden_size\n",
    "            \n",
    "        return torch.zeros(num_layers, batch_size, hidden_size).to(device), torch.zeros(num_layers, batch_size, hidden_size).to(device)"
   ]
  },
  {
   "cell_type": "code",
   "execution_count": 22,
   "id": "sT4Wij0Udsll",
   "metadata": {
    "colab": {
     "base_uri": "https://localhost:8080/",
     "height": 1000
    },
    "id": "sT4Wij0Udsll",
    "outputId": "b9bc93e8-507e-41be-bd31-c0b8d29d28d5"
   },
   "outputs": [
    {
     "name": "stdout",
     "output_type": "stream",
     "text": [
      "0m 45s (500 2%) 3.8301\n",
      "1m 33s (1000 4%) 3.8271\n",
      "2m 18s (1500 6%) 3.7849\n",
      "3m 2s (2000 8%) 3.8033\n",
      "3m 46s (2500 10%) 3.7771\n",
      "4m 31s (3000 12%) 3.7499\n",
      "5m 15s (3500 14%) 3.7788\n",
      "5m 59s (4000 16%) 3.7510\n",
      "6m 44s (4500 18%) 3.7611\n",
      "7m 29s (5000 20%) 3.7799\n",
      "8m 13s (5500 22%) 3.7509\n",
      "8m 57s (6000 24%) 3.7391\n",
      "9m 42s (6500 26%) 3.7589\n",
      "10m 26s (7000 28%) 3.7678\n",
      "11m 11s (7500 30%) 3.7626\n",
      "11m 56s (8000 32%) 3.7430\n",
      "12m 40s (8500 34%) 3.7426\n",
      "13m 25s (9000 36%) 3.7206\n",
      "14m 10s (9500 38%) 3.7391\n",
      "14m 57s (10000 40%) 3.7542\n",
      "15m 44s (10500 42%) 3.7429\n",
      "16m 31s (11000 44%) 3.7483\n",
      "17m 15s (11500 46%) 3.7245\n",
      "18m 0s (12000 48%) 3.7308\n",
      "18m 44s (12500 50%) 3.7229\n",
      "19m 29s (13000 52%) 3.7543\n",
      "20m 14s (13500 54%) 3.7331\n",
      "20m 58s (14000 56%) 3.7296\n",
      "21m 43s (14500 57%) 3.7283\n",
      "22m 27s (15000 60%) 3.7606\n",
      "23m 11s (15500 62%) 3.7322\n",
      "23m 55s (16000 64%) 3.7477\n",
      "24m 40s (16500 66%) 3.7225\n",
      "25m 24s (17000 68%) 3.7382\n",
      "26m 9s (17500 70%) 3.7327\n",
      "26m 53s (18000 72%) 3.7155\n",
      "27m 37s (18500 74%) 3.7254\n",
      "28m 21s (19000 76%) 3.7334\n",
      "29m 6s (19500 78%) 3.7277\n",
      "29m 50s (20000 80%) 3.7453\n",
      "30m 34s (20500 82%) 3.7427\n",
      "31m 19s (21000 84%) 3.7211\n",
      "32m 3s (21500 86%) 3.7078\n",
      "32m 48s (22000 88%) 3.7488\n",
      "33m 32s (22500 90%) 3.7076\n",
      "34m 16s (23000 92%) 3.7125\n",
      "35m 1s (23500 94%) 3.7362\n",
      "35m 45s (24000 96%) 3.7309\n",
      "36m 28s (24500 98%) 3.7398\n",
      "37m 11s (25000 100%) 3.7201\n"
     ]
    }
   ],
   "source": [
    "######### PARAMETERS #########\n",
    "batch_size = 32\n",
    "hidden_size = 128\n",
    "n_iters = 10000\n",
    "print_every = 500\n",
    "plot_every = 500\n",
    "learning_rate = 0.0005\n",
    "############################## \n",
    "\n",
    "rnn_embedding = RNN_Embedding(input_size=n_letters, hidden_size=hidden_size, n_classes=n_letters, n_layers=1, device=device, batch_size=batch_size).to(device) # expand hidden units \n",
    "\n",
    "criterion = nn.CrossEntropyLoss() \n",
    "\n",
    "optimizer = torch.optim.Adam(rnn_embedding.parameters(), lr=learning_rate)\n",
    "\n",
    "import pdb\n",
    "\n",
    "all_losses_embed = []\n",
    "total_loss_embed = 0 # Reset every plot_every iters\n",
    "\n",
    "start = time.time()\n",
    "\n",
    "for iter in range(1, n_iters + 1):\n",
    "    try : \n",
    "        input_line_tensor, target_line_tensor = randomBatch(fixed_length_character_sequences_valid_start, batch_size=batch_size)\n",
    "        loss = train_batch(rnn_embedding, input_line_tensor.to(device), target_line_tensor.to(device), criterion=criterion, optimizer=optimizer)\n",
    "        total_loss_embed += loss\n",
    "    except : \n",
    "        print(input_line_tensor)\n",
    "        raise\n",
    "\n",
    "    if iter % print_every == 0:\n",
    "        print('%s (%d %d%%) %.4f' % (timeSince(start), iter, iter / n_iters * 100, loss))\n",
    "\n",
    "    if iter % plot_every == 0:\n",
    "        all_losses_embed.append(total_loss_embed / plot_every)\n",
    "        total_loss_embed = 0"
   ]
  },
  {
   "cell_type": "code",
   "execution_count": 101,
   "id": "ukzPajiGfI7h",
   "metadata": {
    "id": "ukzPajiGfI7h"
   },
   "outputs": [
    {
     "data": {
      "image/png": "[encoded data removed]",
      "text/plain": [
       "<Figure size 432x288 with 1 Axes>"
      ]
     },
     "metadata": {
      "needs_background": "light"
     },
     "output_type": "display_data"
    }
   ],
   "source": [
    "plt.plot(np.arange(0, 25000, 500), all_losses_embed)\n",
    "plt.ylabel(\"loss\")\n",
    "plt.xlabel(\"iteration number\")\n",
    "plt.title(\"LSTM Training loss curve: Embedding 25000 iters\") \n",
    "plt.show()"
   ]
  },
  {
   "cell_type": "code",
   "execution_count": 26,
   "id": "26d81bfb-664c-4a70-8084-81d8f02b077e",
   "metadata": {},
   "outputs": [],
   "source": [
    "torch.save(rnn_embedding.state_dict(), \"./models/lstm_embedding_model_128hdim_25000iters.pt\")\n"
   ]
  },
  {
   "cell_type": "code",
   "execution_count": 24,
   "id": "mqqFvXiEeTQm",
   "metadata": {
    "id": "mqqFvXiEeTQm"
   },
   "outputs": [
    {
     "name": "stdout",
     "output_type": "stream",
     "text": [
      "when the star shall shoull the sail the star\n",
      "love the st the st the s use the st the star the\n",
      "conter so the stare to the star the st the\n",
      "not lover the star the st the\n",
      "\n",
      "eyes the strainter the stares\n",
      "when the st the star the st the star\n",
      "doth the stae the st the state the\n",
      "conter state shoul save the star\n",
      "\n",
      "of the star the st the star sense the star\n",
      "verse the one so the star the state\n",
      "love the st the star seen the state\n",
      "nour sell the state the star the\n",
      "\n",
      "juit in the star the st the\n",
      "part the stare the st the state\n"
     ]
    }
   ],
   "source": [
    "# Sample a poem\n",
    "for i in range(14): \n",
    "    original_sample = sample(rnn_embedding, random.choice(string.ascii_lowercase[:-3]), \n",
    "                             length=random.randint(30, 50), temperature=3.05)\n",
    "    print(' '.join(original_sample.split(\" \")[:-1]))\n",
    "    if i in [3, 7, 11]:\n",
    "        print()"
   ]
  },
  {
   "cell_type": "code",
   "execution_count": 59,
   "id": "9683b447-0550-4a2e-bd7d-d23b7d0eb1aa",
   "metadata": {},
   "outputs": [
    {
     "name": "stdout",
     "output_type": "stream",
     "text": [
      "shall i compare thee to a summer's day the star\n",
      "the star the star the state the st the star\n",
      "the st the st the st the star the st\n",
      "the st the st the state the stron the star\n",
      "st the star the st the stares the star the\n",
      "st the star the st the star the st the\n",
      "st the st the state the star the st the\n",
      "star the stare the star the starest the star the\n",
      "st the st the star the stare the star the\n",
      "st the state the state the state the star the\n",
      "star the star the stare the state the star the\n",
      "the st the star the star the st the star\n",
      "the st the star the star the stare the st\n",
      "the st the star the st the star the st\n"
     ]
    }
   ],
   "source": [
    "start_sample = sampleMultipleStart(rnn_embedding, start_seq=\"shall i compare thee to a summer's day\", \n",
    "                             length=1000, temperature=0.75)\n",
    "\n",
    "for line in range(14):\n",
    "    print(' '.join(start_sample.split(\" \")[line * 14:line * 14 + 10]))\n"
   ]
  },
  {
   "cell_type": "code",
   "execution_count": 44,
   "id": "c875e792-5d73-47d8-9acf-cd39287953c5",
   "metadata": {},
   "outputs": [
    {
     "name": "stdout",
     "output_type": "stream",
     "text": [
      "shall i compare thee to a summer's day the star\n",
      "the star the star the st the star the st\n",
      "the stron the st the star the st the star\n",
      "the st the star the star the st the star\n",
      "the st the star the st the st the st\n",
      "the state the star the star the st the st\n",
      "the state the star the star the st the star\n",
      "the star the star the st the star the star\n",
      "the stare the state the star the stare the state\n",
      "the star the stare the state the strest the star\n",
      "so the st the star the st the st the\n",
      "st the st the state the star the st the\n",
      "star the star the state the st the star the\n",
      "stares the state the starest the stares the star the\n"
     ]
    }
   ],
   "source": [
    "for line in range(14):\n",
    "    print(' '.join(start_sample.split(\" \")[line * 14:line * 14 + 10]))"
   ]
  },
  {
   "cell_type": "code",
   "execution_count": null,
   "id": "24280f9f-4462-4323-bbc6-cf939299a985",
   "metadata": {},
   "outputs": [],
   "source": [
    "# Load model\n",
    "# Model class must be defined somewhere\n",
    "rnn_load_model = RNN_Embedding(n_letters, hidden_size, n_letters, device=device, batch_size=batch_size)\n",
    "rnn_load_model.load_state_dict(torch.load(\"./models/lstm_embedding_model.pt\"))\n",
    "rnn_load_model.eval()"
   ]
  }
 ],
 "metadata": {
  "accelerator": "GPU",
  "colab": {
   "collapsed_sections": [],
   "name": "gc_LSTM_scratch-OneHot.ipynb",
   "provenance": []
  },
  "kernelspec": {
   "display_name": "Python 3 (ipykernel)",
   "language": "python",
   "name": "python3"
  },
  "language_info": {
   "codemirror_mode": {
    "name": "ipython",
    "version": 3
   },
   "file_extension": ".py",
   "mimetype": "text/x-python",
   "name": "python",
   "nbconvert_exporter": "python",
   "pygments_lexer": "ipython3",
   "version": "3.8.12"
  }
 },
 "nbformat": 4,
 "nbformat_minor": 5
}
