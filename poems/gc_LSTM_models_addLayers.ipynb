{
 "cells": [
  {
   "cell_type": "markdown",
   "id": "858a5735-8db4-4be9-be5b-a0d3e6cbfab7",
   "metadata": {
    "id": "858a5735-8db4-4be9-be5b-a0d3e6cbfab7"
   },
   "source": [
    "# LSTM"
   ]
  },
  {
   "cell_type": "code",
   "execution_count": 2,
   "id": "7eec7180-b53a-44be-a57f-13840fe87b21",
   "metadata": {
    "id": "7eec7180-b53a-44be-a57f-13840fe87b21"
   },
   "outputs": [],
   "source": [
    "import numpy as np\n",
    "import pandas as pd \n",
    "import re\n",
    "import helper\n",
    "import random\n",
    "import string\n",
    "import matplotlib.pyplot as plt\n",
    "\n",
    "import torch\n",
    "import torch.nn as nn\n",
    "\n",
    "import pdb\n",
    "\n",
    "import time\n",
    "import math"
   ]
  },
  {
   "cell_type": "code",
   "execution_count": 3,
   "id": "87fa110a-640b-42ac-8a7d-806d251e4952",
   "metadata": {
    "colab": {
     "base_uri": "https://localhost:8080/"
    },
    "id": "87fa110a-640b-42ac-8a7d-806d251e4952",
    "outputId": "6c5f22d0-6797-47e1-95c5-817663acd2e5"
   },
   "outputs": [
    {
     "data": {
      "text/plain": [
       "<module 'helper' from '/Users/glchau/Desktop/Caltech/CS155/loan-sharks/poems/helper.py'>"
      ]
     },
     "execution_count": 3,
     "metadata": {},
     "output_type": "execute_result"
    }
   ],
   "source": [
    "# Run this to reload helper.py so you don't have to restart the kernel\n",
    "import importlib\n",
    "\n",
    "importlib.reload(helper)"
   ]
  },
  {
   "cell_type": "markdown",
   "id": "7bace0ca-0c69-4877-ba48-cc5342abd20d",
   "metadata": {
    "id": "7bace0ca-0c69-4877-ba48-cc5342abd20d"
   },
   "source": [
    "## Preprocess data"
   ]
  },
  {
   "cell_type": "code",
   "execution_count": 4,
   "id": "ea55bd15-6a4b-4a6c-b20c-f09f63acda0b",
   "metadata": {
    "id": "ea55bd15-6a4b-4a6c-b20c-f09f63acda0b"
   },
   "outputs": [],
   "source": [
    "all_words, all_sequences, word_dict, all_sonnet_int = helper.getAllWordsAndSequences(\"data/shakespeare.txt\", \"data/Syllable_dictionary.txt\")"
   ]
  },
  {
   "cell_type": "markdown",
   "id": "bad57e2b-ffe2-469e-8b78-fbe87687a3e4",
   "metadata": {
    "id": "bad57e2b-ffe2-469e-8b78-fbe87687a3e4"
   },
   "source": [
    "## Variables and helper functions for RNN training "
   ]
  },
  {
   "cell_type": "code",
   "execution_count": 5,
   "id": "a9b8403d-f8c5-4a2a-94ed-b51fa187a16d",
   "metadata": {
    "id": "a9b8403d-f8c5-4a2a-94ed-b51fa187a16d"
   },
   "outputs": [],
   "source": [
    "all_character_sequences = [' '.join(seq[:-1]) for seq in all_sequences]\n",
    "all_character_sequences_no_empty = [seq for seq in all_character_sequences if len(seq) > 0]\n"
   ]
  },
  {
   "cell_type": "code",
   "execution_count": 6,
   "id": "a793b073-1909-4945-aa82-534f35343e1b",
   "metadata": {
    "id": "a793b073-1909-4945-aa82-534f35343e1b"
   },
   "outputs": [],
   "source": [
    "fixed_length_character_sequences_valid_start = [] \n",
    "big_string = ' '.join(all_character_sequences_no_empty)\n",
    "big_string = ' ' + big_string\n",
    "step_size = 5\n",
    "for i in range(0, len(big_string)):\n",
    "    if (big_string[i-1] == ' ') and (big_string[i] != ' '):\n",
    "        if len(big_string[i:i+40]) == 40: \n",
    "            fixed_length_character_sequences_valid_start.append(big_string[i:i+40])        "
   ]
  },
  {
   "cell_type": "code",
   "execution_count": 7,
   "id": "dIjkH1vllj3E",
   "metadata": {
    "colab": {
     "base_uri": "https://localhost:8080/"
    },
    "id": "dIjkH1vllj3E",
    "outputId": "03982446-9069-4ba5-a908-1c90dbf299cf"
   },
   "outputs": [
    {
     "data": {
      "text/plain": [
       "17566"
      ]
     },
     "execution_count": 7,
     "metadata": {},
     "output_type": "execute_result"
    }
   ],
   "source": [
    "len(fixed_length_character_sequences_valid_start)"
   ]
  },
  {
   "cell_type": "code",
   "execution_count": 8,
   "id": "debd5e9a-ff3c-48a8-93da-1571cced25e0",
   "metadata": {
    "id": "debd5e9a-ff3c-48a8-93da-1571cced25e0"
   },
   "outputs": [
    {
     "data": {
      "text/plain": [
       "40"
      ]
     },
     "execution_count": 8,
     "metadata": {},
     "output_type": "execute_result"
    }
   ],
   "source": [
    "all_letters = string.ascii_lowercase + \" '-\"  # abcdefghijklmnopqrstuvwxyz '-\n",
    "n_letters = len(all_letters) + 1 # Plus EOS marker\n",
    "all_categories = [0] # Only have 1 category for now. We could try to categorize lines by position or ending rhyme\n",
    "n_categories = len(all_categories)\n",
    "\n",
    "lens = [len(seq) for seq in fixed_length_character_sequences_valid_start]\n",
    "max_length = max(lens)\n",
    "min_lenth = min(lens)\n",
    "max_length"
   ]
  },
  {
   "cell_type": "code",
   "execution_count": 9,
   "id": "a0830690-3e2d-4a92-87a0-d03d2c631fee",
   "metadata": {
    "id": "a0830690-3e2d-4a92-87a0-d03d2c631fee"
   },
   "outputs": [
    {
     "data": {
      "text/plain": [
       "device(type='cpu')"
      ]
     },
     "execution_count": 9,
     "metadata": {},
     "output_type": "execute_result"
    }
   ],
   "source": [
    "device = torch.device(\"cuda:0\" if torch.cuda.is_available() else \"cpu\")\n",
    "device"
   ]
  },
  {
   "cell_type": "code",
   "execution_count": 10,
   "id": "3a2e1100-9420-4f4c-b46c-e7a269fc1796",
   "metadata": {
    "id": "3a2e1100-9420-4f4c-b46c-e7a269fc1796"
   },
   "outputs": [],
   "source": [
    "def inputTensor(line):\n",
    "    # One-hot matrix of first to last letters (not including EOS) for input\n",
    "    # tensor = torch.zeros(len(line), n_letters)\n",
    "    # for li in range(len(line)):\n",
    "    #     letter = line[li]\n",
    "    #     tensor[li][all_letters.find(letter)] = 1\n",
    "    \n",
    "    # Indices \n",
    "    letter_indexes = [all_letters.find(line[li]) for li in range(0, len(line))]\n",
    "    return torch.LongTensor(letter_indexes) #tensor\n",
    "\n",
    "# LongTensor of second letter to end (EOS) for target\n",
    "def targetTensor(line):\n",
    "    letter_indexes = [all_letters.find(line[li]) for li in range(1, len(line))]\n",
    "    letter_indexes.append(n_letters - 1) # EOS\n",
    "    return torch.LongTensor(letter_indexes)\n",
    "\n",
    "def inputTargetLists(line): \n",
    "    inputList = [all_letters.find(line[li]) for li in range(0, len(line))]\n",
    "    targetList = [all_letters.find(line[li]) for li in range(1, len(line))]\n",
    "    targetList.append(n_letters - 1)\n",
    "    return inputList, targetList"
   ]
  },
  {
   "cell_type": "code",
   "execution_count": 11,
   "id": "8d0738f2-f47d-41a0-8777-ccda74863a42",
   "metadata": {
    "id": "8d0738f2-f47d-41a0-8777-ccda74863a42"
   },
   "outputs": [],
   "source": [
    "# Random item from a list\n",
    "def randomChoice(l):\n",
    "    return l[random.randint(0, len(l) - 1)]\n",
    "\n",
    "# Generate a batch of lines with input and target tensors \n",
    "def randomBatch(category_lines, batch_size=16):\n",
    "    input_tensors = []\n",
    "    target_tensors = []\n",
    "    for b in range(batch_size): \n",
    "        line = randomChoice(category_lines)\n",
    "        inputList, targetList = inputTargetLists(line)\n",
    "        \n",
    "        input_tensors.append(inputList)\n",
    "        target_tensors.append(targetList)\n",
    "    return torch.LongTensor(input_tensors), torch.LongTensor(target_tensors)"
   ]
  },
  {
   "cell_type": "markdown",
   "id": "309c8d4b-b6f3-48fe-a577-9717ebffc1af",
   "metadata": {
    "id": "309c8d4b-b6f3-48fe-a577-9717ebffc1af"
   },
   "source": [
    "### Training Functions"
   ]
  },
  {
   "cell_type": "code",
   "execution_count": 12,
   "id": "445fc3a6-2055-4e5b-bf25-3aa28718d306",
   "metadata": {
    "id": "445fc3a6-2055-4e5b-bf25-3aa28718d306"
   },
   "outputs": [],
   "source": [
    "def timeSince(since):\n",
    "    now = time.time()\n",
    "    s = now - since\n",
    "    m = math.floor(s / 60)\n",
    "    s -= m * 60\n",
    "    return '%dm %ds' % (m, s)"
   ]
  },
  {
   "cell_type": "code",
   "execution_count": 13,
   "id": "3d5498fa-d334-4afe-8261-4dddef793cd7",
   "metadata": {
    "id": "3d5498fa-d334-4afe-8261-4dddef793cd7"
   },
   "outputs": [],
   "source": [
    "# train the RNN on the input and target batch values \n",
    "\n",
    "def train_batch(rnn, input_line_tensor, target_line_tensor, optimizer, criterion):\n",
    "    \n",
    "    # Put in extra dimension for the \"Layer\" dimension of LSTM inputs \n",
    "    input_line_tensor = torch.unsqueeze(input_line_tensor, dim=0)\n",
    "    target_line_tensor = torch.unsqueeze(target_line_tensor, dim=0)\n",
    "    \n",
    "    # Initilize the hidden and cell matrices \n",
    "    hidden, cell = rnn.initHidden()\n",
    "\n",
    "    # Zero out the gradients for each batch\n",
    "    rnn.zero_grad()\n",
    "\n",
    "    # Initlize loss to 0\n",
    "    loss = 0\n",
    "\n",
    "    # Iterate through all 40 characters in the sequence\n",
    "    for i in range(input_line_tensor.size(2)):\n",
    "        \n",
    "        # Select only the ith character for the batch\n",
    "        input_tensor = input_line_tensor[:, :, i] \n",
    "        target_tensor = target_line_tensor[:, :, i] \n",
    "        \n",
    "        # Forward pass through RNN \n",
    "        output, (hidden, cell) = rnn(input_tensor, (hidden, cell))\n",
    "        \n",
    "        # Loss calculation\n",
    "        l = criterion(torch.squeeze(output, dim=0), torch.squeeze(target_tensor, dim=0))\n",
    "        loss += l.item() / rnn.batch_size\n",
    "\n",
    "        # Compute gradients and take optimizer step\n",
    "        optimizer.zero_grad()\n",
    "        l.backward(retain_graph=True)\n",
    "        optimizer.step()\n",
    "\n",
    "    return loss / input_line_tensor.size(0)"
   ]
  },
  {
   "cell_type": "code",
   "execution_count": 14,
   "id": "e9891d34-227d-4305-9036-f09e30fe05ae",
   "metadata": {
    "id": "e9891d34-227d-4305-9036-f09e30fe05ae"
   },
   "outputs": [],
   "source": [
    "# Sample from a category and starting letter\n",
    "\n",
    "def sample(rnn, start_letter='A', length=max_length, temperature=1):\n",
    "    with torch.no_grad():  # no need to track history in sampling\n",
    "        rnn.eval()\n",
    "        inputs = inputTensor(start_letter).to(device)\n",
    "        hidden, cell = torch.zeros(1, 1, rnn.hidden_size).to(device), torch.zeros(1, 1, rnn.hidden_size).to(device)\n",
    "\n",
    "        output_name = start_letter\n",
    "\n",
    "        for i in range(length):\n",
    "            inputs = inputs[None, :]\n",
    "            \n",
    "            output, (hidden, cell) = rnn(inputs, (hidden, cell), temperature=temperature)\n",
    "            \n",
    "            topi = torch.multinomial(output.data[0], 1)\n",
    "            # pdb.set_trace()\n",
    "            # topv, topi = output.topk(1)\n",
    "            topi = topi[0][0]\n",
    "            \n",
    "            # Last index is <EOS> so we just kill the appending\n",
    "            if topi == n_letters - 1:\n",
    "                break \n",
    "            else:\n",
    "                letter = all_letters[topi]\n",
    "                output_name += letter\n",
    "            \n",
    "            inputs = inputTensor(letter).to(device)\n",
    "\n",
    "        return output_name"
   ]
  },
  {
   "cell_type": "markdown",
   "id": "08ncG8mBk96R",
   "metadata": {
    "id": "08ncG8mBk96R"
   },
   "source": [
    "## One Hot encoding LSTM"
   ]
  },
  {
   "cell_type": "code",
   "execution_count": 18,
   "id": "bb404074-20ea-4a9f-859e-14675bec362e",
   "metadata": {
    "id": "bb404074-20ea-4a9f-859e-14675bec362e"
   },
   "outputs": [],
   "source": [
    "\n",
    "\n",
    "class RNN(nn.Module):\n",
    "    def __init__(self, input_size, hidden_size, n_classes, batch_size, device, n_layers=1): # n_classes is output_size \n",
    "        super(RNN, self).__init__()\n",
    "        self.input_size = input_size # input size is number of classes in our case \n",
    "        self.hidden_size = hidden_size # hidden layer size \n",
    "        self.n_classes = n_classes # number of classes \n",
    "        self.batch_size = batch_size # size of batch\n",
    "        self.n_layers = n_layers # number of layers in LSTM\n",
    "        self.device = device # 'cuda' or 'cpu'\n",
    "        \n",
    "\n",
    "        # self.embedding = nn.Embedding(input_size, input_size)\n",
    "        self.lstm = nn.LSTM(input_size=input_size, hidden_size=hidden_size, num_layers=1)\n",
    "        self.decoder = nn.Linear(hidden_size, n_classes)\n",
    "        self.dropout = nn.Dropout(0.1)\n",
    "        self.softmax = nn.Softmax(dim=2)\n",
    "        \n",
    "\n",
    "    def forward(self, input_vals, hc, temperature=1):\n",
    "        # embeding = self.embedding(input_vals)\n",
    "        one_hot = torch.nn.functional.one_hot(input_vals, num_classes=self.n_classes)\n",
    "        # pdb.set_trace()\n",
    "        output, hc = self.lstm(one_hot.float(), hc)\n",
    "        output = self.decoder(output)\n",
    "        output = self.dropout(output)\n",
    "        # pdb.set_trace()\n",
    "        output = self.softmax(output / temperature)\n",
    "        return output, (hc[0].detach(), hc[1].detach())\n",
    "\n",
    "    def initHidden(self, num_layers=None, batch_size=None, hidden_size=None):\n",
    "        if num_layers is None:\n",
    "            num_layers = self.n_layers\n",
    "        if batch_size is None:\n",
    "            batch_size = self.batch_size\n",
    "        if hidden_size is None:\n",
    "            hidden_size = self.hidden_size\n",
    "            \n",
    "        return torch.zeros(num_layers, batch_size, hidden_size).to(self.device), torch.zeros(num_layers, batch_size, hidden_size).to(self.device)"
   ]
  },
  {
   "cell_type": "code",
   "execution_count": 15,
   "id": "46a31cc0-8346-4d34-a866-a94666eb60ba",
   "metadata": {
    "colab": {
     "base_uri": "https://localhost:8080/"
    },
    "id": "46a31cc0-8346-4d34-a866-a94666eb60ba",
    "outputId": "e0aba8e1-8a10-4e5a-eb65-5248751033ae"
   },
   "outputs": [
    {
     "name": "stdout",
     "output_type": "stream",
     "text": [
      "0m 10s (100 2%) 4.1051\n",
      "0m 20s (200 4%) 4.0950\n",
      "0m 30s (300 6%) 4.0984\n",
      "0m 38s (400 8%) 4.1100\n",
      "0m 47s (500 10%) 4.1104\n",
      "0m 56s (600 12%) 4.0978\n",
      "1m 4s (700 14%) 4.1100\n",
      "1m 14s (800 16%) 4.1140\n",
      "1m 22s (900 18%) 4.0927\n",
      "1m 31s (1000 20%) 4.1001\n",
      "1m 39s (1100 22%) 4.1121\n",
      "1m 48s (1200 24%) 4.0957\n",
      "1m 57s (1300 26%) 4.1116\n",
      "2m 5s (1400 28%) 4.0888\n",
      "2m 14s (1500 30%) 4.1006\n",
      "2m 23s (1600 32%) 4.1015\n",
      "2m 31s (1700 34%) 4.1007\n",
      "2m 40s (1800 36%) 4.1186\n",
      "2m 48s (1900 38%) 4.1052\n",
      "2m 57s (2000 40%) 4.0902\n",
      "3m 5s (2100 42%) 4.0997\n",
      "3m 14s (2200 44%) 4.1011\n",
      "3m 22s (2300 46%) 4.1125\n",
      "3m 31s (2400 48%) 4.1016\n",
      "3m 39s (2500 50%) 4.0959\n",
      "3m 48s (2600 52%) 4.0956\n",
      "3m 56s (2700 54%) 4.1060\n",
      "4m 5s (2800 56%) 4.1014\n",
      "4m 13s (2900 57%) 4.0907\n",
      "4m 22s (3000 60%) 4.1050\n",
      "4m 31s (3100 62%) 4.1025\n",
      "4m 39s (3200 64%) 4.1035\n",
      "4m 48s (3300 66%) 4.0994\n",
      "4m 56s (3400 68%) 4.1059\n",
      "5m 5s (3500 70%) 4.0858\n",
      "5m 13s (3600 72%) 4.1052\n",
      "5m 22s (3700 74%) 4.1064\n",
      "5m 30s (3800 76%) 4.1027\n",
      "5m 39s (3900 78%) 4.1006\n",
      "5m 47s (4000 80%) 4.0942\n",
      "5m 56s (4100 82%) 4.1174\n",
      "6m 4s (4200 84%) 4.1040\n",
      "6m 13s (4300 86%) 4.1088\n",
      "6m 21s (4400 88%) 4.0998\n",
      "6m 30s (4500 90%) 4.0926\n",
      "6m 39s (4600 92%) 4.0951\n",
      "6m 47s (4700 94%) 4.1034\n",
      "6m 56s (4800 96%) 4.0987\n",
      "7m 4s (4900 98%) 4.0942\n",
      "7m 13s (5000 100%) 4.1037\n"
     ]
    }
   ],
   "source": [
    "######### PARAMETERS #########\n",
    "batch_size = 32\n",
    "hidden_size = 800\n",
    "n_iters = 5000\n",
    "print_every = 100\n",
    "plot_every = 500\n",
    "learning_rate = 0.0005\n",
    "############################## \n",
    "\n",
    "rnn = RNN(n_letters, hidden_size, n_letters, device=device, batch_size=batch_size).to(device) # expand hidden units \n",
    "\n",
    "criterion = nn.CrossEntropyLoss() \n",
    "\n",
    "optimizer = torch.optim.Adam(rnn.parameters(), lr=learning_rate)\n",
    "\n",
    "all_losses = []\n",
    "total_loss = 0 # Reset every plot_every iters\n",
    "\n",
    "start = time.time()\n",
    "\n",
    "for iter in range(1, n_iters + 1):\n",
    "    try : \n",
    "        input_line_tensor, target_line_tensor = randomBatch(fixed_length_character_sequences_valid_start, batch_size=batch_size)\n",
    "        loss = train_batch(rnn, input_line_tensor.to(device), target_line_tensor.to(device), criterion=criterion, optimizer=optimizer)\n",
    "        total_loss += loss\n",
    "    except : \n",
    "        print(input_line_tensor)\n",
    "        raise\n",
    "\n",
    "    if iter % print_every == 0:\n",
    "        print('%s (%d %d%%) %.4f' % (timeSince(start), iter, iter / n_iters * 100, loss))\n",
    "\n",
    "    if iter % plot_every == 0:\n",
    "        all_losses.append(total_loss / plot_every)\n",
    "        total_loss = 0"
   ]
  },
  {
   "cell_type": "code",
   "execution_count": 16,
   "id": "d8888ad1-d1aa-4c4a-87c9-599930bc7438",
   "metadata": {
    "colab": {
     "base_uri": "https://localhost:8080/",
     "height": 282
    },
    "id": "d8888ad1-d1aa-4c4a-87c9-599930bc7438",
    "outputId": "1ed98845-b4f5-430d-bc07-d4cad1b48bcc"
   },
   "outputs": [
    {
     "data": {
      "text/plain": [
       "[<matplotlib.lines.Line2D at 0x7f809ccd1c50>]"
      ]
     },
     "execution_count": 16,
     "metadata": {},
     "output_type": "execute_result"
    },
    {
     "data": {
      "image/png": "[encoded data removed]",
      "text/plain": [
       "<Figure size 432x288 with 1 Axes>"
      ]
     },
     "metadata": {
      "needs_background": "light"
     },
     "output_type": "display_data"
    }
   ],
   "source": [
    "plt.plot(all_losses)"
   ]
  },
  {
   "cell_type": "code",
   "execution_count": 20,
   "id": "09559e2c-bb7d-4e14-83bc-1f6abff56af3",
   "metadata": {
    "colab": {
     "base_uri": "https://localhost:8080/",
     "height": 35
    },
    "id": "09559e2c-bb7d-4e14-83bc-1f6abff56af3",
    "outputId": "33e3162c-12cc-4b35-b523-f23919254afd"
   },
   "outputs": [
    {
     "data": {
      "application/vnd.google.colaboratory.intrinsic+json": {
       "type": "string"
      },
      "text/plain": [
       "'e                                        '"
      ]
     },
     "execution_count": 20,
     "metadata": {},
     "output_type": "execute_result"
    }
   ],
   "source": [
    "sample(rnn, 'e', length=20, temperature=1)"
   ]
  },
  {
   "cell_type": "markdown",
   "id": "S-eR5T1BlDEI",
   "metadata": {
    "id": "S-eR5T1BlDEI"
   },
   "source": [
    "## Embedding LSTM"
   ]
  },
  {
   "cell_type": "code",
   "execution_count": 15,
   "id": "683ed566-c60e-42b8-943d-9b0f829fbb49",
   "metadata": {},
   "outputs": [],
   "source": [
    "class RNN_Embedding(nn.Module):\n",
    "    def __init__(self, input_size, hidden_size, n_classes, device, batch_size, n_layers=1): # n_classes is output_size \n",
    "        super(RNN_Embedding, self).__init__()\n",
    "        self.input_size = input_size # input size is number of classes in our case \n",
    "        self.hidden_size = hidden_size # hidden layer size \n",
    "        self.n_classes = n_classes # number of classes \n",
    "        self.batch_size = batch_size # size of batch\n",
    "        self.n_layers = n_layers # number of layers in LSTM\n",
    "        self.device = device # 'cuda' or 'cpu'\n",
    "\n",
    "        self.embedding = nn.Embedding(input_size, input_size)\n",
    "        self.lstm = nn.LSTM(input_size=input_size, hidden_size=hidden_size, num_layers=n_layers)\n",
    "        self.fc1 = nn.Linear(hidden_size, 128)\n",
    "        self.fc2 = nn.Linear(128, n_classes)\n",
    "        self.relu = nn.LeakyReLU(negative_slope=0.01)\n",
    "        self.dropout = nn.Dropout(0.1)\n",
    "        self.softmax = nn.Softmax(dim=2)\n",
    "        \n",
    "\n",
    "    def forward(self, input_vals, hc, temperature=1):\n",
    "        embedding = self.embedding(input_vals)\n",
    "        # pdb.set_trace()\n",
    "        output, hc = self.lstm(embedding, hc)\n",
    "        output = self.fc1(output)\n",
    "        output = self.fc2(output)\n",
    "        output = self.relu(output)\n",
    "        output = self.dropout(output)\n",
    "        # pdb.set_trace()\n",
    "        output = self.softmax(output / temperature)\n",
    "        return output, (hc[0].detach(), hc[1].detach())\n",
    "\n",
    "    def initHidden(self, num_layers=None, batch_size=None, hidden_size=None):\n",
    "        if num_layers is None:\n",
    "            num_layers = self.n_layers\n",
    "        if batch_size is None:\n",
    "            batch_size = self.batch_size\n",
    "        if hidden_size is None:\n",
    "            hidden_size = self.hidden_size\n",
    "            \n",
    "        return torch.zeros(num_layers, batch_size, hidden_size).to(device), torch.zeros(num_layers, batch_size, hidden_size).to(device)"
   ]
  },
  {
   "cell_type": "code",
   "execution_count": 16,
   "id": "sT4Wij0Udsll",
   "metadata": {
    "colab": {
     "base_uri": "https://localhost:8080/",
     "height": 1000
    },
    "id": "sT4Wij0Udsll",
    "outputId": "b9bc93e8-507e-41be-bd31-c0b8d29d28d5"
   },
   "outputs": [
    {
     "name": "stdout",
     "output_type": "stream",
     "text": [
      "7m 30s (100 2%) 4.0816\n",
      "13m 23s (200 4%) 4.0740\n",
      "19m 31s (300 6%) 4.0911\n",
      "26m 57s (400 8%) 4.0936\n",
      "35m 33s (500 10%) 4.0700\n",
      "42m 5s (600 12%) 3.9891\n",
      "45m 35s (700 14%) 3.9360\n",
      "50m 6s (800 16%) 3.9051\n",
      "54m 45s (900 18%) 3.8929\n",
      "59m 21s (1000 20%) 3.8842\n",
      "63m 26s (1100 22%) 3.8740\n",
      "67m 53s (1200 24%) 3.8605\n",
      "72m 37s (1300 26%) 3.8747\n",
      "77m 1s (1400 28%) 3.8628\n",
      "81m 40s (1500 30%) 3.8490\n",
      "86m 40s (1600 32%) 3.8221\n",
      "92m 12s (1700 34%) 3.8076\n",
      "98m 2s (1800 36%) 3.7995\n",
      "104m 46s (1900 38%) 3.8266\n",
      "112m 9s (2000 40%) 3.8196\n",
      "119m 12s (2100 42%) 3.7926\n",
      "127m 1s (2200 44%) 3.8161\n",
      "135m 8s (2300 46%) 3.8166\n",
      "142m 32s (2400 48%) 3.8110\n",
      "148m 39s (2500 50%) 3.8046\n",
      "154m 33s (2600 52%) 3.7783\n",
      "160m 26s (2700 54%) 3.8135\n",
      "166m 19s (2800 56%) 3.7476\n",
      "172m 28s (2900 57%) 3.7421\n",
      "179m 4s (3000 60%) 3.7855\n",
      "185m 51s (3100 62%) 3.7838\n",
      "192m 39s (3200 64%) 3.7766\n",
      "199m 42s (3300 66%) 3.7758\n",
      "206m 20s (3400 68%) 3.7903\n",
      "212m 30s (3500 70%) 3.7903\n",
      "218m 35s (3600 72%) 3.7885\n",
      "224m 34s (3700 74%) 3.7707\n",
      "230m 25s (3800 76%) 3.7671\n",
      "236m 52s (3900 78%) 3.7742\n",
      "243m 18s (4000 80%) 3.7766\n",
      "249m 22s (4100 82%) 3.7690\n",
      "255m 9s (4200 84%) 3.7414\n",
      "260m 41s (4300 86%) 3.7451\n",
      "265m 45s (4400 88%) 3.7953\n",
      "270m 50s (4500 90%) 3.7418\n",
      "276m 17s (4600 92%) 3.8013\n",
      "282m 2s (4700 94%) 3.7754\n",
      "287m 11s (4800 96%) 3.7881\n",
      "292m 36s (4900 98%) 3.7836\n",
      "298m 17s (5000 100%) 3.7630\n"
     ]
    }
   ],
   "source": [
    "######### PARAMETERS #########\n",
    "batch_size = 32\n",
    "hidden_size = 800\n",
    "n_iters = 5000\n",
    "print_every = 100\n",
    "plot_every = 500\n",
    "learning_rate = 0.0005\n",
    "############################## \n",
    "\n",
    "rnn_embedding = RNN_Embedding(input_size=n_letters, hidden_size=hidden_size, n_classes=n_letters, n_layers=1, device=device, batch_size=batch_size).to(device) # expand hidden units \n",
    "\n",
    "criterion = nn.CrossEntropyLoss() \n",
    "\n",
    "optimizer = torch.optim.Adam(rnn_embedding.parameters(), lr=learning_rate)\n",
    "\n",
    "import pdb\n",
    "\n",
    "all_losses_embed = []\n",
    "total_loss_embed = 0 # Reset every plot_every iters\n",
    "\n",
    "start = time.time()\n",
    "\n",
    "for iter in range(1, n_iters + 1):\n",
    "    try : \n",
    "        input_line_tensor, target_line_tensor = randomBatch(fixed_length_character_sequences_valid_start, batch_size=batch_size)\n",
    "        loss = train_batch(rnn_embedding, input_line_tensor.to(device), target_line_tensor.to(device), criterion=criterion, optimizer=optimizer)\n",
    "        total_loss_embed += loss\n",
    "    except : \n",
    "        print(input_line_tensor)\n",
    "        raise\n",
    "\n",
    "    if iter % print_every == 0:\n",
    "        print('%s (%d %d%%) %.4f' % (timeSince(start), iter, iter / n_iters * 100, loss))\n",
    "\n",
    "    if iter % plot_every == 0:\n",
    "        all_losses_embed.append(total_loss_embed / plot_every)\n",
    "        total_loss_embed = 0"
   ]
  },
  {
   "cell_type": "code",
   "execution_count": 17,
   "id": "ukzPajiGfI7h",
   "metadata": {
    "id": "ukzPajiGfI7h"
   },
   "outputs": [
    {
     "data": {
      "text/plain": [
       "[<matplotlib.lines.Line2D at 0x7f9b153cf220>]"
      ]
     },
     "execution_count": 17,
     "metadata": {},
     "output_type": "execute_result"
    },
    {
     "data": {
      "image/png": "[encoded data removed]",
      "text/plain": [
       "<Figure size 432x288 with 1 Axes>"
      ]
     },
     "metadata": {
      "needs_background": "light"
     },
     "output_type": "display_data"
    }
   ],
   "source": [
    "plt.plot(all_losses_embed)"
   ]
  },
  {
   "cell_type": "code",
   "execution_count": 23,
   "id": "mqqFvXiEeTQm",
   "metadata": {
    "id": "mqqFvXiEeTQm"
   },
   "outputs": [
    {
     "name": "stdout",
     "output_type": "stream",
     "text": [
      "shoul the starth the stars the\n",
      "he the starth the starth the\n",
      "the starth the starth the starth the starth\n",
      "in the starth the starth the\n",
      "\n",
      "ever the starth the starth the starth\n",
      "in the starth the starth the\n",
      "in the starth the starth the starth the\n",
      "for the stars the starth the starth the\n",
      "\n",
      "const the starth the starth the starth\n",
      "painted the starth the starth the starth the\n",
      "painted the starth the starth the starth\n",
      "he the starth the starth the starth the\n",
      "\n",
      "unted the starth the starth the\n",
      "unted the starth the starth the\n"
     ]
    }
   ],
   "source": [
    "# Sample a poem\n",
    "for i in range(14): \n",
    "    original_sample = sample(rnn_embedding, random.choice(string.ascii_lowercase[:-3]), \n",
    "                             length=random.randint(30, 50), temperature=1.5)\n",
    "    print(' '.join(original_sample.split(\" \")[:-1]))\n",
    "    if i in [3, 7, 11]:\n",
    "        print()"
   ]
  },
  {
   "cell_type": "code",
   "execution_count": 21,
   "id": "26d81bfb-664c-4a70-8084-81d8f02b077e",
   "metadata": {},
   "outputs": [],
   "source": [
    "torch.save(rnn_embedding.state_dict(), \"./models/lstm_embedding_addLayers_model.pt\")\n"
   ]
  },
  {
   "cell_type": "code",
   "execution_count": null,
   "id": "04387c2b-79ee-41eb-89c6-49d4e6e9aeb4",
   "metadata": {},
   "outputs": [],
   "source": []
  }
 ],
 "metadata": {
  "accelerator": "GPU",
  "colab": {
   "collapsed_sections": [],
   "name": "gc_LSTM_scratch-OneHot.ipynb",
   "provenance": []
  },
  "kernelspec": {
   "display_name": "Python 3 (ipykernel)",
   "language": "python",
   "name": "python3"
  },
  "language_info": {
   "codemirror_mode": {
    "name": "ipython",
    "version": 3
   },
   "file_extension": ".py",
   "mimetype": "text/x-python",
   "name": "python",
   "nbconvert_exporter": "python",
   "pygments_lexer": "ipython3",
   "version": "3.8.12"
  }
 },
 "nbformat": 4,
 "nbformat_minor": 5
}
