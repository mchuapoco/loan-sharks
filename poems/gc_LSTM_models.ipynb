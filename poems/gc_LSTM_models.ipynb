{
 "cells": [
  {
   "cell_type": "markdown",
   "id": "858a5735-8db4-4be9-be5b-a0d3e6cbfab7",
   "metadata": {
    "id": "858a5735-8db4-4be9-be5b-a0d3e6cbfab7"
   },
   "source": [
    "# LSTM"
   ]
  },
  {
   "cell_type": "code",
   "execution_count": 1,
   "id": "7eec7180-b53a-44be-a57f-13840fe87b21",
   "metadata": {
    "id": "7eec7180-b53a-44be-a57f-13840fe87b21"
   },
   "outputs": [],
   "source": [
    "import numpy as np\n",
    "import pandas as pd \n",
    "import re\n",
    "import helper\n",
    "import random\n",
    "import string\n",
    "import matplotlib.pyplot as plt\n",
    "\n",
    "import torch\n",
    "import torch.nn as nn\n",
    "\n",
    "import pdb\n",
    "\n",
    "import time\n",
    "import math"
   ]
  },
  {
   "cell_type": "code",
   "execution_count": 2,
   "id": "87fa110a-640b-42ac-8a7d-806d251e4952",
   "metadata": {
    "colab": {
     "base_uri": "https://localhost:8080/"
    },
    "id": "87fa110a-640b-42ac-8a7d-806d251e4952",
    "outputId": "6c5f22d0-6797-47e1-95c5-817663acd2e5"
   },
   "outputs": [
    {
     "data": {
      "text/plain": [
       "<module 'helper' from '/Users/glchau/Desktop/Caltech/CS155/loan-sharks/poems/helper.py'>"
      ]
     },
     "execution_count": 2,
     "metadata": {},
     "output_type": "execute_result"
    }
   ],
   "source": [
    "# Run this to reload helper.py so you don't have to restart the kernel\n",
    "import importlib\n",
    "\n",
    "importlib.reload(helper)"
   ]
  },
  {
   "cell_type": "markdown",
   "id": "7bace0ca-0c69-4877-ba48-cc5342abd20d",
   "metadata": {
    "id": "7bace0ca-0c69-4877-ba48-cc5342abd20d"
   },
   "source": [
    "## Preprocess data"
   ]
  },
  {
   "cell_type": "code",
   "execution_count": 3,
   "id": "ea55bd15-6a4b-4a6c-b20c-f09f63acda0b",
   "metadata": {
    "id": "ea55bd15-6a4b-4a6c-b20c-f09f63acda0b"
   },
   "outputs": [],
   "source": [
    "all_words, all_sequences, word_dict, all_sonnet_int = helper.getAllWordsAndSequences(\"data/shakespeare.txt\", \"data/Syllable_dictionary.txt\")"
   ]
  },
  {
   "cell_type": "markdown",
   "id": "bad57e2b-ffe2-469e-8b78-fbe87687a3e4",
   "metadata": {
    "id": "bad57e2b-ffe2-469e-8b78-fbe87687a3e4"
   },
   "source": [
    "## Variables and helper functions for RNN training "
   ]
  },
  {
   "cell_type": "code",
   "execution_count": 4,
   "id": "a9b8403d-f8c5-4a2a-94ed-b51fa187a16d",
   "metadata": {
    "id": "a9b8403d-f8c5-4a2a-94ed-b51fa187a16d"
   },
   "outputs": [],
   "source": [
    "all_character_sequences = [' '.join(seq[:-1]) for seq in all_sequences]\n",
    "all_character_sequences_no_empty = [seq for seq in all_character_sequences if len(seq) > 0]\n"
   ]
  },
  {
   "cell_type": "code",
   "execution_count": 5,
   "id": "a793b073-1909-4945-aa82-534f35343e1b",
   "metadata": {
    "id": "a793b073-1909-4945-aa82-534f35343e1b"
   },
   "outputs": [],
   "source": [
    "fixed_length_character_sequences_valid_start = [] \n",
    "big_string = ' '.join(all_character_sequences_no_empty)\n",
    "big_string = ' ' + big_string\n",
    "step_size = 5\n",
    "for i in range(0, len(big_string)):\n",
    "    if (big_string[i-1] == ' ') and (big_string[i] != ' '):\n",
    "        if len(big_string[i:i+40]) == 40: \n",
    "            fixed_length_character_sequences_valid_start.append(big_string[i:i+40])        "
   ]
  },
  {
   "cell_type": "code",
   "execution_count": 6,
   "id": "dIjkH1vllj3E",
   "metadata": {
    "colab": {
     "base_uri": "https://localhost:8080/"
    },
    "id": "dIjkH1vllj3E",
    "outputId": "03982446-9069-4ba5-a908-1c90dbf299cf"
   },
   "outputs": [
    {
     "data": {
      "text/plain": [
       "17566"
      ]
     },
     "execution_count": 6,
     "metadata": {},
     "output_type": "execute_result"
    }
   ],
   "source": [
    "len(fixed_length_character_sequences_valid_start)"
   ]
  },
  {
   "cell_type": "code",
   "execution_count": 12,
   "id": "debd5e9a-ff3c-48a8-93da-1571cced25e0",
   "metadata": {
    "id": "debd5e9a-ff3c-48a8-93da-1571cced25e0"
   },
   "outputs": [
    {
     "data": {
      "text/plain": [
       "40"
      ]
     },
     "execution_count": 12,
     "metadata": {},
     "output_type": "execute_result"
    }
   ],
   "source": [
    "all_letters = string.ascii_lowercase + \" '-\"  # abcdefghijklmnopqrstuvwxyz '-\n",
    "n_letters = len(all_letters) + 1 # Plus EOS marker\n",
    "all_categories = [0] # Only have 1 category for now. We could try to categorize lines by position or ending rhyme\n",
    "n_categories = len(all_categories)\n",
    "\n",
    "lens = [len(seq) for seq in fixed_length_character_sequences_valid_start]\n",
    "max_length = max(lens)\n",
    "min_lenth = min(lens)\n",
    "max_length"
   ]
  },
  {
   "cell_type": "code",
   "execution_count": 9,
   "id": "a0830690-3e2d-4a92-87a0-d03d2c631fee",
   "metadata": {
    "id": "a0830690-3e2d-4a92-87a0-d03d2c631fee"
   },
   "outputs": [
    {
     "data": {
      "text/plain": [
       "device(type='cpu')"
      ]
     },
     "execution_count": 9,
     "metadata": {},
     "output_type": "execute_result"
    }
   ],
   "source": [
    "device = torch.device(\"cuda:0\" if torch.cuda.is_available() else \"cpu\")\n",
    "device"
   ]
  },
  {
   "cell_type": "code",
   "execution_count": 13,
   "id": "3a2e1100-9420-4f4c-b46c-e7a269fc1796",
   "metadata": {
    "id": "3a2e1100-9420-4f4c-b46c-e7a269fc1796"
   },
   "outputs": [],
   "source": [
    "def inputTensor(line):\n",
    "    # One-hot matrix of first to last letters (not including EOS) for input\n",
    "    # tensor = torch.zeros(len(line), n_letters)\n",
    "    # for li in range(len(line)):\n",
    "    #     letter = line[li]\n",
    "    #     tensor[li][all_letters.find(letter)] = 1\n",
    "    \n",
    "    # Indices \n",
    "    letter_indexes = [all_letters.find(line[li]) for li in range(0, len(line))]\n",
    "    return torch.LongTensor(letter_indexes) #tensor\n",
    "\n",
    "# LongTensor of second letter to end (EOS) for target\n",
    "def targetTensor(line):\n",
    "    letter_indexes = [all_letters.find(line[li]) for li in range(1, len(line))]\n",
    "    letter_indexes.append(n_letters - 1) # EOS\n",
    "    return torch.LongTensor(letter_indexes)\n",
    "\n",
    "def inputTargetLists(line): \n",
    "    inputList = [all_letters.find(line[li]) for li in range(0, len(line))]\n",
    "    targetList = [all_letters.find(line[li]) for li in range(1, len(line))]\n",
    "    targetList.append(n_letters - 1)\n",
    "    return inputList, targetList"
   ]
  },
  {
   "cell_type": "code",
   "execution_count": 60,
   "id": "8d0738f2-f47d-41a0-8777-ccda74863a42",
   "metadata": {
    "id": "8d0738f2-f47d-41a0-8777-ccda74863a42"
   },
   "outputs": [],
   "source": [
    "# Random item from a list\n",
    "def randomChoice(l):\n",
    "    return l[random.randint(0, len(l) - 1)]\n",
    "\n",
    "# Generate a batch of lines with input and target tensors \n",
    "def randomBatch(category_lines, batch_size=16):\n",
    "    input_tensors = []\n",
    "    target_tensors = []\n",
    "    for b in range(batch_size): \n",
    "        line = randomChoice(category_lines)\n",
    "        inputList, targetList = inputTargetLists(line)\n",
    "        \n",
    "        input_tensors.append(inputList)\n",
    "        target_tensors.append(targetList)\n",
    "    return torch.LongTensor(input_tensors), torch.LongTensor(target_tensors)"
   ]
  },
  {
   "cell_type": "markdown",
   "id": "309c8d4b-b6f3-48fe-a577-9717ebffc1af",
   "metadata": {
    "id": "309c8d4b-b6f3-48fe-a577-9717ebffc1af"
   },
   "source": [
    "### Training Functions"
   ]
  },
  {
   "cell_type": "code",
   "execution_count": 61,
   "id": "445fc3a6-2055-4e5b-bf25-3aa28718d306",
   "metadata": {
    "id": "445fc3a6-2055-4e5b-bf25-3aa28718d306"
   },
   "outputs": [],
   "source": [
    "def timeSince(since):\n",
    "    now = time.time()\n",
    "    s = now - since\n",
    "    m = math.floor(s / 60)\n",
    "    s -= m * 60\n",
    "    return '%dm %ds' % (m, s)"
   ]
  },
  {
   "cell_type": "code",
   "execution_count": 63,
   "id": "3d5498fa-d334-4afe-8261-4dddef793cd7",
   "metadata": {
    "id": "3d5498fa-d334-4afe-8261-4dddef793cd7"
   },
   "outputs": [],
   "source": [
    "# train the RNN on the input and target batch values \n",
    "\n",
    "def train_batch(rnn, input_line_tensor, target_line_tensor, optimizer, criterion):\n",
    "    \n",
    "    # Put in extra dimension for the \"Layer\" dimension of LSTM inputs \n",
    "    input_line_tensor = torch.unsqueeze(input_line_tensor, dim=0)\n",
    "    target_line_tensor = torch.unsqueeze(target_line_tensor, dim=0)\n",
    "    \n",
    "    # Initilize the hidden and cell matrices \n",
    "    hidden, cell = rnn.initHidden()\n",
    "\n",
    "    # Zero out the gradients for each batch\n",
    "    rnn.zero_grad()\n",
    "\n",
    "    # Initlize loss to 0\n",
    "    loss = 0\n",
    "\n",
    "    # Iterate through all 40 characters in the sequence\n",
    "    for i in range(input_line_tensor.size(2)):\n",
    "        \n",
    "        # Select only the ith character for the batch\n",
    "        input_tensor = input_line_tensor[:, :, i] \n",
    "        target_tensor = target_line_tensor[:, :, i] \n",
    "        \n",
    "        # Forward pass through RNN \n",
    "        output, (hidden, cell) = rnn(input_tensor, (hidden, cell))\n",
    "        \n",
    "        # Loss calculation\n",
    "        l = criterion(torch.squeeze(output, dim=0), torch.squeeze(target_tensor, dim=0))\n",
    "        loss += l.item() \n",
    "\n",
    "        # Compute gradients and take optimizer step\n",
    "        optimizer.zero_grad()\n",
    "        l.backward(retain_graph=True)\n",
    "        optimizer.step()\n",
    "\n",
    "    return loss / rnn.batch_size"
   ]
  },
  {
   "cell_type": "code",
   "execution_count": 64,
   "id": "e9891d34-227d-4305-9036-f09e30fe05ae",
   "metadata": {
    "id": "e9891d34-227d-4305-9036-f09e30fe05ae"
   },
   "outputs": [],
   "source": [
    "# Sample from a category and starting letter\n",
    "\n",
    "def sample(rnn, start_letter='a', length=max_length, temperature=1):\n",
    "    with torch.no_grad():  # no need to track history in sampling\n",
    "        rnn.eval()\n",
    "        inputs = inputTensor(start_letter).to(device)\n",
    "        hidden, cell = torch.zeros(1, 1, rnn.hidden_size).to(device), torch.zeros(1, 1, rnn.hidden_size).to(device)\n",
    "\n",
    "        output_name = start_letter\n",
    "\n",
    "        for i in range(length):\n",
    "            inputs = inputs[None, :]\n",
    "            \n",
    "            output, (hidden, cell) = rnn(inputs, (hidden, cell), temperature=temperature)\n",
    "            \n",
    "            topi = torch.multinomial(output.data[0], 1)\n",
    "            # pdb.set_trace()\n",
    "            # topv, topi = output.topk(1)\n",
    "            topi = topi[0][0]\n",
    "            \n",
    "            # Last index is <EOS> so we just kill the appending\n",
    "            if topi == n_letters - 1:\n",
    "                break \n",
    "            else:\n",
    "                letter = all_letters[topi]\n",
    "                output_name += letter\n",
    "            \n",
    "            inputs = inputTensor(letter).to(device)\n",
    "\n",
    "        return output_name"
   ]
  },
  {
   "cell_type": "markdown",
   "id": "08ncG8mBk96R",
   "metadata": {
    "id": "08ncG8mBk96R"
   },
   "source": [
    "## One Hot encoding LSTM"
   ]
  },
  {
   "cell_type": "code",
   "execution_count": 65,
   "id": "bb404074-20ea-4a9f-859e-14675bec362e",
   "metadata": {
    "id": "bb404074-20ea-4a9f-859e-14675bec362e"
   },
   "outputs": [],
   "source": [
    "\n",
    "\n",
    "class RNN(nn.Module):\n",
    "    def __init__(self, input_size, hidden_size, n_classes, batch_size, device, n_layers=1): # n_classes is output_size \n",
    "        super(RNN, self).__init__()\n",
    "        self.input_size = input_size # input size is number of classes in our case \n",
    "        self.hidden_size = hidden_size # hidden layer size \n",
    "        self.n_classes = n_classes # number of classes \n",
    "        self.batch_size = batch_size # size of batch\n",
    "        self.n_layers = n_layers # number of layers in LSTM\n",
    "        self.device = device # 'cuda' or 'cpu'\n",
    "        \n",
    "\n",
    "        # self.embedding = nn.Embedding(input_size, input_size)\n",
    "        self.lstm = nn.LSTM(input_size=input_size, hidden_size=hidden_size, num_layers=1)\n",
    "        self.decoder = nn.Linear(hidden_size, n_classes)\n",
    "        self.dropout = nn.Dropout(0.1)\n",
    "        self.softmax = nn.Softmax(dim=2)\n",
    "        \n",
    "\n",
    "    def forward(self, input_vals, hc, temperature=1):\n",
    "        # embeding = self.embedding(input_vals)\n",
    "        one_hot = torch.nn.functional.one_hot(input_vals, num_classes=self.n_classes)\n",
    "        # pdb.set_trace()\n",
    "        output, hc = self.lstm(one_hot.float(), hc)\n",
    "        output = self.decoder(output)\n",
    "        output = self.dropout(output)\n",
    "        # pdb.set_trace()\n",
    "        output = self.softmax(output / temperature)\n",
    "        return output, (hc[0].detach(), hc[1].detach())\n",
    "\n",
    "    def initHidden(self, num_layers=None, batch_size=None, hidden_size=None):\n",
    "        if num_layers is None:\n",
    "            num_layers = self.n_layers\n",
    "        if batch_size is None:\n",
    "            batch_size = self.batch_size\n",
    "        if hidden_size is None:\n",
    "            hidden_size = self.hidden_size\n",
    "            \n",
    "        return torch.zeros(num_layers, batch_size, hidden_size).to(self.device), torch.zeros(num_layers, batch_size, hidden_size).to(self.device)"
   ]
  },
  {
   "cell_type": "code",
   "execution_count": 66,
   "id": "46a31cc0-8346-4d34-a866-a94666eb60ba",
   "metadata": {
    "colab": {
     "base_uri": "https://localhost:8080/"
    },
    "id": "46a31cc0-8346-4d34-a866-a94666eb60ba",
    "outputId": "e0aba8e1-8a10-4e5a-eb65-5248751033ae"
   },
   "outputs": [
    {
     "name": "stdout",
     "output_type": "stream",
     "text": [
      "1m 51s (100 2%) 4.0946\n",
      "4m 20s (200 4%) 4.0829\n",
      "7m 53s (300 6%) 4.0972\n",
      "11m 57s (400 8%) 4.0972\n",
      "14m 39s (500 10%) 4.0808\n",
      "16m 37s (600 12%) 4.0769\n",
      "19m 9s (700 14%) 4.0768\n",
      "22m 2s (800 16%) 4.1034\n",
      "24m 47s (900 18%) 4.0822\n",
      "27m 15s (1000 20%) 4.0840\n",
      "30m 48s (1100 22%) 4.0819\n",
      "34m 44s (1200 24%) 4.0930\n",
      "38m 49s (1300 26%) 4.0836\n",
      "42m 17s (1400 28%) 4.0852\n",
      "47m 35s (1500 30%) 4.0916\n",
      "53m 47s (1600 32%) 4.0894\n",
      "60m 45s (1700 34%) 4.0956\n",
      "67m 58s (1800 36%) 4.0946\n",
      "74m 9s (1900 38%) 4.0834\n",
      "80m 29s (2000 40%) 4.0885\n",
      "84m 35s (2100 42%) 4.0780\n",
      "87m 17s (2200 44%) 4.0898\n",
      "89m 43s (2300 46%) 4.0912\n",
      "92m 6s (2400 48%) 4.0709\n",
      "94m 27s (2500 50%) 4.0837\n",
      "96m 40s (2600 52%) 4.0773\n",
      "98m 51s (2700 54%) 4.0827\n",
      "101m 9s (2800 56%) 4.0674\n",
      "103m 27s (2900 57%) 4.0749\n",
      "105m 21s (3000 60%) 4.0510\n",
      "107m 12s (3100 62%) 4.0540\n",
      "109m 2s (3200 64%) 4.0208\n",
      "110m 52s (3300 66%) 3.9911\n",
      "112m 41s (3400 68%) 3.9816\n",
      "114m 31s (3500 70%) 3.9462\n",
      "116m 21s (3600 72%) 3.9759\n",
      "118m 12s (3700 74%) 3.9299\n",
      "120m 3s (3800 76%) 3.9359\n",
      "122m 1s (3900 78%) 3.9544\n",
      "124m 2s (4000 80%) 3.9423\n",
      "125m 58s (4100 82%) 3.9254\n",
      "128m 1s (4200 84%) 3.8895\n",
      "130m 3s (4300 86%) 3.9542\n",
      "132m 5s (4400 88%) 3.9202\n",
      "134m 14s (4500 90%) 3.9185\n",
      "136m 14s (4600 92%) 3.9047\n",
      "138m 6s (4700 94%) 3.9018\n",
      "140m 0s (4800 96%) 3.8989\n",
      "141m 52s (4900 98%) 3.9151\n",
      "143m 51s (5000 100%) 3.9136\n"
     ]
    }
   ],
   "source": [
    "######### PARAMETERS #########\n",
    "batch_size = 32\n",
    "hidden_size = 800\n",
    "n_iters = 5000\n",
    "print_every = 100\n",
    "plot_every = 500\n",
    "learning_rate = 0.0005\n",
    "############################## \n",
    "\n",
    "rnn = RNN(n_letters, hidden_size, n_letters, device=device, batch_size=batch_size).to(device) # expand hidden units \n",
    "\n",
    "criterion = nn.CrossEntropyLoss() \n",
    "\n",
    "optimizer = torch.optim.Adam(rnn.parameters(), lr=learning_rate)\n",
    "\n",
    "all_losses = []\n",
    "total_loss = 0 # Reset every plot_every iters\n",
    "\n",
    "start = time.time()\n",
    "\n",
    "for iter in range(1, n_iters + 1):\n",
    "    try : \n",
    "        input_line_tensor, target_line_tensor = randomBatch(fixed_length_character_sequences_valid_start, batch_size=batch_size)\n",
    "        loss = train_batch(rnn, input_line_tensor.to(device), target_line_tensor.to(device), criterion=criterion, optimizer=optimizer)\n",
    "        total_loss += loss\n",
    "    except : \n",
    "        print(input_line_tensor)\n",
    "        raise\n",
    "\n",
    "    if iter % print_every == 0:\n",
    "        print('%s (%d %d%%) %.4f' % (timeSince(start), iter, iter / n_iters * 100, loss))\n",
    "\n",
    "    if iter % plot_every == 0:\n",
    "        all_losses.append(total_loss / plot_every)\n",
    "        total_loss = 0"
   ]
  },
  {
   "cell_type": "code",
   "execution_count": 67,
   "id": "d8888ad1-d1aa-4c4a-87c9-599930bc7438",
   "metadata": {
    "colab": {
     "base_uri": "https://localhost:8080/",
     "height": 282
    },
    "id": "d8888ad1-d1aa-4c4a-87c9-599930bc7438",
    "outputId": "1ed98845-b4f5-430d-bc07-d4cad1b48bcc"
   },
   "outputs": [
    {
     "data": {
      "text/plain": [
       "[<matplotlib.lines.Line2D at 0x7f8afdaaacd0>]"
      ]
     },
     "execution_count": 67,
     "metadata": {},
     "output_type": "execute_result"
    },
    {
     "data": {
      "image/png": "[encoded data removed]",
      "text/plain": [
       "<Figure size 432x288 with 1 Axes>"
      ]
     },
     "metadata": {
      "needs_background": "light"
     },
     "output_type": "display_data"
    }
   ],
   "source": [
    "plt.plot(all_losses)"
   ]
  },
  {
   "cell_type": "code",
   "execution_count": 123,
   "id": "09559e2c-bb7d-4e14-83bc-1f6abff56af3",
   "metadata": {
    "colab": {
     "base_uri": "https://localhost:8080/",
     "height": 35
    },
    "id": "09559e2c-bb7d-4e14-83bc-1f6abff56af3",
    "outputId": "33e3162c-12cc-4b35-b523-f23919254afd"
   },
   "outputs": [
    {
     "name": "stdout",
     "output_type": "stream",
     "text": [
      "he re so to to to to to to to to to to to to to\n",
      "dotn to to to to to to to to to to to to to\n",
      "be toe to to to to to to to to to to to to\n",
      "soun to to to to to to to to to to to\n",
      "\n",
      "whe see to to to to to to to to to to to to to\n",
      "in to to ton to to to to to to to to to to to to\n",
      "in to to to to to to to to to to\n",
      "grean to to see to to to to to to to to to\n",
      "\n",
      "unee to to an to to to to to to to\n",
      "in to to to to to to to to to to to\n",
      "not en to to to to to to to to to so to\n",
      "he re to to to to to to to to to to to\n",
      "\n",
      "the son so to to to to to to to to to\n",
      "knos to to to to to to to to to to to to to to to\n"
     ]
    }
   ],
   "source": [
    "# Sample a poem\n",
    "for i in range(14): \n",
    "    original_sample = sample(rnn, random.choice(string.ascii_lowercase[:-3]), \n",
    "                             length=random.randint(30, 50), temperature=2)\n",
    "    print(' '.join(original_sample.split(\" \")[:-1]))\n",
    "    if i in [3, 7, 11]:\n",
    "        print()"
   ]
  },
  {
   "cell_type": "code",
   "execution_count": 144,
   "id": "00819690-1893-455e-b4df-84ca8523f160",
   "metadata": {},
   "outputs": [],
   "source": [
    "# Save model\n",
    "torch.save(rnn.state_dict(), \"./lstm_onehot_model.pt\")\n",
    "\n"
   ]
  },
  {
   "cell_type": "code",
   "execution_count": 119,
   "id": "63c710d3-d8ea-4080-b763-46d179fbeab2",
   "metadata": {},
   "outputs": [
    {
     "data": {
      "text/plain": [
       "RNN(\n",
       "  (lstm): LSTM(30, 800)\n",
       "  (decoder): Linear(in_features=800, out_features=30, bias=True)\n",
       "  (dropout): Dropout(p=0.1, inplace=False)\n",
       "  (softmax): Softmax(dim=2)\n",
       ")"
      ]
     },
     "execution_count": 119,
     "metadata": {},
     "output_type": "execute_result"
    }
   ],
   "source": [
    "# Load model\n",
    "# Model class must be defined somewhere\n",
    "rnn_load_model = RNN(n_letters, hidden_size, n_letters, device=device, batch_size=batch_size)\n",
    "rnn_load_model.load_state_dict(torch.load(\"./lstm_onehot_model.pt\"))\n",
    "rnn_load_model.eval()"
   ]
  },
  {
   "cell_type": "code",
   "execution_count": 143,
   "id": "f2bf55d5-96eb-4e23-bf37-951e61379dcf",
   "metadata": {},
   "outputs": [
    {
     "name": "stdout",
     "output_type": "stream",
     "text": [
      "on to tos to to to to to enn to ton to  nos to to\n",
      "dots to to to to an to to to xos toe to to\n",
      "shee to to tot see to to tot\n",
      "gree tot to to toje ans to to to\n",
      "\n",
      "soun tee ton to to to to to tos to to\n",
      "ve to to to to to to ton to an\n",
      "unee to tot tnot an t tee toon ant to\n",
      "vee to to to to to to toan to an to to anon\n",
      "\n",
      "my seee to to to an to to to to  on to\n",
      "eye sos tot so to to an to to to so\n",
      "dotn toon tot an tot so to wos to an to an\n",
      "for to to to to to to to sos to ton to\n",
      "\n",
      "dee to to to an to an tos noan to to to\n",
      "knou to to an to tome nat see to to to\n"
     ]
    }
   ],
   "source": [
    "# Sample a poem\n",
    "for i in range(14): \n",
    "    original_sample = sample(rnn_load_model, random.choice(string.ascii_lowercase[:-3]), \n",
    "                             length=random.randint(30, 50), temperature=3.05)\n",
    "    print(' '.join(original_sample.split(\" \")[:-1]))\n",
    "    if i in [3, 7, 11]:\n",
    "        print()"
   ]
  },
  {
   "cell_type": "markdown",
   "id": "S-eR5T1BlDEI",
   "metadata": {
    "id": "S-eR5T1BlDEI"
   },
   "source": [
    "## Embedding LSTM"
   ]
  },
  {
   "cell_type": "code",
   "execution_count": 20,
   "id": "qe9-xqxndmHR",
   "metadata": {
    "id": "qe9-xqxndmHR"
   },
   "outputs": [],
   "source": [
    "class RNN_Embedding(nn.Module):\n",
    "    def __init__(self, input_size, hidden_size, n_classes, device, batch_size, n_layers=1): # n_classes is output_size \n",
    "        super(RNN_Embedding, self).__init__()\n",
    "        self.input_size = input_size # input size is number of classes in our case \n",
    "        self.hidden_size = hidden_size # hidden layer size \n",
    "        self.n_classes = n_classes # number of classes \n",
    "        self.batch_size = batch_size # size of batch\n",
    "        self.n_layers = n_layers # number of layers in LSTM\n",
    "        self.device = device # 'cuda' or 'cpu'\n",
    "\n",
    "        self.embedding = nn.Embedding(input_size, input_size)\n",
    "        self.lstm = nn.LSTM(input_size=input_size, hidden_size=hidden_size, num_layers=n_layers)\n",
    "        self.decoder = nn.Linear(hidden_size, n_classes)\n",
    "        self.dropout = nn.Dropout(0.1)\n",
    "        self.softmax = nn.Softmax(dim=2)\n",
    "        \n",
    "\n",
    "    def forward(self, input_vals, hc, temperature=1):\n",
    "        embeding = self.embedding(input_vals)\n",
    "        # pdb.set_trace()\n",
    "        output, hc = self.lstm(embeding, hc)\n",
    "        output = self.decoder(output)\n",
    "        output = self.dropout(output)\n",
    "        # pdb.set_trace()\n",
    "        output = self.softmax(output / temperature)\n",
    "        return output, (hc[0].detach(), hc[1].detach())\n",
    "\n",
    "    def initHidden(self, num_layers=None, batch_size=None, hidden_size=None):\n",
    "        if num_layers is None:\n",
    "            num_layers = self.n_layers\n",
    "        if batch_size is None:\n",
    "            batch_size = self.batch_size\n",
    "        if hidden_size is None:\n",
    "            hidden_size = self.hidden_size\n",
    "            \n",
    "        return torch.zeros(num_layers, batch_size, hidden_size).to(device), torch.zeros(num_layers, batch_size, hidden_size).to(device)"
   ]
  },
  {
   "cell_type": "code",
   "execution_count": 21,
   "id": "sT4Wij0Udsll",
   "metadata": {
    "colab": {
     "base_uri": "https://localhost:8080/",
     "height": 1000
    },
    "id": "sT4Wij0Udsll",
    "outputId": "b9bc93e8-507e-41be-bd31-c0b8d29d28d5"
   },
   "outputs": [
    {
     "name": "stdout",
     "output_type": "stream",
     "text": [
      "1m 44s (100 2%) 4.1042\n",
      "3m 31s (200 4%) 3.9073\n",
      "5m 12s (300 6%) 3.8375\n",
      "6m 52s (400 8%) 3.8363\n",
      "8m 35s (500 10%) 3.8159\n",
      "10m 17s (600 12%) 3.8352\n",
      "12m 0s (700 14%) 3.8091\n",
      "13m 45s (800 16%) 3.7896\n",
      "15m 28s (900 18%) 3.8198\n",
      "17m 10s (1000 20%) 3.8111\n",
      "18m 53s (1100 22%) 3.7867\n",
      "20m 34s (1200 24%) 3.7960\n",
      "22m 17s (1300 26%) 3.7756\n",
      "23m 57s (1400 28%) 3.7571\n",
      "25m 39s (1500 30%) 3.7476\n",
      "27m 21s (1600 32%) 3.7644\n",
      "29m 4s (1700 34%) 3.7792\n",
      "30m 46s (1800 36%) 3.7822\n",
      "32m 28s (1900 38%) 3.7931\n",
      "34m 9s (2000 40%) 3.7907\n",
      "35m 53s (2100 42%) 3.7629\n",
      "37m 35s (2200 44%) 3.7634\n",
      "39m 17s (2300 46%) 3.7605\n",
      "40m 57s (2400 48%) 3.7352\n",
      "42m 36s (2500 50%) 3.7343\n",
      "44m 16s (2600 52%) 3.7652\n",
      "45m 55s (2700 54%) 3.7482\n",
      "47m 35s (2800 56%) 3.7606\n",
      "49m 17s (2900 57%) 3.7574\n",
      "50m 57s (3000 60%) 3.7726\n",
      "52m 37s (3100 62%) 3.7429\n",
      "54m 17s (3200 64%) 3.7482\n",
      "55m 56s (3300 66%) 3.7553\n",
      "57m 35s (3400 68%) 3.7399\n",
      "59m 14s (3500 70%) 3.7568\n",
      "60m 53s (3600 72%) 3.7387\n",
      "62m 32s (3700 74%) 3.7465\n",
      "64m 12s (3800 76%) 3.7461\n",
      "65m 55s (3900 78%) 3.7523\n",
      "67m 37s (4000 80%) 3.7398\n",
      "69m 18s (4100 82%) 3.7277\n",
      "71m 1s (4200 84%) 3.7401\n",
      "72m 42s (4300 86%) 3.7655\n",
      "74m 23s (4400 88%) 3.7109\n",
      "76m 7s (4500 90%) 3.7442\n",
      "77m 54s (4600 92%) 3.7249\n",
      "79m 43s (4700 94%) 3.7313\n",
      "81m 29s (4800 96%) 3.7439\n",
      "83m 25s (4900 98%) 3.7343\n",
      "85m 7s (5000 100%) 3.7464\n"
     ]
    }
   ],
   "source": [
    "######### PARAMETERS #########\n",
    "batch_size = 32\n",
    "hidden_size = 800\n",
    "n_iters = 5000\n",
    "print_every = 100\n",
    "plot_every = 500\n",
    "learning_rate = 0.0005\n",
    "############################## \n",
    "\n",
    "rnn_embedding = RNN_Embedding(input_size=n_letters, hidden_size=hidden_size, n_classes=n_letters, n_layers=1, device=device, batch_size=batch_size).to(device) # expand hidden units \n",
    "\n",
    "criterion = nn.CrossEntropyLoss() \n",
    "\n",
    "optimizer = torch.optim.Adam(rnn_embedding.parameters(), lr=learning_rate)\n",
    "\n",
    "import pdb\n",
    "\n",
    "all_losses_embed = []\n",
    "total_loss_embed = 0 # Reset every plot_every iters\n",
    "\n",
    "start = time.time()\n",
    "\n",
    "for iter in range(1, n_iters + 1):\n",
    "    try : \n",
    "        input_line_tensor, target_line_tensor = randomBatch(fixed_length_character_sequences_valid_start, batch_size=batch_size)\n",
    "        loss = train_batch(rnn_embedding, input_line_tensor.to(device), target_line_tensor.to(device), criterion=criterion, optimizer=optimizer)\n",
    "        total_loss_embed += loss\n",
    "    except : \n",
    "        print(input_line_tensor)\n",
    "        raise\n",
    "\n",
    "    if iter % print_every == 0:\n",
    "        print('%s (%d %d%%) %.4f' % (timeSince(start), iter, iter / n_iters * 100, loss))\n",
    "\n",
    "    if iter % plot_every == 0:\n",
    "        all_losses_embed.append(total_loss_embed / plot_every)\n",
    "        total_loss_embed = 0"
   ]
  },
  {
   "cell_type": "code",
   "execution_count": 22,
   "id": "ukzPajiGfI7h",
   "metadata": {
    "id": "ukzPajiGfI7h"
   },
   "outputs": [
    {
     "data": {
      "text/plain": [
       "[<matplotlib.lines.Line2D at 0x7f8afcf741c0>]"
      ]
     },
     "execution_count": 22,
     "metadata": {},
     "output_type": "execute_result"
    },
    {
     "data": {
      "image/png": "[encoded data removed]",
      "text/plain": [
       "<Figure size 432x288 with 1 Axes>"
      ]
     },
     "metadata": {
      "needs_background": "light"
     },
     "output_type": "display_data"
    }
   ],
   "source": [
    "plt.plot(all_losses_embed)"
   ]
  },
  {
   "cell_type": "code",
   "execution_count": 94,
   "id": "mqqFvXiEeTQm",
   "metadata": {
    "id": "mqqFvXiEeTQm"
   },
   "outputs": [
    {
     "name": "stdout",
     "output_type": "stream",
     "text": [
      "my see the star that the lore the star the star\n",
      "know the star the star the st'stees the\n",
      "do the star the startert the star the\n",
      "not the star the stare the star\n",
      "\n",
      "or the star the shour star the s\n",
      "loot the star the stane the s the shount the star\n",
      "the strens the star the star\n",
      "for the star the star the star the star the stant\n",
      "\n",
      "rest the searth the shoue the\n",
      "rest the short the show the star\n",
      "not the star the star the star the star\n",
      "the star the star the s an the\n",
      "\n",
      "not the star the star the star\n",
      "present the stane the sount the\n"
     ]
    }
   ],
   "source": [
    "# Sample a poem\n",
    "for i in range(14): \n",
    "    original_sample = sample(rnn_embedding, random.choice(string.ascii_lowercase[:-3]), \n",
    "                             length=random.randint(30, 50), temperature=3.05)\n",
    "    print(' '.join(original_sample.split(\" \")[:-1]))\n",
    "    if i in [3, 7, 11]:\n",
    "        print()"
   ]
  },
  {
   "cell_type": "code",
   "execution_count": 145,
   "id": "26d81bfb-664c-4a70-8084-81d8f02b077e",
   "metadata": {},
   "outputs": [],
   "source": [
    "torch.save(rnn_embedding.state_dict(), \"./models/lstm_embedding_model.pt\")\n"
   ]
  },
  {
   "cell_type": "code",
   "execution_count": null,
   "id": "24280f9f-4462-4323-bbc6-cf939299a985",
   "metadata": {},
   "outputs": [],
   "source": [
    "# Load model\n",
    "# Model class must be defined somewhere\n",
    "rnn_load_model = RNN_Embedding(n_letters, hidden_size, n_letters, device=device, batch_size=batch_size)\n",
    "rnn_load_model.load_state_dict(torch.load(\"./models/lstm_embedding_model.pt\"))\n",
    "rnn_load_model.eval()"
   ]
  }
 ],
 "metadata": {
  "accelerator": "GPU",
  "colab": {
   "collapsed_sections": [],
   "name": "gc_LSTM_scratch-OneHot.ipynb",
   "provenance": []
  },
  "kernelspec": {
   "display_name": "Python 3 (ipykernel)",
   "language": "python",
   "name": "python3"
  },
  "language_info": {
   "codemirror_mode": {
    "name": "ipython",
    "version": 3
   },
   "file_extension": ".py",
   "mimetype": "text/x-python",
   "name": "python",
   "nbconvert_exporter": "python",
   "pygments_lexer": "ipython3",
   "version": "3.8.12"
  }
 },
 "nbformat": 4,
 "nbformat_minor": 5
}
