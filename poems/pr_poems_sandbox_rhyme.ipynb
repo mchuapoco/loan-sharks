{
 "cells": [
  {
   "cell_type": "code",
   "execution_count": 123,
   "id": "passing-growth",
   "metadata": {},
   "outputs": [],
   "source": [
    "import numpy as np\n",
    "import pandas as pd \n",
    "# import holoviews as hv\n",
    "# from holoviews import dim, opts\n",
    "# import bokeh.io\n",
    "# import iqplot\n",
    "import urllib\n",
    "import re\n",
    "import helper\n",
    "import random"
   ]
  },
  {
   "cell_type": "code",
   "execution_count": 124,
   "id": "bound-constraint",
   "metadata": {},
   "outputs": [
    {
     "data": {
      "text/plain": [
       "<module 'helper' from '/Users/prakash/Desktop/Courses/ML/loan-sharks/poems/helper.py'>"
      ]
     },
     "execution_count": 124,
     "metadata": {},
     "output_type": "execute_result"
    }
   ],
   "source": [
    "# Run this to reload helper.py so you don't have to restart the kernel\n",
    "import importlib\n",
    "\n",
    "importlib.reload(helper)"
   ]
  },
  {
   "cell_type": "markdown",
   "id": "modified-metro",
   "metadata": {},
   "source": [
    "## Preprocess Data"
   ]
  },
  {
   "cell_type": "code",
   "execution_count": 125,
   "id": "colonial-boston",
   "metadata": {},
   "outputs": [],
   "source": [
    "all_words, all_sequences, word_dict, all_sonnet_int, syllable_dict= helper.getAllWordsAndSequences(\"data/shakespeare.txt\", \"data/Syllable_dictionary.txt\",syllable_count=True)"
   ]
  },
  {
   "cell_type": "code",
   "execution_count": 126,
   "id": "played-machinery",
   "metadata": {},
   "outputs": [],
   "source": [
    "rhyme=[]\n",
    "new_sonet_sequence=[]\n",
    "for idx in range(len(all_sequences)):\n",
    "    if len(all_sonnet_int[idx])>1:\n",
    "        new_sonet_sequence.append(all_sonnet_int[idx][-2::-1])\n",
    "    if idx%12==0:\n",
    "        rhyme.append((all_sonnet_int[idx][-2],all_sonnet_int[idx+1][-2]))\n",
    "    elif idx%4==0 and len(all_sonnet_int[idx+2])>1:\n",
    "        rhyme.append((all_sonnet_int[idx][-2],all_sonnet_int[idx+2][-2]))\n",
    "        rhyme.append((all_sonnet_int[idx+1][-2],all_sonnet_int[idx+3][-2]))"
   ]
  },
  {
   "cell_type": "code",
   "execution_count": 132,
   "id": "indoor-zealand",
   "metadata": {},
   "outputs": [
    {
     "name": "stdout",
     "output_type": "stream",
     "text": [
      "Iteration: 10\n",
      "Iteration: 20\n",
      "Iteration: 30\n",
      "Iteration: 40\n",
      "Iteration: 50\n",
      "Iteration: 60\n",
      "Iteration: 70\n",
      "Iteration: 80\n",
      "Iteration: 90\n",
      "Iteration: 100\n",
      "Iteration: 110\n",
      "Iteration: 120\n",
      "Iteration: 130\n",
      "Iteration: 140\n",
      "Iteration: 150\n",
      "Iteration: 160\n",
      "Iteration: 170\n",
      "Iteration: 180\n",
      "Iteration: 190\n",
      "Iteration: 200\n",
      "Iteration: 210\n",
      "Iteration: 220\n",
      "Iteration: 230\n",
      "Iteration: 240\n",
      "Iteration: 250\n",
      "Iteration: 260\n",
      "Iteration: 270\n",
      "Iteration: 280\n",
      "Iteration: 290\n",
      "Iteration: 300\n"
     ]
    }
   ],
   "source": [
    "hmm5 = helper.unsupervised_HMM(new_sonet_sequence, 5, 300)"
   ]
  },
  {
   "cell_type": "code",
   "execution_count": 135,
   "id": "tender-blake",
   "metadata": {},
   "outputs": [
    {
     "name": "stdout",
     "output_type": "stream",
     "text": [
      "Sample Sonnet:\n",
      "====================\n",
      "Thee still spirits of you what no shore torn\n",
      "Is three in hearts self yea cover i dyed\n",
      "Which thorns me truth is losing that looks thee\n",
      "And you to slain to forgetful what hair\n",
      "My own in you but large and be all cross\n",
      "This seest cannot she the robe leaving grow\n",
      "Or best for death at i of case the deeds\n",
      "I but second thoughts assure in prove fair\n",
      "Not swerving of common dost tell in tears\n",
      "I for more store to save in cry abide\n",
      "Art kind would in thy name betray doth fears\n",
      "Even of which of not still adjunct slide\n",
      "Than thee have entitled that well all stars\n",
      "That ten have in one and i import boast\n"
     ]
    }
   ],
   "source": [
    "print('Sample Sonnet:\\n====================')\n",
    "sentence_rhyme=['' for i in range(14)]\n",
    "for i in range(3):\n",
    "    new_rhyme_1=random.choice(rhyme)\n",
    "    new_rhyme_2=random.choice(rhyme)\n",
    "    sentence_rhyme[i*4]=new_rhyme_1[0]\n",
    "    sentence_rhyme[i*4+1]=new_rhyme_2[0]\n",
    "    sentence_rhyme[i*4+2]=new_rhyme_1[1]\n",
    "    sentence_rhyme[i*4+3]=new_rhyme_2[1]\n",
    "new_rhyme_1=random.choice(rhyme)\n",
    "sentence_rhyme[-2]=new_rhyme_1[0]\n",
    "sentence_rhyme[-1]=new_rhyme_1[1]\n",
    "for start_rhyme in sentence_rhyme:\n",
    "    print(helper.sample_rev_sonents(hmm5, word_dict, syllable_dict, n_sonnet=10, start_word=start_rhyme))"
   ]
  },
  {
   "cell_type": "code",
   "execution_count": null,
   "id": "careful-agent",
   "metadata": {},
   "outputs": [],
   "source": []
  }
 ],
 "metadata": {
  "kernelspec": {
   "display_name": "Python 3",
   "language": "python",
   "name": "python3"
  },
  "language_info": {
   "codemirror_mode": {
    "name": "ipython",
    "version": 3
   },
   "file_extension": ".py",
   "mimetype": "text/x-python",
   "name": "python",
   "nbconvert_exporter": "python",
   "pygments_lexer": "ipython3",
   "version": "3.7.7"
  }
 },
 "nbformat": 4,
 "nbformat_minor": 5
}
