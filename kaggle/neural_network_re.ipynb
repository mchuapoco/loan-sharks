{
 "cells": [
  {
   "cell_type": "markdown",
   "id": "7aa70325-e123-4eaa-b16d-e04804992903",
   "metadata": {},
   "source": [
    "# Neural Network\n",
    "\n",
    "Goals of this notebook: \n",
    "- Test the performance of a neural network in classifying if a loan was paid off or not\n",
    "- Try some hyper-parameter tuning to determine optimal parameters for the different models?\n",
    "- Experiment with different neural network architectures"
   ]
  },
  {
   "cell_type": "code",
   "execution_count": 43,
   "id": "f3ca356e-04a0-4eaf-b373-552c10685329",
   "metadata": {},
   "outputs": [
    {
     "data": {
      "text/html": [
       "\n",
       "    <div class=\"bk-root\">\n",
       "        <a href=\"https://bokeh.org\" target=\"_blank\" class=\"bk-logo bk-logo-small bk-logo-notebook\"></a>\n",
       "        <span id=\"2824\">Loading BokehJS ...</span>\n",
       "    </div>"
      ]
     },
     "metadata": {},
     "output_type": "display_data"
    },
    {
     "data": {
      "application/javascript": [
       "\n",
       "(function(root) {\n",
       "  function now() {\n",
       "    return new Date();\n",
       "  }\n",
       "\n",
       "  var force = true;\n",
       "\n",
       "  if (typeof root._bokeh_onload_callbacks === \"undefined\" || force === true) {\n",
       "    root._bokeh_onload_callbacks = [];\n",
       "    root._bokeh_is_loading = undefined;\n",
       "  }\n",
       "\n",
       "  var JS_MIME_TYPE = 'application/javascript';\n",
       "  var HTML_MIME_TYPE = 'text/html';\n",
       "  var EXEC_MIME_TYPE = 'application/vnd.bokehjs_exec.v0+json';\n",
       "  var CLASS_NAME = 'output_bokeh rendered_html';\n",
       "\n",
       "  /**\n",
       "   * Render data to the DOM node\n",
       "   */\n",
       "  function render(props, node) {\n",
       "    var script = document.createElement(\"script\");\n",
       "    node.appendChild(script);\n",
       "  }\n",
       "\n",
       "  /**\n",
       "   * Handle when an output is cleared or removed\n",
       "   */\n",
       "  function handleClearOutput(event, handle) {\n",
       "    var cell = handle.cell;\n",
       "\n",
       "    var id = cell.output_area._bokeh_element_id;\n",
       "    var server_id = cell.output_area._bokeh_server_id;\n",
       "    // Clean up Bokeh references\n",
       "    if (id != null && id in Bokeh.index) {\n",
       "      Bokeh.index[id].model.document.clear();\n",
       "      delete Bokeh.index[id];\n",
       "    }\n",
       "\n",
       "    if (server_id !== undefined) {\n",
       "      // Clean up Bokeh references\n",
       "      var cmd = \"from bokeh.io.state import curstate; print(curstate().uuid_to_server['\" + server_id + \"'].get_sessions()[0].document.roots[0]._id)\";\n",
       "      cell.notebook.kernel.execute(cmd, {\n",
       "        iopub: {\n",
       "          output: function(msg) {\n",
       "            var id = msg.content.text.trim();\n",
       "            if (id in Bokeh.index) {\n",
       "              Bokeh.index[id].model.document.clear();\n",
       "              delete Bokeh.index[id];\n",
       "            }\n",
       "          }\n",
       "        }\n",
       "      });\n",
       "      // Destroy server and session\n",
       "      var cmd = \"import bokeh.io.notebook as ion; ion.destroy_server('\" + server_id + \"')\";\n",
       "      cell.notebook.kernel.execute(cmd);\n",
       "    }\n",
       "  }\n",
       "\n",
       "  /**\n",
       "   * Handle when a new output is added\n",
       "   */\n",
       "  function handleAddOutput(event, handle) {\n",
       "    var output_area = handle.output_area;\n",
       "    var output = handle.output;\n",
       "\n",
       "    // limit handleAddOutput to display_data with EXEC_MIME_TYPE content only\n",
       "    if ((output.output_type != \"display_data\") || (!Object.prototype.hasOwnProperty.call(output.data, EXEC_MIME_TYPE))) {\n",
       "      return\n",
       "    }\n",
       "\n",
       "    var toinsert = output_area.element.find(\".\" + CLASS_NAME.split(' ')[0]);\n",
       "\n",
       "    if (output.metadata[EXEC_MIME_TYPE][\"id\"] !== undefined) {\n",
       "      toinsert[toinsert.length - 1].firstChild.textContent = output.data[JS_MIME_TYPE];\n",
       "      // store reference to embed id on output_area\n",
       "      output_area._bokeh_element_id = output.metadata[EXEC_MIME_TYPE][\"id\"];\n",
       "    }\n",
       "    if (output.metadata[EXEC_MIME_TYPE][\"server_id\"] !== undefined) {\n",
       "      var bk_div = document.createElement(\"div\");\n",
       "      bk_div.innerHTML = output.data[HTML_MIME_TYPE];\n",
       "      var script_attrs = bk_div.children[0].attributes;\n",
       "      for (var i = 0; i < script_attrs.length; i++) {\n",
       "        toinsert[toinsert.length - 1].firstChild.setAttribute(script_attrs[i].name, script_attrs[i].value);\n",
       "        toinsert[toinsert.length - 1].firstChild.textContent = bk_div.children[0].textContent\n",
       "      }\n",
       "      // store reference to server id on output_area\n",
       "      output_area._bokeh_server_id = output.metadata[EXEC_MIME_TYPE][\"server_id\"];\n",
       "    }\n",
       "  }\n",
       "\n",
       "  function register_renderer(events, OutputArea) {\n",
       "\n",
       "    function append_mime(data, metadata, element) {\n",
       "      // create a DOM node to render to\n",
       "      var toinsert = this.create_output_subarea(\n",
       "        metadata,\n",
       "        CLASS_NAME,\n",
       "        EXEC_MIME_TYPE\n",
       "      );\n",
       "      this.keyboard_manager.register_events(toinsert);\n",
       "      // Render to node\n",
       "      var props = {data: data, metadata: metadata[EXEC_MIME_TYPE]};\n",
       "      render(props, toinsert[toinsert.length - 1]);\n",
       "      element.append(toinsert);\n",
       "      return toinsert\n",
       "    }\n",
       "\n",
       "    /* Handle when an output is cleared or removed */\n",
       "    events.on('clear_output.CodeCell', handleClearOutput);\n",
       "    events.on('delete.Cell', handleClearOutput);\n",
       "\n",
       "    /* Handle when a new output is added */\n",
       "    events.on('output_added.OutputArea', handleAddOutput);\n",
       "\n",
       "    /**\n",
       "     * Register the mime type and append_mime function with output_area\n",
       "     */\n",
       "    OutputArea.prototype.register_mime_type(EXEC_MIME_TYPE, append_mime, {\n",
       "      /* Is output safe? */\n",
       "      safe: true,\n",
       "      /* Index of renderer in `output_area.display_order` */\n",
       "      index: 0\n",
       "    });\n",
       "  }\n",
       "\n",
       "  // register the mime type if in Jupyter Notebook environment and previously unregistered\n",
       "  if (root.Jupyter !== undefined) {\n",
       "    var events = require('base/js/events');\n",
       "    var OutputArea = require('notebook/js/outputarea').OutputArea;\n",
       "\n",
       "    if (OutputArea.prototype.mime_types().indexOf(EXEC_MIME_TYPE) == -1) {\n",
       "      register_renderer(events, OutputArea);\n",
       "    }\n",
       "  }\n",
       "\n",
       "  \n",
       "  if (typeof (root._bokeh_timeout) === \"undefined\" || force === true) {\n",
       "    root._bokeh_timeout = Date.now() + 5000;\n",
       "    root._bokeh_failed_load = false;\n",
       "  }\n",
       "\n",
       "  var NB_LOAD_WARNING = {'data': {'text/html':\n",
       "     \"<div style='background-color: #fdd'>\\n\"+\n",
       "     \"<p>\\n\"+\n",
       "     \"BokehJS does not appear to have successfully loaded. If loading BokehJS from CDN, this \\n\"+\n",
       "     \"may be due to a slow or bad network connection. Possible fixes:\\n\"+\n",
       "     \"</p>\\n\"+\n",
       "     \"<ul>\\n\"+\n",
       "     \"<li>re-rerun `output_notebook()` to attempt to load from CDN again, or</li>\\n\"+\n",
       "     \"<li>use INLINE resources instead, as so:</li>\\n\"+\n",
       "     \"</ul>\\n\"+\n",
       "     \"<code>\\n\"+\n",
       "     \"from bokeh.resources import INLINE\\n\"+\n",
       "     \"output_notebook(resources=INLINE)\\n\"+\n",
       "     \"</code>\\n\"+\n",
       "     \"</div>\"}};\n",
       "\n",
       "  function display_loaded() {\n",
       "    var el = document.getElementById(\"2824\");\n",
       "    if (el != null) {\n",
       "      el.textContent = \"BokehJS is loading...\";\n",
       "    }\n",
       "    if (root.Bokeh !== undefined) {\n",
       "      if (el != null) {\n",
       "        el.textContent = \"BokehJS \" + root.Bokeh.version + \" successfully loaded.\";\n",
       "      }\n",
       "    } else if (Date.now() < root._bokeh_timeout) {\n",
       "      setTimeout(display_loaded, 100)\n",
       "    }\n",
       "  }\n",
       "\n",
       "\n",
       "  function run_callbacks() {\n",
       "    try {\n",
       "      root._bokeh_onload_callbacks.forEach(function(callback) {\n",
       "        if (callback != null)\n",
       "          callback();\n",
       "      });\n",
       "    } finally {\n",
       "      delete root._bokeh_onload_callbacks\n",
       "    }\n",
       "    console.debug(\"Bokeh: all callbacks have finished\");\n",
       "  }\n",
       "\n",
       "  function load_libs(css_urls, js_urls, callback) {\n",
       "    if (css_urls == null) css_urls = [];\n",
       "    if (js_urls == null) js_urls = [];\n",
       "\n",
       "    root._bokeh_onload_callbacks.push(callback);\n",
       "    if (root._bokeh_is_loading > 0) {\n",
       "      console.debug(\"Bokeh: BokehJS is being loaded, scheduling callback at\", now());\n",
       "      return null;\n",
       "    }\n",
       "    if (js_urls == null || js_urls.length === 0) {\n",
       "      run_callbacks();\n",
       "      return null;\n",
       "    }\n",
       "    console.debug(\"Bokeh: BokehJS not loaded, scheduling load and callback at\", now());\n",
       "    root._bokeh_is_loading = css_urls.length + js_urls.length;\n",
       "\n",
       "    function on_load() {\n",
       "      root._bokeh_is_loading--;\n",
       "      if (root._bokeh_is_loading === 0) {\n",
       "        console.debug(\"Bokeh: all BokehJS libraries/stylesheets loaded\");\n",
       "        run_callbacks()\n",
       "      }\n",
       "    }\n",
       "\n",
       "    function on_error(url) {\n",
       "      console.error(\"failed to load \" + url);\n",
       "    }\n",
       "\n",
       "    for (let i = 0; i < css_urls.length; i++) {\n",
       "      const url = css_urls[i];\n",
       "      const element = document.createElement(\"link\");\n",
       "      element.onload = on_load;\n",
       "      element.onerror = on_error.bind(null, url);\n",
       "      element.rel = \"stylesheet\";\n",
       "      element.type = \"text/css\";\n",
       "      element.href = url;\n",
       "      console.debug(\"Bokeh: injecting link tag for BokehJS stylesheet: \", url);\n",
       "      document.body.appendChild(element);\n",
       "    }\n",
       "\n",
       "    const hashes = {\"https://cdn.bokeh.org/bokeh/release/bokeh-2.3.3.min.js\": \"dM3QQsP+wXdHg42wTqW85BjZQdLNNIXqlPw/BgKoExPmTG7ZLML4EGqLMfqHT6ON\", \"https://cdn.bokeh.org/bokeh/release/bokeh-tables-2.3.3.min.js\": \"8x57I4YuIfu8XyZfFo0XVr2WAT8EK4rh/uDe3wF7YuW2FNUSNEpJbsPaB1nJ2fz2\", \"https://cdn.bokeh.org/bokeh/release/bokeh-widgets-2.3.3.min.js\": \"3QTqdz9LyAm2i0sG5XTePsHec3UHWwVsrOL68SYRoAXsafvfAyqtQ+h440+qIBhS\"};\n",
       "\n",
       "    for (let i = 0; i < js_urls.length; i++) {\n",
       "      const url = js_urls[i];\n",
       "      const element = document.createElement('script');\n",
       "      element.onload = on_load;\n",
       "      element.onerror = on_error.bind(null, url);\n",
       "      element.async = false;\n",
       "      element.src = url;\n",
       "      if (url in hashes) {\n",
       "        element.crossOrigin = \"anonymous\";\n",
       "        element.integrity = \"sha384-\" + hashes[url];\n",
       "      }\n",
       "      console.debug(\"Bokeh: injecting script tag for BokehJS library: \", url);\n",
       "      document.head.appendChild(element);\n",
       "    }\n",
       "  };\n",
       "\n",
       "  function inject_raw_css(css) {\n",
       "    const element = document.createElement(\"style\");\n",
       "    element.appendChild(document.createTextNode(css));\n",
       "    document.body.appendChild(element);\n",
       "  }\n",
       "\n",
       "  \n",
       "  var js_urls = [\"https://cdn.bokeh.org/bokeh/release/bokeh-2.3.3.min.js\", \"https://cdn.bokeh.org/bokeh/release/bokeh-widgets-2.3.3.min.js\", \"https://cdn.bokeh.org/bokeh/release/bokeh-tables-2.3.3.min.js\"];\n",
       "  var css_urls = [];\n",
       "  \n",
       "\n",
       "  var inline_js = [\n",
       "    function(Bokeh) {\n",
       "      Bokeh.set_log_level(\"info\");\n",
       "    },\n",
       "    function(Bokeh) {\n",
       "    \n",
       "    \n",
       "    }\n",
       "  ];\n",
       "\n",
       "  function run_inline_js() {\n",
       "    \n",
       "    if (root.Bokeh !== undefined || force === true) {\n",
       "      \n",
       "    for (var i = 0; i < inline_js.length; i++) {\n",
       "      inline_js[i].call(root, root.Bokeh);\n",
       "    }\n",
       "    if (force === true) {\n",
       "        display_loaded();\n",
       "      }} else if (Date.now() < root._bokeh_timeout) {\n",
       "      setTimeout(run_inline_js, 100);\n",
       "    } else if (!root._bokeh_failed_load) {\n",
       "      console.log(\"Bokeh: BokehJS failed to load within specified timeout.\");\n",
       "      root._bokeh_failed_load = true;\n",
       "    } else if (force !== true) {\n",
       "      var cell = $(document.getElementById(\"2824\")).parents('.cell').data().cell;\n",
       "      cell.output_area.append_execute_result(NB_LOAD_WARNING)\n",
       "    }\n",
       "\n",
       "  }\n",
       "\n",
       "  if (root._bokeh_is_loading === 0) {\n",
       "    console.debug(\"Bokeh: BokehJS loaded, going straight to plotting\");\n",
       "    run_inline_js();\n",
       "  } else {\n",
       "    load_libs(css_urls, js_urls, function() {\n",
       "      console.debug(\"Bokeh: BokehJS plotting callback run at\", now());\n",
       "      run_inline_js();\n",
       "    });\n",
       "  }\n",
       "}(window));"
      ],
      "application/vnd.bokehjs_load.v0+json": "\n(function(root) {\n  function now() {\n    return new Date();\n  }\n\n  var force = true;\n\n  if (typeof root._bokeh_onload_callbacks === \"undefined\" || force === true) {\n    root._bokeh_onload_callbacks = [];\n    root._bokeh_is_loading = undefined;\n  }\n\n  \n\n  \n  if (typeof (root._bokeh_timeout) === \"undefined\" || force === true) {\n    root._bokeh_timeout = Date.now() + 5000;\n    root._bokeh_failed_load = false;\n  }\n\n  var NB_LOAD_WARNING = {'data': {'text/html':\n     \"<div style='background-color: #fdd'>\\n\"+\n     \"<p>\\n\"+\n     \"BokehJS does not appear to have successfully loaded. If loading BokehJS from CDN, this \\n\"+\n     \"may be due to a slow or bad network connection. Possible fixes:\\n\"+\n     \"</p>\\n\"+\n     \"<ul>\\n\"+\n     \"<li>re-rerun `output_notebook()` to attempt to load from CDN again, or</li>\\n\"+\n     \"<li>use INLINE resources instead, as so:</li>\\n\"+\n     \"</ul>\\n\"+\n     \"<code>\\n\"+\n     \"from bokeh.resources import INLINE\\n\"+\n     \"output_notebook(resources=INLINE)\\n\"+\n     \"</code>\\n\"+\n     \"</div>\"}};\n\n  function display_loaded() {\n    var el = document.getElementById(\"2824\");\n    if (el != null) {\n      el.textContent = \"BokehJS is loading...\";\n    }\n    if (root.Bokeh !== undefined) {\n      if (el != null) {\n        el.textContent = \"BokehJS \" + root.Bokeh.version + \" successfully loaded.\";\n      }\n    } else if (Date.now() < root._bokeh_timeout) {\n      setTimeout(display_loaded, 100)\n    }\n  }\n\n\n  function run_callbacks() {\n    try {\n      root._bokeh_onload_callbacks.forEach(function(callback) {\n        if (callback != null)\n          callback();\n      });\n    } finally {\n      delete root._bokeh_onload_callbacks\n    }\n    console.debug(\"Bokeh: all callbacks have finished\");\n  }\n\n  function load_libs(css_urls, js_urls, callback) {\n    if (css_urls == null) css_urls = [];\n    if (js_urls == null) js_urls = [];\n\n    root._bokeh_onload_callbacks.push(callback);\n    if (root._bokeh_is_loading > 0) {\n      console.debug(\"Bokeh: BokehJS is being loaded, scheduling callback at\", now());\n      return null;\n    }\n    if (js_urls == null || js_urls.length === 0) {\n      run_callbacks();\n      return null;\n    }\n    console.debug(\"Bokeh: BokehJS not loaded, scheduling load and callback at\", now());\n    root._bokeh_is_loading = css_urls.length + js_urls.length;\n\n    function on_load() {\n      root._bokeh_is_loading--;\n      if (root._bokeh_is_loading === 0) {\n        console.debug(\"Bokeh: all BokehJS libraries/stylesheets loaded\");\n        run_callbacks()\n      }\n    }\n\n    function on_error(url) {\n      console.error(\"failed to load \" + url);\n    }\n\n    for (let i = 0; i < css_urls.length; i++) {\n      const url = css_urls[i];\n      const element = document.createElement(\"link\");\n      element.onload = on_load;\n      element.onerror = on_error.bind(null, url);\n      element.rel = \"stylesheet\";\n      element.type = \"text/css\";\n      element.href = url;\n      console.debug(\"Bokeh: injecting link tag for BokehJS stylesheet: \", url);\n      document.body.appendChild(element);\n    }\n\n    const hashes = {\"https://cdn.bokeh.org/bokeh/release/bokeh-2.3.3.min.js\": \"dM3QQsP+wXdHg42wTqW85BjZQdLNNIXqlPw/BgKoExPmTG7ZLML4EGqLMfqHT6ON\", \"https://cdn.bokeh.org/bokeh/release/bokeh-tables-2.3.3.min.js\": \"8x57I4YuIfu8XyZfFo0XVr2WAT8EK4rh/uDe3wF7YuW2FNUSNEpJbsPaB1nJ2fz2\", \"https://cdn.bokeh.org/bokeh/release/bokeh-widgets-2.3.3.min.js\": \"3QTqdz9LyAm2i0sG5XTePsHec3UHWwVsrOL68SYRoAXsafvfAyqtQ+h440+qIBhS\"};\n\n    for (let i = 0; i < js_urls.length; i++) {\n      const url = js_urls[i];\n      const element = document.createElement('script');\n      element.onload = on_load;\n      element.onerror = on_error.bind(null, url);\n      element.async = false;\n      element.src = url;\n      if (url in hashes) {\n        element.crossOrigin = \"anonymous\";\n        element.integrity = \"sha384-\" + hashes[url];\n      }\n      console.debug(\"Bokeh: injecting script tag for BokehJS library: \", url);\n      document.head.appendChild(element);\n    }\n  };\n\n  function inject_raw_css(css) {\n    const element = document.createElement(\"style\");\n    element.appendChild(document.createTextNode(css));\n    document.body.appendChild(element);\n  }\n\n  \n  var js_urls = [\"https://cdn.bokeh.org/bokeh/release/bokeh-2.3.3.min.js\", \"https://cdn.bokeh.org/bokeh/release/bokeh-widgets-2.3.3.min.js\", \"https://cdn.bokeh.org/bokeh/release/bokeh-tables-2.3.3.min.js\"];\n  var css_urls = [];\n  \n\n  var inline_js = [\n    function(Bokeh) {\n      Bokeh.set_log_level(\"info\");\n    },\n    function(Bokeh) {\n    \n    \n    }\n  ];\n\n  function run_inline_js() {\n    \n    if (root.Bokeh !== undefined || force === true) {\n      \n    for (var i = 0; i < inline_js.length; i++) {\n      inline_js[i].call(root, root.Bokeh);\n    }\n    if (force === true) {\n        display_loaded();\n      }} else if (Date.now() < root._bokeh_timeout) {\n      setTimeout(run_inline_js, 100);\n    } else if (!root._bokeh_failed_load) {\n      console.log(\"Bokeh: BokehJS failed to load within specified timeout.\");\n      root._bokeh_failed_load = true;\n    } else if (force !== true) {\n      var cell = $(document.getElementById(\"2824\")).parents('.cell').data().cell;\n      cell.output_area.append_execute_result(NB_LOAD_WARNING)\n    }\n\n  }\n\n  if (root._bokeh_is_loading === 0) {\n    console.debug(\"Bokeh: BokehJS loaded, going straight to plotting\");\n    run_inline_js();\n  } else {\n    load_libs(css_urls, js_urls, function() {\n      console.debug(\"Bokeh: BokehJS plotting callback run at\", now());\n      run_inline_js();\n    });\n  }\n}(window));"
     },
     "metadata": {},
     "output_type": "display_data"
    }
   ],
   "source": [
    "import numpy as np\n",
    "import pandas as pd\n",
    "\n",
    "import torch\n",
    "import torch.nn as nn\n",
    "import torch.nn.functional as F\n",
    "from sklearn.model_selection import train_test_split\n",
    "from sklearn.metrics import roc_auc_score\n",
    "from sklearn.decomposition import PCA\n",
    "from torchvision import datasets, transforms\n",
    "\n",
    "import tensorflow as tf\n",
    "from tensorflow.keras.utils import to_categorical\n",
    "from tensorflow.keras import models\n",
    "from tensorflow.keras import layers\n",
    "from tensorflow.keras import regularizers\n",
    "\n",
    "import matplotlib.pyplot as plt\n",
    "import bokeh\n",
    "import bokeh.plotting\n",
    "from bokeh.layouts import column, row\n",
    "from bokeh.models import HoverTool,WheelZoomTool, PanTool, ResetTool\n",
    "bokeh.io.output_notebook()"
   ]
  },
  {
   "cell_type": "markdown",
   "id": "e8e1cd55-647d-40f3-976b-43ea707fe76b",
   "metadata": {},
   "source": [
    "#### Load the data, normalize, and split into a training and validation set"
   ]
  },
  {
   "cell_type": "code",
   "execution_count": 71,
   "id": "d7818641-8e3b-491f-9832-1063a59057f5",
   "metadata": {},
   "outputs": [],
   "source": [
    "def min_max_data_normalize(data_train, data_test):\n",
    "    data_min = data_train.min()\n",
    "    data_max = data_train.max()\n",
    "    normal_data_train = (data_train - data_min) / (data_max - data_min)\n",
    "    normal_data_test = (data_test - data_min) / (data_max - data_min)\n",
    "    \n",
    "    return normal_data_train, normal_data_test\n",
    "\n",
    "def data_processed():\n",
    "    '''\n",
    "    Used to read & normalize processed test and train data\n",
    "    '''\n",
    "    data_train = pd.read_csv(\"data/2022-02-06_LOANS_TRAIN.csv\")\n",
    "    data_test = pd.read_csv(\"data/2022-02-06_LOANS_TEST.csv\")\n",
    "    y_train = data_train['loan_status']\n",
    "    data_train.drop('loan_status', 1, inplace=True)\n",
    "    normal_data_train, normal_data_test = min_max_data_normalize(data_train, data_test)\n",
    "    \n",
    "    return normal_data_train, normal_data_test, y_train\n",
    "\n",
    "def to_submission(y_test_predicted_probability):\n",
    "    y_test = pd.DataFrame(y_test_predicted_probability, columns=['loan_status'])\n",
    "    y_test.to_csv('data/submission.csv', index_label='id')\n",
    "    return"
   ]
  },
  {
   "cell_type": "code",
   "execution_count": 72,
   "id": "488d73c6-febb-43c0-8760-07307fef49de",
   "metadata": {},
   "outputs": [
    {
     "name": "stderr",
     "output_type": "stream",
     "text": [
      "/var/folders/h7/dxctt03x2vjdfbhcmgymr3400000gn/T/ipykernel_10485/493885001.py:16: FutureWarning: In a future version of pandas all arguments of DataFrame.drop except for the argument 'labels' will be keyword-only\n",
      "  data_train.drop('loan_status', 1, inplace=True)\n"
     ]
    },
    {
     "name": "stdout",
     "output_type": "stream",
     "text": [
      "\n",
      "X_train shape: (132157, 29)\n",
      "y_train shape: (132157,)\n",
      "X_val shape: (65093, 29)\n",
      "y_val shape: (65093,)\n",
      "\n"
     ]
    }
   ],
   "source": [
    "X_train, X_test, y_train = data_processed()\n",
    "X_train, X_val, y_train, y_val = train_test_split(X_train, y_train, test_size=0.33, random_state=42, shuffle=True)\n",
    "\n",
    "print(f\"\"\"\n",
    "X_train shape: {X_train.shape}\n",
    "y_train shape: {y_train.shape}\n",
    "X_val shape: {X_val.shape}\n",
    "y_val shape: {y_val.shape}\n",
    "\"\"\")"
   ]
  },
  {
   "cell_type": "code",
   "execution_count": 73,
   "id": "e5870701-e9dc-4436-8aca-aa3c91108d4f",
   "metadata": {},
   "outputs": [],
   "source": [
    "# change to one hot encoding\n",
    "y_train, y_val = to_categorical(y_train), to_categorical(y_val)"
   ]
  },
  {
   "cell_type": "markdown",
   "id": "8046b22c-db1c-41c9-b84e-76bc27c33351",
   "metadata": {},
   "source": [
    "Write function to plot training history"
   ]
  },
  {
   "cell_type": "code",
   "execution_count": 11,
   "id": "02718e5a-c317-4a9a-8d41-60990fe4ea03",
   "metadata": {},
   "outputs": [],
   "source": [
    "def plot_results(history):\n",
    "    tools = [PanTool(), WheelZoomTool(), ResetTool(), HoverTool()]\n",
    "    p = bokeh.plotting.figure(title='Training and validation loss', tools=tools)\n",
    "    loss = history.history['loss']\n",
    "    val_loss = history.history['val_loss']\n",
    "    epochs = range(1, len(loss) + 1)\n",
    "    p.line(epochs, loss, color='blue', legend_label='Training loss')\n",
    "    p.line(epochs, val_loss, color='red', legend_label='Validation loss')\n",
    "    p.yaxis.axis_label = \"Loss\"\n",
    "    p.xaxis.axis_label = 'Epochs'\n",
    "    p.legend.click_policy=\"hide\"\n",
    "    p.legend.visible=False\n",
    "\n",
    "    q = bokeh.plotting.figure(title='Training and validation accuracy', tools=tools)\n",
    "    acc = history.history['accuracy']\n",
    "    val_acc = history.history['val_accuracy']\n",
    "    q.line(epochs, acc, color='blue', legend_label='training')\n",
    "    q.line(epochs, val_acc, color='red', legend_label='validation')\n",
    "    q.yaxis.axis_label = \"Accuracy\"\n",
    "    q.xaxis.axis_label = 'Epochs'\n",
    "    q.legend.click_policy=\"hide\"\n",
    "    q.legend.location=\"bottom_right\"\n",
    "    bokeh.io.show(row(p, q))"
   ]
  },
  {
   "cell_type": "markdown",
   "id": "c4dd1f9f-63a5-4a9b-8e60-c5f4b51dd6bc",
   "metadata": {},
   "source": [
    "#### Experiment 1a:"
   ]
  },
  {
   "cell_type": "code",
   "execution_count": 16,
   "id": "0b4df4dd-d256-45a5-ad9a-7f31f18a07c5",
   "metadata": {},
   "outputs": [],
   "source": [
    "network = models.Sequential()\n",
    "network.add(layers.Dense(200, activation=\"sigmoid\", input_shape=(X_train.shape[1],)))\n",
    "network.add(layers.Dropout(0.2))\n",
    "network.add(layers.Dense(50, activation=\"sigmoid\"))\n",
    "network.add(layers.Dense(2, activation=\"softmax\"))\n",
    "network.compile(loss=\"categorical_crossentropy\",\n",
    "                optimizer=\"adam\",\n",
    "                metrics=[\"accuracy\"])"
   ]
  },
  {
   "cell_type": "code",
   "execution_count": 17,
   "id": "a807b0f3-8f1c-4959-a733-2beba7da80ae",
   "metadata": {},
   "outputs": [],
   "source": [
    "history = network.fit(X_train, y_train, batch_size=16, epochs=10, validation_split=0.1, shuffle=True, verbose=False)"
   ]
  },
  {
   "cell_type": "code",
   "execution_count": 18,
   "id": "baa7526b-d3ea-45d7-b1c4-c2d3a765e23b",
   "metadata": {},
   "outputs": [
    {
     "name": "stdout",
     "output_type": "stream",
     "text": [
      "2035/2035 [==============================] - 2s 1ms/step - loss: 0.4040 - accuracy: 0.8466\n",
      "the final accuracy on the holdout set was  84.66 %\n"
     ]
    }
   ],
   "source": [
    "test_loss, test_acc = network.evaluate(X_val, y_val)\n",
    "print('the final accuracy on the holdout set was ', np.round(test_acc * 100, 2), '%')"
   ]
  },
  {
   "cell_type": "code",
   "execution_count": 19,
   "id": "1df80cf5-bc56-4f7a-99c8-6afa6d731f49",
   "metadata": {},
   "outputs": [],
   "source": [
    "y_pred = network.predict(X_val)"
   ]
  },
  {
   "cell_type": "code",
   "execution_count": 22,
   "id": "2ef46c68-27bf-479c-8229-732832473c25",
   "metadata": {},
   "outputs": [
    {
     "data": {
      "text/plain": [
       "0.6791465207494087"
      ]
     },
     "execution_count": 22,
     "metadata": {},
     "output_type": "execute_result"
    }
   ],
   "source": [
    "roc_auc_score(y_val, y_pred)"
   ]
  },
  {
   "cell_type": "code",
   "execution_count": 23,
   "id": "f170b10e-0d2d-4a11-844b-00f1b8765ce1",
   "metadata": {},
   "outputs": [
    {
     "data": {
      "text/html": [
       "\n",
       "\n",
       "\n",
       "\n",
       "\n",
       "\n",
       "  <div class=\"bk-root\" id=\"de05ed0c-072d-4458-8b5e-f78bcf9ccfb2\" data-root-id=\"1717\"></div>\n"
      ]
     },
     "metadata": {},
     "output_type": "display_data"
    },
    {
     "data": {
      "application/javascript": [
       "(function(root) {\n",
       "  function embed_document(root) {\n",
       "    \n",
       "  var docs_json = {\"8259e729-70f4-442f-b6dc-1109a09134aa\":{\"defs\":[],\"roots\":{\"references\":[{\"attributes\":{\"children\":[{\"id\":\"1603\"},{\"id\":\"1660\"}]},\"id\":\"1717\",\"type\":\"Row\"},{\"attributes\":{\"click_policy\":\"hide\",\"items\":[{\"id\":\"1699\"},{\"id\":\"1716\"}],\"location\":\"bottom_right\"},\"id\":\"1698\",\"type\":\"Legend\"},{\"attributes\":{\"data_source\":{\"id\":\"1684\"},\"glyph\":{\"id\":\"1685\"},\"hover_glyph\":null,\"muted_glyph\":null,\"nonselection_glyph\":{\"id\":\"1686\"},\"view\":{\"id\":\"1688\"}},\"id\":\"1687\",\"type\":\"GlyphRenderer\"},{\"attributes\":{\"label\":{\"value\":\"validation\"},\"renderers\":[{\"id\":\"1703\"}]},\"id\":\"1716\",\"type\":\"LegendItem\"},{\"attributes\":{},\"id\":\"1637\",\"type\":\"AllLabels\"},{\"attributes\":{},\"id\":\"1601\",\"type\":\"ResetTool\"},{\"attributes\":{},\"id\":\"1639\",\"type\":\"Selection\"},{\"attributes\":{},\"id\":\"1696\",\"type\":\"Selection\"},{\"attributes\":{\"axis\":{\"id\":\"1675\"},\"dimension\":1,\"ticker\":null},\"id\":\"1678\",\"type\":\"Grid\"},{\"attributes\":{\"data\":{\"x\":[1,2,3,4,5,6,7,8,9,10],\"y\":[0.8448092937469482,0.8448092937469482,0.8448092937469482,0.8448092937469482,0.8448092937469482,0.8448092937469482,0.8448092937469482,0.8448092937469482,0.8448092937469482,0.8448092937469482]},\"selected\":{\"id\":\"1714\"},\"selection_policy\":{\"id\":\"1715\"}},\"id\":\"1700\",\"type\":\"ColumnDataSource\"},{\"attributes\":{},\"id\":\"1619\",\"type\":\"BasicTicker\"},{\"attributes\":{\"axis_label\":\"Epochs\",\"formatter\":{\"id\":\"1636\"},\"major_label_policy\":{\"id\":\"1637\"},\"ticker\":{\"id\":\"1615\"}},\"id\":\"1614\",\"type\":\"LinearAxis\"},{\"attributes\":{\"active_multi\":null,\"tools\":[{\"id\":\"1599\"},{\"id\":\"1600\"},{\"id\":\"1601\"},{\"id\":\"1602\"}]},\"id\":\"1679\",\"type\":\"Toolbar\"},{\"attributes\":{\"data\":{\"x\":[1,2,3,4,5,6,7,8,9,10],\"y\":[0.40973177552223206,0.4050319492816925,0.40793052315711975,0.40527454018592834,0.40699687600135803,0.40484002232551575,0.4039474129676819,0.40450042486190796,0.4046338200569153,0.4060536324977875]},\"selected\":{\"id\":\"1657\"},\"selection_policy\":{\"id\":\"1658\"}},\"id\":\"1643\",\"type\":\"ColumnDataSource\"},{\"attributes\":{\"line_alpha\":0.1,\"line_color\":\"blue\",\"x\":{\"field\":\"x\"},\"y\":{\"field\":\"y\"}},\"id\":\"1686\",\"type\":\"Line\"},{\"attributes\":{},\"id\":\"1676\",\"type\":\"BasicTicker\"},{\"attributes\":{\"data\":{\"x\":[1,2,3,4,5,6,7,8,9,10],\"y\":[0.8468736410140991,0.8471006751060486,0.8470754623413086,0.8470501899719238,0.8470670580863953,0.8470754623413086,0.8470670580863953,0.8470754623413086,0.8470754623413086,0.8470670580863953]},\"selected\":{\"id\":\"1696\"},\"selection_policy\":{\"id\":\"1697\"}},\"id\":\"1684\",\"type\":\"ColumnDataSource\"},{\"attributes\":{\"source\":{\"id\":\"1684\"}},\"id\":\"1688\",\"type\":\"CDSView\"},{\"attributes\":{\"line_color\":\"red\",\"x\":{\"field\":\"x\"},\"y\":{\"field\":\"y\"}},\"id\":\"1701\",\"type\":\"Line\"},{\"attributes\":{},\"id\":\"1640\",\"type\":\"UnionRenderers\"},{\"attributes\":{\"label\":{\"value\":\"Training loss\"},\"renderers\":[{\"id\":\"1630\"}]},\"id\":\"1642\",\"type\":\"LegendItem\"},{\"attributes\":{},\"id\":\"1697\",\"type\":\"UnionRenderers\"},{\"attributes\":{\"axis\":{\"id\":\"1671\"},\"ticker\":null},\"id\":\"1674\",\"type\":\"Grid\"},{\"attributes\":{\"data\":{\"x\":[1,2,3,4,5,6,7,8,9,10],\"y\":[0.41105103492736816,0.4048842489719391,0.40389159321784973,0.40322017669677734,0.4026776850223541,0.4024546444416046,0.4020828902721405,0.402049720287323,0.4019373655319214,0.4016547203063965]},\"selected\":{\"id\":\"1639\"},\"selection_policy\":{\"id\":\"1640\"}},\"id\":\"1627\",\"type\":\"ColumnDataSource\"},{\"attributes\":{},\"id\":\"1690\",\"type\":\"BasicTickFormatter\"},{\"attributes\":{},\"id\":\"1672\",\"type\":\"BasicTicker\"},{\"attributes\":{},\"id\":\"1665\",\"type\":\"DataRange1d\"},{\"attributes\":{\"click_policy\":\"hide\",\"items\":[{\"id\":\"1642\"},{\"id\":\"1659\"}],\"visible\":false},\"id\":\"1641\",\"type\":\"Legend\"},{\"attributes\":{\"data_source\":{\"id\":\"1700\"},\"glyph\":{\"id\":\"1701\"},\"hover_glyph\":null,\"muted_glyph\":null,\"nonselection_glyph\":{\"id\":\"1702\"},\"view\":{\"id\":\"1704\"}},\"id\":\"1703\",\"type\":\"GlyphRenderer\"},{\"attributes\":{\"text\":\"Training and validation accuracy\"},\"id\":\"1661\",\"type\":\"Title\"},{\"attributes\":{},\"id\":\"1600\",\"type\":\"WheelZoomTool\"},{\"attributes\":{},\"id\":\"1714\",\"type\":\"Selection\"},{\"attributes\":{\"source\":{\"id\":\"1700\"}},\"id\":\"1704\",\"type\":\"CDSView\"},{\"attributes\":{\"text\":\"Training and validation loss\"},\"id\":\"1604\",\"type\":\"Title\"},{\"attributes\":{},\"id\":\"1636\",\"type\":\"BasicTickFormatter\"},{\"attributes\":{},\"id\":\"1693\",\"type\":\"BasicTickFormatter\"},{\"attributes\":{},\"id\":\"1657\",\"type\":\"Selection\"},{\"attributes\":{\"below\":[{\"id\":\"1614\"}],\"center\":[{\"id\":\"1617\"},{\"id\":\"1621\"},{\"id\":\"1641\"}],\"left\":[{\"id\":\"1618\"}],\"renderers\":[{\"id\":\"1630\"},{\"id\":\"1646\"}],\"title\":{\"id\":\"1604\"},\"toolbar\":{\"id\":\"1622\"},\"x_range\":{\"id\":\"1606\"},\"x_scale\":{\"id\":\"1610\"},\"y_range\":{\"id\":\"1608\"},\"y_scale\":{\"id\":\"1612\"}},\"id\":\"1603\",\"subtype\":\"Figure\",\"type\":\"Plot\"},{\"attributes\":{\"line_alpha\":0.1,\"line_color\":\"red\",\"x\":{\"field\":\"x\"},\"y\":{\"field\":\"y\"}},\"id\":\"1645\",\"type\":\"Line\"},{\"attributes\":{},\"id\":\"1694\",\"type\":\"AllLabels\"},{\"attributes\":{},\"id\":\"1715\",\"type\":\"UnionRenderers\"},{\"attributes\":{\"data_source\":{\"id\":\"1627\"},\"glyph\":{\"id\":\"1628\"},\"hover_glyph\":null,\"muted_glyph\":null,\"nonselection_glyph\":{\"id\":\"1629\"},\"view\":{\"id\":\"1631\"}},\"id\":\"1630\",\"type\":\"GlyphRenderer\"},{\"attributes\":{},\"id\":\"1610\",\"type\":\"LinearScale\"},{\"attributes\":{\"line_color\":\"blue\",\"x\":{\"field\":\"x\"},\"y\":{\"field\":\"y\"}},\"id\":\"1628\",\"type\":\"Line\"},{\"attributes\":{},\"id\":\"1633\",\"type\":\"BasicTickFormatter\"},{\"attributes\":{\"label\":{\"value\":\"training\"},\"renderers\":[{\"id\":\"1687\"}]},\"id\":\"1699\",\"type\":\"LegendItem\"},{\"attributes\":{\"line_color\":\"blue\",\"x\":{\"field\":\"x\"},\"y\":{\"field\":\"y\"}},\"id\":\"1685\",\"type\":\"Line\"},{\"attributes\":{},\"id\":\"1634\",\"type\":\"AllLabels\"},{\"attributes\":{},\"id\":\"1599\",\"type\":\"PanTool\"},{\"attributes\":{\"axis_label\":\"Epochs\",\"formatter\":{\"id\":\"1693\"},\"major_label_policy\":{\"id\":\"1694\"},\"ticker\":{\"id\":\"1672\"}},\"id\":\"1671\",\"type\":\"LinearAxis\"},{\"attributes\":{\"line_color\":\"red\",\"x\":{\"field\":\"x\"},\"y\":{\"field\":\"y\"}},\"id\":\"1644\",\"type\":\"Line\"},{\"attributes\":{},\"id\":\"1615\",\"type\":\"BasicTicker\"},{\"attributes\":{},\"id\":\"1669\",\"type\":\"LinearScale\"},{\"attributes\":{\"axis_label\":\"Accuracy\",\"formatter\":{\"id\":\"1690\"},\"major_label_policy\":{\"id\":\"1691\"},\"ticker\":{\"id\":\"1676\"}},\"id\":\"1675\",\"type\":\"LinearAxis\"},{\"attributes\":{\"callback\":null},\"id\":\"1602\",\"type\":\"HoverTool\"},{\"attributes\":{},\"id\":\"1612\",\"type\":\"LinearScale\"},{\"attributes\":{\"below\":[{\"id\":\"1671\"}],\"center\":[{\"id\":\"1674\"},{\"id\":\"1678\"},{\"id\":\"1698\"}],\"left\":[{\"id\":\"1675\"}],\"renderers\":[{\"id\":\"1687\"},{\"id\":\"1703\"}],\"title\":{\"id\":\"1661\"},\"toolbar\":{\"id\":\"1679\"},\"x_range\":{\"id\":\"1663\"},\"x_scale\":{\"id\":\"1667\"},\"y_range\":{\"id\":\"1665\"},\"y_scale\":{\"id\":\"1669\"}},\"id\":\"1660\",\"subtype\":\"Figure\",\"type\":\"Plot\"},{\"attributes\":{\"active_multi\":null,\"tools\":[{\"id\":\"1599\"},{\"id\":\"1600\"},{\"id\":\"1601\"},{\"id\":\"1602\"}]},\"id\":\"1622\",\"type\":\"Toolbar\"},{\"attributes\":{\"source\":{\"id\":\"1643\"}},\"id\":\"1647\",\"type\":\"CDSView\"},{\"attributes\":{},\"id\":\"1691\",\"type\":\"AllLabels\"},{\"attributes\":{\"source\":{\"id\":\"1627\"}},\"id\":\"1631\",\"type\":\"CDSView\"},{\"attributes\":{\"axis_label\":\"Loss\",\"formatter\":{\"id\":\"1633\"},\"major_label_policy\":{\"id\":\"1634\"},\"ticker\":{\"id\":\"1619\"}},\"id\":\"1618\",\"type\":\"LinearAxis\"},{\"attributes\":{\"label\":{\"value\":\"Validation loss\"},\"renderers\":[{\"id\":\"1646\"}]},\"id\":\"1659\",\"type\":\"LegendItem\"},{\"attributes\":{},\"id\":\"1663\",\"type\":\"DataRange1d\"},{\"attributes\":{\"axis\":{\"id\":\"1614\"},\"ticker\":null},\"id\":\"1617\",\"type\":\"Grid\"},{\"attributes\":{\"line_alpha\":0.1,\"line_color\":\"red\",\"x\":{\"field\":\"x\"},\"y\":{\"field\":\"y\"}},\"id\":\"1702\",\"type\":\"Line\"},{\"attributes\":{},\"id\":\"1658\",\"type\":\"UnionRenderers\"},{\"attributes\":{\"axis\":{\"id\":\"1618\"},\"dimension\":1,\"ticker\":null},\"id\":\"1621\",\"type\":\"Grid\"},{\"attributes\":{\"data_source\":{\"id\":\"1643\"},\"glyph\":{\"id\":\"1644\"},\"hover_glyph\":null,\"muted_glyph\":null,\"nonselection_glyph\":{\"id\":\"1645\"},\"view\":{\"id\":\"1647\"}},\"id\":\"1646\",\"type\":\"GlyphRenderer\"},{\"attributes\":{},\"id\":\"1606\",\"type\":\"DataRange1d\"},{\"attributes\":{\"line_alpha\":0.1,\"line_color\":\"blue\",\"x\":{\"field\":\"x\"},\"y\":{\"field\":\"y\"}},\"id\":\"1629\",\"type\":\"Line\"},{\"attributes\":{},\"id\":\"1608\",\"type\":\"DataRange1d\"},{\"attributes\":{},\"id\":\"1667\",\"type\":\"LinearScale\"}],\"root_ids\":[\"1717\"]},\"title\":\"Bokeh Application\",\"version\":\"2.3.3\"}};\n",
       "  var render_items = [{\"docid\":\"8259e729-70f4-442f-b6dc-1109a09134aa\",\"root_ids\":[\"1717\"],\"roots\":{\"1717\":\"de05ed0c-072d-4458-8b5e-f78bcf9ccfb2\"}}];\n",
       "  root.Bokeh.embed.embed_items_notebook(docs_json, render_items);\n",
       "\n",
       "  }\n",
       "  if (root.Bokeh !== undefined) {\n",
       "    embed_document(root);\n",
       "  } else {\n",
       "    var attempts = 0;\n",
       "    var timer = setInterval(function(root) {\n",
       "      if (root.Bokeh !== undefined) {\n",
       "        clearInterval(timer);\n",
       "        embed_document(root);\n",
       "      } else {\n",
       "        attempts++;\n",
       "        if (attempts > 100) {\n",
       "          clearInterval(timer);\n",
       "          console.log(\"Bokeh: ERROR: Unable to run BokehJS code because BokehJS library is missing\");\n",
       "        }\n",
       "      }\n",
       "    }, 10, root)\n",
       "  }\n",
       "})(window);"
      ],
      "application/vnd.bokehjs_exec.v0+json": ""
     },
     "metadata": {
      "application/vnd.bokehjs_exec.v0+json": {
       "id": "1717"
      }
     },
     "output_type": "display_data"
    }
   ],
   "source": [
    "plot_results(history)"
   ]
  },
  {
   "cell_type": "markdown",
   "id": "ac7da785-f605-4e94-a6c5-65775318836d",
   "metadata": {},
   "source": [
    "#### Experiment 2a:"
   ]
  },
  {
   "cell_type": "code",
   "execution_count": 35,
   "id": "1e514deb-41c6-4ac2-8721-07eec035d802",
   "metadata": {},
   "outputs": [],
   "source": [
    "network = models.Sequential()\n",
    "network.add(layers.Dense(300, activation=\"relu\", input_shape=(X_train.shape[1],)))\n",
    "network.add(layers.Dropout(0.2))\n",
    "network.add(layers.Dense(100, activation=\"relu\"))\n",
    "network.add(layers.Dropout(0.2))\n",
    "network.add(layers.Dense(50, activation=\"relu\"))\n",
    "network.add(layers.Dense(2, activation=\"softmax\"))\n",
    "network.compile(loss=\"categorical_crossentropy\",\n",
    "                optimizer=\"adam\",\n",
    "                metrics=[\"accuracy\"])"
   ]
  },
  {
   "cell_type": "code",
   "execution_count": 36,
   "id": "d814f811-3d9c-4565-98e9-2f02546edfed",
   "metadata": {},
   "outputs": [],
   "source": [
    "history = network.fit(X_train, y_train, batch_size=16, epochs=30, validation_split=0.1, shuffle=True, verbose=False)"
   ]
  },
  {
   "cell_type": "code",
   "execution_count": 37,
   "id": "ae92172a-2d0c-4ba6-9baa-bdc7e06aef3d",
   "metadata": {},
   "outputs": [
    {
     "name": "stdout",
     "output_type": "stream",
     "text": [
      "2035/2035 [==============================] - 3s 1ms/step - loss: 0.4022 - accuracy: 0.8466\n",
      "the final accuracy on the holdout set was  84.66 %\n"
     ]
    }
   ],
   "source": [
    "test_loss, test_acc = network.evaluate(X_val, y_val)\n",
    "print('the final accuracy on the holdout set was ', np.round(test_acc * 100, 2), '%')"
   ]
  },
  {
   "cell_type": "code",
   "execution_count": 38,
   "id": "6a932570-ec6a-4642-8c1f-d41a4e46fc21",
   "metadata": {},
   "outputs": [
    {
     "data": {
      "text/plain": [
       "0.6806843098334024"
      ]
     },
     "execution_count": 38,
     "metadata": {},
     "output_type": "execute_result"
    }
   ],
   "source": [
    "y_pred = network.predict(X_val)\n",
    "roc_auc_score(y_val, y_pred)"
   ]
  },
  {
   "cell_type": "code",
   "execution_count": 39,
   "id": "37fcbfcb-b3a9-4e96-912e-60b7579170b0",
   "metadata": {},
   "outputs": [
    {
     "data": {
      "text/html": [
       "\n",
       "\n",
       "\n",
       "\n",
       "\n",
       "\n",
       "  <div class=\"bk-root\" id=\"17c2cb49-7f12-4881-8c4b-f4755b4ba339\" data-root-id=\"2602\"></div>\n"
      ]
     },
     "metadata": {},
     "output_type": "display_data"
    },
    {
     "data": {
      "application/javascript": [
       "(function(root) {\n",
       "  function embed_document(root) {\n",
       "    \n",
       "  var docs_json = {\"34863653-a6dd-419a-bace-64113ba9fd1b\":{\"defs\":[],\"roots\":{\"references\":[{\"attributes\":{\"children\":[{\"id\":\"2488\"},{\"id\":\"2545\"}]},\"id\":\"2602\",\"type\":\"Row\"},{\"attributes\":{},\"id\":\"2518\",\"type\":\"BasicTickFormatter\"},{\"attributes\":{\"click_policy\":\"hide\",\"items\":[{\"id\":\"2584\"},{\"id\":\"2601\"}],\"location\":\"bottom_right\"},\"id\":\"2583\",\"type\":\"Legend\"},{\"attributes\":{\"data_source\":{\"id\":\"2585\"},\"glyph\":{\"id\":\"2586\"},\"hover_glyph\":null,\"muted_glyph\":null,\"nonselection_glyph\":{\"id\":\"2587\"},\"view\":{\"id\":\"2589\"}},\"id\":\"2588\",\"type\":\"GlyphRenderer\"},{\"attributes\":{},\"id\":\"2519\",\"type\":\"AllLabels\"},{\"attributes\":{\"label\":{\"value\":\"training\"},\"renderers\":[{\"id\":\"2572\"}]},\"id\":\"2584\",\"type\":\"LegendItem\"},{\"attributes\":{\"data\":{\"x\":[1,2,3,4,5,6,7,8,9,10,11,12,13,14,15,16,17,18,19,20,21,22,23,24,25,26,27,28,29,30],\"y\":[0.8448092937469482,0.8448092937469482,0.8448092937469482,0.8448092937469482,0.8448092937469482,0.8448092937469482,0.8448092937469482,0.8448092937469482,0.8448092937469482,0.8448092937469482,0.8448092937469482,0.8448092937469482,0.8448092937469482,0.8448092937469482,0.8448092937469482,0.8448092937469482,0.8448092937469482,0.8448092937469482,0.8448092937469482,0.8448092937469482,0.8448092937469482,0.8448092937469482,0.8448092937469482,0.8448092937469482,0.8448092937469482,0.8448092937469482,0.8448092937469482,0.8448092937469482,0.8448092937469482,0.8448092937469482]},\"selected\":{\"id\":\"2599\"},\"selection_policy\":{\"id\":\"2600\"}},\"id\":\"2585\",\"type\":\"ColumnDataSource\"},{\"attributes\":{\"below\":[{\"id\":\"2499\"}],\"center\":[{\"id\":\"2502\"},{\"id\":\"2506\"},{\"id\":\"2526\"}],\"left\":[{\"id\":\"2503\"}],\"renderers\":[{\"id\":\"2515\"},{\"id\":\"2531\"}],\"title\":{\"id\":\"2489\"},\"toolbar\":{\"id\":\"2507\"},\"x_range\":{\"id\":\"2491\"},\"x_scale\":{\"id\":\"2495\"},\"y_range\":{\"id\":\"2493\"},\"y_scale\":{\"id\":\"2497\"}},\"id\":\"2488\",\"subtype\":\"Figure\",\"type\":\"Plot\"},{\"attributes\":{},\"id\":\"2581\",\"type\":\"Selection\"},{\"attributes\":{\"line_color\":\"red\",\"x\":{\"field\":\"x\"},\"y\":{\"field\":\"y\"}},\"id\":\"2586\",\"type\":\"Line\"},{\"attributes\":{\"axis_label\":\"Epochs\",\"formatter\":{\"id\":\"2578\"},\"major_label_policy\":{\"id\":\"2579\"},\"ticker\":{\"id\":\"2557\"}},\"id\":\"2556\",\"type\":\"LinearAxis\"},{\"attributes\":{\"line_color\":\"blue\",\"x\":{\"field\":\"x\"},\"y\":{\"field\":\"y\"}},\"id\":\"2513\",\"type\":\"Line\"},{\"attributes\":{\"text\":\"Training and validation loss\"},\"id\":\"2489\",\"type\":\"Title\"},{\"attributes\":{\"axis_label\":\"Accuracy\",\"formatter\":{\"id\":\"2575\"},\"major_label_policy\":{\"id\":\"2576\"},\"ticker\":{\"id\":\"2561\"}},\"id\":\"2560\",\"type\":\"LinearAxis\"},{\"attributes\":{\"data\":{\"x\":[1,2,3,4,5,6,7,8,9,10,11,12,13,14,15,16,17,18,19,20,21,22,23,24,25,26,27,28,29,30],\"y\":[0.40895766019821167,0.40467125177383423,0.4038761556148529,0.40321260690689087,0.4030103087425232,0.4025975167751312,0.4024198055267334,0.40202078223228455,0.4018916189670563,0.4018564820289612,0.401597261428833,0.4015197157859802,0.4011767506599426,0.4015146791934967,0.4009910523891449,0.401193231344223,0.401128888130188,0.4011133909225464,0.4011583626270294,0.40075942873954773,0.4005998969078064,0.40069741010665894,0.4010554254055023,0.4007038474082947,0.400698184967041,0.40060606598854065,0.40059083700180054,0.4005262553691864,0.40052416920661926,0.4002429246902466]},\"selected\":{\"id\":\"2524\"},\"selection_policy\":{\"id\":\"2525\"}},\"id\":\"2512\",\"type\":\"ColumnDataSource\"},{\"attributes\":{},\"id\":\"2554\",\"type\":\"LinearScale\"},{\"attributes\":{\"line_alpha\":0.1,\"line_color\":\"red\",\"x\":{\"field\":\"x\"},\"y\":{\"field\":\"y\"}},\"id\":\"2587\",\"type\":\"Line\"},{\"attributes\":{\"source\":{\"id\":\"2585\"}},\"id\":\"2589\",\"type\":\"CDSView\"},{\"attributes\":{},\"id\":\"2550\",\"type\":\"DataRange1d\"},{\"attributes\":{},\"id\":\"2582\",\"type\":\"UnionRenderers\"},{\"attributes\":{\"axis\":{\"id\":\"2556\"},\"ticker\":null},\"id\":\"2559\",\"type\":\"Grid\"},{\"attributes\":{\"click_policy\":\"hide\",\"items\":[{\"id\":\"2527\"},{\"id\":\"2544\"}],\"visible\":false},\"id\":\"2526\",\"type\":\"Legend\"},{\"attributes\":{\"axis_label\":\"Epochs\",\"formatter\":{\"id\":\"2521\"},\"major_label_policy\":{\"id\":\"2522\"},\"ticker\":{\"id\":\"2500\"}},\"id\":\"2499\",\"type\":\"LinearAxis\"},{\"attributes\":{},\"id\":\"2521\",\"type\":\"BasicTickFormatter\"},{\"attributes\":{\"line_alpha\":0.1,\"line_color\":\"blue\",\"x\":{\"field\":\"x\"},\"y\":{\"field\":\"y\"}},\"id\":\"2514\",\"type\":\"Line\"},{\"attributes\":{},\"id\":\"2522\",\"type\":\"AllLabels\"},{\"attributes\":{\"source\":{\"id\":\"2512\"}},\"id\":\"2516\",\"type\":\"CDSView\"},{\"attributes\":{\"axis\":{\"id\":\"2560\"},\"dimension\":1,\"ticker\":null},\"id\":\"2563\",\"type\":\"Grid\"},{\"attributes\":{},\"id\":\"2561\",\"type\":\"BasicTicker\"},{\"attributes\":{\"data\":{\"x\":[1,2,3,4,5,6,7,8,9,10,11,12,13,14,15,16,17,18,19,20,21,22,23,24,25,26,27,28,29,30],\"y\":[0.8469997644424438,0.8470754623413086,0.8470754623413086,0.8470754623413086,0.8470670580863953,0.8469913601875305,0.8469661474227905,0.8470417857170105,0.8470838665962219,0.8470501899719238,0.8469661474227905,0.8470670580863953,0.8470586538314819,0.8470417857170105,0.8470754623413086,0.8470081686973572,0.8469913601875305,0.8470501899719238,0.8469913601875305,0.8469577431678772,0.8469997644424438,0.8469409346580505,0.8469661474227905,0.8470165729522705,0.8469661474227905,0.8469829559326172,0.8470670580863953,0.8470417857170105,0.8468904495239258,0.8470165729522705]},\"selected\":{\"id\":\"2581\"},\"selection_policy\":{\"id\":\"2582\"}},\"id\":\"2569\",\"type\":\"ColumnDataSource\"},{\"attributes\":{},\"id\":\"2495\",\"type\":\"LinearScale\"},{\"attributes\":{\"label\":{\"value\":\"Training loss\"},\"renderers\":[{\"id\":\"2515\"}]},\"id\":\"2527\",\"type\":\"LegendItem\"},{\"attributes\":{},\"id\":\"2485\",\"type\":\"WheelZoomTool\"},{\"attributes\":{\"axis\":{\"id\":\"2503\"},\"dimension\":1,\"ticker\":null},\"id\":\"2506\",\"type\":\"Grid\"},{\"attributes\":{\"source\":{\"id\":\"2569\"}},\"id\":\"2573\",\"type\":\"CDSView\"},{\"attributes\":{},\"id\":\"2542\",\"type\":\"Selection\"},{\"attributes\":{},\"id\":\"2575\",\"type\":\"BasicTickFormatter\"},{\"attributes\":{\"data_source\":{\"id\":\"2528\"},\"glyph\":{\"id\":\"2529\"},\"hover_glyph\":null,\"muted_glyph\":null,\"nonselection_glyph\":{\"id\":\"2530\"},\"view\":{\"id\":\"2532\"}},\"id\":\"2531\",\"type\":\"GlyphRenderer\"},{\"attributes\":{\"label\":{\"value\":\"validation\"},\"renderers\":[{\"id\":\"2588\"}]},\"id\":\"2601\",\"type\":\"LegendItem\"},{\"attributes\":{},\"id\":\"2576\",\"type\":\"AllLabels\"},{\"attributes\":{},\"id\":\"2497\",\"type\":\"LinearScale\"},{\"attributes\":{},\"id\":\"2491\",\"type\":\"DataRange1d\"},{\"attributes\":{},\"id\":\"2543\",\"type\":\"UnionRenderers\"},{\"attributes\":{\"below\":[{\"id\":\"2556\"}],\"center\":[{\"id\":\"2559\"},{\"id\":\"2563\"},{\"id\":\"2583\"}],\"left\":[{\"id\":\"2560\"}],\"renderers\":[{\"id\":\"2572\"},{\"id\":\"2588\"}],\"title\":{\"id\":\"2546\"},\"toolbar\":{\"id\":\"2564\"},\"x_range\":{\"id\":\"2548\"},\"x_scale\":{\"id\":\"2552\"},\"y_range\":{\"id\":\"2550\"},\"y_scale\":{\"id\":\"2554\"}},\"id\":\"2545\",\"subtype\":\"Figure\",\"type\":\"Plot\"},{\"attributes\":{},\"id\":\"2599\",\"type\":\"Selection\"},{\"attributes\":{},\"id\":\"2493\",\"type\":\"DataRange1d\"},{\"attributes\":{},\"id\":\"2552\",\"type\":\"LinearScale\"},{\"attributes\":{},\"id\":\"2600\",\"type\":\"UnionRenderers\"},{\"attributes\":{},\"id\":\"2524\",\"type\":\"Selection\"},{\"attributes\":{\"data\":{\"x\":[1,2,3,4,5,6,7,8,9,10,11,12,13,14,15,16,17,18,19,20,21,22,23,24,25,26,27,28,29,30],\"y\":[0.4048701226711273,0.40938159823417664,0.4049677848815918,0.4063732624053955,0.4056791663169861,0.40404319763183594,0.405401349067688,0.40367698669433594,0.4044826626777649,0.403644859790802,0.4062250554561615,0.41137030720710754,0.4033355712890625,0.40440428256988525,0.40520209074020386,0.4053964912891388,0.40426206588745117,0.4039006233215332,0.4041101038455963,0.4029226303100586,0.4039187431335449,0.4080559015274048,0.4034620523452759,0.40375885367393494,0.403868705034256,0.40412646532058716,0.40383094549179077,0.4028167724609375,0.40382373332977295,0.4044214189052582]},\"selected\":{\"id\":\"2542\"},\"selection_policy\":{\"id\":\"2543\"}},\"id\":\"2528\",\"type\":\"ColumnDataSource\"},{\"attributes\":{\"data_source\":{\"id\":\"2512\"},\"glyph\":{\"id\":\"2513\"},\"hover_glyph\":null,\"muted_glyph\":null,\"nonselection_glyph\":{\"id\":\"2514\"},\"view\":{\"id\":\"2516\"}},\"id\":\"2515\",\"type\":\"GlyphRenderer\"},{\"attributes\":{\"data_source\":{\"id\":\"2569\"},\"glyph\":{\"id\":\"2570\"},\"hover_glyph\":null,\"muted_glyph\":null,\"nonselection_glyph\":{\"id\":\"2571\"},\"view\":{\"id\":\"2573\"}},\"id\":\"2572\",\"type\":\"GlyphRenderer\"},{\"attributes\":{},\"id\":\"2548\",\"type\":\"DataRange1d\"},{\"attributes\":{\"axis\":{\"id\":\"2499\"},\"ticker\":null},\"id\":\"2502\",\"type\":\"Grid\"},{\"attributes\":{\"line_color\":\"red\",\"x\":{\"field\":\"x\"},\"y\":{\"field\":\"y\"}},\"id\":\"2529\",\"type\":\"Line\"},{\"attributes\":{},\"id\":\"2504\",\"type\":\"BasicTicker\"},{\"attributes\":{\"line_alpha\":0.1,\"line_color\":\"red\",\"x\":{\"field\":\"x\"},\"y\":{\"field\":\"y\"}},\"id\":\"2530\",\"type\":\"Line\"},{\"attributes\":{},\"id\":\"2525\",\"type\":\"UnionRenderers\"},{\"attributes\":{\"active_multi\":null,\"tools\":[{\"id\":\"2484\"},{\"id\":\"2485\"},{\"id\":\"2486\"},{\"id\":\"2487\"}]},\"id\":\"2507\",\"type\":\"Toolbar\"},{\"attributes\":{\"source\":{\"id\":\"2528\"}},\"id\":\"2532\",\"type\":\"CDSView\"},{\"attributes\":{},\"id\":\"2500\",\"type\":\"BasicTicker\"},{\"attributes\":{\"axis_label\":\"Loss\",\"formatter\":{\"id\":\"2518\"},\"major_label_policy\":{\"id\":\"2519\"},\"ticker\":{\"id\":\"2504\"}},\"id\":\"2503\",\"type\":\"LinearAxis\"},{\"attributes\":{},\"id\":\"2557\",\"type\":\"BasicTicker\"},{\"attributes\":{\"active_multi\":null,\"tools\":[{\"id\":\"2484\"},{\"id\":\"2485\"},{\"id\":\"2486\"},{\"id\":\"2487\"}]},\"id\":\"2564\",\"type\":\"Toolbar\"},{\"attributes\":{},\"id\":\"2486\",\"type\":\"ResetTool\"},{\"attributes\":{\"label\":{\"value\":\"Validation loss\"},\"renderers\":[{\"id\":\"2531\"}]},\"id\":\"2544\",\"type\":\"LegendItem\"},{\"attributes\":{\"line_color\":\"blue\",\"x\":{\"field\":\"x\"},\"y\":{\"field\":\"y\"}},\"id\":\"2570\",\"type\":\"Line\"},{\"attributes\":{},\"id\":\"2578\",\"type\":\"BasicTickFormatter\"},{\"attributes\":{\"callback\":null},\"id\":\"2487\",\"type\":\"HoverTool\"},{\"attributes\":{\"line_alpha\":0.1,\"line_color\":\"blue\",\"x\":{\"field\":\"x\"},\"y\":{\"field\":\"y\"}},\"id\":\"2571\",\"type\":\"Line\"},{\"attributes\":{},\"id\":\"2579\",\"type\":\"AllLabels\"},{\"attributes\":{},\"id\":\"2484\",\"type\":\"PanTool\"},{\"attributes\":{\"text\":\"Training and validation accuracy\"},\"id\":\"2546\",\"type\":\"Title\"}],\"root_ids\":[\"2602\"]},\"title\":\"Bokeh Application\",\"version\":\"2.3.3\"}};\n",
       "  var render_items = [{\"docid\":\"34863653-a6dd-419a-bace-64113ba9fd1b\",\"root_ids\":[\"2602\"],\"roots\":{\"2602\":\"17c2cb49-7f12-4881-8c4b-f4755b4ba339\"}}];\n",
       "  root.Bokeh.embed.embed_items_notebook(docs_json, render_items);\n",
       "\n",
       "  }\n",
       "  if (root.Bokeh !== undefined) {\n",
       "    embed_document(root);\n",
       "  } else {\n",
       "    var attempts = 0;\n",
       "    var timer = setInterval(function(root) {\n",
       "      if (root.Bokeh !== undefined) {\n",
       "        clearInterval(timer);\n",
       "        embed_document(root);\n",
       "      } else {\n",
       "        attempts++;\n",
       "        if (attempts > 100) {\n",
       "          clearInterval(timer);\n",
       "          console.log(\"Bokeh: ERROR: Unable to run BokehJS code because BokehJS library is missing\");\n",
       "        }\n",
       "      }\n",
       "    }, 10, root)\n",
       "  }\n",
       "})(window);"
      ],
      "application/vnd.bokehjs_exec.v0+json": ""
     },
     "metadata": {
      "application/vnd.bokehjs_exec.v0+json": {
       "id": "2602"
      }
     },
     "output_type": "display_data"
    }
   ],
   "source": [
    "plot_results(history)"
   ]
  },
  {
   "cell_type": "markdown",
   "id": "1b9f0075-f5dd-433c-b508-6c6be363eec4",
   "metadata": {},
   "source": [
    "### Experiment 3a:"
   ]
  },
  {
   "cell_type": "code",
   "execution_count": 74,
   "id": "ac8173ad-1fa1-4381-91a0-048dbbcb5b26",
   "metadata": {},
   "outputs": [],
   "source": [
    "network = models.Sequential()\n",
    "network.add(layers.Dense(400, activation=\"relu\", input_shape=(X_train.shape[1],)))\n",
    "network.add(layers.Dropout(0.4))\n",
    "network.add(layers.Dense(200, activation=\"relu\"))\n",
    "network.add(layers.Dropout(0.2))\n",
    "network.add(layers.Dense(100, activation=\"relu\"))\n",
    "network.add(layers.Dense(10, activation=\"relu\"))\n",
    "network.add(layers.Dense(2, activation=\"softmax\"))\n",
    "network.compile(loss=\"categorical_crossentropy\",\n",
    "                optimizer=\"adam\",\n",
    "                metrics=[\"accuracy\"])"
   ]
  },
  {
   "cell_type": "code",
   "execution_count": 75,
   "id": "7889d19a-635f-44a9-bba1-6f748bcdf0a5",
   "metadata": {},
   "outputs": [],
   "source": [
    "history = network.fit(X_train, y_train, batch_size=16, epochs=20, validation_split=0.1, shuffle=True, verbose=False)"
   ]
  },
  {
   "cell_type": "code",
   "execution_count": 76,
   "id": "824c5cc6-e1be-4bfa-8de3-642aa528ad9a",
   "metadata": {},
   "outputs": [
    {
     "name": "stdout",
     "output_type": "stream",
     "text": [
      "2035/2035 [==============================] - 3s 1ms/step - loss: 0.4018 - accuracy: 0.8466\n",
      "the final accuracy on the holdout set was  84.66 %\n"
     ]
    }
   ],
   "source": [
    "test_loss, test_acc = network.evaluate(X_val, y_val)\n",
    "print('the final accuracy on the holdout set was ', np.round(test_acc * 100, 2), '%')"
   ]
  },
  {
   "cell_type": "code",
   "execution_count": 77,
   "id": "841e5189-bc3e-434e-b349-07c9b28fa93b",
   "metadata": {},
   "outputs": [
    {
     "data": {
      "text/plain": [
       "0.680913944700968"
      ]
     },
     "execution_count": 77,
     "metadata": {},
     "output_type": "execute_result"
    }
   ],
   "source": [
    "y_pred = network.predict(X_val)\n",
    "roc_auc_score(y_val, y_pred)"
   ]
  },
  {
   "cell_type": "code",
   "execution_count": 78,
   "id": "25e5c806-3fb4-4fda-8198-db7aa7c27d60",
   "metadata": {},
   "outputs": [
    {
     "data": {
      "text/html": [
       "\n",
       "\n",
       "\n",
       "\n",
       "\n",
       "\n",
       "  <div class=\"bk-root\" id=\"68df7667-d067-474b-be09-f53a4e9bd64a\" data-root-id=\"4092\"></div>\n"
      ]
     },
     "metadata": {},
     "output_type": "display_data"
    },
    {
     "data": {
      "application/javascript": [
       "(function(root) {\n",
       "  function embed_document(root) {\n",
       "    \n",
       "  var docs_json = {\"f659ee61-1bdd-4c01-821b-fb1db9627e54\":{\"defs\":[],\"roots\":{\"references\":[{\"attributes\":{\"children\":[{\"id\":\"3978\"},{\"id\":\"4035\"}]},\"id\":\"4092\",\"type\":\"Row\"},{\"attributes\":{\"click_policy\":\"hide\",\"items\":[{\"id\":\"4017\"},{\"id\":\"4034\"}],\"visible\":false},\"id\":\"4016\",\"type\":\"Legend\"},{\"attributes\":{\"line_color\":\"blue\",\"x\":{\"field\":\"x\"},\"y\":{\"field\":\"y\"}},\"id\":\"4003\",\"type\":\"Line\"},{\"attributes\":{},\"id\":\"3994\",\"type\":\"BasicTicker\"},{\"attributes\":{\"axis_label\":\"Accuracy\",\"formatter\":{\"id\":\"4065\"},\"major_label_policy\":{\"id\":\"4066\"},\"ticker\":{\"id\":\"4051\"}},\"id\":\"4050\",\"type\":\"LinearAxis\"},{\"attributes\":{\"label\":{\"value\":\"Training loss\"},\"renderers\":[{\"id\":\"4005\"}]},\"id\":\"4017\",\"type\":\"LegendItem\"},{\"attributes\":{\"data_source\":{\"id\":\"4059\"},\"glyph\":{\"id\":\"4060\"},\"hover_glyph\":null,\"muted_glyph\":null,\"nonselection_glyph\":{\"id\":\"4061\"},\"view\":{\"id\":\"4063\"}},\"id\":\"4062\",\"type\":\"GlyphRenderer\"},{\"attributes\":{\"axis_label\":\"Epochs\",\"formatter\":{\"id\":\"4068\"},\"major_label_policy\":{\"id\":\"4069\"},\"ticker\":{\"id\":\"4047\"}},\"id\":\"4046\",\"type\":\"LinearAxis\"},{\"attributes\":{\"line_color\":\"red\",\"x\":{\"field\":\"x\"},\"y\":{\"field\":\"y\"}},\"id\":\"4076\",\"type\":\"Line\"},{\"attributes\":{\"data\":{\"x\":[1,2,3,4,5,6,7,8,9,10,11,12,13,14,15,16,17,18,19,20],\"y\":[0.4097578823566437,0.40498775243759155,0.40416622161865234,0.4036827087402344,0.4032885730266571,0.4030740559101105,0.4025745987892151,0.4025459885597229,0.4024273753166199,0.40222856402397156,0.4022273123264313,0.4020214378833771,0.4018324613571167,0.40188905596733093,0.40167179703712463,0.4018830358982086,0.4020468592643738,0.4016629755496979,0.4017091691493988,0.4015837013721466]},\"selected\":{\"id\":\"4014\"},\"selection_policy\":{\"id\":\"4015\"}},\"id\":\"4002\",\"type\":\"ColumnDataSource\"},{\"attributes\":{},\"id\":\"4012\",\"type\":\"AllLabels\"},{\"attributes\":{\"data\":{\"x\":[1,2,3,4,5,6,7,8,9,10,11,12,13,14,15,16,17,18,19,20],\"y\":[0.8448092937469482,0.8448092937469482,0.8448092937469482,0.8448092937469482,0.8448092937469482,0.8448092937469482,0.8448092937469482,0.8448092937469482,0.8448092937469482,0.8448092937469482,0.8448092937469482,0.8448092937469482,0.8448092937469482,0.8448092937469482,0.8448092937469482,0.8448092937469482,0.8448092937469482,0.8448092937469482,0.8448092937469482,0.8448092937469482]},\"selected\":{\"id\":\"4089\"},\"selection_policy\":{\"id\":\"4090\"}},\"id\":\"4075\",\"type\":\"ColumnDataSource\"},{\"attributes\":{\"callback\":null},\"id\":\"3977\",\"type\":\"HoverTool\"},{\"attributes\":{\"data_source\":{\"id\":\"4018\"},\"glyph\":{\"id\":\"4019\"},\"hover_glyph\":null,\"muted_glyph\":null,\"nonselection_glyph\":{\"id\":\"4020\"},\"view\":{\"id\":\"4022\"}},\"id\":\"4021\",\"type\":\"GlyphRenderer\"},{\"attributes\":{\"data\":{\"x\":[1,2,3,4,5,6,7,8,9,10,11,12,13,14,15,16,17,18,19,20],\"y\":[0.8470249772071838,0.8470501899719238,0.8470922708511353,0.8470333814620972,0.8470670580863953,0.8470333814620972,0.8470922708511353,0.8469493389129639,0.8469745516777039,0.8469913601875305,0.8470081686973572,0.8470501899719238,0.8470333814620972,0.8469073176383972,0.8469745516777039,0.8469073176383972,0.8470670580863953,0.8470670580863953,0.8469997644424438,0.8470249772071838]},\"selected\":{\"id\":\"4071\"},\"selection_policy\":{\"id\":\"4072\"}},\"id\":\"4059\",\"type\":\"ColumnDataSource\"},{\"attributes\":{},\"id\":\"4014\",\"type\":\"Selection\"},{\"attributes\":{\"data_source\":{\"id\":\"4075\"},\"glyph\":{\"id\":\"4076\"},\"hover_glyph\":null,\"muted_glyph\":null,\"nonselection_glyph\":{\"id\":\"4077\"},\"view\":{\"id\":\"4079\"}},\"id\":\"4078\",\"type\":\"GlyphRenderer\"},{\"attributes\":{},\"id\":\"4009\",\"type\":\"AllLabels\"},{\"attributes\":{\"line_alpha\":0.1,\"line_color\":\"red\",\"x\":{\"field\":\"x\"},\"y\":{\"field\":\"y\"}},\"id\":\"4077\",\"type\":\"Line\"},{\"attributes\":{},\"id\":\"4068\",\"type\":\"BasicTickFormatter\"},{\"attributes\":{},\"id\":\"3985\",\"type\":\"LinearScale\"},{\"attributes\":{\"below\":[{\"id\":\"3989\"}],\"center\":[{\"id\":\"3992\"},{\"id\":\"3996\"},{\"id\":\"4016\"}],\"left\":[{\"id\":\"3993\"}],\"renderers\":[{\"id\":\"4005\"},{\"id\":\"4021\"}],\"title\":{\"id\":\"3979\"},\"toolbar\":{\"id\":\"3997\"},\"x_range\":{\"id\":\"3981\"},\"x_scale\":{\"id\":\"3985\"},\"y_range\":{\"id\":\"3983\"},\"y_scale\":{\"id\":\"3987\"}},\"id\":\"3978\",\"subtype\":\"Figure\",\"type\":\"Plot\"},{\"attributes\":{\"source\":{\"id\":\"4075\"}},\"id\":\"4079\",\"type\":\"CDSView\"},{\"attributes\":{\"axis_label\":\"Loss\",\"formatter\":{\"id\":\"4008\"},\"major_label_policy\":{\"id\":\"4009\"},\"ticker\":{\"id\":\"3994\"}},\"id\":\"3993\",\"type\":\"LinearAxis\"},{\"attributes\":{\"active_multi\":null,\"tools\":[{\"id\":\"3974\"},{\"id\":\"3975\"},{\"id\":\"3976\"},{\"id\":\"3977\"}]},\"id\":\"3997\",\"type\":\"Toolbar\"},{\"attributes\":{},\"id\":\"4051\",\"type\":\"BasicTicker\"},{\"attributes\":{\"axis_label\":\"Epochs\",\"formatter\":{\"id\":\"4011\"},\"major_label_policy\":{\"id\":\"4012\"},\"ticker\":{\"id\":\"3990\"}},\"id\":\"3989\",\"type\":\"LinearAxis\"},{\"attributes\":{},\"id\":\"4008\",\"type\":\"BasicTickFormatter\"},{\"attributes\":{},\"id\":\"4072\",\"type\":\"UnionRenderers\"},{\"attributes\":{\"label\":{\"value\":\"validation\"},\"renderers\":[{\"id\":\"4078\"}]},\"id\":\"4091\",\"type\":\"LegendItem\"},{\"attributes\":{},\"id\":\"4071\",\"type\":\"Selection\"},{\"attributes\":{\"data_source\":{\"id\":\"4002\"},\"glyph\":{\"id\":\"4003\"},\"hover_glyph\":null,\"muted_glyph\":null,\"nonselection_glyph\":{\"id\":\"4004\"},\"view\":{\"id\":\"4006\"}},\"id\":\"4005\",\"type\":\"GlyphRenderer\"},{\"attributes\":{\"label\":{\"value\":\"Validation loss\"},\"renderers\":[{\"id\":\"4021\"}]},\"id\":\"4034\",\"type\":\"LegendItem\"},{\"attributes\":{},\"id\":\"4065\",\"type\":\"BasicTickFormatter\"},{\"attributes\":{\"axis\":{\"id\":\"3989\"},\"ticker\":null},\"id\":\"3992\",\"type\":\"Grid\"},{\"attributes\":{\"line_alpha\":0.1,\"line_color\":\"blue\",\"x\":{\"field\":\"x\"},\"y\":{\"field\":\"y\"}},\"id\":\"4061\",\"type\":\"Line\"},{\"attributes\":{},\"id\":\"4011\",\"type\":\"BasicTickFormatter\"},{\"attributes\":{\"axis\":{\"id\":\"3993\"},\"dimension\":1,\"ticker\":null},\"id\":\"3996\",\"type\":\"Grid\"},{\"attributes\":{\"data\":{\"x\":[1,2,3,4,5,6,7,8,9,10,11,12,13,14,15,16,17,18,19,20],\"y\":[0.4057326912879944,0.41001224517822266,0.405254602432251,0.4090397357940674,0.4037160873413086,0.4040837585926056,0.4054155945777893,0.40460139513015747,0.4052790403366089,0.40352439880371094,0.40369221568107605,0.4034976661205292,0.4037100672721863,0.4034391939640045,0.40321335196495056,0.4034455716609955,0.40546461939811707,0.4038970470428467,0.4039824903011322,0.4031807780265808]},\"selected\":{\"id\":\"4032\"},\"selection_policy\":{\"id\":\"4033\"}},\"id\":\"4018\",\"type\":\"ColumnDataSource\"},{\"attributes\":{},\"id\":\"3983\",\"type\":\"DataRange1d\"},{\"attributes\":{\"source\":{\"id\":\"4059\"}},\"id\":\"4063\",\"type\":\"CDSView\"},{\"attributes\":{},\"id\":\"4066\",\"type\":\"AllLabels\"},{\"attributes\":{\"active_multi\":null,\"tools\":[{\"id\":\"3974\"},{\"id\":\"3975\"},{\"id\":\"3976\"},{\"id\":\"3977\"}]},\"id\":\"4054\",\"type\":\"Toolbar\"},{\"attributes\":{\"click_policy\":\"hide\",\"items\":[{\"id\":\"4074\"},{\"id\":\"4091\"}],\"location\":\"bottom_right\"},\"id\":\"4073\",\"type\":\"Legend\"},{\"attributes\":{},\"id\":\"3974\",\"type\":\"PanTool\"},{\"attributes\":{\"below\":[{\"id\":\"4046\"}],\"center\":[{\"id\":\"4049\"},{\"id\":\"4053\"},{\"id\":\"4073\"}],\"left\":[{\"id\":\"4050\"}],\"renderers\":[{\"id\":\"4062\"},{\"id\":\"4078\"}],\"title\":{\"id\":\"4036\"},\"toolbar\":{\"id\":\"4054\"},\"x_range\":{\"id\":\"4038\"},\"x_scale\":{\"id\":\"4042\"},\"y_range\":{\"id\":\"4040\"},\"y_scale\":{\"id\":\"4044\"}},\"id\":\"4035\",\"subtype\":\"Figure\",\"type\":\"Plot\"},{\"attributes\":{},\"id\":\"3976\",\"type\":\"ResetTool\"},{\"attributes\":{\"text\":\"Training and validation accuracy\"},\"id\":\"4036\",\"type\":\"Title\"},{\"attributes\":{},\"id\":\"4069\",\"type\":\"AllLabels\"},{\"attributes\":{},\"id\":\"4040\",\"type\":\"DataRange1d\"},{\"attributes\":{\"source\":{\"id\":\"4002\"}},\"id\":\"4006\",\"type\":\"CDSView\"},{\"attributes\":{},\"id\":\"3975\",\"type\":\"WheelZoomTool\"},{\"attributes\":{},\"id\":\"4038\",\"type\":\"DataRange1d\"},{\"attributes\":{},\"id\":\"4044\",\"type\":\"LinearScale\"},{\"attributes\":{\"label\":{\"value\":\"training\"},\"renderers\":[{\"id\":\"4062\"}]},\"id\":\"4074\",\"type\":\"LegendItem\"},{\"attributes\":{\"source\":{\"id\":\"4018\"}},\"id\":\"4022\",\"type\":\"CDSView\"},{\"attributes\":{},\"id\":\"3987\",\"type\":\"LinearScale\"},{\"attributes\":{\"line_alpha\":0.1,\"line_color\":\"red\",\"x\":{\"field\":\"x\"},\"y\":{\"field\":\"y\"}},\"id\":\"4020\",\"type\":\"Line\"},{\"attributes\":{},\"id\":\"4089\",\"type\":\"Selection\"},{\"attributes\":{},\"id\":\"4033\",\"type\":\"UnionRenderers\"},{\"attributes\":{},\"id\":\"4042\",\"type\":\"LinearScale\"},{\"attributes\":{},\"id\":\"4032\",\"type\":\"Selection\"},{\"attributes\":{},\"id\":\"4090\",\"type\":\"UnionRenderers\"},{\"attributes\":{\"axis\":{\"id\":\"4050\"},\"dimension\":1,\"ticker\":null},\"id\":\"4053\",\"type\":\"Grid\"},{\"attributes\":{\"line_color\":\"red\",\"x\":{\"field\":\"x\"},\"y\":{\"field\":\"y\"}},\"id\":\"4019\",\"type\":\"Line\"},{\"attributes\":{\"line_color\":\"blue\",\"x\":{\"field\":\"x\"},\"y\":{\"field\":\"y\"}},\"id\":\"4060\",\"type\":\"Line\"},{\"attributes\":{\"line_alpha\":0.1,\"line_color\":\"blue\",\"x\":{\"field\":\"x\"},\"y\":{\"field\":\"y\"}},\"id\":\"4004\",\"type\":\"Line\"},{\"attributes\":{},\"id\":\"4047\",\"type\":\"BasicTicker\"},{\"attributes\":{},\"id\":\"4015\",\"type\":\"UnionRenderers\"},{\"attributes\":{},\"id\":\"3981\",\"type\":\"DataRange1d\"},{\"attributes\":{\"text\":\"Training and validation loss\"},\"id\":\"3979\",\"type\":\"Title\"},{\"attributes\":{},\"id\":\"3990\",\"type\":\"BasicTicker\"},{\"attributes\":{\"axis\":{\"id\":\"4046\"},\"ticker\":null},\"id\":\"4049\",\"type\":\"Grid\"}],\"root_ids\":[\"4092\"]},\"title\":\"Bokeh Application\",\"version\":\"2.3.3\"}};\n",
       "  var render_items = [{\"docid\":\"f659ee61-1bdd-4c01-821b-fb1db9627e54\",\"root_ids\":[\"4092\"],\"roots\":{\"4092\":\"68df7667-d067-474b-be09-f53a4e9bd64a\"}}];\n",
       "  root.Bokeh.embed.embed_items_notebook(docs_json, render_items);\n",
       "\n",
       "  }\n",
       "  if (root.Bokeh !== undefined) {\n",
       "    embed_document(root);\n",
       "  } else {\n",
       "    var attempts = 0;\n",
       "    var timer = setInterval(function(root) {\n",
       "      if (root.Bokeh !== undefined) {\n",
       "        clearInterval(timer);\n",
       "        embed_document(root);\n",
       "      } else {\n",
       "        attempts++;\n",
       "        if (attempts > 100) {\n",
       "          clearInterval(timer);\n",
       "          console.log(\"Bokeh: ERROR: Unable to run BokehJS code because BokehJS library is missing\");\n",
       "        }\n",
       "      }\n",
       "    }, 10, root)\n",
       "  }\n",
       "})(window);"
      ],
      "application/vnd.bokehjs_exec.v0+json": ""
     },
     "metadata": {
      "application/vnd.bokehjs_exec.v0+json": {
       "id": "4092"
      }
     },
     "output_type": "display_data"
    }
   ],
   "source": [
    "plot_results(history)"
   ]
  },
  {
   "cell_type": "markdown",
   "id": "668852a9-2354-4442-94ad-c7db5984abe1",
   "metadata": {},
   "source": [
    "## Implement PCA upstream of neural networks"
   ]
  },
  {
   "cell_type": "markdown",
   "id": "530e1894-32f2-41e0-bbee-bef377a2456a",
   "metadata": {},
   "source": [
    "Plot the cumulative variance versus the number of components to get information about the explained variance"
   ]
  },
  {
   "cell_type": "code",
   "execution_count": 79,
   "id": "409916ec-84e7-46f6-973b-c8636ef8a1d1",
   "metadata": {},
   "outputs": [
    {
     "data": {
      "image/png": "[encoded data removed]",
      "text/plain": [
       "<Figure size 1080x432 with 1 Axes>"
      ]
     },
     "metadata": {
      "needs_background": "light"
     },
     "output_type": "display_data"
    }
   ],
   "source": [
    "pca = PCA().fit(X_train)\n",
    "\n",
    "plt.rcParams[\"figure.figsize\"] = (15,6)\n",
    "\n",
    "fig, ax = plt.subplots()\n",
    "xi = np.arange(1, 30, step=1)\n",
    "y = np.cumsum(pca.explained_variance_ratio_)\n",
    "\n",
    "plt.ylim(0.0,1.1)\n",
    "plt.plot(xi, y, marker='o', linestyle='--', color='b')\n",
    "\n",
    "plt.xlabel('Number of Components')\n",
    "plt.xticks(np.arange(0, 30, step=1)) \n",
    "plt.ylabel('Cumulative variance (%)')\n",
    "plt.title('The number of components needed to explain variance')\n",
    "\n",
    "plt.axhline(y=0.95, color='r', linestyle='-')\n",
    "plt.text(0.5, 0.85, '95% cut-off threshold', color = 'red', fontsize=16)\n",
    "\n",
    "ax.grid(axis='x')\n",
    "plt.show()"
   ]
  },
  {
   "cell_type": "markdown",
   "id": "8faa89b4-ef45-437f-8b51-eba9a8aaa871",
   "metadata": {},
   "source": [
    "#### We want to select a number of components that captures 95% explained variance. We don't need to infer from the above graph what that value would be - the sklearn implementation allows you to define the desired explained variance using the `n_components` argument for the PCA function."
   ]
  },
  {
   "cell_type": "code",
   "execution_count": 80,
   "id": "fac21bd8-5b2a-4949-adb6-b4352410f77a",
   "metadata": {},
   "outputs": [],
   "source": [
    "pca = PCA(n_components = 0.95)\n",
    "pca.fit(X_train)\n",
    "X_train = pca.transform(X_train)"
   ]
  },
  {
   "cell_type": "markdown",
   "id": "705252f3-f603-489c-a823-95ce18ae52ea",
   "metadata": {},
   "source": [
    "Apply the same transform to the test data"
   ]
  },
  {
   "cell_type": "code",
   "execution_count": 81,
   "id": "b4f274aa-5c98-40d6-b200-da7a655a4f1b",
   "metadata": {},
   "outputs": [],
   "source": [
    "X_val = pca.transform(X_val)"
   ]
  },
  {
   "cell_type": "markdown",
   "id": "f6fff75a-10c0-4e14-a13c-58c82bcbab6a",
   "metadata": {},
   "source": [
    "#### Now, repeat the experiments with the PCA transformed data"
   ]
  },
  {
   "cell_type": "markdown",
   "id": "993cea67-442f-454b-855c-7fc9863ca026",
   "metadata": {},
   "source": [
    "#### Experiment 1b:"
   ]
  },
  {
   "cell_type": "code",
   "execution_count": 54,
   "id": "cf16e9dc-1907-4330-8e0b-be991614a6ec",
   "metadata": {},
   "outputs": [],
   "source": [
    "network = models.Sequential()\n",
    "network.add(layers.Dense(200, activation=\"sigmoid\", input_shape=(X_train.shape[1],)))\n",
    "network.add(layers.Dropout(0.2))\n",
    "network.add(layers.Dense(50, activation=\"sigmoid\"))\n",
    "network.add(layers.Dense(2, activation=\"softmax\"))\n",
    "network.compile(loss=\"categorical_crossentropy\",\n",
    "                optimizer=\"adam\",\n",
    "                metrics=[\"accuracy\"])"
   ]
  },
  {
   "cell_type": "code",
   "execution_count": 55,
   "id": "9aafb5d3-6972-4027-945c-d8d821d432d6",
   "metadata": {},
   "outputs": [],
   "source": [
    "history = network.fit(X_train, y_train, batch_size=16, epochs=10, validation_split=0.1, shuffle=True, verbose=False)"
   ]
  },
  {
   "cell_type": "code",
   "execution_count": 56,
   "id": "fd080f2c-7799-4424-8b4f-93c3c5c582f7",
   "metadata": {},
   "outputs": [
    {
     "name": "stdout",
     "output_type": "stream",
     "text": [
      "2035/2035 [==============================] - 3s 2ms/step - loss: 0.4062 - accuracy: 0.8466\n",
      "the final accuracy on the holdout set was  84.66 %\n"
     ]
    }
   ],
   "source": [
    "test_loss, test_acc = network.evaluate(X_val, y_val)\n",
    "print('the final accuracy on the holdout set was ', np.round(test_acc * 100, 2), '%')"
   ]
  },
  {
   "cell_type": "code",
   "execution_count": 57,
   "id": "fbbf3bfb-2473-44ba-8de7-bcf4d7cadb72",
   "metadata": {},
   "outputs": [
    {
     "data": {
      "text/plain": [
       "0.6651458720568526"
      ]
     },
     "execution_count": 57,
     "metadata": {},
     "output_type": "execute_result"
    }
   ],
   "source": [
    "y_pred = network.predict(X_val)\n",
    "roc_auc_score(y_val, y_pred)"
   ]
  },
  {
   "cell_type": "code",
   "execution_count": 58,
   "id": "8d8acde2-4244-4d59-ba88-a39ba0166fe3",
   "metadata": {},
   "outputs": [
    {
     "data": {
      "text/html": [
       "\n",
       "\n",
       "\n",
       "\n",
       "\n",
       "\n",
       "  <div class=\"bk-root\" id=\"6841841a-3c6a-4025-a793-0c96186c6d9d\" data-root-id=\"2943\"></div>\n"
      ]
     },
     "metadata": {},
     "output_type": "display_data"
    },
    {
     "data": {
      "application/javascript": [
       "(function(root) {\n",
       "  function embed_document(root) {\n",
       "    \n",
       "  var docs_json = {\"e37792df-6d0b-424b-9671-5d2bf0d5fdb9\":{\"defs\":[],\"roots\":{\"references\":[{\"attributes\":{\"children\":[{\"id\":\"2829\"},{\"id\":\"2886\"}]},\"id\":\"2943\",\"type\":\"Row\"},{\"attributes\":{\"line_alpha\":0.1,\"line_color\":\"red\",\"x\":{\"field\":\"x\"},\"y\":{\"field\":\"y\"}},\"id\":\"2871\",\"type\":\"Line\"},{\"attributes\":{\"data_source\":{\"id\":\"2853\"},\"glyph\":{\"id\":\"2854\"},\"hover_glyph\":null,\"muted_glyph\":null,\"nonselection_glyph\":{\"id\":\"2855\"},\"view\":{\"id\":\"2857\"}},\"id\":\"2856\",\"type\":\"GlyphRenderer\"},{\"attributes\":{},\"id\":\"2916\",\"type\":\"BasicTickFormatter\"},{\"attributes\":{},\"id\":\"2889\",\"type\":\"DataRange1d\"},{\"attributes\":{\"source\":{\"id\":\"2869\"}},\"id\":\"2873\",\"type\":\"CDSView\"},{\"attributes\":{\"text\":\"Training and validation loss\"},\"id\":\"2830\",\"type\":\"Title\"},{\"attributes\":{},\"id\":\"2891\",\"type\":\"DataRange1d\"},{\"attributes\":{\"data_source\":{\"id\":\"2910\"},\"glyph\":{\"id\":\"2911\"},\"hover_glyph\":null,\"muted_glyph\":null,\"nonselection_glyph\":{\"id\":\"2912\"},\"view\":{\"id\":\"2914\"}},\"id\":\"2913\",\"type\":\"GlyphRenderer\"},{\"attributes\":{},\"id\":\"2825\",\"type\":\"PanTool\"},{\"attributes\":{\"label\":{\"value\":\"validation\"},\"renderers\":[{\"id\":\"2929\"}]},\"id\":\"2942\",\"type\":\"LegendItem\"},{\"attributes\":{\"axis_label\":\"Accuracy\",\"formatter\":{\"id\":\"2916\"},\"major_label_policy\":{\"id\":\"2917\"},\"ticker\":{\"id\":\"2902\"}},\"id\":\"2901\",\"type\":\"LinearAxis\"},{\"attributes\":{},\"id\":\"2919\",\"type\":\"BasicTickFormatter\"},{\"attributes\":{\"text\":\"Training and validation accuracy\"},\"id\":\"2887\",\"type\":\"Title\"},{\"attributes\":{},\"id\":\"2862\",\"type\":\"BasicTickFormatter\"},{\"attributes\":{},\"id\":\"2893\",\"type\":\"LinearScale\"},{\"attributes\":{},\"id\":\"2863\",\"type\":\"AllLabels\"},{\"attributes\":{},\"id\":\"2898\",\"type\":\"BasicTicker\"},{\"attributes\":{\"axis\":{\"id\":\"2897\"},\"ticker\":null},\"id\":\"2900\",\"type\":\"Grid\"},{\"attributes\":{},\"id\":\"2895\",\"type\":\"LinearScale\"},{\"attributes\":{\"line_color\":\"blue\",\"x\":{\"field\":\"x\"},\"y\":{\"field\":\"y\"}},\"id\":\"2911\",\"type\":\"Line\"},{\"attributes\":{\"axis_label\":\"Epochs\",\"formatter\":{\"id\":\"2919\"},\"major_label_policy\":{\"id\":\"2920\"},\"ticker\":{\"id\":\"2898\"}},\"id\":\"2897\",\"type\":\"LinearAxis\"},{\"attributes\":{\"below\":[{\"id\":\"2840\"}],\"center\":[{\"id\":\"2843\"},{\"id\":\"2847\"},{\"id\":\"2867\"}],\"left\":[{\"id\":\"2844\"}],\"renderers\":[{\"id\":\"2856\"},{\"id\":\"2872\"}],\"title\":{\"id\":\"2830\"},\"toolbar\":{\"id\":\"2848\"},\"x_range\":{\"id\":\"2832\"},\"x_scale\":{\"id\":\"2836\"},\"y_range\":{\"id\":\"2834\"},\"y_scale\":{\"id\":\"2838\"}},\"id\":\"2829\",\"subtype\":\"Figure\",\"type\":\"Plot\"},{\"attributes\":{},\"id\":\"2827\",\"type\":\"ResetTool\"},{\"attributes\":{\"axis\":{\"id\":\"2901\"},\"dimension\":1,\"ticker\":null},\"id\":\"2904\",\"type\":\"Grid\"},{\"attributes\":{\"callback\":null},\"id\":\"2828\",\"type\":\"HoverTool\"},{\"attributes\":{},\"id\":\"2917\",\"type\":\"AllLabels\"},{\"attributes\":{},\"id\":\"2832\",\"type\":\"DataRange1d\"},{\"attributes\":{\"line_color\":\"blue\",\"x\":{\"field\":\"x\"},\"y\":{\"field\":\"y\"}},\"id\":\"2854\",\"type\":\"Line\"},{\"attributes\":{},\"id\":\"2834\",\"type\":\"DataRange1d\"},{\"attributes\":{\"label\":{\"value\":\"training\"},\"renderers\":[{\"id\":\"2913\"}]},\"id\":\"2925\",\"type\":\"LegendItem\"},{\"attributes\":{\"below\":[{\"id\":\"2897\"}],\"center\":[{\"id\":\"2900\"},{\"id\":\"2904\"},{\"id\":\"2924\"}],\"left\":[{\"id\":\"2901\"}],\"renderers\":[{\"id\":\"2913\"},{\"id\":\"2929\"}],\"title\":{\"id\":\"2887\"},\"toolbar\":{\"id\":\"2905\"},\"x_range\":{\"id\":\"2889\"},\"x_scale\":{\"id\":\"2893\"},\"y_range\":{\"id\":\"2891\"},\"y_scale\":{\"id\":\"2895\"}},\"id\":\"2886\",\"subtype\":\"Figure\",\"type\":\"Plot\"},{\"attributes\":{\"data\":{\"x\":[1,2,3,4,5,6,7,8,9,10],\"y\":[0.40862593054771423,0.4093014597892761,0.4116005003452301,0.4097571074962616,0.40917831659317017,0.4089570641517639,0.40848153829574585,0.40977632999420166,0.4086291790008545,0.4084126055240631]},\"selected\":{\"id\":\"2883\"},\"selection_policy\":{\"id\":\"2884\"}},\"id\":\"2869\",\"type\":\"ColumnDataSource\"},{\"attributes\":{},\"id\":\"2836\",\"type\":\"LinearScale\"},{\"attributes\":{},\"id\":\"2865\",\"type\":\"Selection\"},{\"attributes\":{\"active_multi\":null,\"tools\":[{\"id\":\"2825\"},{\"id\":\"2826\"},{\"id\":\"2827\"},{\"id\":\"2828\"}]},\"id\":\"2848\",\"type\":\"Toolbar\"},{\"attributes\":{\"axis_label\":\"Epochs\",\"formatter\":{\"id\":\"2862\"},\"major_label_policy\":{\"id\":\"2863\"},\"ticker\":{\"id\":\"2841\"}},\"id\":\"2840\",\"type\":\"LinearAxis\"},{\"attributes\":{\"line_color\":\"red\",\"x\":{\"field\":\"x\"},\"y\":{\"field\":\"y\"}},\"id\":\"2870\",\"type\":\"Line\"},{\"attributes\":{},\"id\":\"2902\",\"type\":\"BasicTicker\"},{\"attributes\":{},\"id\":\"2841\",\"type\":\"BasicTicker\"},{\"attributes\":{\"data\":{\"x\":[1,2,3,4,5,6,7,8,9,10],\"y\":[0.8468736410140991,0.8470165729522705,0.8470501899719238,0.8470586538314819,0.8470670580863953,0.8470081686973572,0.8470670580863953,0.8470754623413086,0.8470670580863953,0.8470838665962219]},\"selected\":{\"id\":\"2922\"},\"selection_policy\":{\"id\":\"2923\"}},\"id\":\"2910\",\"type\":\"ColumnDataSource\"},{\"attributes\":{\"data\":{\"x\":[1,2,3,4,5,6,7,8,9,10],\"y\":[0.8448092937469482,0.8448092937469482,0.8448092937469482,0.8448092937469482,0.8448092937469482,0.8448092937469482,0.8448092937469482,0.8448092937469482,0.8448092937469482,0.8448092937469482]},\"selected\":{\"id\":\"2940\"},\"selection_policy\":{\"id\":\"2941\"}},\"id\":\"2926\",\"type\":\"ColumnDataSource\"},{\"attributes\":{\"axis_label\":\"Loss\",\"formatter\":{\"id\":\"2859\"},\"major_label_policy\":{\"id\":\"2860\"},\"ticker\":{\"id\":\"2845\"}},\"id\":\"2844\",\"type\":\"LinearAxis\"},{\"attributes\":{},\"id\":\"2845\",\"type\":\"BasicTicker\"},{\"attributes\":{},\"id\":\"2838\",\"type\":\"LinearScale\"},{\"attributes\":{\"line_color\":\"red\",\"x\":{\"field\":\"x\"},\"y\":{\"field\":\"y\"}},\"id\":\"2927\",\"type\":\"Line\"},{\"attributes\":{\"source\":{\"id\":\"2910\"}},\"id\":\"2914\",\"type\":\"CDSView\"},{\"attributes\":{\"active_multi\":null,\"tools\":[{\"id\":\"2825\"},{\"id\":\"2826\"},{\"id\":\"2827\"},{\"id\":\"2828\"}]},\"id\":\"2905\",\"type\":\"Toolbar\"},{\"attributes\":{\"label\":{\"value\":\"Validation loss\"},\"renderers\":[{\"id\":\"2872\"}]},\"id\":\"2885\",\"type\":\"LegendItem\"},{\"attributes\":{},\"id\":\"2866\",\"type\":\"UnionRenderers\"},{\"attributes\":{\"axis\":{\"id\":\"2844\"},\"dimension\":1,\"ticker\":null},\"id\":\"2847\",\"type\":\"Grid\"},{\"attributes\":{},\"id\":\"2923\",\"type\":\"UnionRenderers\"},{\"attributes\":{\"data\":{\"x\":[1,2,3,4,5,6,7,8,9,10],\"y\":[0.4111092686653137,0.4065917432308197,0.40619391202926636,0.4061848223209381,0.4060036242008209,0.40579861402511597,0.40554508566856384,0.4055469334125519,0.40536636114120483,0.40526872873306274]},\"selected\":{\"id\":\"2865\"},\"selection_policy\":{\"id\":\"2866\"}},\"id\":\"2853\",\"type\":\"ColumnDataSource\"},{\"attributes\":{\"axis\":{\"id\":\"2840\"},\"ticker\":null},\"id\":\"2843\",\"type\":\"Grid\"},{\"attributes\":{},\"id\":\"2883\",\"type\":\"Selection\"},{\"attributes\":{},\"id\":\"2922\",\"type\":\"Selection\"},{\"attributes\":{},\"id\":\"2941\",\"type\":\"UnionRenderers\"},{\"attributes\":{\"line_alpha\":0.1,\"line_color\":\"blue\",\"x\":{\"field\":\"x\"},\"y\":{\"field\":\"y\"}},\"id\":\"2912\",\"type\":\"Line\"},{\"attributes\":{},\"id\":\"2884\",\"type\":\"UnionRenderers\"},{\"attributes\":{},\"id\":\"2940\",\"type\":\"Selection\"},{\"attributes\":{},\"id\":\"2859\",\"type\":\"BasicTickFormatter\"},{\"attributes\":{\"click_policy\":\"hide\",\"items\":[{\"id\":\"2925\"},{\"id\":\"2942\"}],\"location\":\"bottom_right\"},\"id\":\"2924\",\"type\":\"Legend\"},{\"attributes\":{},\"id\":\"2860\",\"type\":\"AllLabels\"},{\"attributes\":{\"line_alpha\":0.1,\"line_color\":\"red\",\"x\":{\"field\":\"x\"},\"y\":{\"field\":\"y\"}},\"id\":\"2928\",\"type\":\"Line\"},{\"attributes\":{\"line_alpha\":0.1,\"line_color\":\"blue\",\"x\":{\"field\":\"x\"},\"y\":{\"field\":\"y\"}},\"id\":\"2855\",\"type\":\"Line\"},{\"attributes\":{\"label\":{\"value\":\"Training loss\"},\"renderers\":[{\"id\":\"2856\"}]},\"id\":\"2868\",\"type\":\"LegendItem\"},{\"attributes\":{\"source\":{\"id\":\"2853\"}},\"id\":\"2857\",\"type\":\"CDSView\"},{\"attributes\":{\"click_policy\":\"hide\",\"items\":[{\"id\":\"2868\"},{\"id\":\"2885\"}],\"visible\":false},\"id\":\"2867\",\"type\":\"Legend\"},{\"attributes\":{\"data_source\":{\"id\":\"2869\"},\"glyph\":{\"id\":\"2870\"},\"hover_glyph\":null,\"muted_glyph\":null,\"nonselection_glyph\":{\"id\":\"2871\"},\"view\":{\"id\":\"2873\"}},\"id\":\"2872\",\"type\":\"GlyphRenderer\"},{\"attributes\":{\"data_source\":{\"id\":\"2926\"},\"glyph\":{\"id\":\"2927\"},\"hover_glyph\":null,\"muted_glyph\":null,\"nonselection_glyph\":{\"id\":\"2928\"},\"view\":{\"id\":\"2930\"}},\"id\":\"2929\",\"type\":\"GlyphRenderer\"},{\"attributes\":{},\"id\":\"2826\",\"type\":\"WheelZoomTool\"},{\"attributes\":{\"source\":{\"id\":\"2926\"}},\"id\":\"2930\",\"type\":\"CDSView\"},{\"attributes\":{},\"id\":\"2920\",\"type\":\"AllLabels\"}],\"root_ids\":[\"2943\"]},\"title\":\"Bokeh Application\",\"version\":\"2.3.3\"}};\n",
       "  var render_items = [{\"docid\":\"e37792df-6d0b-424b-9671-5d2bf0d5fdb9\",\"root_ids\":[\"2943\"],\"roots\":{\"2943\":\"6841841a-3c6a-4025-a793-0c96186c6d9d\"}}];\n",
       "  root.Bokeh.embed.embed_items_notebook(docs_json, render_items);\n",
       "\n",
       "  }\n",
       "  if (root.Bokeh !== undefined) {\n",
       "    embed_document(root);\n",
       "  } else {\n",
       "    var attempts = 0;\n",
       "    var timer = setInterval(function(root) {\n",
       "      if (root.Bokeh !== undefined) {\n",
       "        clearInterval(timer);\n",
       "        embed_document(root);\n",
       "      } else {\n",
       "        attempts++;\n",
       "        if (attempts > 100) {\n",
       "          clearInterval(timer);\n",
       "          console.log(\"Bokeh: ERROR: Unable to run BokehJS code because BokehJS library is missing\");\n",
       "        }\n",
       "      }\n",
       "    }, 10, root)\n",
       "  }\n",
       "})(window);"
      ],
      "application/vnd.bokehjs_exec.v0+json": ""
     },
     "metadata": {
      "application/vnd.bokehjs_exec.v0+json": {
       "id": "2943"
      }
     },
     "output_type": "display_data"
    }
   ],
   "source": [
    "plot_results(history)"
   ]
  },
  {
   "cell_type": "markdown",
   "id": "41563320-38ec-4b52-adc0-fb24a6023fd0",
   "metadata": {},
   "source": [
    "#### Experiment 2b:"
   ]
  },
  {
   "cell_type": "code",
   "execution_count": 59,
   "id": "6b15629f-98cb-40c4-90ce-e47dff81a61d",
   "metadata": {},
   "outputs": [],
   "source": [
    "network = models.Sequential()\n",
    "network.add(layers.Dense(300, activation=\"relu\", input_shape=(X_train.shape[1],)))\n",
    "network.add(layers.Dropout(0.2))\n",
    "network.add(layers.Dense(100, activation=\"relu\"))\n",
    "network.add(layers.Dropout(0.2))\n",
    "network.add(layers.Dense(50, activation=\"relu\"))\n",
    "network.add(layers.Dense(2, activation=\"softmax\"))\n",
    "network.compile(loss=\"categorical_crossentropy\",\n",
    "                optimizer=\"adam\",\n",
    "                metrics=[\"accuracy\"])"
   ]
  },
  {
   "cell_type": "code",
   "execution_count": 60,
   "id": "855d9d00-5e99-4ef2-9af9-73a5f49e460a",
   "metadata": {},
   "outputs": [],
   "source": [
    "history = network.fit(X_train, y_train, batch_size=16, epochs=30, validation_split=0.1, shuffle=True, verbose=False)"
   ]
  },
  {
   "cell_type": "code",
   "execution_count": 61,
   "id": "cd7ec538-3148-4378-a2c1-eadf696dfe3a",
   "metadata": {},
   "outputs": [
    {
     "name": "stdout",
     "output_type": "stream",
     "text": [
      "2035/2035 [==============================] - 2s 1ms/step - loss: 0.4075 - accuracy: 0.8464\n",
      "the final accuracy on the holdout set was  84.64 %\n"
     ]
    }
   ],
   "source": [
    "plot_results_loss, test_acc = network.evaluate(X_val, y_val)\n",
    "print('the final accuracy on the holdout set was ', np.round(test_acc * 100, 2), '%')"
   ]
  },
  {
   "cell_type": "code",
   "execution_count": 63,
   "id": "7b0c69f9-1018-44e0-b576-e0bebad803d3",
   "metadata": {},
   "outputs": [
    {
     "data": {
      "text/plain": [
       "0.6651630096586555"
      ]
     },
     "execution_count": 63,
     "metadata": {},
     "output_type": "execute_result"
    }
   ],
   "source": [
    "y_pred = network.predict(X_val)\n",
    "roc_auc_score(y_val, y_pred)"
   ]
  },
  {
   "cell_type": "code",
   "execution_count": 62,
   "id": "30f9ffe1-8e2f-44c0-bdf2-280fbb27cadb",
   "metadata": {},
   "outputs": [
    {
     "data": {
      "text/html": [
       "\n",
       "\n",
       "\n",
       "\n",
       "\n",
       "\n",
       "  <div class=\"bk-root\" id=\"21c2de25-598e-40fb-9762-2a58fcb842ad\" data-root-id=\"3304\"></div>\n"
      ]
     },
     "metadata": {},
     "output_type": "display_data"
    },
    {
     "data": {
      "application/javascript": [
       "(function(root) {\n",
       "  function embed_document(root) {\n",
       "    \n",
       "  var docs_json = {\"3b61dc4b-fc78-4fdb-8dab-94ba0fa7648f\":{\"defs\":[],\"roots\":{\"references\":[{\"attributes\":{\"children\":[{\"id\":\"3190\"},{\"id\":\"3247\"}]},\"id\":\"3304\",\"type\":\"Row\"},{\"attributes\":{},\"id\":\"3283\",\"type\":\"Selection\"},{\"attributes\":{\"axis_label\":\"Loss\",\"formatter\":{\"id\":\"3220\"},\"major_label_policy\":{\"id\":\"3221\"},\"ticker\":{\"id\":\"3206\"}},\"id\":\"3205\",\"type\":\"LinearAxis\"},{\"attributes\":{\"source\":{\"id\":\"3287\"}},\"id\":\"3291\",\"type\":\"CDSView\"},{\"attributes\":{\"text\":\"Training and validation loss\"},\"id\":\"3191\",\"type\":\"Title\"},{\"attributes\":{\"label\":{\"value\":\"validation\"},\"renderers\":[{\"id\":\"3290\"}]},\"id\":\"3303\",\"type\":\"LegendItem\"},{\"attributes\":{},\"id\":\"3284\",\"type\":\"UnionRenderers\"},{\"attributes\":{},\"id\":\"3301\",\"type\":\"Selection\"},{\"attributes\":{\"source\":{\"id\":\"3214\"}},\"id\":\"3218\",\"type\":\"CDSView\"},{\"attributes\":{},\"id\":\"3195\",\"type\":\"DataRange1d\"},{\"attributes\":{},\"id\":\"3224\",\"type\":\"AllLabels\"},{\"attributes\":{\"below\":[{\"id\":\"3201\"}],\"center\":[{\"id\":\"3204\"},{\"id\":\"3208\"},{\"id\":\"3228\"}],\"left\":[{\"id\":\"3205\"}],\"renderers\":[{\"id\":\"3217\"},{\"id\":\"3233\"}],\"title\":{\"id\":\"3191\"},\"toolbar\":{\"id\":\"3209\"},\"x_range\":{\"id\":\"3193\"},\"x_scale\":{\"id\":\"3197\"},\"y_range\":{\"id\":\"3195\"},\"y_scale\":{\"id\":\"3199\"}},\"id\":\"3190\",\"subtype\":\"Figure\",\"type\":\"Plot\"},{\"attributes\":{},\"id\":\"3223\",\"type\":\"BasicTickFormatter\"},{\"attributes\":{},\"id\":\"3226\",\"type\":\"Selection\"},{\"attributes\":{\"data\":{\"x\":[1,2,3,4,5,6,7,8,9,10,11,12,13,14,15,16,17,18,19,20,21,22,23,24,25,26,27,28,29,30],\"y\":[0.8469241261482239,0.8470754623413086,0.8470922708511353,0.8470501899719238,0.8470670580863953,0.8469409346580505,0.8469997644424438,0.8469997644424438,0.8470081686973572,0.8469661474227905,0.8469157218933105,0.8469157218933105,0.8470081686973572,0.8470081686973572,0.8470838665962219,0.8469829559326172,0.8469745516777039,0.8469997644424438,0.8470249772071838,0.8470081686973572,0.8469493389129639,0.8468904495239258,0.8470838665962219,0.8470670580863953,0.8469661474227905,0.8468232154846191,0.8471006751060486,0.8470754623413086,0.8469829559326172,0.8469829559326172]},\"selected\":{\"id\":\"3283\"},\"selection_policy\":{\"id\":\"3284\"}},\"id\":\"3271\",\"type\":\"ColumnDataSource\"},{\"attributes\":{},\"id\":\"3245\",\"type\":\"UnionRenderers\"},{\"attributes\":{\"axis\":{\"id\":\"3258\"},\"ticker\":null},\"id\":\"3261\",\"type\":\"Grid\"},{\"attributes\":{},\"id\":\"3206\",\"type\":\"BasicTicker\"},{\"attributes\":{\"line_alpha\":0.1,\"line_color\":\"red\",\"x\":{\"field\":\"x\"},\"y\":{\"field\":\"y\"}},\"id\":\"3289\",\"type\":\"Line\"},{\"attributes\":{},\"id\":\"3302\",\"type\":\"UnionRenderers\"},{\"attributes\":{},\"id\":\"3252\",\"type\":\"DataRange1d\"},{\"attributes\":{\"axis\":{\"id\":\"3205\"},\"dimension\":1,\"ticker\":null},\"id\":\"3208\",\"type\":\"Grid\"},{\"attributes\":{\"data\":{\"x\":[1,2,3,4,5,6,7,8,9,10,11,12,13,14,15,16,17,18,19,20,21,22,23,24,25,26,27,28,29,30],\"y\":[0.4090457260608673,0.406244158744812,0.40542685985565186,0.4046872556209564,0.4044499397277832,0.4037967026233673,0.40338781476020813,0.40334901213645935,0.4028334319591522,0.40267321467399597,0.40208056569099426,0.4016299247741699,0.4013782739639282,0.40127095580101013,0.4005594551563263,0.40051597356796265,0.4002191722393036,0.40005865693092346,0.3998434245586395,0.3993736207485199,0.3994496464729309,0.3989522457122803,0.3987658619880676,0.398517370223999,0.3982783555984497,0.3982006013393402,0.3980194926261902,0.3973776698112488,0.39711856842041016,0.3969053328037262]},\"selected\":{\"id\":\"3226\"},\"selection_policy\":{\"id\":\"3227\"}},\"id\":\"3214\",\"type\":\"ColumnDataSource\"},{\"attributes\":{\"axis_label\":\"Accuracy\",\"formatter\":{\"id\":\"3277\"},\"major_label_policy\":{\"id\":\"3278\"},\"ticker\":{\"id\":\"3263\"}},\"id\":\"3262\",\"type\":\"LinearAxis\"},{\"attributes\":{},\"id\":\"3187\",\"type\":\"WheelZoomTool\"},{\"attributes\":{\"data_source\":{\"id\":\"3271\"},\"glyph\":{\"id\":\"3272\"},\"hover_glyph\":null,\"muted_glyph\":null,\"nonselection_glyph\":{\"id\":\"3273\"},\"view\":{\"id\":\"3275\"}},\"id\":\"3274\",\"type\":\"GlyphRenderer\"},{\"attributes\":{\"label\":{\"value\":\"training\"},\"renderers\":[{\"id\":\"3274\"}]},\"id\":\"3286\",\"type\":\"LegendItem\"},{\"attributes\":{\"axis_label\":\"Epochs\",\"formatter\":{\"id\":\"3223\"},\"major_label_policy\":{\"id\":\"3224\"},\"ticker\":{\"id\":\"3202\"}},\"id\":\"3201\",\"type\":\"LinearAxis\"},{\"attributes\":{},\"id\":\"3188\",\"type\":\"ResetTool\"},{\"attributes\":{\"line_color\":\"red\",\"x\":{\"field\":\"x\"},\"y\":{\"field\":\"y\"}},\"id\":\"3231\",\"type\":\"Line\"},{\"attributes\":{\"line_alpha\":0.1,\"line_color\":\"blue\",\"x\":{\"field\":\"x\"},\"y\":{\"field\":\"y\"}},\"id\":\"3273\",\"type\":\"Line\"},{\"attributes\":{\"click_policy\":\"hide\",\"items\":[{\"id\":\"3229\"},{\"id\":\"3246\"}],\"visible\":false},\"id\":\"3228\",\"type\":\"Legend\"},{\"attributes\":{\"axis\":{\"id\":\"3262\"},\"dimension\":1,\"ticker\":null},\"id\":\"3265\",\"type\":\"Grid\"},{\"attributes\":{\"data_source\":{\"id\":\"3230\"},\"glyph\":{\"id\":\"3231\"},\"hover_glyph\":null,\"muted_glyph\":null,\"nonselection_glyph\":{\"id\":\"3232\"},\"view\":{\"id\":\"3234\"}},\"id\":\"3233\",\"type\":\"GlyphRenderer\"},{\"attributes\":{},\"id\":\"3256\",\"type\":\"LinearScale\"},{\"attributes\":{\"click_policy\":\"hide\",\"items\":[{\"id\":\"3286\"},{\"id\":\"3303\"}],\"location\":\"bottom_right\"},\"id\":\"3285\",\"type\":\"Legend\"},{\"attributes\":{\"line_alpha\":0.1,\"line_color\":\"blue\",\"x\":{\"field\":\"x\"},\"y\":{\"field\":\"y\"}},\"id\":\"3216\",\"type\":\"Line\"},{\"attributes\":{},\"id\":\"3278\",\"type\":\"AllLabels\"},{\"attributes\":{\"callback\":null},\"id\":\"3189\",\"type\":\"HoverTool\"},{\"attributes\":{},\"id\":\"3259\",\"type\":\"BasicTicker\"},{\"attributes\":{\"axis_label\":\"Epochs\",\"formatter\":{\"id\":\"3280\"},\"major_label_policy\":{\"id\":\"3281\"},\"ticker\":{\"id\":\"3259\"}},\"id\":\"3258\",\"type\":\"LinearAxis\"},{\"attributes\":{},\"id\":\"3254\",\"type\":\"LinearScale\"},{\"attributes\":{},\"id\":\"3227\",\"type\":\"UnionRenderers\"},{\"attributes\":{},\"id\":\"3250\",\"type\":\"DataRange1d\"},{\"attributes\":{},\"id\":\"3244\",\"type\":\"Selection\"},{\"attributes\":{\"data_source\":{\"id\":\"3214\"},\"glyph\":{\"id\":\"3215\"},\"hover_glyph\":null,\"muted_glyph\":null,\"nonselection_glyph\":{\"id\":\"3216\"},\"view\":{\"id\":\"3218\"}},\"id\":\"3217\",\"type\":\"GlyphRenderer\"},{\"attributes\":{\"data_source\":{\"id\":\"3287\"},\"glyph\":{\"id\":\"3288\"},\"hover_glyph\":null,\"muted_glyph\":null,\"nonselection_glyph\":{\"id\":\"3289\"},\"view\":{\"id\":\"3291\"}},\"id\":\"3290\",\"type\":\"GlyphRenderer\"},{\"attributes\":{\"text\":\"Training and validation accuracy\"},\"id\":\"3248\",\"type\":\"Title\"},{\"attributes\":{},\"id\":\"3202\",\"type\":\"BasicTicker\"},{\"attributes\":{\"line_color\":\"red\",\"x\":{\"field\":\"x\"},\"y\":{\"field\":\"y\"}},\"id\":\"3288\",\"type\":\"Line\"},{\"attributes\":{\"line_color\":\"blue\",\"x\":{\"field\":\"x\"},\"y\":{\"field\":\"y\"}},\"id\":\"3215\",\"type\":\"Line\"},{\"attributes\":{\"line_color\":\"blue\",\"x\":{\"field\":\"x\"},\"y\":{\"field\":\"y\"}},\"id\":\"3272\",\"type\":\"Line\"},{\"attributes\":{},\"id\":\"3186\",\"type\":\"PanTool\"},{\"attributes\":{\"active_multi\":null,\"tools\":[{\"id\":\"3186\"},{\"id\":\"3187\"},{\"id\":\"3188\"},{\"id\":\"3189\"}]},\"id\":\"3209\",\"type\":\"Toolbar\"},{\"attributes\":{\"active_multi\":null,\"tools\":[{\"id\":\"3186\"},{\"id\":\"3187\"},{\"id\":\"3188\"},{\"id\":\"3189\"}]},\"id\":\"3266\",\"type\":\"Toolbar\"},{\"attributes\":{\"data\":{\"x\":[1,2,3,4,5,6,7,8,9,10,11,12,13,14,15,16,17,18,19,20,21,22,23,24,25,26,27,28,29,30],\"y\":[0.8448092937469482,0.8448092937469482,0.8448092937469482,0.8448092937469482,0.8448092937469482,0.8448092937469482,0.8448092937469482,0.8448092937469482,0.8448092937469482,0.8448092937469482,0.8448092937469482,0.8448092937469482,0.8448092937469482,0.8448092937469482,0.8448092937469482,0.8448092937469482,0.8448092937469482,0.8448092937469482,0.8448092937469482,0.8448092937469482,0.8447336554527283,0.8448092937469482,0.8448092937469482,0.8447336554527283,0.8447336554527283,0.8448092937469482,0.844960629940033,0.8445823192596436,0.844884991645813,0.8444309830665588]},\"selected\":{\"id\":\"3301\"},\"selection_policy\":{\"id\":\"3302\"}},\"id\":\"3287\",\"type\":\"ColumnDataSource\"},{\"attributes\":{\"below\":[{\"id\":\"3258\"}],\"center\":[{\"id\":\"3261\"},{\"id\":\"3265\"},{\"id\":\"3285\"}],\"left\":[{\"id\":\"3262\"}],\"renderers\":[{\"id\":\"3274\"},{\"id\":\"3290\"}],\"title\":{\"id\":\"3248\"},\"toolbar\":{\"id\":\"3266\"},\"x_range\":{\"id\":\"3250\"},\"x_scale\":{\"id\":\"3254\"},\"y_range\":{\"id\":\"3252\"},\"y_scale\":{\"id\":\"3256\"}},\"id\":\"3247\",\"subtype\":\"Figure\",\"type\":\"Plot\"},{\"attributes\":{},\"id\":\"3199\",\"type\":\"LinearScale\"},{\"attributes\":{\"line_alpha\":0.1,\"line_color\":\"red\",\"x\":{\"field\":\"x\"},\"y\":{\"field\":\"y\"}},\"id\":\"3232\",\"type\":\"Line\"},{\"attributes\":{\"axis\":{\"id\":\"3201\"},\"ticker\":null},\"id\":\"3204\",\"type\":\"Grid\"},{\"attributes\":{},\"id\":\"3197\",\"type\":\"LinearScale\"},{\"attributes\":{\"source\":{\"id\":\"3230\"}},\"id\":\"3234\",\"type\":\"CDSView\"},{\"attributes\":{\"data\":{\"x\":[1,2,3,4,5,6,7,8,9,10,11,12,13,14,15,16,17,18,19,20,21,22,23,24,25,26,27,28,29,30],\"y\":[0.4095000922679901,0.4097652733325958,0.41004928946495056,0.40791669487953186,0.40801915526390076,0.408362478017807,0.4082225263118744,0.4083106815814972,0.40965327620506287,0.4080933630466461,0.40791431069374084,0.4087431728839874,0.40781065821647644,0.40760114789009094,0.40959393978118896,0.40747183561325073,0.40830981731414795,0.40784958004951477,0.4081498086452484,0.40843769907951355,0.4082438051700592,0.40735679864883423,0.40841057896614075,0.4110642373561859,0.4077743589878082,0.4087849259376526,0.4093780815601349,0.4093818962574005,0.40841352939605713,0.4091694951057434]},\"selected\":{\"id\":\"3244\"},\"selection_policy\":{\"id\":\"3245\"}},\"id\":\"3230\",\"type\":\"ColumnDataSource\"},{\"attributes\":{},\"id\":\"3220\",\"type\":\"BasicTickFormatter\"},{\"attributes\":{},\"id\":\"3277\",\"type\":\"BasicTickFormatter\"},{\"attributes\":{},\"id\":\"3221\",\"type\":\"AllLabels\"},{\"attributes\":{},\"id\":\"3263\",\"type\":\"BasicTicker\"},{\"attributes\":{},\"id\":\"3280\",\"type\":\"BasicTickFormatter\"},{\"attributes\":{},\"id\":\"3193\",\"type\":\"DataRange1d\"},{\"attributes\":{},\"id\":\"3281\",\"type\":\"AllLabels\"},{\"attributes\":{\"label\":{\"value\":\"Training loss\"},\"renderers\":[{\"id\":\"3217\"}]},\"id\":\"3229\",\"type\":\"LegendItem\"},{\"attributes\":{\"source\":{\"id\":\"3271\"}},\"id\":\"3275\",\"type\":\"CDSView\"},{\"attributes\":{\"label\":{\"value\":\"Validation loss\"},\"renderers\":[{\"id\":\"3233\"}]},\"id\":\"3246\",\"type\":\"LegendItem\"}],\"root_ids\":[\"3304\"]},\"title\":\"Bokeh Application\",\"version\":\"2.3.3\"}};\n",
       "  var render_items = [{\"docid\":\"3b61dc4b-fc78-4fdb-8dab-94ba0fa7648f\",\"root_ids\":[\"3304\"],\"roots\":{\"3304\":\"21c2de25-598e-40fb-9762-2a58fcb842ad\"}}];\n",
       "  root.Bokeh.embed.embed_items_notebook(docs_json, render_items);\n",
       "\n",
       "  }\n",
       "  if (root.Bokeh !== undefined) {\n",
       "    embed_document(root);\n",
       "  } else {\n",
       "    var attempts = 0;\n",
       "    var timer = setInterval(function(root) {\n",
       "      if (root.Bokeh !== undefined) {\n",
       "        clearInterval(timer);\n",
       "        embed_document(root);\n",
       "      } else {\n",
       "        attempts++;\n",
       "        if (attempts > 100) {\n",
       "          clearInterval(timer);\n",
       "          console.log(\"Bokeh: ERROR: Unable to run BokehJS code because BokehJS library is missing\");\n",
       "        }\n",
       "      }\n",
       "    }, 10, root)\n",
       "  }\n",
       "})(window);"
      ],
      "application/vnd.bokehjs_exec.v0+json": ""
     },
     "metadata": {
      "application/vnd.bokehjs_exec.v0+json": {
       "id": "3304"
      }
     },
     "output_type": "display_data"
    }
   ],
   "source": [
    "plot_results(history)"
   ]
  },
  {
   "cell_type": "markdown",
   "id": "3c64ca6b-48b8-4392-a1a2-b0ef7ac64c9f",
   "metadata": {},
   "source": [
    "#### Experiment 3b: "
   ]
  },
  {
   "cell_type": "code",
   "execution_count": 82,
   "id": "b93ae3b8-a7b2-4cb5-9b2a-1d3fdae4c4fe",
   "metadata": {},
   "outputs": [],
   "source": [
    "network = models.Sequential()\n",
    "network.add(layers.Dense(400, activation=\"relu\", input_shape=(X_train.shape[1],)))\n",
    "network.add(layers.Dropout(0.4))\n",
    "network.add(layers.Dense(200, activation=\"relu\"))\n",
    "network.add(layers.Dropout(0.2))\n",
    "network.add(layers.Dense(100, activation=\"relu\"))\n",
    "network.add(layers.Dense(10, activation=\"relu\"))\n",
    "network.add(layers.Dense(2, activation=\"softmax\"))\n",
    "network.compile(loss=\"categorical_crossentropy\",\n",
    "                optimizer=\"adam\",\n",
    "                metrics=[\"accuracy\"])"
   ]
  },
  {
   "cell_type": "code",
   "execution_count": 83,
   "id": "37d8338c-0080-4a95-bf6c-132f143577ce",
   "metadata": {},
   "outputs": [],
   "source": [
    "history = network.fit(X_train, y_train, batch_size=16, epochs=20, validation_split=0.1, shuffle=True, verbose=False)"
   ]
  },
  {
   "cell_type": "code",
   "execution_count": 84,
   "id": "464c630f-ba36-4b19-9943-c34dc679a31e",
   "metadata": {},
   "outputs": [
    {
     "name": "stdout",
     "output_type": "stream",
     "text": [
      "2035/2035 [==============================] - 3s 1ms/step - loss: 0.4053 - accuracy: 0.8466\n",
      "the final accuracy on the holdout set was  84.66 %\n"
     ]
    }
   ],
   "source": [
    "test_loss, test_acc = network.evaluate(X_val, y_val)\n",
    "print('the final accuracy on the holdout set was ', np.round(test_acc * 100, 2), '%')"
   ]
  },
  {
   "cell_type": "code",
   "execution_count": 85,
   "id": "17ffe8cc-b9bd-42b8-bb23-2d8c25599217",
   "metadata": {},
   "outputs": [
    {
     "data": {
      "text/plain": [
       "0.6692119047373946"
      ]
     },
     "execution_count": 85,
     "metadata": {},
     "output_type": "execute_result"
    }
   ],
   "source": [
    "y_pred = network.predict(X_val)\n",
    "roc_auc_score(y_val, y_pred)"
   ]
  },
  {
   "cell_type": "code",
   "execution_count": 86,
   "id": "b0666738-08d1-45de-9fa6-31a88edb4dd1",
   "metadata": {},
   "outputs": [
    {
     "data": {
      "text/html": [
       "\n",
       "\n",
       "\n",
       "\n",
       "\n",
       "\n",
       "  <div class=\"bk-root\" id=\"bae3e242-8c08-435b-8602-ca77684a1d65\" data-root-id=\"4519\"></div>\n"
      ]
     },
     "metadata": {},
     "output_type": "display_data"
    },
    {
     "data": {
      "application/javascript": [
       "(function(root) {\n",
       "  function embed_document(root) {\n",
       "    \n",
       "  var docs_json = {\"3d510d1f-a64e-4eca-bfcc-9b8fb9b5b104\":{\"defs\":[],\"roots\":{\"references\":[{\"attributes\":{\"children\":[{\"id\":\"4405\"},{\"id\":\"4462\"}]},\"id\":\"4519\",\"type\":\"Row\"},{\"attributes\":{\"click_policy\":\"hide\",\"items\":[{\"id\":\"4444\"},{\"id\":\"4461\"}],\"visible\":false},\"id\":\"4443\",\"type\":\"Legend\"},{\"attributes\":{\"text\":\"Training and validation loss\"},\"id\":\"4406\",\"type\":\"Title\"},{\"attributes\":{\"data_source\":{\"id\":\"4486\"},\"glyph\":{\"id\":\"4487\"},\"hover_glyph\":null,\"muted_glyph\":null,\"nonselection_glyph\":{\"id\":\"4488\"},\"view\":{\"id\":\"4490\"}},\"id\":\"4489\",\"type\":\"GlyphRenderer\"},{\"attributes\":{},\"id\":\"4465\",\"type\":\"DataRange1d\"},{\"attributes\":{},\"id\":\"4467\",\"type\":\"DataRange1d\"},{\"attributes\":{\"active_multi\":null,\"tools\":[{\"id\":\"4401\"},{\"id\":\"4402\"},{\"id\":\"4403\"},{\"id\":\"4404\"}]},\"id\":\"4481\",\"type\":\"Toolbar\"},{\"attributes\":{\"label\":{\"value\":\"Training loss\"},\"renderers\":[{\"id\":\"4432\"}]},\"id\":\"4444\",\"type\":\"LegendItem\"},{\"attributes\":{},\"id\":\"4435\",\"type\":\"BasicTickFormatter\"},{\"attributes\":{},\"id\":\"4414\",\"type\":\"LinearScale\"},{\"attributes\":{\"source\":{\"id\":\"4486\"}},\"id\":\"4490\",\"type\":\"CDSView\"},{\"attributes\":{},\"id\":\"4495\",\"type\":\"BasicTickFormatter\"},{\"attributes\":{\"data_source\":{\"id\":\"4445\"},\"glyph\":{\"id\":\"4446\"},\"hover_glyph\":null,\"muted_glyph\":null,\"nonselection_glyph\":{\"id\":\"4447\"},\"view\":{\"id\":\"4449\"}},\"id\":\"4448\",\"type\":\"GlyphRenderer\"},{\"attributes\":{\"data\":{\"x\":[1,2,3,4,5,6,7,8,9,10,11,12,13,14,15,16,17,18,19,20],\"y\":[0.4091604948043823,0.4066959321498871,0.40591034293174744,0.40554600954055786,0.4047671854496002,0.4048801362514496,0.40472134947776794,0.4042452275753021,0.4038955271244049,0.4038437604904175,0.4038376212120056,0.4036734104156494,0.40304285287857056,0.40316885709762573,0.40287911891937256,0.40272587537765503,0.40231141448020935,0.40223968029022217,0.40214064717292786,0.4017534554004669]},\"selected\":{\"id\":\"4441\"},\"selection_policy\":{\"id\":\"4442\"}},\"id\":\"4429\",\"type\":\"ColumnDataSource\"},{\"attributes\":{},\"id\":\"4436\",\"type\":\"AllLabels\"},{\"attributes\":{},\"id\":\"4516\",\"type\":\"Selection\"},{\"attributes\":{\"axis_label\":\"Loss\",\"formatter\":{\"id\":\"4435\"},\"major_label_policy\":{\"id\":\"4436\"},\"ticker\":{\"id\":\"4421\"}},\"id\":\"4420\",\"type\":\"LinearAxis\"},{\"attributes\":{\"label\":{\"value\":\"training\"},\"renderers\":[{\"id\":\"4489\"}]},\"id\":\"4501\",\"type\":\"LegendItem\"},{\"attributes\":{\"below\":[{\"id\":\"4416\"}],\"center\":[{\"id\":\"4419\"},{\"id\":\"4423\"},{\"id\":\"4443\"}],\"left\":[{\"id\":\"4420\"}],\"renderers\":[{\"id\":\"4432\"},{\"id\":\"4448\"}],\"title\":{\"id\":\"4406\"},\"toolbar\":{\"id\":\"4424\"},\"x_range\":{\"id\":\"4408\"},\"x_scale\":{\"id\":\"4412\"},\"y_range\":{\"id\":\"4410\"},\"y_scale\":{\"id\":\"4414\"}},\"id\":\"4405\",\"subtype\":\"Figure\",\"type\":\"Plot\"},{\"attributes\":{\"data_source\":{\"id\":\"4502\"},\"glyph\":{\"id\":\"4503\"},\"hover_glyph\":null,\"muted_glyph\":null,\"nonselection_glyph\":{\"id\":\"4504\"},\"view\":{\"id\":\"4506\"}},\"id\":\"4505\",\"type\":\"GlyphRenderer\"},{\"attributes\":{},\"id\":\"4417\",\"type\":\"BasicTicker\"},{\"attributes\":{\"data\":{\"x\":[1,2,3,4,5,6,7,8,9,10,11,12,13,14,15,16,17,18,19,20],\"y\":[0.8470754623413086,0.8470754623413086,0.8470754623413086,0.8470754623413086,0.8470754623413086,0.8470754623413086,0.8470670580863953,0.8470417857170105,0.8469661474227905,0.8470249772071838,0.8470333814620972,0.8469241261482239,0.8470333814620972,0.8470081686973572,0.8469829559326172,0.8469661474227905,0.8468484282493591,0.8469829559326172,0.8469913601875305,0.8469157218933105]},\"selected\":{\"id\":\"4498\"},\"selection_policy\":{\"id\":\"4499\"}},\"id\":\"4486\",\"type\":\"ColumnDataSource\"},{\"attributes\":{},\"id\":\"4478\",\"type\":\"BasicTicker\"},{\"attributes\":{\"source\":{\"id\":\"4429\"}},\"id\":\"4433\",\"type\":\"CDSView\"},{\"attributes\":{},\"id\":\"4442\",\"type\":\"UnionRenderers\"},{\"attributes\":{\"axis\":{\"id\":\"4477\"},\"dimension\":1,\"ticker\":null},\"id\":\"4480\",\"type\":\"Grid\"},{\"attributes\":{\"below\":[{\"id\":\"4473\"}],\"center\":[{\"id\":\"4476\"},{\"id\":\"4480\"},{\"id\":\"4500\"}],\"left\":[{\"id\":\"4477\"}],\"renderers\":[{\"id\":\"4489\"},{\"id\":\"4505\"}],\"title\":{\"id\":\"4463\"},\"toolbar\":{\"id\":\"4481\"},\"x_range\":{\"id\":\"4465\"},\"x_scale\":{\"id\":\"4469\"},\"y_range\":{\"id\":\"4467\"},\"y_scale\":{\"id\":\"4471\"}},\"id\":\"4462\",\"subtype\":\"Figure\",\"type\":\"Plot\"},{\"attributes\":{},\"id\":\"4460\",\"type\":\"UnionRenderers\"},{\"attributes\":{\"line_color\":\"red\",\"x\":{\"field\":\"x\"},\"y\":{\"field\":\"y\"}},\"id\":\"4446\",\"type\":\"Line\"},{\"attributes\":{\"axis\":{\"id\":\"4420\"},\"dimension\":1,\"ticker\":null},\"id\":\"4423\",\"type\":\"Grid\"},{\"attributes\":{\"data\":{\"x\":[1,2,3,4,5,6,7,8,9,10,11,12,13,14,15,16,17,18,19,20],\"y\":[0.40804600715637207,0.40808117389678955,0.40770888328552246,0.4085760712623596,0.40843507647514343,0.40769532322883606,0.40867751836776733,0.4075600802898407,0.4089190661907196,0.4079550802707672,0.4078267216682434,0.40783804655075073,0.4083307981491089,0.40740516781806946,0.4075333774089813,0.40746110677719116,0.4075240194797516,0.40850013494491577,0.40911993384361267,0.407952219247818]},\"selected\":{\"id\":\"4459\"},\"selection_policy\":{\"id\":\"4460\"}},\"id\":\"4445\",\"type\":\"ColumnDataSource\"},{\"attributes\":{\"line_color\":\"blue\",\"x\":{\"field\":\"x\"},\"y\":{\"field\":\"y\"}},\"id\":\"4430\",\"type\":\"Line\"},{\"attributes\":{\"line_alpha\":0.1,\"line_color\":\"red\",\"x\":{\"field\":\"x\"},\"y\":{\"field\":\"y\"}},\"id\":\"4504\",\"type\":\"Line\"},{\"attributes\":{},\"id\":\"4402\",\"type\":\"WheelZoomTool\"},{\"attributes\":{\"axis_label\":\"Epochs\",\"formatter\":{\"id\":\"4495\"},\"major_label_policy\":{\"id\":\"4496\"},\"ticker\":{\"id\":\"4474\"}},\"id\":\"4473\",\"type\":\"LinearAxis\"},{\"attributes\":{\"axis\":{\"id\":\"4416\"},\"ticker\":null},\"id\":\"4419\",\"type\":\"Grid\"},{\"attributes\":{},\"id\":\"4474\",\"type\":\"BasicTicker\"},{\"attributes\":{\"source\":{\"id\":\"4445\"}},\"id\":\"4449\",\"type\":\"CDSView\"},{\"attributes\":{\"axis_label\":\"Epochs\",\"formatter\":{\"id\":\"4438\"},\"major_label_policy\":{\"id\":\"4439\"},\"ticker\":{\"id\":\"4417\"}},\"id\":\"4416\",\"type\":\"LinearAxis\"},{\"attributes\":{\"text\":\"Training and validation accuracy\"},\"id\":\"4463\",\"type\":\"Title\"},{\"attributes\":{},\"id\":\"4401\",\"type\":\"PanTool\"},{\"attributes\":{\"data\":{\"x\":[1,2,3,4,5,6,7,8,9,10,11,12,13,14,15,16,17,18,19,20],\"y\":[0.8448092937469482,0.8448092937469482,0.8448092937469482,0.8448092937469482,0.8448092937469482,0.8448092937469482,0.8448092937469482,0.8448092937469482,0.8447336554527283,0.8448092937469482,0.8448092937469482,0.8448092937469482,0.8447336554527283,0.8448092937469482,0.8447336554527283,0.8448092937469482,0.8448092937469482,0.8447336554527283,0.8448092937469482,0.8448092937469482]},\"selected\":{\"id\":\"4516\"},\"selection_policy\":{\"id\":\"4517\"}},\"id\":\"4502\",\"type\":\"ColumnDataSource\"},{\"attributes\":{},\"id\":\"4498\",\"type\":\"Selection\"},{\"attributes\":{},\"id\":\"4410\",\"type\":\"DataRange1d\"},{\"attributes\":{\"line_alpha\":0.1,\"line_color\":\"red\",\"x\":{\"field\":\"x\"},\"y\":{\"field\":\"y\"}},\"id\":\"4447\",\"type\":\"Line\"},{\"attributes\":{\"line_color\":\"red\",\"x\":{\"field\":\"x\"},\"y\":{\"field\":\"y\"}},\"id\":\"4503\",\"type\":\"Line\"},{\"attributes\":{},\"id\":\"4403\",\"type\":\"ResetTool\"},{\"attributes\":{},\"id\":\"4412\",\"type\":\"LinearScale\"},{\"attributes\":{\"source\":{\"id\":\"4502\"}},\"id\":\"4506\",\"type\":\"CDSView\"},{\"attributes\":{},\"id\":\"4517\",\"type\":\"UnionRenderers\"},{\"attributes\":{},\"id\":\"4421\",\"type\":\"BasicTicker\"},{\"attributes\":{},\"id\":\"4493\",\"type\":\"AllLabels\"},{\"attributes\":{},\"id\":\"4408\",\"type\":\"DataRange1d\"},{\"attributes\":{\"click_policy\":\"hide\",\"items\":[{\"id\":\"4501\"},{\"id\":\"4518\"}],\"location\":\"bottom_right\"},\"id\":\"4500\",\"type\":\"Legend\"},{\"attributes\":{\"label\":{\"value\":\"Validation loss\"},\"renderers\":[{\"id\":\"4448\"}]},\"id\":\"4461\",\"type\":\"LegendItem\"},{\"attributes\":{},\"id\":\"4459\",\"type\":\"Selection\"},{\"attributes\":{\"axis\":{\"id\":\"4473\"},\"ticker\":null},\"id\":\"4476\",\"type\":\"Grid\"},{\"attributes\":{\"label\":{\"value\":\"validation\"},\"renderers\":[{\"id\":\"4505\"}]},\"id\":\"4518\",\"type\":\"LegendItem\"},{\"attributes\":{},\"id\":\"4439\",\"type\":\"AllLabels\"},{\"attributes\":{\"line_alpha\":0.1,\"line_color\":\"blue\",\"x\":{\"field\":\"x\"},\"y\":{\"field\":\"y\"}},\"id\":\"4488\",\"type\":\"Line\"},{\"attributes\":{\"callback\":null},\"id\":\"4404\",\"type\":\"HoverTool\"},{\"attributes\":{},\"id\":\"4499\",\"type\":\"UnionRenderers\"},{\"attributes\":{\"active_multi\":null,\"tools\":[{\"id\":\"4401\"},{\"id\":\"4402\"},{\"id\":\"4403\"},{\"id\":\"4404\"}]},\"id\":\"4424\",\"type\":\"Toolbar\"},{\"attributes\":{},\"id\":\"4471\",\"type\":\"LinearScale\"},{\"attributes\":{\"data_source\":{\"id\":\"4429\"},\"glyph\":{\"id\":\"4430\"},\"hover_glyph\":null,\"muted_glyph\":null,\"nonselection_glyph\":{\"id\":\"4431\"},\"view\":{\"id\":\"4433\"}},\"id\":\"4432\",\"type\":\"GlyphRenderer\"},{\"attributes\":{},\"id\":\"4438\",\"type\":\"BasicTickFormatter\"},{\"attributes\":{},\"id\":\"4496\",\"type\":\"AllLabels\"},{\"attributes\":{},\"id\":\"4441\",\"type\":\"Selection\"},{\"attributes\":{\"axis_label\":\"Accuracy\",\"formatter\":{\"id\":\"4492\"},\"major_label_policy\":{\"id\":\"4493\"},\"ticker\":{\"id\":\"4478\"}},\"id\":\"4477\",\"type\":\"LinearAxis\"},{\"attributes\":{\"line_alpha\":0.1,\"line_color\":\"blue\",\"x\":{\"field\":\"x\"},\"y\":{\"field\":\"y\"}},\"id\":\"4431\",\"type\":\"Line\"},{\"attributes\":{\"line_color\":\"blue\",\"x\":{\"field\":\"x\"},\"y\":{\"field\":\"y\"}},\"id\":\"4487\",\"type\":\"Line\"},{\"attributes\":{},\"id\":\"4469\",\"type\":\"LinearScale\"},{\"attributes\":{},\"id\":\"4492\",\"type\":\"BasicTickFormatter\"}],\"root_ids\":[\"4519\"]},\"title\":\"Bokeh Application\",\"version\":\"2.3.3\"}};\n",
       "  var render_items = [{\"docid\":\"3d510d1f-a64e-4eca-bfcc-9b8fb9b5b104\",\"root_ids\":[\"4519\"],\"roots\":{\"4519\":\"bae3e242-8c08-435b-8602-ca77684a1d65\"}}];\n",
       "  root.Bokeh.embed.embed_items_notebook(docs_json, render_items);\n",
       "\n",
       "  }\n",
       "  if (root.Bokeh !== undefined) {\n",
       "    embed_document(root);\n",
       "  } else {\n",
       "    var attempts = 0;\n",
       "    var timer = setInterval(function(root) {\n",
       "      if (root.Bokeh !== undefined) {\n",
       "        clearInterval(timer);\n",
       "        embed_document(root);\n",
       "      } else {\n",
       "        attempts++;\n",
       "        if (attempts > 100) {\n",
       "          clearInterval(timer);\n",
       "          console.log(\"Bokeh: ERROR: Unable to run BokehJS code because BokehJS library is missing\");\n",
       "        }\n",
       "      }\n",
       "    }, 10, root)\n",
       "  }\n",
       "})(window);"
      ],
      "application/vnd.bokehjs_exec.v0+json": ""
     },
     "metadata": {
      "application/vnd.bokehjs_exec.v0+json": {
       "id": "4519"
      }
     },
     "output_type": "display_data"
    }
   ],
   "source": [
    "plot_results(history)"
   ]
  },
  {
   "cell_type": "markdown",
   "id": "5674d686-029f-43b0-ad78-c0835c1f0ce0",
   "metadata": {},
   "source": [
    "### Try undersampling"
   ]
  },
  {
   "cell_type": "code",
   "execution_count": null,
   "id": "419f97fb-6c0c-44d2-a558-23d0b22725ea",
   "metadata": {},
   "outputs": [],
   "source": []
  },
  {
   "cell_type": "code",
   "execution_count": null,
   "id": "29d0f2d3-4269-41ed-aab0-317d57c4a5a3",
   "metadata": {},
   "outputs": [],
   "source": []
  },
  {
   "cell_type": "markdown",
   "id": "a165f65e-a7c4-4698-b9dc-22ae00a4e7f2",
   "metadata": {},
   "source": [
    "## Summary of findings: \n",
    "\n",
    "|Experiment #|PCA?|# of hidden layers|# of nodes/layer|activation|dropout|batch_size|epochs|val_split|roc_auc|\n",
    "|------------|----|------------------|----------------|----------|-------|----------|------|---------|-------|\n",
    "| # 1 A      | NO |     2            |     200, 50    | sigmoid  | 0.2   | 16       | 10   | 0.1     | 0.68  |\n",
    "| # 1 B      | YES|     2            |     200, 50    | sigmoid  | 0.2   | 16       | 10   | 0.1     | 0.67  |\n",
    "| # 2 A      | NO |     3            |  300, 100, 50  | relu     | 2-0.2 | 16       | 30   | 0.1     | 0.68  |\n",
    "| # 2 B      | YES|     3            |  300, 100, 50  | relu     | 2-0.2 | 16       | 30   | 0.1     | 0.67  |\n",
    "| # 3 A      | NO |     4            |400, 200, 100,50| relu     |0.4,0.2| 16       | 20   | 0.1     | 0.68  |\n",
    "| # 3 B      | YES|     4            |400, 200, 100,50| relu     |0.4,0.2| 16       | 20   | 0.1     | 0.67  |"
   ]
  }
 ],
 "metadata": {
  "kernelspec": {
   "display_name": "Python 3 (ipykernel)",
   "language": "python",
   "name": "python3"
  },
  "language_info": {
   "codemirror_mode": {
    "name": "ipython",
    "version": 3
   },
   "file_extension": ".py",
   "mimetype": "text/x-python",
   "name": "python",
   "nbconvert_exporter": "python",
   "pygments_lexer": "ipython3",
   "version": "3.8.11"
  }
 },
 "nbformat": 4,
 "nbformat_minor": 5
}
