{
 "cells": [
  {
   "cell_type": "code",
   "execution_count": 32,
   "id": "76aed3e8-e3ae-4090-98b0-854afef419f4",
   "metadata": {},
   "outputs": [],
   "source": [
    "import pandas as pd\n",
    "import numpy as np\n",
    "import matplotlib.pyplot as plt\n",
    "from sklearn.ensemble import RandomForestClassifier, AdaBoostClassifier, GradientBoostingClassifier\n",
    "from sklearn.preprocessing import StandardScaler, QuantileTransformer\n",
    "from lightgbm import LGBMClassifier\n",
    "from sklearn.model_selection import GridSearchCV\n",
    "from sklearn.linear_model import LogisticRegression\n",
    "\n",
    "from sklearn.metrics import roc_auc_score,confusion_matrix\n",
    "from sklearn.model_selection import train_test_split\n",
    "import copy\n",
    "from imblearn.under_sampling import RandomUnderSampler\n",
    "from imblearn.over_sampling import RandomOverSampler\n",
    "\n",
    "import torch\n",
    "import torch.nn as nn\n",
    "import torch.nn.functional as F\n",
    "from torchvision import datasets, transforms\n",
    "from torch.utils.data import Dataset, DataLoader\n",
    "\n",
    "import matplotlib.pyplot as plt"
   ]
  },
  {
   "cell_type": "code",
   "execution_count": 5,
   "id": "cffb5e85-00b8-4046-8bdb-863ec7aace61",
   "metadata": {},
   "outputs": [],
   "source": [
    "def standard_scalar_normalize(data_train, data_test): \n",
    "    scaler = StandardScaler()\n",
    "    scaler.fit(data_train)\n",
    "    normal_data_train = scaler.transform(data_train)\n",
    "    normal_data_test = scaler.transform(data_test)\n",
    "    return normal_data_train,normal_data_test"
   ]
  },
  {
   "cell_type": "code",
   "execution_count": 9,
   "id": "0e2edac3-3324-44dc-917a-9ca1b8063fa5",
   "metadata": {},
   "outputs": [],
   "source": [
    "def quantile_transform(data_train, data_test):\n",
    "    scaler = QuantileTransformer(random_state=0)\n",
    "    scaled_data_train = scaler.fit_transform(data_train)\n",
    "    scaled_data_test = scaler.transform(data_test)\n",
    "    return scaled_data_train, scaled_data_test"
   ]
  },
  {
   "cell_type": "code",
   "execution_count": 10,
   "id": "882405be-11aa-47bc-b5cc-6b233867a626",
   "metadata": {},
   "outputs": [],
   "source": [
    "def data_processed():\n",
    "    '''\n",
    "    Used to read & normalize processed test and train data\n",
    "    '''\n",
    "    data_train=pd.read_csv(\"data/2022-02-07_LOANS_TRAIN.csv\")\n",
    "    data_test=pd.read_csv(\"data/2022-02-07_LOANS_TEST.csv\")\n",
    "    y_train=data_train['loan_status']\n",
    "    data_train.drop(columns=['loan_status', 'id', 'issue_d_in_months', 'issue_d_year', 'zip_state_match', \n",
    "                               'AK', 'AL', 'AR', 'AZ', 'CA', 'CO', 'CT', 'DC', 'DE', 'FL', 'GA', 'HI',\n",
    "                               'IA', 'ID', 'IL', 'IN', 'KS', 'KY', 'LA', 'MA', 'MD', 'ME', 'MI', 'MN',\n",
    "                               'MO', 'MS', 'MT', 'NC', 'ND', 'NE', 'NH', 'NJ', 'NM', 'NV', 'NY', 'OH',\n",
    "                               'OK', 'OR', 'PA', 'RI', 'SC', 'SD', 'TN', 'TX', 'UT', 'VA', 'VT', 'WA',\n",
    "                               'WI', 'WV', 'WY'], inplace=True)\n",
    "    \n",
    "    data_test.drop(columns=['id', 'issue_d_in_months', 'issue_d_year', 'zip_state_match', \n",
    "                           'AK', 'AL', 'AR', 'AZ', 'CA', 'CO', 'CT', 'DC', 'DE', 'FL', 'GA', 'HI',\n",
    "                           'IA', 'ID', 'IL', 'IN', 'KS', 'KY', 'LA', 'MA', 'MD', 'ME', 'MI', 'MN',\n",
    "                           'MO', 'MS', 'MT', 'NC', 'ND', 'NE', 'NH', 'NJ', 'NM', 'NV', 'NY', 'OH',\n",
    "                           'OK', 'OR', 'PA', 'RI', 'SC', 'SD', 'TN', 'TX', 'UT', 'VA', 'VT', 'WA',\n",
    "                           'WI', 'WV', 'WY'], inplace=True)\n",
    "    \n",
    "    normal_data_train,normal_data_test=standard_scalar_normalize(data_train,data_test)\n",
    "    scaled_data_train, scaled_data_test = quantile_transform(normal_data_train, normal_data_test)\n",
    "    return normal_data_train,normal_data_test,y_train\n",
    "\n",
    "def AUC_score(y_ground_truth,y_predicted_probability):\n",
    "    return roc_auc_score(y_ground_truth, y_predicted_probability)\n"
   ]
  },
  {
   "cell_type": "code",
   "execution_count": 11,
   "id": "c7914ec0-2ead-49f0-ba2b-96b5ba576c2b",
   "metadata": {},
   "outputs": [],
   "source": [
    "X_train_full,X_test,Y_train_full=data_processed()\n",
    "X_train, X_val, Y_train, Y_val = train_test_split(X_train_full, Y_train_full, train_size=0.80, random_state=42)\n",
    "\n",
    "## We use class balancing or sample weighting for all the models, so no need for oversampling. See gc_ensemble_trees for oversampling code"
   ]
  },
  {
   "cell_type": "markdown",
   "id": "bb7f1f37-1a74-4428-8883-15c26e95ed62",
   "metadata": {},
   "source": [
    "## Gradient Boosting Classifier"
   ]
  },
  {
   "cell_type": "code",
   "execution_count": 12,
   "id": "1623a642-c203-4fdb-b299-635ba195d02b",
   "metadata": {},
   "outputs": [
    {
     "data": {
      "text/plain": [
       "0.689499088444349"
      ]
     },
     "execution_count": 12,
     "metadata": {},
     "output_type": "execute_result"
    }
   ],
   "source": [
    "gb_clf = GradientBoostingClassifier(max_depth=3, n_estimators=250, random_state=0)\n",
    "gb_clf.fit(X_train, Y_train, sample_weight=copy.deepcopy(Y_train)*4 + 1)\n",
    "Y_train_pred_gb=gb_clf.predict(X_train)\n",
    "Y_val_pred_gb=gb_clf.predict(X_val)\n",
    "Y_val_pred_prob_gb=gb_clf.predict_proba(X_val)[:,1]\n",
    "roc_auc_score(Y_val,Y_val_pred_prob_gb)"
   ]
  },
  {
   "cell_type": "code",
   "execution_count": 13,
   "id": "4a283f52-2ec3-46cc-bd9e-56ae312a84fd",
   "metadata": {},
   "outputs": [],
   "source": [
    "Y_train_pred_prob_gb=gb_clf.predict_proba(X_train)[:,1]\n"
   ]
  },
  {
   "cell_type": "code",
   "execution_count": 14,
   "id": "0242ce4e-f892-4036-8f94-06cc7ed39eae",
   "metadata": {},
   "outputs": [
    {
     "data": {
      "text/plain": [
       "array([[ 2514, 30834],\n",
       "       [   82,  6020]])"
      ]
     },
     "execution_count": 14,
     "metadata": {},
     "output_type": "execute_result"
    }
   ],
   "source": [
    "confusion_matrix(Y_val,Y_val_pred_gb)"
   ]
  },
  {
   "cell_type": "code",
   "execution_count": 15,
   "id": "337e5ed7-4c74-44ef-a26a-3a5804a499c1",
   "metadata": {},
   "outputs": [
    {
     "data": {
      "text/plain": [
       "0.14591565518288074"
      ]
     },
     "execution_count": 15,
     "metadata": {},
     "output_type": "execute_result"
    }
   ],
   "source": [
    "np.std(Y_val_pred_prob_gb)"
   ]
  },
  {
   "cell_type": "markdown",
   "id": "1900be58-18d5-41b5-aa4e-842a36059df5",
   "metadata": {},
   "source": [
    "## LGBM Classifier"
   ]
  },
  {
   "cell_type": "code",
   "execution_count": 16,
   "id": "3ddd3183-7e97-4229-ae54-89b912e3dd58",
   "metadata": {},
   "outputs": [
    {
     "data": {
      "text/plain": [
       "0.6915276501544827"
      ]
     },
     "execution_count": 16,
     "metadata": {},
     "output_type": "execute_result"
    }
   ],
   "source": [
    "lgbm_clf = LGBMClassifier(class_weight='balanced', max_depth=11, min_child_samples=60, n_estimators=80)\n",
    "lgbm_clf.fit(X_train, Y_train)\n",
    "Y_train_pred_lgbm=lgbm_clf.predict(X_train)\n",
    "Y_val_pred_lgbm=lgbm_clf.predict(X_val)\n",
    "Y_val_pred_prob_lgbm=lgbm_clf.predict_proba(X_val)[:,1]\n",
    "roc_auc_score(Y_val,Y_val_pred_prob_lgbm)"
   ]
  },
  {
   "cell_type": "code",
   "execution_count": 17,
   "id": "affa279c-c71f-4ae5-bedf-d5b62e0d67d8",
   "metadata": {},
   "outputs": [],
   "source": [
    "Y_train_pred_prob_lgbm=lgbm_clf.predict_proba(X_train)[:,1]\n"
   ]
  },
  {
   "cell_type": "code",
   "execution_count": 18,
   "id": "aad79ce4-3955-484a-9db2-827b7757f5de",
   "metadata": {},
   "outputs": [
    {
     "data": {
      "text/plain": [
       "array([[20915, 12433],\n",
       "       [ 2147,  3955]])"
      ]
     },
     "execution_count": 18,
     "metadata": {},
     "output_type": "execute_result"
    }
   ],
   "source": [
    "confusion_matrix(Y_val,Y_val_pred_lgbm)"
   ]
  },
  {
   "cell_type": "code",
   "execution_count": 19,
   "id": "034f7b7c-31a9-43ea-a532-4c05d406f820",
   "metadata": {},
   "outputs": [
    {
     "data": {
      "text/plain": [
       "0.1688596771713375"
      ]
     },
     "execution_count": 19,
     "metadata": {},
     "output_type": "execute_result"
    }
   ],
   "source": [
    "np.std(Y_val_pred_prob_lgbm)"
   ]
  },
  {
   "cell_type": "code",
   "execution_count": 20,
   "id": "d0372e08-0080-4d92-900b-6938bfd014af",
   "metadata": {},
   "outputs": [
    {
     "data": {
      "text/plain": [
       "0.6921475396449948"
      ]
     },
     "execution_count": 20,
     "metadata": {},
     "output_type": "execute_result"
    }
   ],
   "source": [
    "lgbm_clf2 = LGBMClassifier(class_weight='balanced', max_depth=5, min_child_samples=75, n_estimators=120)\n",
    "lgbm_clf2.fit(X_train, Y_train)\n",
    "Y_train_pred_lgbm2=lgbm_clf2.predict(X_train)\n",
    "Y_val_pred_lgbm2=lgbm_clf2.predict(X_val)\n",
    "Y_val_pred_prob_lgbm2=lgbm_clf2.predict_proba(X_val)[:,1]\n",
    "roc_auc_score(Y_val,Y_val_pred_prob_lgbm2)"
   ]
  },
  {
   "cell_type": "code",
   "execution_count": 21,
   "id": "c33352b2-20d7-4640-bc7b-71d141f03d2e",
   "metadata": {},
   "outputs": [],
   "source": [
    "Y_train_pred_prob_lgbm2=lgbm_clf2.predict_proba(X_train)[:,1]\n"
   ]
  },
  {
   "cell_type": "code",
   "execution_count": 22,
   "id": "0295f74d-224b-44ac-a565-e5a3e2eb7968",
   "metadata": {},
   "outputs": [
    {
     "data": {
      "text/plain": [
       "array([[21066, 12282],\n",
       "       [ 2170,  3932]])"
      ]
     },
     "execution_count": 22,
     "metadata": {},
     "output_type": "execute_result"
    }
   ],
   "source": [
    "confusion_matrix(Y_val,Y_val_pred_lgbm2)"
   ]
  },
  {
   "cell_type": "markdown",
   "id": "751d6bcd-4ab3-4f90-9978-ff688d0f4e78",
   "metadata": {},
   "source": [
    "## Random Forest Classifier "
   ]
  },
  {
   "cell_type": "code",
   "execution_count": 23,
   "id": "ca607699-bec6-4a9d-8759-6df2c3fc30d0",
   "metadata": {},
   "outputs": [
    {
     "data": {
      "text/plain": [
       "0.6895619024974144"
      ]
     },
     "execution_count": 23,
     "metadata": {},
     "output_type": "execute_result"
    }
   ],
   "source": [
    "rf_clf = RandomForestClassifier(class_weight='balanced', max_depth=20, min_samples_leaf=25, n_estimators=400)\n",
    "rf_clf.fit(X_train, Y_train)\n",
    "Y_train_pred_rf=rf_clf.predict(X_train)\n",
    "Y_val_pred_rf=rf_clf.predict(X_val)\n",
    "Y_val_pred_prob_rf=rf_clf.predict_proba(X_val)[:,1]\n",
    "roc_auc_score(Y_val,Y_val_pred_prob_rf)"
   ]
  },
  {
   "cell_type": "code",
   "execution_count": 24,
   "id": "1cb4f79b-c468-4b57-bdad-db20f40c37dc",
   "metadata": {},
   "outputs": [],
   "source": [
    "Y_train_pred_prob_rf=rf_clf.predict_proba(X_train)[:,1]\n"
   ]
  },
  {
   "cell_type": "code",
   "execution_count": 25,
   "id": "22e03ae7-ad4f-4a7c-b183-73c12ef22554",
   "metadata": {},
   "outputs": [
    {
     "data": {
      "text/plain": [
       "array([[25528,  7820],\n",
       "       [ 3156,  2946]])"
      ]
     },
     "execution_count": 25,
     "metadata": {},
     "output_type": "execute_result"
    }
   ],
   "source": [
    "confusion_matrix(Y_val,Y_val_pred_rf)"
   ]
  },
  {
   "cell_type": "code",
   "execution_count": 26,
   "id": "cde25f86-74aa-4a59-93ba-e8ebbb57f29a",
   "metadata": {},
   "outputs": [
    {
     "data": {
      "text/plain": [
       "0.15076759764574046"
      ]
     },
     "execution_count": 26,
     "metadata": {},
     "output_type": "execute_result"
    }
   ],
   "source": [
    "np.std(Y_val_pred_prob_rf)"
   ]
  },
  {
   "cell_type": "code",
   "execution_count": 27,
   "id": "e9070eb3-581f-4f0d-bb10-58e33d571868",
   "metadata": {},
   "outputs": [
    {
     "data": {
      "text/plain": [
       "<matplotlib.collections.PathCollection at 0x7f910844b760>"
      ]
     },
     "execution_count": 27,
     "metadata": {},
     "output_type": "execute_result"
    },
    {
     "data": {
      "image/png": "[encoded data removed]",
      "text/plain": [
       "<Figure size 432x288 with 1 Axes>"
      ]
     },
     "metadata": {
      "needs_background": "light"
     },
     "output_type": "display_data"
    }
   ],
   "source": [
    "plt.scatter(Y_val_pred_prob_rf, Y_val_pred_prob_lgbm, alpha=0.25)\n"
   ]
  },
  {
   "cell_type": "markdown",
   "id": "c8cd3bb4-078e-4f54-aa1c-39c36ed3e3db",
   "metadata": {},
   "source": [
    "## Use average voting"
   ]
  },
  {
   "cell_type": "code",
   "execution_count": 29,
   "id": "98c4e096-4049-4ed6-8c9b-3619d1bd5209",
   "metadata": {},
   "outputs": [
    {
     "name": "stdout",
     "output_type": "stream",
     "text": [
      "0.6927631537305494\n"
     ]
    },
    {
     "data": {
      "text/plain": [
       "array([[15955, 17393],\n",
       "       [ 1340,  4762]])"
      ]
     },
     "execution_count": 29,
     "metadata": {},
     "output_type": "execute_result"
    }
   ],
   "source": [
    "Y_average = np.mean([Y_val_pred_prob_lgbm,Y_val_pred_prob_rf,Y_val_pred_prob_gb, Y_val_pred_prob_lgbm2], axis=0)\n",
    "\n",
    "print(AUC_score(Y_val,Y_average))\n",
    "\n",
    "Y_average[Y_average>=0.5] = 1\n",
    "Y_average[Y_average<0.5] = 0\n",
    "confusion_matrix(Y_val,Y_average)"
   ]
  },
  {
   "cell_type": "markdown",
   "id": "f72a7824-67c3-4795-aad4-3755765eef40",
   "metadata": {},
   "source": [
    "## Output to submission"
   ]
  },
  {
   "cell_type": "code",
   "execution_count": 30,
   "id": "a0a6eec2-1563-4f41-a575-d7486c58a96a",
   "metadata": {},
   "outputs": [],
   "source": [
    "gb_clf_full = GradientBoostingClassifier(max_depth=3, n_estimators=250, random_state=0)\n",
    "gb_clf_full.fit(X_train_full, Y_train_full, sample_weight=copy.deepcopy(Y_train_full)*4 + 1)\n",
    "Y_test_pred_prob_gb=gb_clf_full.predict_proba(X_test)[:,1]\n",
    "\n",
    "\n",
    "lgbm_clf_full = LGBMClassifier(class_weight='balanced', max_depth=11, min_child_samples=60, n_estimators=80)\n",
    "lgbm_clf_full.fit(X_train_full, Y_train_full)\n",
    "Y_test_pred_prob_lgbm=lgbm_clf_full.predict_proba(X_test)[:,1]\n",
    "\n",
    "lgbm_clf_full2 = LGBMClassifier(class_weight='balanced', max_depth=5, min_child_samples=75, n_estimators=120)\n",
    "lgbm_clf_full2.fit(X_train_full, Y_train_full)\n",
    "Y_test_pred_prob_lgbm2=lgbm_clf_full2.predict_proba(X_test)[:,1]\n",
    "\n",
    "\n",
    "rf_clf_full = RandomForestClassifier(class_weight='balanced', max_depth=20, min_samples_leaf=25, n_estimators=400)\n",
    "rf_clf_full.fit(X_train_full, Y_train_full)\n",
    "Y_test_pred_prob_rf=rf_clf_full.predict_proba(X_test)[:,1]\n",
    "\n",
    "test_probs = [Y_test_pred_prob_lgbm,Y_test_pred_prob_rf, Y_test_pred_prob_gb, Y_test_pred_prob_lgbm2]\n"
   ]
  },
  {
   "cell_type": "code",
   "execution_count": 31,
   "id": "62ec3a23-0870-4662-b0d6-fc29c81f8128",
   "metadata": {},
   "outputs": [],
   "source": [
    "def to_submission(ids, y_test_predicted_probability):\n",
    "    y_test=pd.DataFrame(y_test_predicted_probability,columns=['loan_status'], index=ids)\n",
    "    y_test.index.name = 'id'\n",
    "    y_test.to_csv('data/submission.csv')\n",
    "    return\n",
    "\n",
    "Y_test_average = np.mean(test_probs, axis=0)\n",
    "to_submission(pd.read_csv(\"data/2022-02-07_LOANS_TEST.csv\")['id'].values, Y_test_average)"
   ]
  }
 ],
 "metadata": {
  "kernelspec": {
   "display_name": "Python 3 (ipykernel)",
   "language": "python",
   "name": "python3"
  },
  "language_info": {
   "codemirror_mode": {
    "name": "ipython",
    "version": 3
   },
   "file_extension": ".py",
   "mimetype": "text/x-python",
   "name": "python",
   "nbconvert_exporter": "python",
   "pygments_lexer": "ipython3",
   "version": "3.8.12"
  }
 },
 "nbformat": 4,
 "nbformat_minor": 5
}
