{
 "cells": [
  {
   "cell_type": "markdown",
   "id": "7aa70325-e123-4eaa-b16d-e04804992903",
   "metadata": {},
   "source": [
    "# Neural Network\n",
    "\n",
    "Goals of this notebook: \n",
    "- Experiment with different neural network architectures. Try \n",
    "    - leaky relu activation, \n",
    "    - different drop outs, \n",
    "    - lower # of epochs, \n",
    "    - undersampling, \n",
    "    - a larger validation split.\n",
    "- try hyperparameter optimization"
   ]
  },
  {
   "cell_type": "code",
   "execution_count": 118,
   "id": "f3ca356e-04a0-4eaf-b373-552c10685329",
   "metadata": {},
   "outputs": [
    {
     "data": {
      "text/html": [
       "\n",
       "    <div class=\"bk-root\">\n",
       "        <a href=\"https://bokeh.org\" target=\"_blank\" class=\"bk-logo bk-logo-small bk-logo-notebook\"></a>\n",
       "        <span id=\"5986\">Loading BokehJS ...</span>\n",
       "    </div>"
      ]
     },
     "metadata": {},
     "output_type": "display_data"
    },
    {
     "data": {
      "application/javascript": [
       "\n",
       "(function(root) {\n",
       "  function now() {\n",
       "    return new Date();\n",
       "  }\n",
       "\n",
       "  var force = true;\n",
       "\n",
       "  if (typeof root._bokeh_onload_callbacks === \"undefined\" || force === true) {\n",
       "    root._bokeh_onload_callbacks = [];\n",
       "    root._bokeh_is_loading = undefined;\n",
       "  }\n",
       "\n",
       "  var JS_MIME_TYPE = 'application/javascript';\n",
       "  var HTML_MIME_TYPE = 'text/html';\n",
       "  var EXEC_MIME_TYPE = 'application/vnd.bokehjs_exec.v0+json';\n",
       "  var CLASS_NAME = 'output_bokeh rendered_html';\n",
       "\n",
       "  /**\n",
       "   * Render data to the DOM node\n",
       "   */\n",
       "  function render(props, node) {\n",
       "    var script = document.createElement(\"script\");\n",
       "    node.appendChild(script);\n",
       "  }\n",
       "\n",
       "  /**\n",
       "   * Handle when an output is cleared or removed\n",
       "   */\n",
       "  function handleClearOutput(event, handle) {\n",
       "    var cell = handle.cell;\n",
       "\n",
       "    var id = cell.output_area._bokeh_element_id;\n",
       "    var server_id = cell.output_area._bokeh_server_id;\n",
       "    // Clean up Bokeh references\n",
       "    if (id != null && id in Bokeh.index) {\n",
       "      Bokeh.index[id].model.document.clear();\n",
       "      delete Bokeh.index[id];\n",
       "    }\n",
       "\n",
       "    if (server_id !== undefined) {\n",
       "      // Clean up Bokeh references\n",
       "      var cmd = \"from bokeh.io.state import curstate; print(curstate().uuid_to_server['\" + server_id + \"'].get_sessions()[0].document.roots[0]._id)\";\n",
       "      cell.notebook.kernel.execute(cmd, {\n",
       "        iopub: {\n",
       "          output: function(msg) {\n",
       "            var id = msg.content.text.trim();\n",
       "            if (id in Bokeh.index) {\n",
       "              Bokeh.index[id].model.document.clear();\n",
       "              delete Bokeh.index[id];\n",
       "            }\n",
       "          }\n",
       "        }\n",
       "      });\n",
       "      // Destroy server and session\n",
       "      var cmd = \"import bokeh.io.notebook as ion; ion.destroy_server('\" + server_id + \"')\";\n",
       "      cell.notebook.kernel.execute(cmd);\n",
       "    }\n",
       "  }\n",
       "\n",
       "  /**\n",
       "   * Handle when a new output is added\n",
       "   */\n",
       "  function handleAddOutput(event, handle) {\n",
       "    var output_area = handle.output_area;\n",
       "    var output = handle.output;\n",
       "\n",
       "    // limit handleAddOutput to display_data with EXEC_MIME_TYPE content only\n",
       "    if ((output.output_type != \"display_data\") || (!Object.prototype.hasOwnProperty.call(output.data, EXEC_MIME_TYPE))) {\n",
       "      return\n",
       "    }\n",
       "\n",
       "    var toinsert = output_area.element.find(\".\" + CLASS_NAME.split(' ')[0]);\n",
       "\n",
       "    if (output.metadata[EXEC_MIME_TYPE][\"id\"] !== undefined) {\n",
       "      toinsert[toinsert.length - 1].firstChild.textContent = output.data[JS_MIME_TYPE];\n",
       "      // store reference to embed id on output_area\n",
       "      output_area._bokeh_element_id = output.metadata[EXEC_MIME_TYPE][\"id\"];\n",
       "    }\n",
       "    if (output.metadata[EXEC_MIME_TYPE][\"server_id\"] !== undefined) {\n",
       "      var bk_div = document.createElement(\"div\");\n",
       "      bk_div.innerHTML = output.data[HTML_MIME_TYPE];\n",
       "      var script_attrs = bk_div.children[0].attributes;\n",
       "      for (var i = 0; i < script_attrs.length; i++) {\n",
       "        toinsert[toinsert.length - 1].firstChild.setAttribute(script_attrs[i].name, script_attrs[i].value);\n",
       "        toinsert[toinsert.length - 1].firstChild.textContent = bk_div.children[0].textContent\n",
       "      }\n",
       "      // store reference to server id on output_area\n",
       "      output_area._bokeh_server_id = output.metadata[EXEC_MIME_TYPE][\"server_id\"];\n",
       "    }\n",
       "  }\n",
       "\n",
       "  function register_renderer(events, OutputArea) {\n",
       "\n",
       "    function append_mime(data, metadata, element) {\n",
       "      // create a DOM node to render to\n",
       "      var toinsert = this.create_output_subarea(\n",
       "        metadata,\n",
       "        CLASS_NAME,\n",
       "        EXEC_MIME_TYPE\n",
       "      );\n",
       "      this.keyboard_manager.register_events(toinsert);\n",
       "      // Render to node\n",
       "      var props = {data: data, metadata: metadata[EXEC_MIME_TYPE]};\n",
       "      render(props, toinsert[toinsert.length - 1]);\n",
       "      element.append(toinsert);\n",
       "      return toinsert\n",
       "    }\n",
       "\n",
       "    /* Handle when an output is cleared or removed */\n",
       "    events.on('clear_output.CodeCell', handleClearOutput);\n",
       "    events.on('delete.Cell', handleClearOutput);\n",
       "\n",
       "    /* Handle when a new output is added */\n",
       "    events.on('output_added.OutputArea', handleAddOutput);\n",
       "\n",
       "    /**\n",
       "     * Register the mime type and append_mime function with output_area\n",
       "     */\n",
       "    OutputArea.prototype.register_mime_type(EXEC_MIME_TYPE, append_mime, {\n",
       "      /* Is output safe? */\n",
       "      safe: true,\n",
       "      /* Index of renderer in `output_area.display_order` */\n",
       "      index: 0\n",
       "    });\n",
       "  }\n",
       "\n",
       "  // register the mime type if in Jupyter Notebook environment and previously unregistered\n",
       "  if (root.Jupyter !== undefined) {\n",
       "    var events = require('base/js/events');\n",
       "    var OutputArea = require('notebook/js/outputarea').OutputArea;\n",
       "\n",
       "    if (OutputArea.prototype.mime_types().indexOf(EXEC_MIME_TYPE) == -1) {\n",
       "      register_renderer(events, OutputArea);\n",
       "    }\n",
       "  }\n",
       "\n",
       "  \n",
       "  if (typeof (root._bokeh_timeout) === \"undefined\" || force === true) {\n",
       "    root._bokeh_timeout = Date.now() + 5000;\n",
       "    root._bokeh_failed_load = false;\n",
       "  }\n",
       "\n",
       "  var NB_LOAD_WARNING = {'data': {'text/html':\n",
       "     \"<div style='background-color: #fdd'>\\n\"+\n",
       "     \"<p>\\n\"+\n",
       "     \"BokehJS does not appear to have successfully loaded. If loading BokehJS from CDN, this \\n\"+\n",
       "     \"may be due to a slow or bad network connection. Possible fixes:\\n\"+\n",
       "     \"</p>\\n\"+\n",
       "     \"<ul>\\n\"+\n",
       "     \"<li>re-rerun `output_notebook()` to attempt to load from CDN again, or</li>\\n\"+\n",
       "     \"<li>use INLINE resources instead, as so:</li>\\n\"+\n",
       "     \"</ul>\\n\"+\n",
       "     \"<code>\\n\"+\n",
       "     \"from bokeh.resources import INLINE\\n\"+\n",
       "     \"output_notebook(resources=INLINE)\\n\"+\n",
       "     \"</code>\\n\"+\n",
       "     \"</div>\"}};\n",
       "\n",
       "  function display_loaded() {\n",
       "    var el = document.getElementById(\"5986\");\n",
       "    if (el != null) {\n",
       "      el.textContent = \"BokehJS is loading...\";\n",
       "    }\n",
       "    if (root.Bokeh !== undefined) {\n",
       "      if (el != null) {\n",
       "        el.textContent = \"BokehJS \" + root.Bokeh.version + \" successfully loaded.\";\n",
       "      }\n",
       "    } else if (Date.now() < root._bokeh_timeout) {\n",
       "      setTimeout(display_loaded, 100)\n",
       "    }\n",
       "  }\n",
       "\n",
       "\n",
       "  function run_callbacks() {\n",
       "    try {\n",
       "      root._bokeh_onload_callbacks.forEach(function(callback) {\n",
       "        if (callback != null)\n",
       "          callback();\n",
       "      });\n",
       "    } finally {\n",
       "      delete root._bokeh_onload_callbacks\n",
       "    }\n",
       "    console.debug(\"Bokeh: all callbacks have finished\");\n",
       "  }\n",
       "\n",
       "  function load_libs(css_urls, js_urls, callback) {\n",
       "    if (css_urls == null) css_urls = [];\n",
       "    if (js_urls == null) js_urls = [];\n",
       "\n",
       "    root._bokeh_onload_callbacks.push(callback);\n",
       "    if (root._bokeh_is_loading > 0) {\n",
       "      console.debug(\"Bokeh: BokehJS is being loaded, scheduling callback at\", now());\n",
       "      return null;\n",
       "    }\n",
       "    if (js_urls == null || js_urls.length === 0) {\n",
       "      run_callbacks();\n",
       "      return null;\n",
       "    }\n",
       "    console.debug(\"Bokeh: BokehJS not loaded, scheduling load and callback at\", now());\n",
       "    root._bokeh_is_loading = css_urls.length + js_urls.length;\n",
       "\n",
       "    function on_load() {\n",
       "      root._bokeh_is_loading--;\n",
       "      if (root._bokeh_is_loading === 0) {\n",
       "        console.debug(\"Bokeh: all BokehJS libraries/stylesheets loaded\");\n",
       "        run_callbacks()\n",
       "      }\n",
       "    }\n",
       "\n",
       "    function on_error(url) {\n",
       "      console.error(\"failed to load \" + url);\n",
       "    }\n",
       "\n",
       "    for (let i = 0; i < css_urls.length; i++) {\n",
       "      const url = css_urls[i];\n",
       "      const element = document.createElement(\"link\");\n",
       "      element.onload = on_load;\n",
       "      element.onerror = on_error.bind(null, url);\n",
       "      element.rel = \"stylesheet\";\n",
       "      element.type = \"text/css\";\n",
       "      element.href = url;\n",
       "      console.debug(\"Bokeh: injecting link tag for BokehJS stylesheet: \", url);\n",
       "      document.body.appendChild(element);\n",
       "    }\n",
       "\n",
       "    const hashes = {\"https://cdn.bokeh.org/bokeh/release/bokeh-2.3.3.min.js\": \"dM3QQsP+wXdHg42wTqW85BjZQdLNNIXqlPw/BgKoExPmTG7ZLML4EGqLMfqHT6ON\", \"https://cdn.bokeh.org/bokeh/release/bokeh-tables-2.3.3.min.js\": \"8x57I4YuIfu8XyZfFo0XVr2WAT8EK4rh/uDe3wF7YuW2FNUSNEpJbsPaB1nJ2fz2\", \"https://cdn.bokeh.org/bokeh/release/bokeh-widgets-2.3.3.min.js\": \"3QTqdz9LyAm2i0sG5XTePsHec3UHWwVsrOL68SYRoAXsafvfAyqtQ+h440+qIBhS\"};\n",
       "\n",
       "    for (let i = 0; i < js_urls.length; i++) {\n",
       "      const url = js_urls[i];\n",
       "      const element = document.createElement('script');\n",
       "      element.onload = on_load;\n",
       "      element.onerror = on_error.bind(null, url);\n",
       "      element.async = false;\n",
       "      element.src = url;\n",
       "      if (url in hashes) {\n",
       "        element.crossOrigin = \"anonymous\";\n",
       "        element.integrity = \"sha384-\" + hashes[url];\n",
       "      }\n",
       "      console.debug(\"Bokeh: injecting script tag for BokehJS library: \", url);\n",
       "      document.head.appendChild(element);\n",
       "    }\n",
       "  };\n",
       "\n",
       "  function inject_raw_css(css) {\n",
       "    const element = document.createElement(\"style\");\n",
       "    element.appendChild(document.createTextNode(css));\n",
       "    document.body.appendChild(element);\n",
       "  }\n",
       "\n",
       "  \n",
       "  var js_urls = [\"https://cdn.bokeh.org/bokeh/release/bokeh-2.3.3.min.js\", \"https://cdn.bokeh.org/bokeh/release/bokeh-widgets-2.3.3.min.js\", \"https://cdn.bokeh.org/bokeh/release/bokeh-tables-2.3.3.min.js\"];\n",
       "  var css_urls = [];\n",
       "  \n",
       "\n",
       "  var inline_js = [\n",
       "    function(Bokeh) {\n",
       "      Bokeh.set_log_level(\"info\");\n",
       "    },\n",
       "    function(Bokeh) {\n",
       "    \n",
       "    \n",
       "    }\n",
       "  ];\n",
       "\n",
       "  function run_inline_js() {\n",
       "    \n",
       "    if (root.Bokeh !== undefined || force === true) {\n",
       "      \n",
       "    for (var i = 0; i < inline_js.length; i++) {\n",
       "      inline_js[i].call(root, root.Bokeh);\n",
       "    }\n",
       "    if (force === true) {\n",
       "        display_loaded();\n",
       "      }} else if (Date.now() < root._bokeh_timeout) {\n",
       "      setTimeout(run_inline_js, 100);\n",
       "    } else if (!root._bokeh_failed_load) {\n",
       "      console.log(\"Bokeh: BokehJS failed to load within specified timeout.\");\n",
       "      root._bokeh_failed_load = true;\n",
       "    } else if (force !== true) {\n",
       "      var cell = $(document.getElementById(\"5986\")).parents('.cell').data().cell;\n",
       "      cell.output_area.append_execute_result(NB_LOAD_WARNING)\n",
       "    }\n",
       "\n",
       "  }\n",
       "\n",
       "  if (root._bokeh_is_loading === 0) {\n",
       "    console.debug(\"Bokeh: BokehJS loaded, going straight to plotting\");\n",
       "    run_inline_js();\n",
       "  } else {\n",
       "    load_libs(css_urls, js_urls, function() {\n",
       "      console.debug(\"Bokeh: BokehJS plotting callback run at\", now());\n",
       "      run_inline_js();\n",
       "    });\n",
       "  }\n",
       "}(window));"
      ],
      "application/vnd.bokehjs_load.v0+json": "\n(function(root) {\n  function now() {\n    return new Date();\n  }\n\n  var force = true;\n\n  if (typeof root._bokeh_onload_callbacks === \"undefined\" || force === true) {\n    root._bokeh_onload_callbacks = [];\n    root._bokeh_is_loading = undefined;\n  }\n\n  \n\n  \n  if (typeof (root._bokeh_timeout) === \"undefined\" || force === true) {\n    root._bokeh_timeout = Date.now() + 5000;\n    root._bokeh_failed_load = false;\n  }\n\n  var NB_LOAD_WARNING = {'data': {'text/html':\n     \"<div style='background-color: #fdd'>\\n\"+\n     \"<p>\\n\"+\n     \"BokehJS does not appear to have successfully loaded. If loading BokehJS from CDN, this \\n\"+\n     \"may be due to a slow or bad network connection. Possible fixes:\\n\"+\n     \"</p>\\n\"+\n     \"<ul>\\n\"+\n     \"<li>re-rerun `output_notebook()` to attempt to load from CDN again, or</li>\\n\"+\n     \"<li>use INLINE resources instead, as so:</li>\\n\"+\n     \"</ul>\\n\"+\n     \"<code>\\n\"+\n     \"from bokeh.resources import INLINE\\n\"+\n     \"output_notebook(resources=INLINE)\\n\"+\n     \"</code>\\n\"+\n     \"</div>\"}};\n\n  function display_loaded() {\n    var el = document.getElementById(\"5986\");\n    if (el != null) {\n      el.textContent = \"BokehJS is loading...\";\n    }\n    if (root.Bokeh !== undefined) {\n      if (el != null) {\n        el.textContent = \"BokehJS \" + root.Bokeh.version + \" successfully loaded.\";\n      }\n    } else if (Date.now() < root._bokeh_timeout) {\n      setTimeout(display_loaded, 100)\n    }\n  }\n\n\n  function run_callbacks() {\n    try {\n      root._bokeh_onload_callbacks.forEach(function(callback) {\n        if (callback != null)\n          callback();\n      });\n    } finally {\n      delete root._bokeh_onload_callbacks\n    }\n    console.debug(\"Bokeh: all callbacks have finished\");\n  }\n\n  function load_libs(css_urls, js_urls, callback) {\n    if (css_urls == null) css_urls = [];\n    if (js_urls == null) js_urls = [];\n\n    root._bokeh_onload_callbacks.push(callback);\n    if (root._bokeh_is_loading > 0) {\n      console.debug(\"Bokeh: BokehJS is being loaded, scheduling callback at\", now());\n      return null;\n    }\n    if (js_urls == null || js_urls.length === 0) {\n      run_callbacks();\n      return null;\n    }\n    console.debug(\"Bokeh: BokehJS not loaded, scheduling load and callback at\", now());\n    root._bokeh_is_loading = css_urls.length + js_urls.length;\n\n    function on_load() {\n      root._bokeh_is_loading--;\n      if (root._bokeh_is_loading === 0) {\n        console.debug(\"Bokeh: all BokehJS libraries/stylesheets loaded\");\n        run_callbacks()\n      }\n    }\n\n    function on_error(url) {\n      console.error(\"failed to load \" + url);\n    }\n\n    for (let i = 0; i < css_urls.length; i++) {\n      const url = css_urls[i];\n      const element = document.createElement(\"link\");\n      element.onload = on_load;\n      element.onerror = on_error.bind(null, url);\n      element.rel = \"stylesheet\";\n      element.type = \"text/css\";\n      element.href = url;\n      console.debug(\"Bokeh: injecting link tag for BokehJS stylesheet: \", url);\n      document.body.appendChild(element);\n    }\n\n    const hashes = {\"https://cdn.bokeh.org/bokeh/release/bokeh-2.3.3.min.js\": \"dM3QQsP+wXdHg42wTqW85BjZQdLNNIXqlPw/BgKoExPmTG7ZLML4EGqLMfqHT6ON\", \"https://cdn.bokeh.org/bokeh/release/bokeh-tables-2.3.3.min.js\": \"8x57I4YuIfu8XyZfFo0XVr2WAT8EK4rh/uDe3wF7YuW2FNUSNEpJbsPaB1nJ2fz2\", \"https://cdn.bokeh.org/bokeh/release/bokeh-widgets-2.3.3.min.js\": \"3QTqdz9LyAm2i0sG5XTePsHec3UHWwVsrOL68SYRoAXsafvfAyqtQ+h440+qIBhS\"};\n\n    for (let i = 0; i < js_urls.length; i++) {\n      const url = js_urls[i];\n      const element = document.createElement('script');\n      element.onload = on_load;\n      element.onerror = on_error.bind(null, url);\n      element.async = false;\n      element.src = url;\n      if (url in hashes) {\n        element.crossOrigin = \"anonymous\";\n        element.integrity = \"sha384-\" + hashes[url];\n      }\n      console.debug(\"Bokeh: injecting script tag for BokehJS library: \", url);\n      document.head.appendChild(element);\n    }\n  };\n\n  function inject_raw_css(css) {\n    const element = document.createElement(\"style\");\n    element.appendChild(document.createTextNode(css));\n    document.body.appendChild(element);\n  }\n\n  \n  var js_urls = [\"https://cdn.bokeh.org/bokeh/release/bokeh-2.3.3.min.js\", \"https://cdn.bokeh.org/bokeh/release/bokeh-widgets-2.3.3.min.js\", \"https://cdn.bokeh.org/bokeh/release/bokeh-tables-2.3.3.min.js\"];\n  var css_urls = [];\n  \n\n  var inline_js = [\n    function(Bokeh) {\n      Bokeh.set_log_level(\"info\");\n    },\n    function(Bokeh) {\n    \n    \n    }\n  ];\n\n  function run_inline_js() {\n    \n    if (root.Bokeh !== undefined || force === true) {\n      \n    for (var i = 0; i < inline_js.length; i++) {\n      inline_js[i].call(root, root.Bokeh);\n    }\n    if (force === true) {\n        display_loaded();\n      }} else if (Date.now() < root._bokeh_timeout) {\n      setTimeout(run_inline_js, 100);\n    } else if (!root._bokeh_failed_load) {\n      console.log(\"Bokeh: BokehJS failed to load within specified timeout.\");\n      root._bokeh_failed_load = true;\n    } else if (force !== true) {\n      var cell = $(document.getElementById(\"5986\")).parents('.cell').data().cell;\n      cell.output_area.append_execute_result(NB_LOAD_WARNING)\n    }\n\n  }\n\n  if (root._bokeh_is_loading === 0) {\n    console.debug(\"Bokeh: BokehJS loaded, going straight to plotting\");\n    run_inline_js();\n  } else {\n    load_libs(css_urls, js_urls, function() {\n      console.debug(\"Bokeh: BokehJS plotting callback run at\", now());\n      run_inline_js();\n    });\n  }\n}(window));"
     },
     "metadata": {},
     "output_type": "display_data"
    }
   ],
   "source": [
    "import numpy as np\n",
    "import pandas as pd\n",
    "\n",
    "import torch\n",
    "import torch.nn as nn\n",
    "import torch.nn.functional as F\n",
    "from sklearn.model_selection import train_test_split\n",
    "from sklearn.metrics import roc_auc_score\n",
    "from sklearn.decomposition import PCA\n",
    "from sklearn.preprocessing import StandardScaler\n",
    "from torchvision import datasets, transforms\n",
    "\n",
    "import tensorflow as tf\n",
    "from tensorflow.keras.utils import to_categorical\n",
    "from tensorflow.keras import models\n",
    "from tensorflow.keras import layers\n",
    "from tensorflow.keras import regularizers\n",
    "\n",
    "from imblearn.under_sampling import RandomUnderSampler\n",
    "\n",
    "import matplotlib.pyplot as plt\n",
    "import bokeh\n",
    "import bokeh.plotting\n",
    "from bokeh.layouts import column, row\n",
    "from bokeh.models import HoverTool,WheelZoomTool, PanTool, ResetTool\n",
    "bokeh.io.output_notebook()"
   ]
  },
  {
   "cell_type": "markdown",
   "id": "e8e1cd55-647d-40f3-976b-43ea707fe76b",
   "metadata": {},
   "source": [
    "#### Load the data, normalize, and split into a training and validation set"
   ]
  },
  {
   "cell_type": "code",
   "execution_count": 119,
   "id": "d7818641-8e3b-491f-9832-1063a59057f5",
   "metadata": {},
   "outputs": [],
   "source": [
    "def data_processed():\n",
    "    '''\n",
    "    Used to read & normalize processed test and train data\n",
    "    '''\n",
    "    data_train = pd.read_csv(\"data/2022-02-07_LOANS_TRAIN.csv\")\n",
    "    data_test = pd.read_csv(\"data/2022-02-07_LOANS_TEST.csv\")\n",
    "    y_train = data_train['loan_status']\n",
    "    data_train.drop('loan_status', 1, inplace=True)\n",
    "    data_train.drop('id', 1, inplace=True)\n",
    "    data_test.drop('id', 1, inplace=True)\n",
    "    \n",
    "    scaler = StandardScaler()\n",
    "    scaler.fit(data_train)\n",
    "    normal_data_train = scaler.transform(data_train)\n",
    "    normal_data_test = scaler.transform(data_test)\n",
    "    \n",
    "    return normal_data_train, normal_data_test, y_train\n",
    "\n",
    "def to_submission(y_test_predicted_probability):\n",
    "    y_test = pd.DataFrame(y_test_predicted_probability, columns=['loan_status'])\n",
    "    y_test.to_csv('data/submission.csv', index_label='id')\n",
    "    return"
   ]
  },
  {
   "cell_type": "code",
   "execution_count": 120,
   "id": "488d73c6-febb-43c0-8760-07307fef49de",
   "metadata": {},
   "outputs": [
    {
     "name": "stderr",
     "output_type": "stream",
     "text": [
      "/var/folders/h7/dxctt03x2vjdfbhcmgymr3400000gn/T/ipykernel_1129/1340814763.py:8: FutureWarning: In a future version of pandas all arguments of DataFrame.drop except for the argument 'labels' will be keyword-only\n",
      "  data_train.drop('loan_status', 1, inplace=True)\n",
      "/var/folders/h7/dxctt03x2vjdfbhcmgymr3400000gn/T/ipykernel_1129/1340814763.py:9: FutureWarning: In a future version of pandas all arguments of DataFrame.drop except for the argument 'labels' will be keyword-only\n",
      "  data_train.drop('id', 1, inplace=True)\n",
      "/var/folders/h7/dxctt03x2vjdfbhcmgymr3400000gn/T/ipykernel_1129/1340814763.py:10: FutureWarning: In a future version of pandas all arguments of DataFrame.drop except for the argument 'labels' will be keyword-only\n",
      "  data_test.drop('id', 1, inplace=True)\n"
     ]
    },
    {
     "name": "stdout",
     "output_type": "stream",
     "text": [
      "\n",
      "X_train shape: (197250, 92)\n",
      "y_train shape: (197250,)\n",
      "\n"
     ]
    },
    {
     "name": "stderr",
     "output_type": "stream",
     "text": [
      "/Users/rahma/opt/anaconda3/lib/python3.8/site-packages/sklearn/base.py:493: FutureWarning: The feature names should match those that were passed during fit. Starting version 1.2, an error will be raised.\n",
      "Feature names must be in the same order as they were in fit.\n",
      "\n",
      "  warnings.warn(message, FutureWarning)\n"
     ]
    }
   ],
   "source": [
    "X_train, X_test, y_train = data_processed()\n",
    "\n",
    "print(f\"\"\"\n",
    "X_train shape: {X_train.shape}\n",
    "y_train shape: {y_train.shape}\n",
    "\"\"\")"
   ]
  },
  {
   "cell_type": "markdown",
   "id": "923674fe-e608-4dd5-ab3d-919e02fbdb3f",
   "metadata": {},
   "source": [
    "### Try undersampling the data"
   ]
  },
  {
   "cell_type": "code",
   "execution_count": 121,
   "id": "ea239638-9f19-4c39-91d7-1c7d40f8897e",
   "metadata": {},
   "outputs": [
    {
     "name": "stdout",
     "output_type": "stream",
     "text": [
      "\n",
      "X_train shape: (60448, 92)\n",
      "y_train shape: (60448,)\n",
      "\n"
     ]
    }
   ],
   "source": [
    "fraction = 1\n",
    "rus = RandomUnderSampler(random_state=0, sampling_strategy=fraction)\n",
    "X_train, y_train = rus.fit_resample(X_train, y_train)\n",
    "\n",
    "print(f\"\"\"\n",
    "X_train shape: {X_train.shape}\n",
    "y_train shape: {y_train.shape}\n",
    "\"\"\")"
   ]
  },
  {
   "cell_type": "markdown",
   "id": "e778afa1-f7d8-4041-96e9-d2d5d1fc068e",
   "metadata": {},
   "source": [
    "We only use ~30% of the dataset."
   ]
  },
  {
   "cell_type": "code",
   "execution_count": 122,
   "id": "321d0c3f-972f-42ba-a2ce-19b0b373446d",
   "metadata": {},
   "outputs": [
    {
     "name": "stdout",
     "output_type": "stream",
     "text": [
      "\n",
      "X_train shape: (40500, 92)\n",
      "y_train shape: (40500,)\n",
      "X_val shape: (19948, 92)\n",
      "y_val shape: (19948,)\n",
      "\n"
     ]
    }
   ],
   "source": [
    "X_train, X_val, y_train, y_val = train_test_split(X_train, y_train, test_size=0.33, random_state=42, shuffle=True)\n",
    "\n",
    "print(f\"\"\"\n",
    "X_train shape: {X_train.shape}\n",
    "y_train shape: {y_train.shape}\n",
    "X_val shape: {X_val.shape}\n",
    "y_val shape: {y_val.shape}\n",
    "\"\"\")"
   ]
  },
  {
   "cell_type": "code",
   "execution_count": 123,
   "id": "e5870701-e9dc-4436-8aca-aa3c91108d4f",
   "metadata": {},
   "outputs": [],
   "source": [
    "# change to one hot encoding\n",
    "y_train, y_val = to_categorical(y_train), to_categorical(y_val)"
   ]
  },
  {
   "cell_type": "markdown",
   "id": "8046b22c-db1c-41c9-b84e-76bc27c33351",
   "metadata": {},
   "source": [
    "Write function to plot training history"
   ]
  },
  {
   "cell_type": "code",
   "execution_count": 124,
   "id": "02718e5a-c317-4a9a-8d41-60990fe4ea03",
   "metadata": {},
   "outputs": [],
   "source": [
    "def plot_results(history):\n",
    "    tools = [PanTool(), WheelZoomTool(), ResetTool(), HoverTool()]\n",
    "    p = bokeh.plotting.figure(title='Training and validation loss', tools=tools)\n",
    "    loss = history.history['loss']\n",
    "    val_loss = history.history['val_loss']\n",
    "    epochs = range(1, len(loss) + 1)\n",
    "    p.line(epochs, loss, color='blue', legend_label='Training loss')\n",
    "    p.line(epochs, val_loss, color='red', legend_label='Validation loss')\n",
    "    p.yaxis.axis_label = \"Loss\"\n",
    "    p.xaxis.axis_label = 'Epochs'\n",
    "    p.legend.click_policy=\"hide\"\n",
    "    p.legend.visible=False\n",
    "\n",
    "    q = bokeh.plotting.figure(title='Training and validation accuracy', tools=tools)\n",
    "    acc = history.history['accuracy']\n",
    "    val_acc = history.history['val_accuracy']\n",
    "    q.line(epochs, acc, color='blue', legend_label='training')\n",
    "    q.line(epochs, val_acc, color='red', legend_label='validation')\n",
    "    q.yaxis.axis_label = \"Accuracy\"\n",
    "    q.xaxis.axis_label = 'Epochs'\n",
    "    q.legend.click_policy=\"hide\"\n",
    "    q.legend.location=\"bottom_right\"\n",
    "    bokeh.io.show(row(p, q))"
   ]
  },
  {
   "cell_type": "markdown",
   "id": "c4dd1f9f-63a5-4a9b-8e60-c5f4b51dd6bc",
   "metadata": {
    "tags": []
   },
   "source": [
    "#### Experiment 1a:"
   ]
  },
  {
   "cell_type": "code",
   "execution_count": 149,
   "id": "0b4df4dd-d256-45a5-ad9a-7f31f18a07c5",
   "metadata": {},
   "outputs": [],
   "source": [
    "network = models.Sequential()\n",
    "network.add(layers.Dense(200, activation=\"leaky_relu\", input_shape=(X_train.shape[1],)))\n",
    "network.add(layers.Dropout(0.3))\n",
    "network.add(layers.Dense(50, activation=\"leaky_relu\"))\n",
    "network.add(layers.Dense(2, activation=\"softmax\"))\n",
    "network.compile(loss=\"categorical_crossentropy\",\n",
    "                optimizer=\"adam\",\n",
    "                metrics=[\"accuracy\"])"
   ]
  },
  {
   "cell_type": "code",
   "execution_count": 150,
   "id": "a807b0f3-8f1c-4959-a733-2beba7da80ae",
   "metadata": {},
   "outputs": [],
   "source": [
    "history = network.fit(X_train, y_train, batch_size=16, epochs=10, validation_split=0.1, shuffle=True, verbose=False)"
   ]
  },
  {
   "cell_type": "code",
   "execution_count": 151,
   "id": "baa7526b-d3ea-45d7-b1c4-c2d3a765e23b",
   "metadata": {},
   "outputs": [
    {
     "name": "stdout",
     "output_type": "stream",
     "text": [
      "624/624 [==============================] - 0s 630us/step - loss: 0.6408 - accuracy: 0.6377\n",
      "the final accuracy on the holdout set was  63.77 %\n"
     ]
    }
   ],
   "source": [
    "test_loss, test_acc = network.evaluate(X_val, y_val)\n",
    "print('the final accuracy on the holdout set was ', np.round(test_acc * 100, 2), '%')"
   ]
  },
  {
   "cell_type": "code",
   "execution_count": 152,
   "id": "1df80cf5-bc56-4f7a-99c8-6afa6d731f49",
   "metadata": {},
   "outputs": [],
   "source": [
    "y_pred = network.predict(X_val)"
   ]
  },
  {
   "cell_type": "code",
   "execution_count": 153,
   "id": "2ef46c68-27bf-479c-8229-732832473c25",
   "metadata": {},
   "outputs": [
    {
     "data": {
      "text/plain": [
       "0.6850796944330741"
      ]
     },
     "execution_count": 153,
     "metadata": {},
     "output_type": "execute_result"
    }
   ],
   "source": [
    "roc_auc_score(y_val, y_pred)"
   ]
  },
  {
   "cell_type": "code",
   "execution_count": 154,
   "id": "f170b10e-0d2d-4a11-844b-00f1b8765ce1",
   "metadata": {},
   "outputs": [
    {
     "data": {
      "text/html": [
       "\n",
       "\n",
       "\n",
       "\n",
       "\n",
       "\n",
       "  <div class=\"bk-root\" id=\"53214152-73e6-4791-a989-e51412bdd3eb\" data-root-id=\"8385\"></div>\n"
      ]
     },
     "metadata": {},
     "output_type": "display_data"
    },
    {
     "data": {
      "application/javascript": [
       "(function(root) {\n",
       "  function embed_document(root) {\n",
       "    \n",
       "  var docs_json = {\"3f86308f-8a09-484d-9db0-731b44c6e3cd\":{\"defs\":[],\"roots\":{\"references\":[{\"attributes\":{\"children\":[{\"id\":\"8271\"},{\"id\":\"8328\"}]},\"id\":\"8385\",\"type\":\"Row\"},{\"attributes\":{\"line_color\":\"red\",\"x\":{\"field\":\"x\"},\"y\":{\"field\":\"y\"}},\"id\":\"8369\",\"type\":\"Line\"},{\"attributes\":{\"data\":{\"x\":[1,2,3,4,5,6,7,8,9,10],\"y\":[0.6426507830619812,0.6460937261581421,0.6399877071380615,0.6416559815406799,0.6381477117538452,0.6398000121116638,0.6372635364532471,0.6389248967170715,0.6416999101638794,0.635872483253479]},\"selected\":{\"id\":\"8325\"},\"selection_policy\":{\"id\":\"8326\"}},\"id\":\"8311\",\"type\":\"ColumnDataSource\"},{\"attributes\":{\"callback\":null},\"id\":\"8270\",\"type\":\"HoverTool\"},{\"attributes\":{\"source\":{\"id\":\"8368\"}},\"id\":\"8372\",\"type\":\"CDSView\"},{\"attributes\":{\"below\":[{\"id\":\"8282\"}],\"center\":[{\"id\":\"8285\"},{\"id\":\"8289\"},{\"id\":\"8309\"}],\"left\":[{\"id\":\"8286\"}],\"renderers\":[{\"id\":\"8298\"},{\"id\":\"8314\"}],\"title\":{\"id\":\"8272\"},\"toolbar\":{\"id\":\"8290\"},\"x_range\":{\"id\":\"8274\"},\"x_scale\":{\"id\":\"8278\"},\"y_range\":{\"id\":\"8276\"},\"y_scale\":{\"id\":\"8280\"}},\"id\":\"8271\",\"subtype\":\"Figure\",\"type\":\"Plot\"},{\"attributes\":{\"label\":{\"value\":\"Validation loss\"},\"renderers\":[{\"id\":\"8314\"}]},\"id\":\"8327\",\"type\":\"LegendItem\"},{\"attributes\":{\"line_alpha\":0.1,\"line_color\":\"red\",\"x\":{\"field\":\"x\"},\"y\":{\"field\":\"y\"}},\"id\":\"8370\",\"type\":\"Line\"},{\"attributes\":{},\"id\":\"8326\",\"type\":\"UnionRenderers\"},{\"attributes\":{},\"id\":\"8267\",\"type\":\"PanTool\"},{\"attributes\":{},\"id\":\"8301\",\"type\":\"BasicTickFormatter\"},{\"attributes\":{\"data\":{\"x\":[1,2,3,4,5,6,7,8,9,10],\"y\":[0.6348147988319397,0.6202468872070312,0.636296272277832,0.6286419630050659,0.6308642029762268,0.6323456764221191,0.6316049098968506,0.631851851940155,0.6367900967597961,0.6387654542922974]},\"selected\":{\"id\":\"8382\"},\"selection_policy\":{\"id\":\"8383\"}},\"id\":\"8368\",\"type\":\"ColumnDataSource\"},{\"attributes\":{},\"id\":\"8302\",\"type\":\"AllLabels\"},{\"attributes\":{},\"id\":\"8278\",\"type\":\"LinearScale\"},{\"attributes\":{},\"id\":\"8274\",\"type\":\"DataRange1d\"},{\"attributes\":{\"text\":\"Training and validation loss\"},\"id\":\"8272\",\"type\":\"Title\"},{\"attributes\":{},\"id\":\"8307\",\"type\":\"Selection\"},{\"attributes\":{\"label\":{\"value\":\"validation\"},\"renderers\":[{\"id\":\"8371\"}]},\"id\":\"8384\",\"type\":\"LegendItem\"},{\"attributes\":{},\"id\":\"8308\",\"type\":\"UnionRenderers\"},{\"attributes\":{\"line_color\":\"blue\",\"x\":{\"field\":\"x\"},\"y\":{\"field\":\"y\"}},\"id\":\"8353\",\"type\":\"Line\"},{\"attributes\":{},\"id\":\"8361\",\"type\":\"BasicTickFormatter\"},{\"attributes\":{\"click_policy\":\"hide\",\"items\":[{\"id\":\"8367\"},{\"id\":\"8384\"}],\"location\":\"bottom_right\"},\"id\":\"8366\",\"type\":\"Legend\"},{\"attributes\":{},\"id\":\"8362\",\"type\":\"AllLabels\"},{\"attributes\":{},\"id\":\"8287\",\"type\":\"BasicTicker\"},{\"attributes\":{\"line_alpha\":0.1,\"line_color\":\"blue\",\"x\":{\"field\":\"x\"},\"y\":{\"field\":\"y\"}},\"id\":\"8354\",\"type\":\"Line\"},{\"attributes\":{\"source\":{\"id\":\"8352\"}},\"id\":\"8356\",\"type\":\"CDSView\"},{\"attributes\":{},\"id\":\"8276\",\"type\":\"DataRange1d\"},{\"attributes\":{},\"id\":\"8333\",\"type\":\"DataRange1d\"},{\"attributes\":{},\"id\":\"8365\",\"type\":\"UnionRenderers\"},{\"attributes\":{\"data_source\":{\"id\":\"8368\"},\"glyph\":{\"id\":\"8369\"},\"hover_glyph\":null,\"muted_glyph\":null,\"nonselection_glyph\":{\"id\":\"8370\"},\"view\":{\"id\":\"8372\"}},\"id\":\"8371\",\"type\":\"GlyphRenderer\"},{\"attributes\":{\"below\":[{\"id\":\"8339\"}],\"center\":[{\"id\":\"8342\"},{\"id\":\"8346\"},{\"id\":\"8366\"}],\"left\":[{\"id\":\"8343\"}],\"renderers\":[{\"id\":\"8355\"},{\"id\":\"8371\"}],\"title\":{\"id\":\"8329\"},\"toolbar\":{\"id\":\"8347\"},\"x_range\":{\"id\":\"8331\"},\"x_scale\":{\"id\":\"8335\"},\"y_range\":{\"id\":\"8333\"},\"y_scale\":{\"id\":\"8337\"}},\"id\":\"8328\",\"subtype\":\"Figure\",\"type\":\"Plot\"},{\"attributes\":{},\"id\":\"8331\",\"type\":\"DataRange1d\"},{\"attributes\":{\"line_color\":\"red\",\"x\":{\"field\":\"x\"},\"y\":{\"field\":\"y\"}},\"id\":\"8312\",\"type\":\"Line\"},{\"attributes\":{},\"id\":\"8382\",\"type\":\"Selection\"},{\"attributes\":{\"text\":\"Training and validation accuracy\"},\"id\":\"8329\",\"type\":\"Title\"},{\"attributes\":{},\"id\":\"8383\",\"type\":\"UnionRenderers\"},{\"attributes\":{},\"id\":\"8280\",\"type\":\"LinearScale\"},{\"attributes\":{},\"id\":\"8335\",\"type\":\"LinearScale\"},{\"attributes\":{\"data_source\":{\"id\":\"8295\"},\"glyph\":{\"id\":\"8296\"},\"hover_glyph\":null,\"muted_glyph\":null,\"nonselection_glyph\":{\"id\":\"8297\"},\"view\":{\"id\":\"8299\"}},\"id\":\"8298\",\"type\":\"GlyphRenderer\"},{\"attributes\":{\"data_source\":{\"id\":\"8352\"},\"glyph\":{\"id\":\"8353\"},\"hover_glyph\":null,\"muted_glyph\":null,\"nonselection_glyph\":{\"id\":\"8354\"},\"view\":{\"id\":\"8356\"}},\"id\":\"8355\",\"type\":\"GlyphRenderer\"},{\"attributes\":{\"axis_label\":\"Accuracy\",\"formatter\":{\"id\":\"8361\"},\"major_label_policy\":{\"id\":\"8362\"},\"ticker\":{\"id\":\"8344\"}},\"id\":\"8343\",\"type\":\"LinearAxis\"},{\"attributes\":{},\"id\":\"8337\",\"type\":\"LinearScale\"},{\"attributes\":{\"axis_label\":\"Epochs\",\"formatter\":{\"id\":\"8358\"},\"major_label_policy\":{\"id\":\"8359\"},\"ticker\":{\"id\":\"8340\"}},\"id\":\"8339\",\"type\":\"LinearAxis\"},{\"attributes\":{},\"id\":\"8283\",\"type\":\"BasicTicker\"},{\"attributes\":{\"axis_label\":\"Loss\",\"formatter\":{\"id\":\"8304\"},\"major_label_policy\":{\"id\":\"8305\"},\"ticker\":{\"id\":\"8287\"}},\"id\":\"8286\",\"type\":\"LinearAxis\"},{\"attributes\":{\"active_multi\":null,\"tools\":[{\"id\":\"8267\"},{\"id\":\"8268\"},{\"id\":\"8269\"},{\"id\":\"8270\"}]},\"id\":\"8290\",\"type\":\"Toolbar\"},{\"attributes\":{\"line_color\":\"blue\",\"x\":{\"field\":\"x\"},\"y\":{\"field\":\"y\"}},\"id\":\"8296\",\"type\":\"Line\"},{\"attributes\":{\"data\":{\"x\":[1,2,3,4,5,6,7,8,9,10],\"y\":[0.6606922149658203,0.6430560946464539,0.6392849087715149,0.6372410655021667,0.6355790495872498,0.6336464285850525,0.6320374011993408,0.6308806538581848,0.629756510257721,0.6279334425926208]},\"selected\":{\"id\":\"8307\"},\"selection_policy\":{\"id\":\"8308\"}},\"id\":\"8295\",\"type\":\"ColumnDataSource\"},{\"attributes\":{\"axis_label\":\"Epochs\",\"formatter\":{\"id\":\"8301\"},\"major_label_policy\":{\"id\":\"8302\"},\"ticker\":{\"id\":\"8283\"}},\"id\":\"8282\",\"type\":\"LinearAxis\"},{\"attributes\":{\"axis\":{\"id\":\"8339\"},\"ticker\":null},\"id\":\"8342\",\"type\":\"Grid\"},{\"attributes\":{},\"id\":\"8340\",\"type\":\"BasicTicker\"},{\"attributes\":{\"axis\":{\"id\":\"8282\"},\"ticker\":null},\"id\":\"8285\",\"type\":\"Grid\"},{\"attributes\":{},\"id\":\"8304\",\"type\":\"BasicTickFormatter\"},{\"attributes\":{\"click_policy\":\"hide\",\"items\":[{\"id\":\"8310\"},{\"id\":\"8327\"}],\"visible\":false},\"id\":\"8309\",\"type\":\"Legend\"},{\"attributes\":{\"source\":{\"id\":\"8311\"}},\"id\":\"8315\",\"type\":\"CDSView\"},{\"attributes\":{},\"id\":\"8305\",\"type\":\"AllLabels\"},{\"attributes\":{},\"id\":\"8268\",\"type\":\"WheelZoomTool\"},{\"attributes\":{\"axis\":{\"id\":\"8286\"},\"dimension\":1,\"ticker\":null},\"id\":\"8289\",\"type\":\"Grid\"},{\"attributes\":{\"axis\":{\"id\":\"8343\"},\"dimension\":1,\"ticker\":null},\"id\":\"8346\",\"type\":\"Grid\"},{\"attributes\":{\"data_source\":{\"id\":\"8311\"},\"glyph\":{\"id\":\"8312\"},\"hover_glyph\":null,\"muted_glyph\":null,\"nonselection_glyph\":{\"id\":\"8313\"},\"view\":{\"id\":\"8315\"}},\"id\":\"8314\",\"type\":\"GlyphRenderer\"},{\"attributes\":{\"line_alpha\":0.1,\"line_color\":\"blue\",\"x\":{\"field\":\"x\"},\"y\":{\"field\":\"y\"}},\"id\":\"8297\",\"type\":\"Line\"},{\"attributes\":{\"line_alpha\":0.1,\"line_color\":\"red\",\"x\":{\"field\":\"x\"},\"y\":{\"field\":\"y\"}},\"id\":\"8313\",\"type\":\"Line\"},{\"attributes\":{\"source\":{\"id\":\"8295\"}},\"id\":\"8299\",\"type\":\"CDSView\"},{\"attributes\":{},\"id\":\"8269\",\"type\":\"ResetTool\"},{\"attributes\":{},\"id\":\"8358\",\"type\":\"BasicTickFormatter\"},{\"attributes\":{},\"id\":\"8359\",\"type\":\"AllLabels\"},{\"attributes\":{\"data\":{\"x\":[1,2,3,4,5,6,7,8,9,10],\"y\":[0.6156927347183228,0.6342935562133789,0.6339094638824463,0.639369010925293,0.6414266228675842,0.6409602165222168,0.6434293389320374,0.6450754404067993,0.6447736620903015,0.6471056342124939]},\"selected\":{\"id\":\"8364\"},\"selection_policy\":{\"id\":\"8365\"}},\"id\":\"8352\",\"type\":\"ColumnDataSource\"},{\"attributes\":{},\"id\":\"8344\",\"type\":\"BasicTicker\"},{\"attributes\":{},\"id\":\"8364\",\"type\":\"Selection\"},{\"attributes\":{\"label\":{\"value\":\"Training loss\"},\"renderers\":[{\"id\":\"8298\"}]},\"id\":\"8310\",\"type\":\"LegendItem\"},{\"attributes\":{\"active_multi\":null,\"tools\":[{\"id\":\"8267\"},{\"id\":\"8268\"},{\"id\":\"8269\"},{\"id\":\"8270\"}]},\"id\":\"8347\",\"type\":\"Toolbar\"},{\"attributes\":{\"label\":{\"value\":\"training\"},\"renderers\":[{\"id\":\"8355\"}]},\"id\":\"8367\",\"type\":\"LegendItem\"},{\"attributes\":{},\"id\":\"8325\",\"type\":\"Selection\"}],\"root_ids\":[\"8385\"]},\"title\":\"Bokeh Application\",\"version\":\"2.3.3\"}};\n",
       "  var render_items = [{\"docid\":\"3f86308f-8a09-484d-9db0-731b44c6e3cd\",\"root_ids\":[\"8385\"],\"roots\":{\"8385\":\"53214152-73e6-4791-a989-e51412bdd3eb\"}}];\n",
       "  root.Bokeh.embed.embed_items_notebook(docs_json, render_items);\n",
       "\n",
       "  }\n",
       "  if (root.Bokeh !== undefined) {\n",
       "    embed_document(root);\n",
       "  } else {\n",
       "    var attempts = 0;\n",
       "    var timer = setInterval(function(root) {\n",
       "      if (root.Bokeh !== undefined) {\n",
       "        clearInterval(timer);\n",
       "        embed_document(root);\n",
       "      } else {\n",
       "        attempts++;\n",
       "        if (attempts > 100) {\n",
       "          clearInterval(timer);\n",
       "          console.log(\"Bokeh: ERROR: Unable to run BokehJS code because BokehJS library is missing\");\n",
       "        }\n",
       "      }\n",
       "    }, 10, root)\n",
       "  }\n",
       "})(window);"
      ],
      "application/vnd.bokehjs_exec.v0+json": ""
     },
     "metadata": {
      "application/vnd.bokehjs_exec.v0+json": {
       "id": "8385"
      }
     },
     "output_type": "display_data"
    }
   ],
   "source": [
    "plot_results(history)"
   ]
  },
  {
   "cell_type": "markdown",
   "id": "ac7da785-f605-4e94-a6c5-65775318836d",
   "metadata": {},
   "source": [
    "#### Experiment 2a:"
   ]
  },
  {
   "cell_type": "code",
   "execution_count": null,
   "id": "1e514deb-41c6-4ac2-8721-07eec035d802",
   "metadata": {},
   "outputs": [],
   "source": [
    "network = models.Sequential()\n",
    "network.add(layers.Dense(300, activation=\"leaky_relu\", input_shape=(X_train.shape[1],)))\n",
    "network.add(layers.Dropout(0.2))\n",
    "network.add(layers.Dense(100, activation=\"leaky_relu\"))\n",
    "network.add(layers.Dropout(0.2))\n",
    "network.add(layers.Dense(50, activation=\"leaky_relu\"))\n",
    "network.add(layers.Dense(2, activation=\"softmax\"))\n",
    "network.compile(loss=\"categorical_crossentropy\",\n",
    "                optimizer=\"adam\",\n",
    "                metrics=[\"accuracy\"])"
   ]
  },
  {
   "cell_type": "code",
   "execution_count": null,
   "id": "d814f811-3d9c-4565-98e9-2f02546edfed",
   "metadata": {},
   "outputs": [],
   "source": [
    "history = network.fit(X_train, y_train, batch_size=16, epochs=8, validation_split=0.2, shuffle=True, verbose=False)"
   ]
  },
  {
   "cell_type": "code",
   "execution_count": null,
   "id": "ae92172a-2d0c-4ba6-9baa-bdc7e06aef3d",
   "metadata": {},
   "outputs": [],
   "source": [
    "test_loss, test_acc = network.evaluate(X_val, y_val)\n",
    "print('the final accuracy on the holdout set was ', np.round(test_acc * 100, 2), '%')"
   ]
  },
  {
   "cell_type": "code",
   "execution_count": null,
   "id": "6a932570-ec6a-4642-8c1f-d41a4e46fc21",
   "metadata": {},
   "outputs": [],
   "source": [
    "y_pred = network.predict(X_val)\n",
    "roc_auc_score(y_val, y_pred)"
   ]
  },
  {
   "cell_type": "code",
   "execution_count": null,
   "id": "37fcbfcb-b3a9-4e96-912e-60b7579170b0",
   "metadata": {},
   "outputs": [],
   "source": [
    "plot_results(history)"
   ]
  },
  {
   "cell_type": "markdown",
   "id": "1b9f0075-f5dd-433c-b508-6c6be363eec4",
   "metadata": {},
   "source": [
    "### Experiment 3a:"
   ]
  },
  {
   "cell_type": "code",
   "execution_count": null,
   "id": "ac8173ad-1fa1-4381-91a0-048dbbcb5b26",
   "metadata": {},
   "outputs": [],
   "source": [
    "network = models.Sequential()\n",
    "network.add(layers.Dense(400, activation=\"leaky_relu\", input_shape=(X_train.shape[1],)))\n",
    "network.add(layers.Dropout(0.4))\n",
    "network.add(layers.Dense(200, activation=\"leaky_relu\"))\n",
    "network.add(layers.Dropout(0.2))\n",
    "network.add(layers.Dense(100, activation=\"leaky_relu\"))\n",
    "network.add(layers.Dense(10, activation=\"leaky_relu\"))\n",
    "network.add(layers.Dense(2, activation=\"softmax\"))\n",
    "network.compile(loss=\"categorical_crossentropy\",\n",
    "                optimizer=\"adam\",\n",
    "                metrics=[\"accuracy\"])"
   ]
  },
  {
   "cell_type": "code",
   "execution_count": null,
   "id": "7889d19a-635f-44a9-bba1-6f748bcdf0a5",
   "metadata": {},
   "outputs": [],
   "source": [
    "history = network.fit(X_train, y_train, batch_size=16, epochs=8, validation_split=0.2, shuffle=True, verbose=False)"
   ]
  },
  {
   "cell_type": "code",
   "execution_count": null,
   "id": "824c5cc6-e1be-4bfa-8de3-642aa528ad9a",
   "metadata": {},
   "outputs": [],
   "source": [
    "test_loss, test_acc = network.evaluate(X_val, y_val)\n",
    "print('the final accuracy on the holdout set was ', np.round(test_acc * 100, 2), '%')"
   ]
  },
  {
   "cell_type": "code",
   "execution_count": null,
   "id": "841e5189-bc3e-434e-b349-07c9b28fa93b",
   "metadata": {},
   "outputs": [],
   "source": [
    "y_pred = network.predict(X_val)\n",
    "roc_auc_score(y_val, y_pred)"
   ]
  },
  {
   "cell_type": "code",
   "execution_count": null,
   "id": "25e5c806-3fb4-4fda-8198-db7aa7c27d60",
   "metadata": {},
   "outputs": [],
   "source": [
    "plot_results(history)"
   ]
  },
  {
   "cell_type": "markdown",
   "id": "668852a9-2354-4442-94ad-c7db5984abe1",
   "metadata": {},
   "source": [
    "## Implement PCA upstream of neural networks"
   ]
  },
  {
   "cell_type": "markdown",
   "id": "530e1894-32f2-41e0-bbee-bef377a2456a",
   "metadata": {},
   "source": [
    "Plot the cumulative variance versus the number of components to get information about the explained variance"
   ]
  },
  {
   "cell_type": "code",
   "execution_count": null,
   "id": "409916ec-84e7-46f6-973b-c8636ef8a1d1",
   "metadata": {},
   "outputs": [],
   "source": [
    "pca = PCA().fit(X_train)\n",
    "\n",
    "plt.rcParams[\"figure.figsize\"] = (15,6)\n",
    "\n",
    "fig, ax = plt.subplots()\n",
    "xi = np.arange(1, 30, step=1)\n",
    "y = np.cumsum(pca.explained_variance_ratio_)\n",
    "\n",
    "plt.ylim(0.0,1.1)\n",
    "plt.plot(xi, y, marker='o', linestyle='--', color='b')\n",
    "\n",
    "plt.xlabel('Number of Components')\n",
    "plt.xticks(np.arange(0, 30, step=1)) \n",
    "plt.ylabel('Cumulative variance (%)')\n",
    "plt.title('The number of components needed to explain variance')\n",
    "\n",
    "plt.axhline(y=0.95, color='r', linestyle='-')\n",
    "plt.text(0.5, 0.85, '95% cut-off threshold', color = 'red', fontsize=16)\n",
    "\n",
    "ax.grid(axis='x')\n",
    "plt.show()"
   ]
  },
  {
   "cell_type": "markdown",
   "id": "8faa89b4-ef45-437f-8b51-eba9a8aaa871",
   "metadata": {},
   "source": [
    "#### We want to select a number of components that captures 95% explained variance. We don't need to infer from the above graph what that value would be - the sklearn implementation allows you to define the desired explained variance using the `n_components` argument for the PCA function."
   ]
  },
  {
   "cell_type": "code",
   "execution_count": null,
   "id": "fac21bd8-5b2a-4949-adb6-b4352410f77a",
   "metadata": {},
   "outputs": [],
   "source": [
    "pca = PCA(n_components = 0.95)\n",
    "pca.fit(X_train)\n",
    "X_train = pca.transform(X_train)"
   ]
  },
  {
   "cell_type": "markdown",
   "id": "705252f3-f603-489c-a823-95ce18ae52ea",
   "metadata": {},
   "source": [
    "Apply the same transform to the test data"
   ]
  },
  {
   "cell_type": "code",
   "execution_count": null,
   "id": "b4f274aa-5c98-40d6-b200-da7a655a4f1b",
   "metadata": {},
   "outputs": [],
   "source": [
    "X_val = pca.transform(X_val)"
   ]
  },
  {
   "cell_type": "markdown",
   "id": "f6fff75a-10c0-4e14-a13c-58c82bcbab6a",
   "metadata": {},
   "source": [
    "#### Now, repeat the experiments with the PCA transformed data"
   ]
  },
  {
   "cell_type": "markdown",
   "id": "993cea67-442f-454b-855c-7fc9863ca026",
   "metadata": {},
   "source": [
    "#### Experiment 1b:"
   ]
  },
  {
   "cell_type": "code",
   "execution_count": null,
   "id": "cf16e9dc-1907-4330-8e0b-be991614a6ec",
   "metadata": {},
   "outputs": [],
   "source": [
    "network = models.Sequential()\n",
    "network.add(layers.Dense(200, activation=\"leaky_relu\", input_shape=(X_train.shape[1],)))\n",
    "network.add(layers.Dropout(0.2))\n",
    "network.add(layers.Dense(50, activation=\"leaky_relu\"))\n",
    "network.add(layers.Dense(2, activation=\"softmax\"))\n",
    "network.compile(loss=\"categorical_crossentropy\",\n",
    "                optimizer=\"adam\",\n",
    "                metrics=[\"accuracy\"])"
   ]
  },
  {
   "cell_type": "code",
   "execution_count": null,
   "id": "9aafb5d3-6972-4027-945c-d8d821d432d6",
   "metadata": {},
   "outputs": [],
   "source": [
    "history = network.fit(X_train, y_train, batch_size=16, epochs=10, validation_split=0.1, shuffle=True, verbose=False)"
   ]
  },
  {
   "cell_type": "code",
   "execution_count": null,
   "id": "fd080f2c-7799-4424-8b4f-93c3c5c582f7",
   "metadata": {},
   "outputs": [],
   "source": [
    "test_loss, test_acc = network.evaluate(X_val, y_val)\n",
    "print('the final accuracy on the holdout set was ', np.round(test_acc * 100, 2), '%')"
   ]
  },
  {
   "cell_type": "code",
   "execution_count": null,
   "id": "fbbf3bfb-2473-44ba-8de7-bcf4d7cadb72",
   "metadata": {},
   "outputs": [],
   "source": [
    "y_pred = network.predict(X_val)\n",
    "roc_auc_score(y_val, y_pred)"
   ]
  },
  {
   "cell_type": "code",
   "execution_count": null,
   "id": "8d8acde2-4244-4d59-ba88-a39ba0166fe3",
   "metadata": {},
   "outputs": [],
   "source": [
    "plot_results(history)"
   ]
  },
  {
   "cell_type": "markdown",
   "id": "41563320-38ec-4b52-adc0-fb24a6023fd0",
   "metadata": {},
   "source": [
    "#### Experiment 2b:"
   ]
  },
  {
   "cell_type": "code",
   "execution_count": null,
   "id": "6b15629f-98cb-40c4-90ce-e47dff81a61d",
   "metadata": {},
   "outputs": [],
   "source": [
    "network = models.Sequential()\n",
    "network.add(layers.Dense(300, activation=\"leaky_relu\", input_shape=(X_train.shape[1],)))\n",
    "network.add(layers.Dropout(0.2))\n",
    "network.add(layers.Dense(100, activation=\"leaky_relu\"))\n",
    "network.add(layers.Dropout(0.2))\n",
    "network.add(layers.Dense(50, activation=\"leaky_relu\"))\n",
    "network.add(layers.Dense(2, activation=\"softmax\"))\n",
    "network.compile(loss=\"categorical_crossentropy\",\n",
    "                optimizer=\"adam\",\n",
    "                metrics=[\"accuracy\"])"
   ]
  },
  {
   "cell_type": "code",
   "execution_count": null,
   "id": "855d9d00-5e99-4ef2-9af9-73a5f49e460a",
   "metadata": {},
   "outputs": [],
   "source": [
    "history = network.fit(X_train, y_train, batch_size=16, epochs=10, validation_split=0.2, shuffle=True, verbose=False)"
   ]
  },
  {
   "cell_type": "code",
   "execution_count": null,
   "id": "cd7ec538-3148-4378-a2c1-eadf696dfe3a",
   "metadata": {},
   "outputs": [],
   "source": [
    "plot_results_loss, test_acc = network.evaluate(X_val, y_val)\n",
    "print('the final accuracy on the holdout set was ', np.round(test_acc * 100, 2), '%')"
   ]
  },
  {
   "cell_type": "code",
   "execution_count": null,
   "id": "7b0c69f9-1018-44e0-b576-e0bebad803d3",
   "metadata": {},
   "outputs": [],
   "source": [
    "y_pred = network.predict(X_val)\n",
    "roc_auc_score(y_val, y_pred)"
   ]
  },
  {
   "cell_type": "code",
   "execution_count": null,
   "id": "30f9ffe1-8e2f-44c0-bdf2-280fbb27cadb",
   "metadata": {},
   "outputs": [],
   "source": [
    "plot_results(history)"
   ]
  },
  {
   "cell_type": "markdown",
   "id": "3c64ca6b-48b8-4392-a1a2-b0ef7ac64c9f",
   "metadata": {},
   "source": [
    "#### Experiment 3b: "
   ]
  },
  {
   "cell_type": "code",
   "execution_count": null,
   "id": "b93ae3b8-a7b2-4cb5-9b2a-1d3fdae4c4fe",
   "metadata": {},
   "outputs": [],
   "source": [
    "network = models.Sequential()\n",
    "network.add(layers.Dense(400, activation=\"leaky_relu\", input_shape=(X_train.shape[1],)))\n",
    "network.add(layers.Dropout(0.4))\n",
    "network.add(layers.Dense(200, activation=\"leaky_relu\"))\n",
    "network.add(layers.Dropout(0.2))\n",
    "network.add(layers.Dense(100, activation=\"leaky_relu\"))\n",
    "network.add(layers.Dense(10, activation=\"leaky_relu\"))\n",
    "network.add(layers.Dense(2, activation=\"softmax\"))\n",
    "network.compile(loss=\"categorical_crossentropy\",\n",
    "                optimizer=\"adam\",\n",
    "                metrics=[\"accuracy\"])"
   ]
  },
  {
   "cell_type": "code",
   "execution_count": null,
   "id": "37d8338c-0080-4a95-bf6c-132f143577ce",
   "metadata": {},
   "outputs": [],
   "source": [
    "history = network.fit(X_train, y_train, batch_size=16, epochs=10, validation_split=0.2, shuffle=True, verbose=False)"
   ]
  },
  {
   "cell_type": "code",
   "execution_count": null,
   "id": "464c630f-ba36-4b19-9943-c34dc679a31e",
   "metadata": {},
   "outputs": [],
   "source": [
    "test_loss, test_acc = network.evaluate(X_val, y_val)\n",
    "print('the final accuracy on the holdout set was ', np.round(test_acc * 100, 2), '%')"
   ]
  },
  {
   "cell_type": "code",
   "execution_count": null,
   "id": "17ffe8cc-b9bd-42b8-bb23-2d8c25599217",
   "metadata": {},
   "outputs": [],
   "source": [
    "y_pred = network.predict(X_val)\n",
    "roc_auc_score(y_val, y_pred)"
   ]
  },
  {
   "cell_type": "code",
   "execution_count": null,
   "id": "b0666738-08d1-45de-9fa6-31a88edb4dd1",
   "metadata": {},
   "outputs": [],
   "source": [
    "plot_results(history)"
   ]
  },
  {
   "cell_type": "markdown",
   "id": "a165f65e-a7c4-4698-b9dc-22ae00a4e7f2",
   "metadata": {},
   "source": [
    "## Summary of findings:  ** need to update this \n",
    "\n",
    "|Experiment #|PCA?|# of hidden layers|# of nodes/layer|activation|dropout|batch_size|epochs|val_split|roc_auc|\n",
    "|------------|----|------------------|----------------|----------|-------|----------|------|---------|-------|\n",
    "| # 1 A      | NO |     2            |     200, 50    |leaky relu| 0.2   | 16       | 10   | 0.1     | 0.68  |\n",
    "| # 1 B      | YES|     2            |     200, 50    |leaky relu| 0.2   | 16       | 10   | 0.1     | 0.67  |\n",
    "| # 2 A      | NO |     3            |  300, 100, 50  |leaky relu| 2-0.2 | 16       | 30   | 0.1     | 0.68  |\n",
    "| # 2 B      | YES|     3            |  300, 100, 50  |leaky relu| 2-0.2 | 16       | 30   | 0.1     | 0.67  |\n",
    "| # 3 A      | NO |     4            |400, 200, 100,50|leaky relu|0.4,0.2| 16       | 20   | 0.1     | 0.68  |\n",
    "| # 3 B      | YES|     4            |400, 200, 100,50|leaky relu|0.4,0.2| 16       | 20   | 0.1     | 0.67  |"
   ]
  },
  {
   "cell_type": "code",
   "execution_count": null,
   "id": "601f8350-74fc-4a1c-ad6b-112435b1c360",
   "metadata": {},
   "outputs": [],
   "source": []
  }
 ],
 "metadata": {
  "kernelspec": {
   "display_name": "Python 3 (ipykernel)",
   "language": "python",
   "name": "python3"
  },
  "language_info": {
   "codemirror_mode": {
    "name": "ipython",
    "version": 3
   },
   "file_extension": ".py",
   "mimetype": "text/x-python",
   "name": "python",
   "nbconvert_exporter": "python",
   "pygments_lexer": "ipython3",
   "version": "3.8.11"
  }
 },
 "nbformat": 4,
 "nbformat_minor": 5
}
