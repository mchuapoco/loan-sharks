{
 "cells": [
  {
   "cell_type": "code",
   "execution_count": 11,
   "id": "dependent-tiger",
   "metadata": {},
   "outputs": [],
   "source": [
    "import pandas as pd\n",
    "import numpy as np\n",
    "import matplotlib.pyplot as plt\n",
    "from sklearn.ensemble import RandomForestClassifier, AdaBoostClassifier\n",
    "from sklearn.preprocessing import StandardScaler\n",
    "from lightgbm import LGBMClassifier\n",
    "from sklearn.model_selection import GridSearchCV\n",
    "\n",
    "\n",
    "from sklearn.metrics import roc_auc_score,confusion_matrix\n",
    "from sklearn.model_selection import train_test_split\n",
    "import copy\n"
   ]
  },
  {
   "cell_type": "code",
   "execution_count": 12,
   "id": "db2125d2-ec7b-4776-8194-bc7965a9c021",
   "metadata": {},
   "outputs": [],
   "source": [
    "def standard_scalar_normalize(data_train, data_test): \n",
    "    scaler = StandardScaler()\n",
    "    scaler.fit(data_train)\n",
    "    normal_data_train = scaler.transform(data_train)\n",
    "    normal_data_test = scaler.transform(data_test)\n",
    "    return normal_data_train,normal_data_test"
   ]
  },
  {
   "cell_type": "code",
   "execution_count": 13,
   "id": "moderate-exhaust",
   "metadata": {},
   "outputs": [],
   "source": [
    "def data_processed():\n",
    "    '''\n",
    "    Used to read & normalize processed test and train data\n",
    "    '''\n",
    "    data_train=pd.read_csv(\"data/2022-02-07_LOANS_TRAIN.csv\")\n",
    "    data_test=pd.read_csv(\"data/2022-02-07_LOANS_TEST.csv\")\n",
    "    y_train=data_train['loan_status']\n",
    "    data_train.drop(columns=['loan_status', 'id', 'issue_d_in_months', 'issue_d_year', 'zip_state_match', \n",
    "                               'AK', 'AL', 'AR', 'AZ', 'CA', 'CO', 'CT', 'DC', 'DE', 'FL', 'GA', 'HI',\n",
    "                               'IA', 'ID', 'IL', 'IN', 'KS', 'KY', 'LA', 'MA', 'MD', 'ME', 'MI', 'MN',\n",
    "                               'MO', 'MS', 'MT', 'NC', 'ND', 'NE', 'NH', 'NJ', 'NM', 'NV', 'NY', 'OH',\n",
    "                               'OK', 'OR', 'PA', 'RI', 'SC', 'SD', 'TN', 'TX', 'UT', 'VA', 'VT', 'WA',\n",
    "                               'WI', 'WV', 'WY'], inplace=True)\n",
    "    \n",
    "    data_test.drop(columns=['id', 'issue_d_in_months', 'issue_d_year', 'zip_state_match', \n",
    "                           'AK', 'AL', 'AR', 'AZ', 'CA', 'CO', 'CT', 'DC', 'DE', 'FL', 'GA', 'HI',\n",
    "                           'IA', 'ID', 'IL', 'IN', 'KS', 'KY', 'LA', 'MA', 'MD', 'ME', 'MI', 'MN',\n",
    "                           'MO', 'MS', 'MT', 'NC', 'ND', 'NE', 'NH', 'NJ', 'NM', 'NV', 'NY', 'OH',\n",
    "                           'OK', 'OR', 'PA', 'RI', 'SC', 'SD', 'TN', 'TX', 'UT', 'VA', 'VT', 'WA',\n",
    "                           'WI', 'WV', 'WY'], inplace=True)\n",
    "    \n",
    "    normal_data_train,normal_data_test=standard_scalar_normalize(data_train,data_test)\n",
    "    return normal_data_train,normal_data_test,y_train\n",
    "\n",
    "def AUC_score(y_ground_truth,y_predicted_probability):\n",
    "    return roc_auc_score(y_ground_truth, y_predicted_probability)\n",
    "\n",
    "def to_submission(ids, y_test_predicted_probability):\n",
    "    y_test=pd.DataFrame(y_test_predicted_probability,columns=['loan_status'], index=ids)\n",
    "    y_test.index.name = 'id'\n",
    "    y_test.to_csv('data/submission.csv')\n",
    "    return"
   ]
  },
  {
   "cell_type": "code",
   "execution_count": 14,
   "id": "1d990653-2a5d-48c6-bfe1-691d008e2464",
   "metadata": {},
   "outputs": [],
   "source": [
    "def eval_tree_based_model_n_estimators(clf, n_estimators, X_train, y_train, X_test, y_test):\n",
    "    \"\"\"\n",
    "    This function evaluates the given classifier (either a decision tree or random forest) at all of the \n",
    "    maximum tree depth parameters in the vector max_depth, using the given training and testing\n",
    "    data. It returns two vector, with the training and testing classification errors.\n",
    "    \n",
    "    Inputs:\n",
    "        clf: either a decision tree or random forest classifier object\n",
    "        max_depth: a (T, ) vector of all the max_depth stopping condition parameters \n",
    "                            to test, where T is the number of parameters to test\n",
    "        X_train: (N, D) matrix of training samples.\n",
    "        y_train: (N, ) vector of training labels.\n",
    "        X_test: (N, D) matrix of test samples\n",
    "        y_test: (N, ) vector of test labels\n",
    "    Output:\n",
    "        train_err: (T, ) vector of classification errors on the training data\n",
    "        test_err: (T, ) vector of classification errors on the test data\n",
    "        train_auc: (T, ) vector of area under the ROC curve (AUC) on the training data\n",
    "        test_auc: (T, ) vector of area under the ROC curve (AUC) on the testing data\n",
    "    \"\"\"\n",
    "    train_err = []\n",
    "    test_err = []\n",
    "    train_auc = []\n",
    "    test_auc = []\n",
    "    for n_estimator in n_estimators: \n",
    "        print(n_estimator)\n",
    "        clf.n_estimators = n_estimator\n",
    "        clf.fit(X_train, y_train, copy.deepcopy(y_train)*4 + 1)\n",
    "        train_err.append(1 - clf.score(X_train, y_train))\n",
    "        test_err.append(1 - clf.score(X_test, y_test))\n",
    "        \n",
    "        Y_train_pred_prob=clf.predict_proba(X_train)[:,1]\n",
    "        train_auc.append(AUC_score(y_train,Y_train_pred_prob))\n",
    "        \n",
    "        Y_test_pred_prob=clf.predict_proba(X_test)[:,1]\n",
    "        test_auc.append(AUC_score(y_test,Y_test_pred_prob))\n",
    "        \n",
    "    return train_err, test_err, train_auc, test_auc\n"
   ]
  },
  {
   "cell_type": "code",
   "execution_count": 15,
   "id": "backed-flour",
   "metadata": {},
   "outputs": [],
   "source": [
    "X_train,X_test,Y_train=data_processed()\n",
    "X_train, X_val, Y_train, Y_val = train_test_split(X_train, Y_train, train_size=0.80, random_state=42)"
   ]
  },
  {
   "cell_type": "code",
   "execution_count": 16,
   "id": "1ced07de-ccb1-475f-9224-8516ff51ca7b",
   "metadata": {},
   "outputs": [
    {
     "data": {
      "text/plain": [
       "0.15286438529784538"
      ]
     },
     "execution_count": 16,
     "metadata": {},
     "output_type": "execute_result"
    }
   ],
   "source": [
    "sum(Y_train) / len(Y_train)"
   ]
  },
  {
   "cell_type": "code",
   "execution_count": 17,
   "id": "d644b08e-c05b-4f05-a75a-ceb698df09af",
   "metadata": {},
   "outputs": [
    {
     "data": {
      "text/plain": [
       "0.1546768060836502"
      ]
     },
     "execution_count": 17,
     "metadata": {},
     "output_type": "execute_result"
    }
   ],
   "source": [
    "sum(Y_val) / len(Y_val)"
   ]
  },
  {
   "cell_type": "markdown",
   "id": "bc847fb2-9530-48d9-90f3-9b2ac8a8dc1c",
   "metadata": {},
   "source": [
    "## Performance across # estimators"
   ]
  },
  {
   "cell_type": "code",
   "execution_count": 22,
   "id": "3656f441-9c5f-4591-9ef3-f0a70b98e633",
   "metadata": {},
   "outputs": [
    {
     "name": "stdout",
     "output_type": "stream",
     "text": [
      "80\n",
      "105\n",
      "130\n",
      "155\n",
      "180\n",
      "205\n",
      "230\n",
      "255\n",
      "280\n",
      "305\n",
      "330\n",
      "355\n",
      "380\n",
      "405\n",
      "430\n",
      "455\n",
      "480\n"
     ]
    }
   ],
   "source": [
    "np.random.seed(1)\n",
    "\n",
    "clf = AdaBoostClassifier()\n",
    "\n",
    "n_estimators = np.arange(80, 500, 25)\n",
    "\n",
    "train_err, test_err, train_auc, test_auc = eval_tree_based_model_n_estimators(clf, n_estimators, X_train, \n",
    "                                                        Y_train, X_val, Y_val)"
   ]
  },
  {
   "cell_type": "code",
   "execution_count": 25,
   "id": "5f06e894-7924-4c20-9667-b5d0ff6e1f90",
   "metadata": {},
   "outputs": [
    {
     "data": {
      "image/png": "[encoded data removed]",
      "text/plain": [
       "<Figure size 432x288 with 1 Axes>"
      ]
     },
     "metadata": {
      "needs_background": "light"
     },
     "output_type": "display_data"
    },
    {
     "name": "stdout",
     "output_type": "stream",
     "text": [
      "Test error minimized at n_estimators = 355\n"
     ]
    }
   ],
   "source": [
    "# Plot testing vs train error\n",
    "plt.figure()\n",
    "plt.plot(n_estimators, test_err, label='Testing error')\n",
    "plt.plot(n_estimators, train_err, label='Training error')\n",
    "plt.xlabel('num estimators')\n",
    "plt.ylabel('Classification error')\n",
    "plt.title('Adaboost and Different n_estimators')\n",
    "plt.legend(loc=0, shadow=True, fontsize='x-large')\n",
    "plt.show()\n",
    "\n",
    "print('Test error minimized at n_estimators = %i' % n_estimators[np.argmin(test_err)])"
   ]
  },
  {
   "cell_type": "code",
   "execution_count": 26,
   "id": "e3679c59-8910-49a1-9f51-5f969a35720a",
   "metadata": {},
   "outputs": [
    {
     "data": {
      "image/png": "[encoded data removed]",
      "text/plain": [
       "<Figure size 432x288 with 1 Axes>"
      ]
     },
     "metadata": {
      "needs_background": "light"
     },
     "output_type": "display_data"
    },
    {
     "name": "stdout",
     "output_type": "stream",
     "text": [
      "Test auc maximized at n_estimators = 330\n",
      "max auc: 0.6883712955876602\n"
     ]
    }
   ],
   "source": [
    "# Plot AUC\n",
    "plt.figure()\n",
    "plt.plot(n_estimators, test_auc, label='Testing AUC')\n",
    "plt.plot(n_estimators, train_auc, label='Training AUC')\n",
    "plt.xlabel('num estimators')\n",
    "plt.ylabel('AUC')\n",
    "plt.title('Adaboost and Different n_estimators')\n",
    "plt.legend(loc=0, shadow=True, fontsize='x-large')\n",
    "plt.show()\n",
    "\n",
    "print('Test auc maximized at n_estimators = %i' % n_estimators[np.argmax(test_auc)])\n",
    "print('max auc:', np.max(test_auc))"
   ]
  },
  {
   "cell_type": "markdown",
   "id": "bc6d2aa6-8dff-4959-9f9a-131e2ddb79f9",
   "metadata": {},
   "source": [
    "## Single model output"
   ]
  },
  {
   "cell_type": "code",
   "execution_count": null,
   "id": "sudden-dictionary",
   "metadata": {},
   "outputs": [],
   "source": [
    "clf = AdaBoostClassifier(n_estimators=500)\n",
    "clf.fit(X_train, Y_train)"
   ]
  },
  {
   "cell_type": "code",
   "execution_count": null,
   "id": "spiritual-customer",
   "metadata": {},
   "outputs": [],
   "source": [
    "Y_val_pred_prob=clf.predict_proba(X_val)[:,1]\n",
    "AUC_score(Y_val,Y_val_pred_prob)"
   ]
  },
  {
   "cell_type": "code",
   "execution_count": null,
   "id": "infectious-briefs",
   "metadata": {},
   "outputs": [],
   "source": [
    "Y_val_pred=clf.predict(X_val)\n",
    "confusion_matrix(Y_val,Y_val_pred)"
   ]
  },
  {
   "cell_type": "code",
   "execution_count": null,
   "id": "d75f6039-ed11-4f2f-aa49-fe448ff0fed5",
   "metadata": {},
   "outputs": [],
   "source": [
    "Y_train_pred=clf.predict(X_train)\n",
    "confusion_matrix(Y_train,Y_train_pred)"
   ]
  },
  {
   "cell_type": "code",
   "execution_count": null,
   "id": "0e53b092-f921-41df-b30a-8441872d0ae1",
   "metadata": {},
   "outputs": [],
   "source": [
    "sum(Y_val_pred)"
   ]
  },
  {
   "cell_type": "markdown",
   "id": "1d400aed-624b-4d4d-8d28-b68a31e9e36c",
   "metadata": {},
   "source": [
    "We have no trials predicted as positive despite reaching 0.69 on our validation set. We probably need to weight the samples to counter the class imbalance effects. "
   ]
  },
  {
   "cell_type": "markdown",
   "id": "8cee1df8-9146-432a-bb98-44265f310785",
   "metadata": {},
   "source": [
    "## Try weighting the negative samples 5x due to there having more than 5x positive samples"
   ]
  },
  {
   "cell_type": "code",
   "execution_count": 29,
   "id": "58a776c4-eca3-4a96-ac0c-0c9503b32d4b",
   "metadata": {},
   "outputs": [
    {
     "data": {
      "text/plain": [
       "5.465093411996067"
      ]
     },
     "execution_count": 29,
     "metadata": {},
     "output_type": "execute_result"
    }
   ],
   "source": [
    "(len(Y_val) - sum(Y_val)) / sum(Y_val) # 5x more positive samples "
   ]
  },
  {
   "cell_type": "code",
   "execution_count": 30,
   "id": "35635b1f-6e5c-4c34-a785-3b6164bc6a47",
   "metadata": {},
   "outputs": [
    {
     "data": {
      "text/plain": [
       "RandomForestClassifier(max_depth=20, min_samples_leaf=30, n_estimators=500,\n",
       "                       random_state=0)"
      ]
     },
     "execution_count": 30,
     "metadata": {},
     "output_type": "execute_result"
    }
   ],
   "source": [
    "clf = RandomForestClassifier(n_estimators=500, random_state=0, criterion = 'gini', min_samples_leaf=10, max_depth=60)\n",
    "clf.fit(X_train, Y_train, sample_weight=copy.deepcopy(Y_train)*4 + 1)"
   ]
  },
  {
   "cell_type": "code",
   "execution_count": 31,
   "id": "5fcaa2a7-1da2-4f02-b082-d8783790bc4d",
   "metadata": {},
   "outputs": [
    {
     "data": {
      "text/plain": [
       "0.6895500345629634"
      ]
     },
     "execution_count": 31,
     "metadata": {},
     "output_type": "execute_result"
    }
   ],
   "source": [
    "Y_val_pred_prob=clf.predict_proba(X_val)[:,1]\n",
    "AUC_score(Y_val,Y_val_pred_prob)"
   ]
  },
  {
   "cell_type": "code",
   "execution_count": 32,
   "id": "afdb700f-5ce3-403b-8475-0d31e133275d",
   "metadata": {},
   "outputs": [
    {
     "data": {
      "text/plain": [
       "array([[26464,  6884],\n",
       "       [ 3386,  2716]])"
      ]
     },
     "execution_count": 32,
     "metadata": {},
     "output_type": "execute_result"
    }
   ],
   "source": [
    "Y_val_pred=clf.predict(X_val)\n",
    "confusion_matrix(Y_val,Y_val_pred)"
   ]
  },
  {
   "cell_type": "markdown",
   "id": "262410b5-eef4-4316-8eed-2fc4d8b5c9a6",
   "metadata": {},
   "source": [
    "Confusion matrix shows that some samples are being classified to be negative! But there are a lot of errors still. "
   ]
  },
  {
   "cell_type": "markdown",
   "id": "b3d78186-31cf-4421-9167-26a7c947e6db",
   "metadata": {},
   "source": [
    "## Output for submissions - evaluate on test set "
   ]
  },
  {
   "cell_type": "code",
   "execution_count": null,
   "id": "radio-budget",
   "metadata": {},
   "outputs": [],
   "source": [
    "Y_test_pred_prob=clf.predict_proba(X_test)[:,1]"
   ]
  },
  {
   "cell_type": "code",
   "execution_count": null,
   "id": "norwegian-divide",
   "metadata": {},
   "outputs": [],
   "source": [
    "def to_submission(ids, y_test_predicted_probability):\n",
    "    y_test=pd.DataFrame(y_test_predicted_probability,columns=['loan_status'], index=ids)\n",
    "    y_test.index.name = 'id'\n",
    "    y_test.to_csv('data/submission.csv')\n",
    "    return\n",
    "\n",
    "to_submission(pd.read_csv(\"data/2022-02-07_LOANS_TEST.csv\")['id'].values, Y_test_pred_prob)"
   ]
  },
  {
   "cell_type": "code",
   "execution_count": null,
   "id": "fe2f0866-5077-469e-b5cc-4bd3e7fc01b8",
   "metadata": {},
   "outputs": [],
   "source": []
  }
 ],
 "metadata": {
  "kernelspec": {
   "display_name": "Python 3 (ipykernel)",
   "language": "python",
   "name": "python3"
  },
  "language_info": {
   "codemirror_mode": {
    "name": "ipython",
    "version": 3
   },
   "file_extension": ".py",
   "mimetype": "text/x-python",
   "name": "python",
   "nbconvert_exporter": "python",
   "pygments_lexer": "ipython3",
   "version": "3.8.12"
  }
 },
 "nbformat": 4,
 "nbformat_minor": 5
}
