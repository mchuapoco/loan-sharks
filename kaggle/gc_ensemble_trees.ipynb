{
 "cells": [
  {
   "cell_type": "code",
   "execution_count": 66,
   "id": "76aed3e8-e3ae-4090-98b0-854afef419f4",
   "metadata": {},
   "outputs": [
    {
     "ename": "ModuleNotFoundError",
     "evalue": "No module named 'tensorflow'",
     "output_type": "error",
     "traceback": [
      "\u001b[0;31m---------------------------------------------------------------------------\u001b[0m",
      "\u001b[0;31mModuleNotFoundError\u001b[0m                       Traceback (most recent call last)",
      "\u001b[0;32m/var/folders/2z/n5knmb3s7n9c46lls9ss3vy40000gn/T/ipykernel_17099/1684806291.py\u001b[0m in \u001b[0;36m<module>\u001b[0;34m\u001b[0m\n\u001b[1;32m     14\u001b[0m \u001b[0;32mfrom\u001b[0m \u001b[0mimblearn\u001b[0m\u001b[0;34m.\u001b[0m\u001b[0mover_sampling\u001b[0m \u001b[0;32mimport\u001b[0m \u001b[0mRandomOverSampler\u001b[0m\u001b[0;34m\u001b[0m\u001b[0;34m\u001b[0m\u001b[0m\n\u001b[1;32m     15\u001b[0m \u001b[0;34m\u001b[0m\u001b[0m\n\u001b[0;32m---> 16\u001b[0;31m \u001b[0;32mimport\u001b[0m \u001b[0mtensorflow\u001b[0m \u001b[0;32mas\u001b[0m \u001b[0mtf\u001b[0m\u001b[0;34m\u001b[0m\u001b[0;34m\u001b[0m\u001b[0m\n\u001b[0m\u001b[1;32m     17\u001b[0m \u001b[0;32mfrom\u001b[0m \u001b[0mtensorflow\u001b[0m\u001b[0;34m.\u001b[0m\u001b[0mkeras\u001b[0m\u001b[0;34m.\u001b[0m\u001b[0mutils\u001b[0m \u001b[0;32mimport\u001b[0m \u001b[0mto_categorical\u001b[0m\u001b[0;34m\u001b[0m\u001b[0;34m\u001b[0m\u001b[0m\n\u001b[1;32m     18\u001b[0m \u001b[0;32mfrom\u001b[0m \u001b[0mtensorflow\u001b[0m\u001b[0;34m.\u001b[0m\u001b[0mkeras\u001b[0m \u001b[0;32mimport\u001b[0m \u001b[0mmodels\u001b[0m\u001b[0;34m\u001b[0m\u001b[0;34m\u001b[0m\u001b[0m\n",
      "\u001b[0;31mModuleNotFoundError\u001b[0m: No module named 'tensorflow'"
     ]
    }
   ],
   "source": [
    "import pandas as pd\n",
    "import numpy as np\n",
    "import matplotlib.pyplot as plt\n",
    "from sklearn.ensemble import RandomForestClassifier, AdaBoostClassifier\n",
    "from sklearn.preprocessing import StandardScaler\n",
    "from lightgbm import LGBMClassifier\n",
    "from sklearn.model_selection import GridSearchCV\n",
    "from sklearn.linear_model import LogisticRegression\n",
    "\n",
    "from sklearn.metrics import roc_auc_score,confusion_matrix\n",
    "from sklearn.model_selection import train_test_split\n",
    "import copy\n",
    "from imblearn.under_sampling import RandomUnderSampler\n",
    "from imblearn.over_sampling import RandomOverSampler\n",
    "\n",
    "import tensorflow as tf\n",
    "from tensorflow.keras.utils import to_categorical\n",
    "from tensorflow.keras import models\n",
    "from tensorflow.keras import layers\n",
    "from tensorflow.keras import regularizers\n",
    "\n",
    "\n",
    "import matplotlib.pyplot as plt\n",
    "import bokeh\n",
    "import bokeh.plotting\n",
    "from bokeh.layouts import column, row\n",
    "from bokeh.models import HoverTool,WheelZoomTool, PanTool, ResetTool\n",
    "bokeh.io.output_notebook()"
   ]
  },
  {
   "cell_type": "code",
   "execution_count": 64,
   "id": "99f1c595-8bb5-474a-976c-98ca188e2430",
   "metadata": {},
   "outputs": [],
   "source": [
    "def plot_results(history):\n",
    "    tools = [PanTool(), WheelZoomTool(), ResetTool(), HoverTool()]\n",
    "    p = bokeh.plotting.figure(title='Training and validation loss', tools=tools)\n",
    "    loss = history.history['loss']\n",
    "    val_loss = history.history['val_loss']\n",
    "    epochs = range(1, len(loss) + 1)\n",
    "    p.line(epochs, loss, color='blue', legend_label='Training loss')\n",
    "    p.line(epochs, val_loss, color='red', legend_label='Validation loss')\n",
    "    p.yaxis.axis_label = \"Loss\"\n",
    "    p.xaxis.axis_label = 'Epochs'\n",
    "    p.legend.click_policy=\"hide\"\n",
    "    p.legend.visible=False\n",
    "\n",
    "    q = bokeh.plotting.figure(title='Training and validation accuracy', tools=tools)\n",
    "    acc = history.history['accuracy']\n",
    "    val_acc = history.history['val_accuracy']\n",
    "    q.line(epochs, acc, color='blue', legend_label='training')\n",
    "    q.line(epochs, val_acc, color='red', legend_label='validation')\n",
    "    q.yaxis.axis_label = \"Accuracy\"\n",
    "    q.xaxis.axis_label = 'Epochs'\n",
    "    q.legend.click_policy=\"hide\"\n",
    "    q.legend.location=\"bottom_right\"\n",
    "    bokeh.io.show(row(p, q))"
   ]
  },
  {
   "cell_type": "code",
   "execution_count": 16,
   "id": "cffb5e85-00b8-4046-8bdb-863ec7aace61",
   "metadata": {},
   "outputs": [],
   "source": [
    "def standard_scalar_normalize(data_train, data_test): \n",
    "    scaler = StandardScaler()\n",
    "    scaler.fit(data_train)\n",
    "    normal_data_train = scaler.transform(data_train)\n",
    "    normal_data_test = scaler.transform(data_test)\n",
    "    return normal_data_train,normal_data_test"
   ]
  },
  {
   "cell_type": "code",
   "execution_count": 17,
   "id": "882405be-11aa-47bc-b5cc-6b233867a626",
   "metadata": {},
   "outputs": [],
   "source": [
    "def data_processed():\n",
    "    '''\n",
    "    Used to read & normalize processed test and train data\n",
    "    '''\n",
    "    data_train=pd.read_csv(\"data/2022-02-07_LOANS_TRAIN.csv\")\n",
    "    data_test=pd.read_csv(\"data/2022-02-07_LOANS_TEST.csv\")\n",
    "    y_train=data_train['loan_status']\n",
    "    data_train.drop(columns=['loan_status', 'id', 'issue_d_in_months', 'issue_d_year', 'zip_state_match', \n",
    "                               'AK', 'AL', 'AR', 'AZ', 'CA', 'CO', 'CT', 'DC', 'DE', 'FL', 'GA', 'HI',\n",
    "                               'IA', 'ID', 'IL', 'IN', 'KS', 'KY', 'LA', 'MA', 'MD', 'ME', 'MI', 'MN',\n",
    "                               'MO', 'MS', 'MT', 'NC', 'ND', 'NE', 'NH', 'NJ', 'NM', 'NV', 'NY', 'OH',\n",
    "                               'OK', 'OR', 'PA', 'RI', 'SC', 'SD', 'TN', 'TX', 'UT', 'VA', 'VT', 'WA',\n",
    "                               'WI', 'WV', 'WY'], inplace=True)\n",
    "    \n",
    "    data_test.drop(columns=['id', 'issue_d_in_months', 'issue_d_year', 'zip_state_match', \n",
    "                           'AK', 'AL', 'AR', 'AZ', 'CA', 'CO', 'CT', 'DC', 'DE', 'FL', 'GA', 'HI',\n",
    "                           'IA', 'ID', 'IL', 'IN', 'KS', 'KY', 'LA', 'MA', 'MD', 'ME', 'MI', 'MN',\n",
    "                           'MO', 'MS', 'MT', 'NC', 'ND', 'NE', 'NH', 'NJ', 'NM', 'NV', 'NY', 'OH',\n",
    "                           'OK', 'OR', 'PA', 'RI', 'SC', 'SD', 'TN', 'TX', 'UT', 'VA', 'VT', 'WA',\n",
    "                           'WI', 'WV', 'WY'], inplace=True)\n",
    "    \n",
    "    normal_data_train,normal_data_test=standard_scalar_normalize(data_train,data_test)\n",
    "    return normal_data_train,normal_data_test,y_train\n",
    "\n",
    "def AUC_score(y_ground_truth,y_predicted_probability):\n",
    "    return roc_auc_score(y_ground_truth, y_predicted_probability)\n",
    "\n",
    "def to_submission(ids, y_test_predicted_probability):\n",
    "    y_test=pd.DataFrame(y_test_predicted_probability,columns=['loan_status'], index=ids)\n",
    "    y_test.index.name = 'id'\n",
    "    y_test.to_csv('data/submission.csv')\n",
    "    return"
   ]
  },
  {
   "cell_type": "code",
   "execution_count": 30,
   "id": "c7914ec0-2ead-49f0-ba2b-96b5ba576c2b",
   "metadata": {},
   "outputs": [],
   "source": [
    "X_train_full,X_test,Y_train_full=data_processed()\n",
    "X_train, X_val, Y_train, Y_val = train_test_split(X_train_full, Y_train_full, train_size=0.80, random_state=42)\n",
    "\n",
    "# def over_under_sampling(X_train,Y_train,method,fraction):\n",
    "#     if method==\"randomU\":\n",
    "#         rus = RandomUnderSampler(random_state=0,sampling_strategy=fraction)\n",
    "#     elif method==\"randomO\":\n",
    "#         rus = RandomOverSampler(random_state=0,sampling_strategy=fraction)\n",
    "#     elif method==\"centroid\":\n",
    "#         rus = ClusterCentroids(random_state=42,sampling_strategy=fraction)\n",
    "#     elif method==\"SMOTENN\":\n",
    "#         rus = SMOTEENN(random_state=42,sampling_strategy=fraction)\n",
    "#     X_resampled, y_resampled = rus.fit_resample(X_train, Y_train)\n",
    "#     return X_resampled, y_resampled\n",
    "\n",
    "# X_train, Y_train = over_under_sampling(X_train,Y_train,\"randomO\",0.5)\n",
    "\n",
    "\n"
   ]
  },
  {
   "cell_type": "markdown",
   "id": "1900be58-18d5-41b5-aa4e-842a36059df5",
   "metadata": {},
   "source": [
    "## LGBM Classifier"
   ]
  },
  {
   "cell_type": "code",
   "execution_count": 38,
   "id": "3ddd3183-7e97-4229-ae54-89b912e3dd58",
   "metadata": {},
   "outputs": [
    {
     "data": {
      "text/plain": [
       "0.6922932719829431"
      ]
     },
     "execution_count": 38,
     "metadata": {},
     "output_type": "execute_result"
    }
   ],
   "source": [
    "lgbm_clf = LGBMClassifier(class_weight='balanced', max_depth=11, min_child_samples=60, n_estimators=80)\n",
    "lgbm_clf.fit(X_train, Y_train)\n",
    "Y_train_pred_lgbm=lgbm_clf.predict(X_train)\n",
    "Y_val_pred_lgbm=lgbm_clf.predict(X_val)\n",
    "Y_val_pred_prob_lgbm=lgbm_clf.predict_proba(X_val)[:,1]\n",
    "roc_auc_score(Y_val,Y_val_pred_prob_lgbm)"
   ]
  },
  {
   "cell_type": "code",
   "execution_count": 39,
   "id": "affa279c-c71f-4ae5-bedf-d5b62e0d67d8",
   "metadata": {},
   "outputs": [],
   "source": [
    "Y_train_pred_prob_lgbm=lgbm_clf.predict_proba(X_train)[:,1]\n"
   ]
  },
  {
   "cell_type": "code",
   "execution_count": 40,
   "id": "aad79ce4-3955-484a-9db2-827b7757f5de",
   "metadata": {},
   "outputs": [
    {
     "data": {
      "text/plain": [
       "array([[20981, 12367],\n",
       "       [ 2142,  3960]])"
      ]
     },
     "execution_count": 40,
     "metadata": {},
     "output_type": "execute_result"
    }
   ],
   "source": [
    "confusion_matrix(Y_val,Y_val_pred_lgbm)"
   ]
  },
  {
   "cell_type": "code",
   "execution_count": 41,
   "id": "034f7b7c-31a9-43ea-a532-4c05d406f820",
   "metadata": {},
   "outputs": [
    {
     "data": {
      "text/plain": [
       "0.16849686598232874"
      ]
     },
     "execution_count": 41,
     "metadata": {},
     "output_type": "execute_result"
    }
   ],
   "source": [
    "np.std(Y_val_pred_prob_lgbm)"
   ]
  },
  {
   "cell_type": "markdown",
   "id": "751d6bcd-4ab3-4f90-9978-ff688d0f4e78",
   "metadata": {},
   "source": [
    "## Random Forest Classifier "
   ]
  },
  {
   "cell_type": "code",
   "execution_count": 42,
   "id": "ca607699-bec6-4a9d-8759-6df2c3fc30d0",
   "metadata": {},
   "outputs": [
    {
     "data": {
      "text/plain": [
       "0.6906940297301636"
      ]
     },
     "execution_count": 42,
     "metadata": {},
     "output_type": "execute_result"
    }
   ],
   "source": [
    "rf_clf = RandomForestClassifier(class_weight='balanced', max_depth=20, min_samples_leaf=25, n_estimators=400)\n",
    "rf_clf.fit(X_train, Y_train)\n",
    "Y_train_pred_rf=rf_clf.predict(X_train)\n",
    "Y_val_pred_rf=rf_clf.predict(X_val)\n",
    "Y_val_pred_prob_rf=rf_clf.predict_proba(X_val)[:,1]\n",
    "roc_auc_score(Y_val,Y_val_pred_prob_rf)"
   ]
  },
  {
   "cell_type": "code",
   "execution_count": 43,
   "id": "1cb4f79b-c468-4b57-bdad-db20f40c37dc",
   "metadata": {},
   "outputs": [],
   "source": [
    "Y_train_pred_prob_rf=rf_clf.predict_proba(X_train)[:,1]\n"
   ]
  },
  {
   "cell_type": "code",
   "execution_count": 44,
   "id": "22e03ae7-ad4f-4a7c-b183-73c12ef22554",
   "metadata": {},
   "outputs": [
    {
     "data": {
      "text/plain": [
       "array([[25770,  7578],\n",
       "       [ 3202,  2900]])"
      ]
     },
     "execution_count": 44,
     "metadata": {},
     "output_type": "execute_result"
    }
   ],
   "source": [
    "confusion_matrix(Y_val,Y_val_pred_rf)"
   ]
  },
  {
   "cell_type": "code",
   "execution_count": 45,
   "id": "cde25f86-74aa-4a59-93ba-e8ebbb57f29a",
   "metadata": {},
   "outputs": [
    {
     "data": {
      "text/plain": [
       "0.15276028123469826"
      ]
     },
     "execution_count": 45,
     "metadata": {},
     "output_type": "execute_result"
    }
   ],
   "source": [
    "np.std(Y_val_pred_prob_rf)"
   ]
  },
  {
   "cell_type": "code",
   "execution_count": 46,
   "id": "e9070eb3-581f-4f0d-bb10-58e33d571868",
   "metadata": {},
   "outputs": [
    {
     "data": {
      "text/plain": [
       "<matplotlib.collections.PathCollection at 0x7fadf9f19580>"
      ]
     },
     "execution_count": 46,
     "metadata": {},
     "output_type": "execute_result"
    },
    {
     "data": {
      "image/png": "[encoded data removed]",
      "text/plain": [
       "<Figure size 432x288 with 1 Axes>"
      ]
     },
     "metadata": {
      "needs_background": "light"
     },
     "output_type": "display_data"
    }
   ],
   "source": [
    "plt.scatter(Y_val_pred_prob_rf, Y_val_pred_prob_lgbm, alpha=0.25)\n"
   ]
  },
  {
   "cell_type": "code",
   "execution_count": 47,
   "id": "068aca8b-0c56-4cf0-a140-67b9a60f5030",
   "metadata": {},
   "outputs": [
    {
     "data": {
      "text/plain": [
       "<matplotlib.collections.PathCollection at 0x7fadfa048d60>"
      ]
     },
     "execution_count": 47,
     "metadata": {},
     "output_type": "execute_result"
    },
    {
     "data": {
      "image/png": "[encoded data removed]",
      "text/plain": [
       "<Figure size 432x288 with 1 Axes>"
      ]
     },
     "metadata": {
      "needs_background": "light"
     },
     "output_type": "display_data"
    }
   ],
   "source": [
    "plt.scatter(Y_val_pred_prob_rf, Y_val_pred_prob_lgbm, alpha=0.25)\n",
    "\n",
    "\n",
    "\n"
   ]
  },
  {
   "cell_type": "code",
   "execution_count": null,
   "id": "9d231748-ccf5-4ca5-9b26-cffeb061359b",
   "metadata": {},
   "outputs": [],
   "source": []
  },
  {
   "cell_type": "code",
   "execution_count": 48,
   "id": "02380fa8-896a-4421-bb14-c9997e58808f",
   "metadata": {},
   "outputs": [
    {
     "data": {
      "text/plain": [
       "0.6884598701841593"
      ]
     },
     "execution_count": 48,
     "metadata": {},
     "output_type": "execute_result"
    }
   ],
   "source": [
    "rf_clf_max_samples = RandomForestClassifier(class_weight='balanced', max_depth=20, min_samples_leaf=25, n_estimators=200, max_samples=0.3)\n",
    "rf_clf_max_samples.fit(X_train, Y_train)\n",
    "Y_train_pred_rf_max=rf_clf_max_samples.predict(X_train)\n",
    "Y_val_pred_rf_max=rf_clf_max_samples.predict(X_val)\n",
    "Y_val_pred_prob_rf_max=rf_clf_max_samples.predict_proba(X_val)[:,1]\n",
    "roc_auc_score(Y_val,Y_val_pred_prob_rf_max)"
   ]
  },
  {
   "cell_type": "code",
   "execution_count": 49,
   "id": "375baefa-c67f-4d99-a0d5-a3d488b5d116",
   "metadata": {},
   "outputs": [
    {
     "data": {
      "text/plain": [
       "<matplotlib.collections.PathCollection at 0x7fae1a6653a0>"
      ]
     },
     "execution_count": 49,
     "metadata": {},
     "output_type": "execute_result"
    },
    {
     "data": {
      "image/png": "[encoded data removed]",
      "text/plain": [
       "<Figure size 432x288 with 1 Axes>"
      ]
     },
     "metadata": {
      "needs_background": "light"
     },
     "output_type": "display_data"
    }
   ],
   "source": [
    "plt.scatter(Y_val_pred_prob_rf, Y_val_pred_prob_rf_max, alpha=0.25)"
   ]
  },
  {
   "cell_type": "code",
   "execution_count": 50,
   "id": "4c081e78-17b8-4d0f-8c3f-aafe443d6d79",
   "metadata": {},
   "outputs": [
    {
     "data": {
      "text/plain": [
       "<matplotlib.collections.PathCollection at 0x7fae19c58df0>"
      ]
     },
     "execution_count": 50,
     "metadata": {},
     "output_type": "execute_result"
    },
    {
     "data": {
      "image/png": "[encoded data removed]",
      "text/plain": [
       "<Figure size 432x288 with 1 Axes>"
      ]
     },
     "metadata": {
      "needs_background": "light"
     },
     "output_type": "display_data"
    }
   ],
   "source": [
    "plt.scatter(Y_val_pred_prob_rf_max, Y_val_pred_prob_lgbm, alpha=0.25)"
   ]
  },
  {
   "cell_type": "code",
   "execution_count": 51,
   "id": "4a12355f-8b8f-44a4-b767-b9a8c96508fb",
   "metadata": {},
   "outputs": [
    {
     "data": {
      "text/plain": [
       "0.6854036534642555"
      ]
     },
     "execution_count": 51,
     "metadata": {},
     "output_type": "execute_result"
    }
   ],
   "source": [
    "rf_clf_max_samples2 = RandomForestClassifier(class_weight='balanced', max_depth=10, min_samples_leaf=10, n_estimators=200, max_samples=0.3)\n",
    "rf_clf_max_samples2.fit(X_train, Y_train)\n",
    "Y_train_pred_rf_max2=rf_clf_max_samples2.predict(X_train)\n",
    "Y_val_pred_rf_max2=rf_clf_max_samples2.predict(X_val)\n",
    "Y_val_pred_prob_rf_max2=rf_clf_max_samples2.predict_proba(X_val)[:,1]\n",
    "roc_auc_score(Y_val,Y_val_pred_prob_rf_max2)"
   ]
  },
  {
   "cell_type": "code",
   "execution_count": 52,
   "id": "0aecac2d-93cb-480f-af63-725d0121e8d2",
   "metadata": {},
   "outputs": [
    {
     "data": {
      "text/plain": [
       "0.6836428991892535"
      ]
     },
     "execution_count": 52,
     "metadata": {},
     "output_type": "execute_result"
    }
   ],
   "source": [
    "rf_clf_max_samples2 = RandomForestClassifier(class_weight='balanced', max_depth=10, min_samples_leaf=10, n_estimators=80, max_samples=0.3)\n",
    "rf_clf_max_samples2.fit(X_train, Y_train)\n",
    "Y_train_pred_rf_max2=rf_clf_max_samples2.predict(X_train)\n",
    "Y_val_pred_rf_max2=rf_clf_max_samples2.predict(X_val)\n",
    "Y_val_pred_prob_rf_max2=rf_clf_max_samples2.predict_proba(X_val)[:,1]\n",
    "roc_auc_score(Y_val,Y_val_pred_prob_rf_max2)"
   ]
  },
  {
   "cell_type": "markdown",
   "id": "01066a0e-3bea-4e3c-9059-5c999352cdc6",
   "metadata": {},
   "source": [
    "## Adaboost Classifier"
   ]
  },
  {
   "cell_type": "code",
   "execution_count": 53,
   "id": "a2f880a2-084d-497e-89ef-2aaa7f21fedb",
   "metadata": {},
   "outputs": [
    {
     "data": {
      "text/plain": [
       "0.686442191099633"
      ]
     },
     "execution_count": 53,
     "metadata": {},
     "output_type": "execute_result"
    }
   ],
   "source": [
    "ada_clf = AdaBoostClassifier(n_estimators=100)\n",
    "ada_clf.fit(X_train, Y_train, sample_weight=copy.deepcopy(Y_train)*4 + 1)\n",
    "Y_train_pred_ada=ada_clf.predict(X_train)\n",
    "Y_val_pred_ada=ada_clf.predict(X_val)\n",
    "Y_val_pred_prob_ada=ada_clf.predict_proba(X_val)[:,1]\n",
    "roc_auc_score(Y_val,Y_val_pred_prob_ada)"
   ]
  },
  {
   "cell_type": "code",
   "execution_count": 54,
   "id": "58bdb8da-c8dd-499d-9270-a502f00cc35f",
   "metadata": {},
   "outputs": [],
   "source": [
    "Y_train_pred_prob_ada=ada_clf.predict_proba(X_train)[:,1]\n"
   ]
  },
  {
   "cell_type": "code",
   "execution_count": 55,
   "id": "18b51d67-b023-4205-bad9-6d05c0f1a75f",
   "metadata": {},
   "outputs": [
    {
     "data": {
      "text/plain": [
       "array([[22313, 11035],\n",
       "       [ 2431,  3671]])"
      ]
     },
     "execution_count": 55,
     "metadata": {},
     "output_type": "execute_result"
    }
   ],
   "source": [
    "confusion_matrix(Y_val,Y_val_pred_ada)"
   ]
  },
  {
   "cell_type": "code",
   "execution_count": 56,
   "id": "ea5df53d-2716-469e-9eea-ed39e8220426",
   "metadata": {},
   "outputs": [
    {
     "data": {
      "text/plain": [
       "0.0023487612828071856"
      ]
     },
     "execution_count": 56,
     "metadata": {},
     "output_type": "execute_result"
    }
   ],
   "source": [
    "np.std(Y_val_pred_prob_ada)"
   ]
  },
  {
   "cell_type": "code",
   "execution_count": 57,
   "id": "eceff756-80eb-4dfb-a050-a3f5bd80b345",
   "metadata": {},
   "outputs": [
    {
     "data": {
      "text/plain": [
       "<matplotlib.collections.PathCollection at 0x7fadfce5e940>"
      ]
     },
     "execution_count": 57,
     "metadata": {},
     "output_type": "execute_result"
    },
    {
     "data": {
      "image/png": "[encoded data removed]",
      "text/plain": [
       "<Figure size 432x288 with 1 Axes>"
      ]
     },
     "metadata": {
      "needs_background": "light"
     },
     "output_type": "display_data"
    }
   ],
   "source": [
    "plt.scatter(Y_val_pred_prob_rf, Y_val_pred_prob_ada, alpha=0.25)"
   ]
  },
  {
   "cell_type": "markdown",
   "id": "2ddef7ba-619f-437b-9caf-17ccc6889925",
   "metadata": {},
   "source": [
    "### Blend into an ensemble \n",
    "doesn't work very well.. hmmm"
   ]
  },
  {
   "cell_type": "code",
   "execution_count": 59,
   "id": "df1093e8-7660-432c-b648-d3d73506173f",
   "metadata": {},
   "outputs": [],
   "source": [
    "X_blend=np.concatenate((X_train, Y_train_pred_prob_lgbm.reshape(-1, 1), Y_train_pred_prob_rf.reshape(-1, 1)), axis=1)\n",
    "X_blend_val=np.concatenate((X_val, Y_val_pred_prob_lgbm.reshape(-1, 1), Y_val_pred_prob_rf.reshape(-1, 1)), axis=1)\n"
   ]
  },
  {
   "cell_type": "code",
   "execution_count": 65,
   "id": "90b53cd0-f80c-42df-ac2a-3789d7ce6e5e",
   "metadata": {},
   "outputs": [
    {
     "ename": "NameError",
     "evalue": "name 'models' is not defined",
     "output_type": "error",
     "traceback": [
      "\u001b[0;31m---------------------------------------------------------------------------\u001b[0m",
      "\u001b[0;31mNameError\u001b[0m                                 Traceback (most recent call last)",
      "\u001b[0;32m/var/folders/2z/n5knmb3s7n9c46lls9ss3vy40000gn/T/ipykernel_17099/2830429239.py\u001b[0m in \u001b[0;36m<module>\u001b[0;34m\u001b[0m\n\u001b[0;32m----> 1\u001b[0;31m \u001b[0mnetwork\u001b[0m \u001b[0;34m=\u001b[0m \u001b[0mmodels\u001b[0m\u001b[0;34m.\u001b[0m\u001b[0mSequential\u001b[0m\u001b[0;34m(\u001b[0m\u001b[0;34m)\u001b[0m\u001b[0;34m\u001b[0m\u001b[0;34m\u001b[0m\u001b[0m\n\u001b[0m\u001b[1;32m      2\u001b[0m \u001b[0mnetwork\u001b[0m\u001b[0;34m.\u001b[0m\u001b[0madd\u001b[0m\u001b[0;34m(\u001b[0m\u001b[0mlayers\u001b[0m\u001b[0;34m.\u001b[0m\u001b[0mDense\u001b[0m\u001b[0;34m(\u001b[0m\u001b[0;36m100\u001b[0m\u001b[0;34m,\u001b[0m \u001b[0mactivation\u001b[0m\u001b[0;34m=\u001b[0m\u001b[0;34m\"leaky_relu\"\u001b[0m\u001b[0;34m,\u001b[0m \u001b[0minput_shape\u001b[0m\u001b[0;34m=\u001b[0m\u001b[0;34m(\u001b[0m\u001b[0mX_blend\u001b[0m\u001b[0;34m.\u001b[0m\u001b[0mshape\u001b[0m\u001b[0;34m[\u001b[0m\u001b[0;36m1\u001b[0m\u001b[0;34m]\u001b[0m\u001b[0;34m,\u001b[0m\u001b[0;34m)\u001b[0m\u001b[0;34m)\u001b[0m\u001b[0;34m)\u001b[0m\u001b[0;34m\u001b[0m\u001b[0;34m\u001b[0m\u001b[0m\n\u001b[1;32m      3\u001b[0m \u001b[0mnetwork\u001b[0m\u001b[0;34m.\u001b[0m\u001b[0madd\u001b[0m\u001b[0;34m(\u001b[0m\u001b[0mlayers\u001b[0m\u001b[0;34m.\u001b[0m\u001b[0mDropout\u001b[0m\u001b[0;34m(\u001b[0m\u001b[0;36m0.15\u001b[0m\u001b[0;34m)\u001b[0m\u001b[0;34m)\u001b[0m\u001b[0;34m\u001b[0m\u001b[0;34m\u001b[0m\u001b[0m\n\u001b[1;32m      4\u001b[0m \u001b[0mnetwork\u001b[0m\u001b[0;34m.\u001b[0m\u001b[0madd\u001b[0m\u001b[0;34m(\u001b[0m\u001b[0mlayers\u001b[0m\u001b[0;34m.\u001b[0m\u001b[0mDense\u001b[0m\u001b[0;34m(\u001b[0m\u001b[0;36m10\u001b[0m\u001b[0;34m,\u001b[0m \u001b[0mactivation\u001b[0m\u001b[0;34m=\u001b[0m\u001b[0;34m\"leaky_relu\"\u001b[0m\u001b[0;34m)\u001b[0m\u001b[0;34m)\u001b[0m\u001b[0;34m\u001b[0m\u001b[0;34m\u001b[0m\u001b[0m\n\u001b[1;32m      5\u001b[0m \u001b[0mnetwork\u001b[0m\u001b[0;34m.\u001b[0m\u001b[0madd\u001b[0m\u001b[0;34m(\u001b[0m\u001b[0mlayers\u001b[0m\u001b[0;34m.\u001b[0m\u001b[0mDense\u001b[0m\u001b[0;34m(\u001b[0m\u001b[0;36m2\u001b[0m\u001b[0;34m,\u001b[0m \u001b[0mactivation\u001b[0m\u001b[0;34m=\u001b[0m\u001b[0;34m\"softmax\"\u001b[0m\u001b[0;34m)\u001b[0m\u001b[0;34m)\u001b[0m\u001b[0;34m\u001b[0m\u001b[0;34m\u001b[0m\u001b[0m\n",
      "\u001b[0;31mNameError\u001b[0m: name 'models' is not defined"
     ]
    }
   ],
   "source": [
    "\n",
    "network = models.Sequential()\n",
    "network.add(layers.Dense(100, activation=\"leaky_relu\", input_shape=(X_blend.shape[1],)))\n",
    "network.add(layers.Dropout(0.15))\n",
    "network.add(layers.Dense(10, activation=\"leaky_relu\"))\n",
    "network.add(layers.Dense(2, activation=\"softmax\"))\n",
    "network.compile(loss=\"categorical_crossentropy\",\n",
    "                optimizer=\"adam\",\n",
    "                metrics=[\"accuracy\"])\n",
    "\n",
    "history = network.fit(X_blend, Y_train, batch_size=16, epochs=10, validation_split=0.2, shuffle=True, verbose=False)\n",
    "\n",
    "test_loss, test_acc = network.evaluate(X_blend_val, Y_val)\n",
    "print('the final accuracy on the holdout set was ', np.round(test_acc * 100, 2), '%')\n",
    "\n",
    "y_pred_prob_nn = network.predict(X_val)\n",
    "y_pred_nn = network.predict(X_train)\n",
    "y_pred_nn[y_pred_nn>=0.5] = 1\n",
    "y_pred_nn[y_pred_nn<0.5] = 0\n",
    "y_val_pred_nn = network.predict(X_val)\n",
    "y_val_pred_nn[y_val_pred_nn>=0.5] = 1\n",
    "y_val_pred_nn[y_val_pred_nn<0.5] = 0\n",
    "print(\"ROC AUC score: \", roc_auc_score(y_val_oh, y_pred_prob_nn))"
   ]
  },
  {
   "cell_type": "code",
   "execution_count": null,
   "id": "93c97274-b2c9-42d4-8f40-8a4cf81c39ee",
   "metadata": {},
   "outputs": [],
   "source": [
    "plot_results(history)"
   ]
  },
  {
   "cell_type": "code",
   "execution_count": 60,
   "id": "f83dad48-6d3e-4128-8749-3ea15f51f2fe",
   "metadata": {},
   "outputs": [
    {
     "name": "stderr",
     "output_type": "stream",
     "text": [
      "/Users/glchau/opt/anaconda3/envs/bebi/lib/python3.8/site-packages/sklearn/linear_model/_logistic.py:814: ConvergenceWarning: lbfgs failed to converge (status=1):\n",
      "STOP: TOTAL NO. of ITERATIONS REACHED LIMIT.\n",
      "\n",
      "Increase the number of iterations (max_iter) or scale the data as shown in:\n",
      "    https://scikit-learn.org/stable/modules/preprocessing.html\n",
      "Please also refer to the documentation for alternative solver options:\n",
      "    https://scikit-learn.org/stable/modules/linear_model.html#logistic-regression\n",
      "  n_iter_i = _check_optimize_result(\n"
     ]
    },
    {
     "data": {
      "text/plain": [
       "0.6351576594400725"
      ]
     },
     "execution_count": 60,
     "metadata": {},
     "output_type": "execute_result"
    }
   ],
   "source": [
    "clf = LogisticRegression(random_state=0).fit(X_blend, Y_train)\n",
    "Y_val_pred_prob=clf.predict_proba(X_blend_val)[:,1]\n",
    "AUC_score(Y_val,Y_val_pred_prob)"
   ]
  },
  {
   "cell_type": "code",
   "execution_count": 61,
   "id": "ef1eb267-9dd6-4315-acee-47df0f3bc9d1",
   "metadata": {},
   "outputs": [
    {
     "name": "stderr",
     "output_type": "stream",
     "text": [
      "/Users/glchau/opt/anaconda3/envs/bebi/lib/python3.8/site-packages/sklearn/linear_model/_logistic.py:814: ConvergenceWarning: lbfgs failed to converge (status=1):\n",
      "STOP: TOTAL NO. of ITERATIONS REACHED LIMIT.\n",
      "\n",
      "Increase the number of iterations (max_iter) or scale the data as shown in:\n",
      "    https://scikit-learn.org/stable/modules/preprocessing.html\n",
      "Please also refer to the documentation for alternative solver options:\n",
      "    https://scikit-learn.org/stable/modules/linear_model.html#logistic-regression\n",
      "  n_iter_i = _check_optimize_result(\n"
     ]
    },
    {
     "data": {
      "text/plain": [
       "0.6392569471988864"
      ]
     },
     "execution_count": 61,
     "metadata": {},
     "output_type": "execute_result"
    }
   ],
   "source": [
    "clf = LogisticRegression(random_state=0, class_weight='balanced').fit(X_blend, Y_train)\n",
    "Y_val_pred_prob=clf.predict_proba(X_blend_val)[:,1]\n",
    "AUC_score(Y_val,Y_val_pred_prob)"
   ]
  },
  {
   "cell_type": "markdown",
   "id": "c8cd3bb4-078e-4f54-aa1c-39c36ed3e3db",
   "metadata": {},
   "source": [
    "## Use average voting"
   ]
  },
  {
   "cell_type": "code",
   "execution_count": 62,
   "id": "98c4e096-4049-4ed6-8c9b-3619d1bd5209",
   "metadata": {},
   "outputs": [
    {
     "name": "stdout",
     "output_type": "stream",
     "text": [
      "0.6923142951811134\n"
     ]
    },
    {
     "data": {
      "text/plain": [
       "array([[23474,  9874],\n",
       "       [ 2626,  3476]])"
      ]
     },
     "execution_count": 63,
     "metadata": {},
     "output_type": "execute_result"
    }
   ],
   "source": [
    "Y_average = np.mean([Y_val_pred_prob_lgbm,Y_val_pred_prob_rf,Y_val_pred_prob_ada], axis=0)\n",
    "\n",
    "print(AUC_score(Y_val,Y_average))\n",
    "\n",
    "Y_average[Y_average>=0.5] = 1\n",
    "Y_average[Y_average<0.5] = 0\n",
    "confusion_matrix(Y_val,Y_average)"
   ]
  },
  {
   "cell_type": "markdown",
   "id": "f72a7824-67c3-4795-aad4-3755765eef40",
   "metadata": {},
   "source": [
    "## Output to submission"
   ]
  },
  {
   "cell_type": "code",
   "execution_count": 78,
   "id": "a0a6eec2-1563-4f41-a575-d7486c58a96a",
   "metadata": {},
   "outputs": [],
   "source": [
    "lgbm_clf_full = LGBMClassifier(class_weight='balanced', max_depth=11, min_child_samples=60, n_estimators=80)\n",
    "lgbm_clf_full.fit(X_train_full, Y_train_full)\n",
    "Y_test_pred_prob_lgbm=lgbm_clf_full.predict_proba(X_test)[:,1]\n",
    "\n",
    "\n",
    "rf_clf_full = RandomForestClassifier(class_weight='balanced', max_depth=20, min_samples_leaf=25, n_estimators=400)\n",
    "rf_clf_full.fit(X_train_full, Y_train_full)\n",
    "Y_test_pred_prob_rf=rf_clf_full.predict_proba(X_test)[:,1]\n",
    "\n",
    "test_probs = [Y_test_pred_prob_lgbm,Y_test_pred_prob_rf]\n",
    "\n",
    "for n_est in [80, 100, 120]: \n",
    "    lgbm_clf_full = LGBMClassifier(class_weight='balanced', max_depth=11-5, min_child_samples=60+10, n_estimators=n_est)\n",
    "    lgbm_clf_full.fit(X_train_full, Y_train_full)\n",
    "    Y_test_pred_prob_lgbm=lgbm_clf_full.predict_proba(X_test)[:,1]\n",
    "    test_probs.append(Y_test_pred_prob_lgbm)\n",
    "\n",
    "    rf_clf_full = RandomForestClassifier(class_weight='balanced', max_depth=20-5, min_samples_leaf=25+10, n_estimators=n_est)\n",
    "    rf_clf_full.fit(X_train_full, Y_train_full)\n",
    "    Y_test_pred_prob_rf=rf_clf_full.predict_proba(X_test)[:,1]\n",
    "    test_probs.append(Y_test_pred_prob_rf)\n",
    "\n"
   ]
  },
  {
   "cell_type": "code",
   "execution_count": 79,
   "id": "62ec3a23-0870-4662-b0d6-fc29c81f8128",
   "metadata": {},
   "outputs": [],
   "source": [
    "def to_submission(ids, y_test_predicted_probability):\n",
    "    y_test=pd.DataFrame(y_test_predicted_probability,columns=['loan_status'], index=ids)\n",
    "    y_test.index.name = 'id'\n",
    "    y_test.to_csv('data/submission.csv')\n",
    "    return\n",
    "\n",
    "Y_test_average = np.mean(test_probs, axis=0)\n",
    "to_submission(pd.read_csv(\"data/2022-02-07_LOANS_TEST.csv\")['id'].values, Y_test_average)"
   ]
  },
  {
   "cell_type": "code",
   "execution_count": null,
   "id": "c7702f9e-d2ca-438e-9d39-0afbff50a002",
   "metadata": {},
   "outputs": [],
   "source": []
  }
 ],
 "metadata": {
  "kernelspec": {
   "display_name": "Python 3 (ipykernel)",
   "language": "python",
   "name": "python3"
  },
  "language_info": {
   "codemirror_mode": {
    "name": "ipython",
    "version": 3
   },
   "file_extension": ".py",
   "mimetype": "text/x-python",
   "name": "python",
   "nbconvert_exporter": "python",
   "pygments_lexer": "ipython3",
   "version": "3.8.12"
  }
 },
 "nbformat": 4,
 "nbformat_minor": 5
}
