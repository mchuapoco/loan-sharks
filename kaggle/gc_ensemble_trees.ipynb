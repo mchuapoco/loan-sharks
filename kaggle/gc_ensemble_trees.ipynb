{
 "cells": [
  {
   "cell_type": "code",
   "execution_count": 101,
   "id": "76aed3e8-e3ae-4090-98b0-854afef419f4",
   "metadata": {},
   "outputs": [
    {
     "data": {
      "text/html": [
       "\n",
       "    <div class=\"bk-root\">\n",
       "        <a href=\"https://bokeh.org\" target=\"_blank\" class=\"bk-logo bk-logo-small bk-logo-notebook\"></a>\n",
       "        <span id=\"1004\">Loading BokehJS ...</span>\n",
       "    </div>"
      ]
     },
     "metadata": {},
     "output_type": "display_data"
    },
    {
     "data": {
      "application/javascript": [
       "\n",
       "(function(root) {\n",
       "  function now() {\n",
       "    return new Date();\n",
       "  }\n",
       "\n",
       "  var force = true;\n",
       "\n",
       "  if (typeof root._bokeh_onload_callbacks === \"undefined\" || force === true) {\n",
       "    root._bokeh_onload_callbacks = [];\n",
       "    root._bokeh_is_loading = undefined;\n",
       "  }\n",
       "\n",
       "  var JS_MIME_TYPE = 'application/javascript';\n",
       "  var HTML_MIME_TYPE = 'text/html';\n",
       "  var EXEC_MIME_TYPE = 'application/vnd.bokehjs_exec.v0+json';\n",
       "  var CLASS_NAME = 'output_bokeh rendered_html';\n",
       "\n",
       "  /**\n",
       "   * Render data to the DOM node\n",
       "   */\n",
       "  function render(props, node) {\n",
       "    var script = document.createElement(\"script\");\n",
       "    node.appendChild(script);\n",
       "  }\n",
       "\n",
       "  /**\n",
       "   * Handle when an output is cleared or removed\n",
       "   */\n",
       "  function handleClearOutput(event, handle) {\n",
       "    var cell = handle.cell;\n",
       "\n",
       "    var id = cell.output_area._bokeh_element_id;\n",
       "    var server_id = cell.output_area._bokeh_server_id;\n",
       "    // Clean up Bokeh references\n",
       "    if (id != null && id in Bokeh.index) {\n",
       "      Bokeh.index[id].model.document.clear();\n",
       "      delete Bokeh.index[id];\n",
       "    }\n",
       "\n",
       "    if (server_id !== undefined) {\n",
       "      // Clean up Bokeh references\n",
       "      var cmd = \"from bokeh.io.state import curstate; print(curstate().uuid_to_server['\" + server_id + \"'].get_sessions()[0].document.roots[0]._id)\";\n",
       "      cell.notebook.kernel.execute(cmd, {\n",
       "        iopub: {\n",
       "          output: function(msg) {\n",
       "            var id = msg.content.text.trim();\n",
       "            if (id in Bokeh.index) {\n",
       "              Bokeh.index[id].model.document.clear();\n",
       "              delete Bokeh.index[id];\n",
       "            }\n",
       "          }\n",
       "        }\n",
       "      });\n",
       "      // Destroy server and session\n",
       "      var cmd = \"import bokeh.io.notebook as ion; ion.destroy_server('\" + server_id + \"')\";\n",
       "      cell.notebook.kernel.execute(cmd);\n",
       "    }\n",
       "  }\n",
       "\n",
       "  /**\n",
       "   * Handle when a new output is added\n",
       "   */\n",
       "  function handleAddOutput(event, handle) {\n",
       "    var output_area = handle.output_area;\n",
       "    var output = handle.output;\n",
       "\n",
       "    // limit handleAddOutput to display_data with EXEC_MIME_TYPE content only\n",
       "    if ((output.output_type != \"display_data\") || (!Object.prototype.hasOwnProperty.call(output.data, EXEC_MIME_TYPE))) {\n",
       "      return\n",
       "    }\n",
       "\n",
       "    var toinsert = output_area.element.find(\".\" + CLASS_NAME.split(' ')[0]);\n",
       "\n",
       "    if (output.metadata[EXEC_MIME_TYPE][\"id\"] !== undefined) {\n",
       "      toinsert[toinsert.length - 1].firstChild.textContent = output.data[JS_MIME_TYPE];\n",
       "      // store reference to embed id on output_area\n",
       "      output_area._bokeh_element_id = output.metadata[EXEC_MIME_TYPE][\"id\"];\n",
       "    }\n",
       "    if (output.metadata[EXEC_MIME_TYPE][\"server_id\"] !== undefined) {\n",
       "      var bk_div = document.createElement(\"div\");\n",
       "      bk_div.innerHTML = output.data[HTML_MIME_TYPE];\n",
       "      var script_attrs = bk_div.children[0].attributes;\n",
       "      for (var i = 0; i < script_attrs.length; i++) {\n",
       "        toinsert[toinsert.length - 1].firstChild.setAttribute(script_attrs[i].name, script_attrs[i].value);\n",
       "        toinsert[toinsert.length - 1].firstChild.textContent = bk_div.children[0].textContent\n",
       "      }\n",
       "      // store reference to server id on output_area\n",
       "      output_area._bokeh_server_id = output.metadata[EXEC_MIME_TYPE][\"server_id\"];\n",
       "    }\n",
       "  }\n",
       "\n",
       "  function register_renderer(events, OutputArea) {\n",
       "\n",
       "    function append_mime(data, metadata, element) {\n",
       "      // create a DOM node to render to\n",
       "      var toinsert = this.create_output_subarea(\n",
       "        metadata,\n",
       "        CLASS_NAME,\n",
       "        EXEC_MIME_TYPE\n",
       "      );\n",
       "      this.keyboard_manager.register_events(toinsert);\n",
       "      // Render to node\n",
       "      var props = {data: data, metadata: metadata[EXEC_MIME_TYPE]};\n",
       "      render(props, toinsert[toinsert.length - 1]);\n",
       "      element.append(toinsert);\n",
       "      return toinsert\n",
       "    }\n",
       "\n",
       "    /* Handle when an output is cleared or removed */\n",
       "    events.on('clear_output.CodeCell', handleClearOutput);\n",
       "    events.on('delete.Cell', handleClearOutput);\n",
       "\n",
       "    /* Handle when a new output is added */\n",
       "    events.on('output_added.OutputArea', handleAddOutput);\n",
       "\n",
       "    /**\n",
       "     * Register the mime type and append_mime function with output_area\n",
       "     */\n",
       "    OutputArea.prototype.register_mime_type(EXEC_MIME_TYPE, append_mime, {\n",
       "      /* Is output safe? */\n",
       "      safe: true,\n",
       "      /* Index of renderer in `output_area.display_order` */\n",
       "      index: 0\n",
       "    });\n",
       "  }\n",
       "\n",
       "  // register the mime type if in Jupyter Notebook environment and previously unregistered\n",
       "  if (root.Jupyter !== undefined) {\n",
       "    var events = require('base/js/events');\n",
       "    var OutputArea = require('notebook/js/outputarea').OutputArea;\n",
       "\n",
       "    if (OutputArea.prototype.mime_types().indexOf(EXEC_MIME_TYPE) == -1) {\n",
       "      register_renderer(events, OutputArea);\n",
       "    }\n",
       "  }\n",
       "\n",
       "  \n",
       "  if (typeof (root._bokeh_timeout) === \"undefined\" || force === true) {\n",
       "    root._bokeh_timeout = Date.now() + 5000;\n",
       "    root._bokeh_failed_load = false;\n",
       "  }\n",
       "\n",
       "  var NB_LOAD_WARNING = {'data': {'text/html':\n",
       "     \"<div style='background-color: #fdd'>\\n\"+\n",
       "     \"<p>\\n\"+\n",
       "     \"BokehJS does not appear to have successfully loaded. If loading BokehJS from CDN, this \\n\"+\n",
       "     \"may be due to a slow or bad network connection. Possible fixes:\\n\"+\n",
       "     \"</p>\\n\"+\n",
       "     \"<ul>\\n\"+\n",
       "     \"<li>re-rerun `output_notebook()` to attempt to load from CDN again, or</li>\\n\"+\n",
       "     \"<li>use INLINE resources instead, as so:</li>\\n\"+\n",
       "     \"</ul>\\n\"+\n",
       "     \"<code>\\n\"+\n",
       "     \"from bokeh.resources import INLINE\\n\"+\n",
       "     \"output_notebook(resources=INLINE)\\n\"+\n",
       "     \"</code>\\n\"+\n",
       "     \"</div>\"}};\n",
       "\n",
       "  function display_loaded() {\n",
       "    var el = document.getElementById(\"1004\");\n",
       "    if (el != null) {\n",
       "      el.textContent = \"BokehJS is loading...\";\n",
       "    }\n",
       "    if (root.Bokeh !== undefined) {\n",
       "      if (el != null) {\n",
       "        el.textContent = \"BokehJS \" + root.Bokeh.version + \" successfully loaded.\";\n",
       "      }\n",
       "    } else if (Date.now() < root._bokeh_timeout) {\n",
       "      setTimeout(display_loaded, 100)\n",
       "    }\n",
       "  }\n",
       "\n",
       "\n",
       "  function run_callbacks() {\n",
       "    try {\n",
       "      root._bokeh_onload_callbacks.forEach(function(callback) {\n",
       "        if (callback != null)\n",
       "          callback();\n",
       "      });\n",
       "    } finally {\n",
       "      delete root._bokeh_onload_callbacks\n",
       "    }\n",
       "    console.debug(\"Bokeh: all callbacks have finished\");\n",
       "  }\n",
       "\n",
       "  function load_libs(css_urls, js_urls, callback) {\n",
       "    if (css_urls == null) css_urls = [];\n",
       "    if (js_urls == null) js_urls = [];\n",
       "\n",
       "    root._bokeh_onload_callbacks.push(callback);\n",
       "    if (root._bokeh_is_loading > 0) {\n",
       "      console.debug(\"Bokeh: BokehJS is being loaded, scheduling callback at\", now());\n",
       "      return null;\n",
       "    }\n",
       "    if (js_urls == null || js_urls.length === 0) {\n",
       "      run_callbacks();\n",
       "      return null;\n",
       "    }\n",
       "    console.debug(\"Bokeh: BokehJS not loaded, scheduling load and callback at\", now());\n",
       "    root._bokeh_is_loading = css_urls.length + js_urls.length;\n",
       "\n",
       "    function on_load() {\n",
       "      root._bokeh_is_loading--;\n",
       "      if (root._bokeh_is_loading === 0) {\n",
       "        console.debug(\"Bokeh: all BokehJS libraries/stylesheets loaded\");\n",
       "        run_callbacks()\n",
       "      }\n",
       "    }\n",
       "\n",
       "    function on_error(url) {\n",
       "      console.error(\"failed to load \" + url);\n",
       "    }\n",
       "\n",
       "    for (let i = 0; i < css_urls.length; i++) {\n",
       "      const url = css_urls[i];\n",
       "      const element = document.createElement(\"link\");\n",
       "      element.onload = on_load;\n",
       "      element.onerror = on_error.bind(null, url);\n",
       "      element.rel = \"stylesheet\";\n",
       "      element.type = \"text/css\";\n",
       "      element.href = url;\n",
       "      console.debug(\"Bokeh: injecting link tag for BokehJS stylesheet: \", url);\n",
       "      document.body.appendChild(element);\n",
       "    }\n",
       "\n",
       "    const hashes = {\"https://cdn.bokeh.org/bokeh/release/bokeh-2.3.3.min.js\": \"dM3QQsP+wXdHg42wTqW85BjZQdLNNIXqlPw/BgKoExPmTG7ZLML4EGqLMfqHT6ON\", \"https://cdn.bokeh.org/bokeh/release/bokeh-tables-2.3.3.min.js\": \"8x57I4YuIfu8XyZfFo0XVr2WAT8EK4rh/uDe3wF7YuW2FNUSNEpJbsPaB1nJ2fz2\", \"https://cdn.bokeh.org/bokeh/release/bokeh-widgets-2.3.3.min.js\": \"3QTqdz9LyAm2i0sG5XTePsHec3UHWwVsrOL68SYRoAXsafvfAyqtQ+h440+qIBhS\"};\n",
       "\n",
       "    for (let i = 0; i < js_urls.length; i++) {\n",
       "      const url = js_urls[i];\n",
       "      const element = document.createElement('script');\n",
       "      element.onload = on_load;\n",
       "      element.onerror = on_error.bind(null, url);\n",
       "      element.async = false;\n",
       "      element.src = url;\n",
       "      if (url in hashes) {\n",
       "        element.crossOrigin = \"anonymous\";\n",
       "        element.integrity = \"sha384-\" + hashes[url];\n",
       "      }\n",
       "      console.debug(\"Bokeh: injecting script tag for BokehJS library: \", url);\n",
       "      document.head.appendChild(element);\n",
       "    }\n",
       "  };\n",
       "\n",
       "  function inject_raw_css(css) {\n",
       "    const element = document.createElement(\"style\");\n",
       "    element.appendChild(document.createTextNode(css));\n",
       "    document.body.appendChild(element);\n",
       "  }\n",
       "\n",
       "  \n",
       "  var js_urls = [\"https://cdn.bokeh.org/bokeh/release/bokeh-2.3.3.min.js\", \"https://cdn.bokeh.org/bokeh/release/bokeh-widgets-2.3.3.min.js\", \"https://cdn.bokeh.org/bokeh/release/bokeh-tables-2.3.3.min.js\"];\n",
       "  var css_urls = [];\n",
       "  \n",
       "\n",
       "  var inline_js = [\n",
       "    function(Bokeh) {\n",
       "      Bokeh.set_log_level(\"info\");\n",
       "    },\n",
       "    function(Bokeh) {\n",
       "    \n",
       "    \n",
       "    }\n",
       "  ];\n",
       "\n",
       "  function run_inline_js() {\n",
       "    \n",
       "    if (root.Bokeh !== undefined || force === true) {\n",
       "      \n",
       "    for (var i = 0; i < inline_js.length; i++) {\n",
       "      inline_js[i].call(root, root.Bokeh);\n",
       "    }\n",
       "    if (force === true) {\n",
       "        display_loaded();\n",
       "      }} else if (Date.now() < root._bokeh_timeout) {\n",
       "      setTimeout(run_inline_js, 100);\n",
       "    } else if (!root._bokeh_failed_load) {\n",
       "      console.log(\"Bokeh: BokehJS failed to load within specified timeout.\");\n",
       "      root._bokeh_failed_load = true;\n",
       "    } else if (force !== true) {\n",
       "      var cell = $(document.getElementById(\"1004\")).parents('.cell').data().cell;\n",
       "      cell.output_area.append_execute_result(NB_LOAD_WARNING)\n",
       "    }\n",
       "\n",
       "  }\n",
       "\n",
       "  if (root._bokeh_is_loading === 0) {\n",
       "    console.debug(\"Bokeh: BokehJS loaded, going straight to plotting\");\n",
       "    run_inline_js();\n",
       "  } else {\n",
       "    load_libs(css_urls, js_urls, function() {\n",
       "      console.debug(\"Bokeh: BokehJS plotting callback run at\", now());\n",
       "      run_inline_js();\n",
       "    });\n",
       "  }\n",
       "}(window));"
      ],
      "application/vnd.bokehjs_load.v0+json": "\n(function(root) {\n  function now() {\n    return new Date();\n  }\n\n  var force = true;\n\n  if (typeof root._bokeh_onload_callbacks === \"undefined\" || force === true) {\n    root._bokeh_onload_callbacks = [];\n    root._bokeh_is_loading = undefined;\n  }\n\n  \n\n  \n  if (typeof (root._bokeh_timeout) === \"undefined\" || force === true) {\n    root._bokeh_timeout = Date.now() + 5000;\n    root._bokeh_failed_load = false;\n  }\n\n  var NB_LOAD_WARNING = {'data': {'text/html':\n     \"<div style='background-color: #fdd'>\\n\"+\n     \"<p>\\n\"+\n     \"BokehJS does not appear to have successfully loaded. If loading BokehJS from CDN, this \\n\"+\n     \"may be due to a slow or bad network connection. Possible fixes:\\n\"+\n     \"</p>\\n\"+\n     \"<ul>\\n\"+\n     \"<li>re-rerun `output_notebook()` to attempt to load from CDN again, or</li>\\n\"+\n     \"<li>use INLINE resources instead, as so:</li>\\n\"+\n     \"</ul>\\n\"+\n     \"<code>\\n\"+\n     \"from bokeh.resources import INLINE\\n\"+\n     \"output_notebook(resources=INLINE)\\n\"+\n     \"</code>\\n\"+\n     \"</div>\"}};\n\n  function display_loaded() {\n    var el = document.getElementById(\"1004\");\n    if (el != null) {\n      el.textContent = \"BokehJS is loading...\";\n    }\n    if (root.Bokeh !== undefined) {\n      if (el != null) {\n        el.textContent = \"BokehJS \" + root.Bokeh.version + \" successfully loaded.\";\n      }\n    } else if (Date.now() < root._bokeh_timeout) {\n      setTimeout(display_loaded, 100)\n    }\n  }\n\n\n  function run_callbacks() {\n    try {\n      root._bokeh_onload_callbacks.forEach(function(callback) {\n        if (callback != null)\n          callback();\n      });\n    } finally {\n      delete root._bokeh_onload_callbacks\n    }\n    console.debug(\"Bokeh: all callbacks have finished\");\n  }\n\n  function load_libs(css_urls, js_urls, callback) {\n    if (css_urls == null) css_urls = [];\n    if (js_urls == null) js_urls = [];\n\n    root._bokeh_onload_callbacks.push(callback);\n    if (root._bokeh_is_loading > 0) {\n      console.debug(\"Bokeh: BokehJS is being loaded, scheduling callback at\", now());\n      return null;\n    }\n    if (js_urls == null || js_urls.length === 0) {\n      run_callbacks();\n      return null;\n    }\n    console.debug(\"Bokeh: BokehJS not loaded, scheduling load and callback at\", now());\n    root._bokeh_is_loading = css_urls.length + js_urls.length;\n\n    function on_load() {\n      root._bokeh_is_loading--;\n      if (root._bokeh_is_loading === 0) {\n        console.debug(\"Bokeh: all BokehJS libraries/stylesheets loaded\");\n        run_callbacks()\n      }\n    }\n\n    function on_error(url) {\n      console.error(\"failed to load \" + url);\n    }\n\n    for (let i = 0; i < css_urls.length; i++) {\n      const url = css_urls[i];\n      const element = document.createElement(\"link\");\n      element.onload = on_load;\n      element.onerror = on_error.bind(null, url);\n      element.rel = \"stylesheet\";\n      element.type = \"text/css\";\n      element.href = url;\n      console.debug(\"Bokeh: injecting link tag for BokehJS stylesheet: \", url);\n      document.body.appendChild(element);\n    }\n\n    const hashes = {\"https://cdn.bokeh.org/bokeh/release/bokeh-2.3.3.min.js\": \"dM3QQsP+wXdHg42wTqW85BjZQdLNNIXqlPw/BgKoExPmTG7ZLML4EGqLMfqHT6ON\", \"https://cdn.bokeh.org/bokeh/release/bokeh-tables-2.3.3.min.js\": \"8x57I4YuIfu8XyZfFo0XVr2WAT8EK4rh/uDe3wF7YuW2FNUSNEpJbsPaB1nJ2fz2\", \"https://cdn.bokeh.org/bokeh/release/bokeh-widgets-2.3.3.min.js\": \"3QTqdz9LyAm2i0sG5XTePsHec3UHWwVsrOL68SYRoAXsafvfAyqtQ+h440+qIBhS\"};\n\n    for (let i = 0; i < js_urls.length; i++) {\n      const url = js_urls[i];\n      const element = document.createElement('script');\n      element.onload = on_load;\n      element.onerror = on_error.bind(null, url);\n      element.async = false;\n      element.src = url;\n      if (url in hashes) {\n        element.crossOrigin = \"anonymous\";\n        element.integrity = \"sha384-\" + hashes[url];\n      }\n      console.debug(\"Bokeh: injecting script tag for BokehJS library: \", url);\n      document.head.appendChild(element);\n    }\n  };\n\n  function inject_raw_css(css) {\n    const element = document.createElement(\"style\");\n    element.appendChild(document.createTextNode(css));\n    document.body.appendChild(element);\n  }\n\n  \n  var js_urls = [\"https://cdn.bokeh.org/bokeh/release/bokeh-2.3.3.min.js\", \"https://cdn.bokeh.org/bokeh/release/bokeh-widgets-2.3.3.min.js\", \"https://cdn.bokeh.org/bokeh/release/bokeh-tables-2.3.3.min.js\"];\n  var css_urls = [];\n  \n\n  var inline_js = [\n    function(Bokeh) {\n      Bokeh.set_log_level(\"info\");\n    },\n    function(Bokeh) {\n    \n    \n    }\n  ];\n\n  function run_inline_js() {\n    \n    if (root.Bokeh !== undefined || force === true) {\n      \n    for (var i = 0; i < inline_js.length; i++) {\n      inline_js[i].call(root, root.Bokeh);\n    }\n    if (force === true) {\n        display_loaded();\n      }} else if (Date.now() < root._bokeh_timeout) {\n      setTimeout(run_inline_js, 100);\n    } else if (!root._bokeh_failed_load) {\n      console.log(\"Bokeh: BokehJS failed to load within specified timeout.\");\n      root._bokeh_failed_load = true;\n    } else if (force !== true) {\n      var cell = $(document.getElementById(\"1004\")).parents('.cell').data().cell;\n      cell.output_area.append_execute_result(NB_LOAD_WARNING)\n    }\n\n  }\n\n  if (root._bokeh_is_loading === 0) {\n    console.debug(\"Bokeh: BokehJS loaded, going straight to plotting\");\n    run_inline_js();\n  } else {\n    load_libs(css_urls, js_urls, function() {\n      console.debug(\"Bokeh: BokehJS plotting callback run at\", now());\n      run_inline_js();\n    });\n  }\n}(window));"
     },
     "metadata": {},
     "output_type": "display_data"
    }
   ],
   "source": [
    "import pandas as pd\n",
    "import numpy as np\n",
    "import matplotlib.pyplot as plt\n",
    "from sklearn.ensemble import RandomForestClassifier, AdaBoostClassifier, GradientBoostingClassifier\n",
    "from sklearn.preprocessing import StandardScaler\n",
    "from lightgbm import LGBMClassifier\n",
    "from sklearn.model_selection import GridSearchCV\n",
    "from sklearn.linear_model import LogisticRegression\n",
    "\n",
    "from sklearn.metrics import roc_auc_score,confusion_matrix\n",
    "from sklearn.model_selection import train_test_split\n",
    "import copy\n",
    "from imblearn.under_sampling import RandomUnderSampler\n",
    "from imblearn.over_sampling import RandomOverSampler\n",
    "\n",
    "import torch\n",
    "import torch.nn as nn\n",
    "import torch.nn.functional as F\n",
    "from torchvision import datasets, transforms\n",
    "from torch.utils.data import Dataset, DataLoader\n",
    "\n",
    "import matplotlib.pyplot as plt\n",
    "import bokeh\n",
    "import bokeh.plotting\n",
    "from bokeh.layouts import column, row\n",
    "from bokeh.models import HoverTool,WheelZoomTool, PanTool, ResetTool\n",
    "bokeh.io.output_notebook()"
   ]
  },
  {
   "cell_type": "code",
   "execution_count": 2,
   "id": "99f1c595-8bb5-474a-976c-98ca188e2430",
   "metadata": {},
   "outputs": [],
   "source": [
    "def plot_results(history):\n",
    "    tools = [PanTool(), WheelZoomTool(), ResetTool(), HoverTool()]\n",
    "    p = bokeh.plotting.figure(title='Training and validation loss', tools=tools)\n",
    "    loss = history.history['loss']\n",
    "    val_loss = history.history['val_loss']\n",
    "    epochs = range(1, len(loss) + 1)\n",
    "    p.line(epochs, loss, color='blue', legend_label='Training loss')\n",
    "    p.line(epochs, val_loss, color='red', legend_label='Validation loss')\n",
    "    p.yaxis.axis_label = \"Loss\"\n",
    "    p.xaxis.axis_label = 'Epochs'\n",
    "    p.legend.click_policy=\"hide\"\n",
    "    p.legend.visible=False\n",
    "\n",
    "    q = bokeh.plotting.figure(title='Training and validation accuracy', tools=tools)\n",
    "    acc = history.history['accuracy']\n",
    "    val_acc = history.history['val_accuracy']\n",
    "    q.line(epochs, acc, color='blue', legend_label='training')\n",
    "    q.line(epochs, val_acc, color='red', legend_label='validation')\n",
    "    q.yaxis.axis_label = \"Accuracy\"\n",
    "    q.xaxis.axis_label = 'Epochs'\n",
    "    q.legend.click_policy=\"hide\"\n",
    "    q.legend.location=\"bottom_right\"\n",
    "    bokeh.io.show(row(p, q))"
   ]
  },
  {
   "cell_type": "code",
   "execution_count": 3,
   "id": "cffb5e85-00b8-4046-8bdb-863ec7aace61",
   "metadata": {},
   "outputs": [],
   "source": [
    "def standard_scalar_normalize(data_train, data_test): \n",
    "    scaler = StandardScaler()\n",
    "    scaler.fit(data_train)\n",
    "    normal_data_train = scaler.transform(data_train)\n",
    "    normal_data_test = scaler.transform(data_test)\n",
    "    return normal_data_train,normal_data_test"
   ]
  },
  {
   "cell_type": "code",
   "execution_count": 4,
   "id": "882405be-11aa-47bc-b5cc-6b233867a626",
   "metadata": {},
   "outputs": [],
   "source": [
    "def data_processed():\n",
    "    '''\n",
    "    Used to read & normalize processed test and train data\n",
    "    '''\n",
    "    data_train=pd.read_csv(\"data/2022-02-07_LOANS_TRAIN.csv\")\n",
    "    data_test=pd.read_csv(\"data/2022-02-07_LOANS_TEST.csv\")\n",
    "    y_train=data_train['loan_status']\n",
    "    data_train.drop(columns=['loan_status', 'id', 'issue_d_in_months', 'issue_d_year', 'zip_state_match', \n",
    "                               'AK', 'AL', 'AR', 'AZ', 'CA', 'CO', 'CT', 'DC', 'DE', 'FL', 'GA', 'HI',\n",
    "                               'IA', 'ID', 'IL', 'IN', 'KS', 'KY', 'LA', 'MA', 'MD', 'ME', 'MI', 'MN',\n",
    "                               'MO', 'MS', 'MT', 'NC', 'ND', 'NE', 'NH', 'NJ', 'NM', 'NV', 'NY', 'OH',\n",
    "                               'OK', 'OR', 'PA', 'RI', 'SC', 'SD', 'TN', 'TX', 'UT', 'VA', 'VT', 'WA',\n",
    "                               'WI', 'WV', 'WY'], inplace=True)\n",
    "    \n",
    "    data_test.drop(columns=['id', 'issue_d_in_months', 'issue_d_year', 'zip_state_match', \n",
    "                           'AK', 'AL', 'AR', 'AZ', 'CA', 'CO', 'CT', 'DC', 'DE', 'FL', 'GA', 'HI',\n",
    "                           'IA', 'ID', 'IL', 'IN', 'KS', 'KY', 'LA', 'MA', 'MD', 'ME', 'MI', 'MN',\n",
    "                           'MO', 'MS', 'MT', 'NC', 'ND', 'NE', 'NH', 'NJ', 'NM', 'NV', 'NY', 'OH',\n",
    "                           'OK', 'OR', 'PA', 'RI', 'SC', 'SD', 'TN', 'TX', 'UT', 'VA', 'VT', 'WA',\n",
    "                           'WI', 'WV', 'WY'], inplace=True)\n",
    "    \n",
    "    normal_data_train,normal_data_test=standard_scalar_normalize(data_train,data_test)\n",
    "    return normal_data_train,normal_data_test,y_train\n",
    "\n",
    "def AUC_score(y_ground_truth,y_predicted_probability):\n",
    "    return roc_auc_score(y_ground_truth, y_predicted_probability)"
   ]
  },
  {
   "cell_type": "code",
   "execution_count": 91,
   "id": "c7914ec0-2ead-49f0-ba2b-96b5ba576c2b",
   "metadata": {},
   "outputs": [],
   "source": [
    "X_train_full,X_test,Y_train_full=data_processed()\n",
    "X_train, X_val, Y_train, Y_val = train_test_split(X_train_full, Y_train_full, train_size=0.80, random_state=42)\n",
    "\n",
    "def over_under_sampling(X_train,Y_train,method,fraction):\n",
    "    if method==\"randomU\":\n",
    "        rus = RandomUnderSampler(random_state=0,sampling_strategy=fraction)\n",
    "    elif method==\"randomO\":\n",
    "        rus = RandomOverSampler(random_state=0,sampling_strategy=fraction)\n",
    "    elif method==\"centroid\":\n",
    "        rus = ClusterCentroids(random_state=42,sampling_strategy=fraction)\n",
    "    elif method==\"SMOTENN\":\n",
    "        rus = SMOTEENN(random_state=42,sampling_strategy=fraction)\n",
    "    X_resampled, y_resampled = rus.fit_resample(X_train, Y_train)\n",
    "    return X_resampled, y_resampled\n",
    "\n",
    "X_train, Y_train = over_under_sampling(X_train,Y_train,\"randomO\",0.95)\n",
    "\n",
    "\n"
   ]
  },
  {
   "cell_type": "markdown",
   "id": "bb7f1f37-1a74-4428-8883-15c26e95ed62",
   "metadata": {},
   "source": [
    "## Gradient Boosting Classifier"
   ]
  },
  {
   "cell_type": "code",
   "execution_count": 102,
   "id": "1623a642-c203-4fdb-b299-635ba195d02b",
   "metadata": {},
   "outputs": [
    {
     "data": {
      "text/plain": [
       "0.692454435092807"
      ]
     },
     "execution_count": 102,
     "metadata": {},
     "output_type": "execute_result"
    }
   ],
   "source": [
    "gb_clf = GradientBoostingClassifier(max_depth=3, n_estimators=250, random_state=0)\n",
    "gb_clf.fit(X_train, Y_train)\n",
    "Y_train_pred_gb=gb_clf.predict(X_train)\n",
    "Y_val_pred_gb=gb_clf.predict(X_val)\n",
    "Y_val_pred_prob_gb=gb_clf.predict_proba(X_val)[:,1]\n",
    "roc_auc_score(Y_val,Y_val_pred_prob_gb)"
   ]
  },
  {
   "cell_type": "code",
   "execution_count": 103,
   "id": "4a283f52-2ec3-46cc-bd9e-56ae312a84fd",
   "metadata": {},
   "outputs": [],
   "source": [
    "Y_train_pred_prob_gb=gb_clf.predict_proba(X_train)[:,1]\n"
   ]
  },
  {
   "cell_type": "code",
   "execution_count": 104,
   "id": "0242ce4e-f892-4036-8f94-06cc7ed39eae",
   "metadata": {},
   "outputs": [
    {
     "data": {
      "text/plain": [
       "array([[21758, 11590],\n",
       "       [ 2275,  3827]])"
      ]
     },
     "execution_count": 104,
     "metadata": {},
     "output_type": "execute_result"
    }
   ],
   "source": [
    "confusion_matrix(Y_val,Y_val_pred_gb)"
   ]
  },
  {
   "cell_type": "code",
   "execution_count": 105,
   "id": "337e5ed7-4c74-44ef-a26a-3a5804a499c1",
   "metadata": {},
   "outputs": [
    {
     "data": {
      "text/plain": [
       "0.1664572763731593"
      ]
     },
     "execution_count": 105,
     "metadata": {},
     "output_type": "execute_result"
    }
   ],
   "source": [
    "np.std(Y_val_pred_prob_gb)"
   ]
  },
  {
   "cell_type": "markdown",
   "id": "1900be58-18d5-41b5-aa4e-842a36059df5",
   "metadata": {},
   "source": [
    "## LGBM Classifier"
   ]
  },
  {
   "cell_type": "code",
   "execution_count": 92,
   "id": "3ddd3183-7e97-4229-ae54-89b912e3dd58",
   "metadata": {},
   "outputs": [
    {
     "data": {
      "text/plain": [
       "0.6915276501544827"
      ]
     },
     "execution_count": 92,
     "metadata": {},
     "output_type": "execute_result"
    }
   ],
   "source": [
    "lgbm_clf = LGBMClassifier(class_weight='balanced', max_depth=11, min_child_samples=60, n_estimators=80)\n",
    "lgbm_clf.fit(X_train, Y_train)\n",
    "Y_train_pred_lgbm=lgbm_clf.predict(X_train)\n",
    "Y_val_pred_lgbm=lgbm_clf.predict(X_val)\n",
    "Y_val_pred_prob_lgbm=lgbm_clf.predict_proba(X_val)[:,1]\n",
    "roc_auc_score(Y_val,Y_val_pred_prob_lgbm)"
   ]
  },
  {
   "cell_type": "code",
   "execution_count": 93,
   "id": "affa279c-c71f-4ae5-bedf-d5b62e0d67d8",
   "metadata": {},
   "outputs": [],
   "source": [
    "Y_train_pred_prob_lgbm=lgbm_clf.predict_proba(X_train)[:,1]\n"
   ]
  },
  {
   "cell_type": "code",
   "execution_count": 94,
   "id": "aad79ce4-3955-484a-9db2-827b7757f5de",
   "metadata": {},
   "outputs": [
    {
     "data": {
      "text/plain": [
       "array([[20915, 12433],\n",
       "       [ 2147,  3955]])"
      ]
     },
     "execution_count": 94,
     "metadata": {},
     "output_type": "execute_result"
    }
   ],
   "source": [
    "confusion_matrix(Y_val,Y_val_pred_lgbm)"
   ]
  },
  {
   "cell_type": "code",
   "execution_count": 95,
   "id": "034f7b7c-31a9-43ea-a532-4c05d406f820",
   "metadata": {},
   "outputs": [
    {
     "data": {
      "text/plain": [
       "0.1688596771713375"
      ]
     },
     "execution_count": 95,
     "metadata": {},
     "output_type": "execute_result"
    }
   ],
   "source": [
    "np.std(Y_val_pred_prob_lgbm)"
   ]
  },
  {
   "cell_type": "code",
   "execution_count": 140,
   "id": "d0372e08-0080-4d92-900b-6938bfd014af",
   "metadata": {},
   "outputs": [
    {
     "data": {
      "text/plain": [
       "0.6921475396449948"
      ]
     },
     "execution_count": 140,
     "metadata": {},
     "output_type": "execute_result"
    }
   ],
   "source": [
    "lgbm_clf2 = LGBMClassifier(class_weight='balanced', max_depth=5, min_child_samples=75, n_estimators=120)\n",
    "lgbm_clf2.fit(X_train, Y_train)\n",
    "Y_train_pred_lgbm2=lgbm_clf2.predict(X_train)\n",
    "Y_val_pred_lgbm2=lgbm_clf2.predict(X_val)\n",
    "Y_val_pred_prob_lgbm2=lgbm_clf2.predict_proba(X_val)[:,1]\n",
    "roc_auc_score(Y_val,Y_val_pred_prob_lgbm2)"
   ]
  },
  {
   "cell_type": "code",
   "execution_count": 118,
   "id": "c33352b2-20d7-4640-bc7b-71d141f03d2e",
   "metadata": {},
   "outputs": [],
   "source": [
    "Y_train_pred_prob_lgbm2=lgbm_clf2.predict_proba(X_train)[:,1]\n"
   ]
  },
  {
   "cell_type": "code",
   "execution_count": 119,
   "id": "0295f74d-224b-44ac-a565-e5a3e2eb7968",
   "metadata": {},
   "outputs": [
    {
     "data": {
      "text/plain": [
       "array([[21066, 12282],\n",
       "       [ 2170,  3932]])"
      ]
     },
     "execution_count": 119,
     "metadata": {},
     "output_type": "execute_result"
    }
   ],
   "source": [
    "confusion_matrix(Y_val,Y_val_pred_lgbm2)"
   ]
  },
  {
   "cell_type": "markdown",
   "id": "751d6bcd-4ab3-4f90-9978-ff688d0f4e78",
   "metadata": {},
   "source": [
    "## Random Forest Classifier "
   ]
  },
  {
   "cell_type": "code",
   "execution_count": 96,
   "id": "ca607699-bec6-4a9d-8759-6df2c3fc30d0",
   "metadata": {},
   "outputs": [
    {
     "data": {
      "text/plain": [
       "0.6892415370668568"
      ]
     },
     "execution_count": 96,
     "metadata": {},
     "output_type": "execute_result"
    }
   ],
   "source": [
    "rf_clf = RandomForestClassifier(class_weight='balanced', max_depth=20, min_samples_leaf=25, n_estimators=400)\n",
    "rf_clf.fit(X_train, Y_train)\n",
    "Y_train_pred_rf=rf_clf.predict(X_train)\n",
    "Y_val_pred_rf=rf_clf.predict(X_val)\n",
    "Y_val_pred_prob_rf=rf_clf.predict_proba(X_val)[:,1]\n",
    "roc_auc_score(Y_val,Y_val_pred_prob_rf)"
   ]
  },
  {
   "cell_type": "code",
   "execution_count": 97,
   "id": "1cb4f79b-c468-4b57-bdad-db20f40c37dc",
   "metadata": {},
   "outputs": [],
   "source": [
    "Y_train_pred_prob_rf=rf_clf.predict_proba(X_train)[:,1]\n"
   ]
  },
  {
   "cell_type": "code",
   "execution_count": 98,
   "id": "22e03ae7-ad4f-4a7c-b183-73c12ef22554",
   "metadata": {},
   "outputs": [
    {
     "data": {
      "text/plain": [
       "array([[25459,  7889],\n",
       "       [ 3136,  2966]])"
      ]
     },
     "execution_count": 98,
     "metadata": {},
     "output_type": "execute_result"
    }
   ],
   "source": [
    "confusion_matrix(Y_val,Y_val_pred_rf)"
   ]
  },
  {
   "cell_type": "code",
   "execution_count": 99,
   "id": "cde25f86-74aa-4a59-93ba-e8ebbb57f29a",
   "metadata": {},
   "outputs": [
    {
     "data": {
      "text/plain": [
       "0.15069782558432085"
      ]
     },
     "execution_count": 99,
     "metadata": {},
     "output_type": "execute_result"
    }
   ],
   "source": [
    "np.std(Y_val_pred_prob_rf)"
   ]
  },
  {
   "cell_type": "code",
   "execution_count": 100,
   "id": "e9070eb3-581f-4f0d-bb10-58e33d571868",
   "metadata": {},
   "outputs": [
    {
     "data": {
      "text/plain": [
       "<matplotlib.collections.PathCollection at 0x7fb285a866d0>"
      ]
     },
     "execution_count": 100,
     "metadata": {},
     "output_type": "execute_result"
    },
    {
     "data": {
      "image/png": "[encoded data removed]",
      "text/plain": [
       "<Figure size 432x288 with 1 Axes>"
      ]
     },
     "metadata": {
      "needs_background": "light"
     },
     "output_type": "display_data"
    }
   ],
   "source": [
    "plt.scatter(Y_val_pred_prob_rf, Y_val_pred_prob_lgbm, alpha=0.25)\n"
   ]
  },
  {
   "cell_type": "code",
   "execution_count": 108,
   "id": "b5146c67-14dc-463e-a71a-a3e611abd443",
   "metadata": {},
   "outputs": [
    {
     "data": {
      "text/plain": [
       "<matplotlib.collections.PathCollection at 0x7fb29087fbe0>"
      ]
     },
     "execution_count": 108,
     "metadata": {},
     "output_type": "execute_result"
    },
    {
     "data": {
      "image/png": "[encoded data removed]",
      "text/plain": [
       "<Figure size 432x288 with 1 Axes>"
      ]
     },
     "metadata": {
      "needs_background": "light"
     },
     "output_type": "display_data"
    }
   ],
   "source": [
    "plt.scatter(Y_val_pred_prob_rf, Y_val_pred_prob_gb, alpha=0.25)\n"
   ]
  },
  {
   "cell_type": "markdown",
   "id": "01066a0e-3bea-4e3c-9059-5c999352cdc6",
   "metadata": {},
   "source": [
    "## Adaboost Classifier"
   ]
  },
  {
   "cell_type": "code",
   "execution_count": 14,
   "id": "a2f880a2-084d-497e-89ef-2aaa7f21fedb",
   "metadata": {},
   "outputs": [
    {
     "data": {
      "text/plain": [
       "0.6871605942746057"
      ]
     },
     "execution_count": 14,
     "metadata": {},
     "output_type": "execute_result"
    }
   ],
   "source": [
    "ada_clf = AdaBoostClassifier(n_estimators=100)\n",
    "ada_clf.fit(X_train, Y_train, sample_weight=copy.deepcopy(Y_train)*4 + 1)\n",
    "Y_train_pred_ada=ada_clf.predict(X_train)\n",
    "Y_val_pred_ada=ada_clf.predict(X_val)\n",
    "Y_val_pred_prob_ada=ada_clf.predict_proba(X_val)[:,1]\n",
    "roc_auc_score(Y_val,Y_val_pred_prob_ada)"
   ]
  },
  {
   "cell_type": "code",
   "execution_count": 15,
   "id": "58bdb8da-c8dd-499d-9270-a502f00cc35f",
   "metadata": {},
   "outputs": [],
   "source": [
    "Y_train_pred_prob_ada=ada_clf.predict_proba(X_train)[:,1]\n"
   ]
  },
  {
   "cell_type": "code",
   "execution_count": 16,
   "id": "18b51d67-b023-4205-bad9-6d05c0f1a75f",
   "metadata": {},
   "outputs": [
    {
     "data": {
      "text/plain": [
       "array([[ 6426, 26922],\n",
       "       [  318,  5784]])"
      ]
     },
     "execution_count": 16,
     "metadata": {},
     "output_type": "execute_result"
    }
   ],
   "source": [
    "confusion_matrix(Y_val,Y_val_pred_ada)"
   ]
  },
  {
   "cell_type": "code",
   "execution_count": 17,
   "id": "ea5df53d-2716-469e-9eea-ed39e8220426",
   "metadata": {},
   "outputs": [
    {
     "data": {
      "text/plain": [
       "0.0019213296615988248"
      ]
     },
     "execution_count": 17,
     "metadata": {},
     "output_type": "execute_result"
    }
   ],
   "source": [
    "np.std(Y_val_pred_prob_ada)"
   ]
  },
  {
   "cell_type": "code",
   "execution_count": 18,
   "id": "eceff756-80eb-4dfb-a050-a3f5bd80b345",
   "metadata": {},
   "outputs": [
    {
     "data": {
      "text/plain": [
       "<matplotlib.collections.PathCollection at 0x7fb280b4b1c0>"
      ]
     },
     "execution_count": 18,
     "metadata": {},
     "output_type": "execute_result"
    },
    {
     "data": {
      "image/png": "[encoded data removed]",
      "text/plain": [
       "<Figure size 432x288 with 1 Axes>"
      ]
     },
     "metadata": {
      "needs_background": "light"
     },
     "output_type": "display_data"
    }
   ],
   "source": [
    "plt.scatter(Y_val_pred_prob_rf, Y_val_pred_prob_ada, alpha=0.25)"
   ]
  },
  {
   "cell_type": "markdown",
   "id": "2ddef7ba-619f-437b-9caf-17ccc6889925",
   "metadata": {},
   "source": [
    "### Blend into an ensemble \n",
    "NN doesn't work very well.. hmmm"
   ]
  },
  {
   "cell_type": "code",
   "execution_count": 122,
   "id": "c66a0211-c63b-40c6-ab13-ef5d11fa734d",
   "metadata": {},
   "outputs": [],
   "source": [
    "class LoanDataset(Dataset):\n",
    "    def __init__(self, X, Y, transform=None):\n",
    "        self.X = X\n",
    "        self.Y = Y\n",
    "    def __len__(self):\n",
    "        return len(self.Y)\n",
    "    def __getitem__(self, idx):\n",
    "        return self.X[idx], self.Y[idx]"
   ]
  },
  {
   "cell_type": "code",
   "execution_count": 123,
   "id": "df1093e8-7660-432c-b648-d3d73506173f",
   "metadata": {},
   "outputs": [],
   "source": [
    "X_blend=np.concatenate((X_train, \n",
    "                        Y_train_pred_prob_lgbm.reshape(-1, 1), \n",
    "                        Y_train_pred_prob_rf.reshape(-1, 1), \n",
    "                        Y_train_pred_prob_gb.reshape(-1, 1), \n",
    "                        Y_train_pred_prob_lgbm2.reshape(-1, 1)), axis=1)\n",
    "X_blend_val=np.concatenate((X_val, \n",
    "                            Y_val_pred_prob_lgbm.reshape(-1, 1), \n",
    "                            Y_val_pred_prob_rf.reshape(-1, 1), \n",
    "                            Y_val_pred_prob_gb.reshape(-1, 1), \n",
    "                            Y_val_pred_prob_lgbm2.reshape(-1, 1)), axis=1)\n",
    "\n",
    "train_dataset = LoanDataset(X_blend, Y_train.values)\n",
    "val_dataset = LoanDataset(X_blend_val, Y_val.values)"
   ]
  },
  {
   "cell_type": "code",
   "execution_count": 124,
   "id": "d06b1697-ef1f-45fe-bf63-b91a20f1fe6d",
   "metadata": {},
   "outputs": [
    {
     "data": {
      "text/plain": [
       "device(type='cpu')"
      ]
     },
     "execution_count": 124,
     "metadata": {},
     "output_type": "execute_result"
    }
   ],
   "source": [
    "device = torch.device(\"cuda\" if torch.cuda.is_available() else \"cpu\")\n",
    "device"
   ]
  },
  {
   "cell_type": "code",
   "execution_count": 125,
   "id": "ad62da83-ba50-45db-bd03-7dcdf3f4c6bf",
   "metadata": {},
   "outputs": [],
   "source": [
    "model = nn.Sequential(\n",
    "    nn.Flatten(),\n",
    "    nn.Linear(X_blend.shape[1], 100),\n",
    "    nn.LeakyReLU(),\n",
    "    nn.Dropout(0.15),\n",
    "    nn.Linear(100, 10),\n",
    "    nn.LeakyReLU(),\n",
    "    nn.Dropout(0.15),\n",
    "    nn.Linear(10, 1),\n",
    "    nn.Sigmoid(),\n",
    ")\n",
    "\n",
    "optimizer = torch.optim.Adam(model.parameters(), lr=1e-3)\n",
    "loss_fn = nn.BCELoss()\n",
    "\n",
    "train_loader = torch.utils.data.DataLoader(train_dataset, batch_size=32, shuffle=True)\n",
    "val_loader = torch.utils.data.DataLoader(val_dataset, batch_size=32, shuffle=True) "
   ]
  },
  {
   "cell_type": "code",
   "execution_count": 126,
   "id": "a24fba38-b2d1-49f6-8247-3e2edf5ac29f",
   "metadata": {},
   "outputs": [
    {
     "name": "stdout",
     "output_type": "stream",
     "text": [
      "Train Epoch: 1  Loss: 0.0044\n",
      "Train Epoch: 2  Loss: 0.0019\n",
      "Train Epoch: 3  Loss: 0.0017\n",
      "Train Epoch: 4  Loss: 0.0016\n",
      "Train Epoch: 5  Loss: 0.0015\n",
      "Train Epoch: 6  Loss: 0.0015\n",
      "Train Epoch: 7  Loss: 0.0015\n",
      "Train Epoch: 8  Loss: 0.0014\n",
      "Train Epoch: 9  Loss: 0.0014\n",
      "Train Epoch: 10  Loss: 0.0014\n"
     ]
    }
   ],
   "source": [
    "# Some layers, such as Dropout, behave differently during training\n",
    "model.train()\n",
    "\n",
    "for epoch in range(10):\n",
    "    loss_sum = 0\n",
    "    \n",
    "    for batch_idx, (data, target) in enumerate(train_loader):\n",
    "        data = data.to(device)\n",
    "        target = target.to(device)\n",
    "        \n",
    "        # NN likes floats\n",
    "        data = data.float()\n",
    "        target = target.float()\n",
    "        \n",
    "        # Erase accumulated gradients\n",
    "        optimizer.zero_grad()\n",
    "\n",
    "        # Forward pass\n",
    "        output = model(data)\n",
    "        output = torch.squeeze(output) # need target shape to match output, so squeeze 2nd dimension out\n",
    "\n",
    "        # Calculate loss\n",
    "        loss = loss_fn(output, target)\n",
    "\n",
    "        # Backward pass\n",
    "        loss.backward()\n",
    "\n",
    "        loss_sum += loss.item()\n",
    "        \n",
    "        # Weight update\n",
    "        optimizer.step()\n",
    "\n",
    "    # Track loss each epoch\n",
    "    print('Train Epoch: %d  Loss: %.4f' % (epoch + 1,  loss_sum / len(train_loader.dataset)))"
   ]
  },
  {
   "cell_type": "code",
   "execution_count": 127,
   "id": "d33cbc36-69cb-4d09-a373-1f1555ad700c",
   "metadata": {},
   "outputs": [
    {
     "name": "stdout",
     "output_type": "stream",
     "text": [
      "Test set: Average loss: 0.0278, Accuracy: 31198/39450 (79.0824)\n",
      "ROC AUC score:  0.6295907111588699\n"
     ]
    }
   ],
   "source": [
    "# Putting layers like Dropout into evaluation mode\n",
    "model.eval()\n",
    "\n",
    "val_loss = 0\n",
    "correct = 0\n",
    "pred_probs = []\n",
    "targets = []\n",
    "preds = []\n",
    "\n",
    "# Turning off automatic differentiation\n",
    "with torch.no_grad():\n",
    "    for batch_idx, (data, target) in enumerate(val_loader):\n",
    "        data = data.to(device)\n",
    "        target = target.to(device)\n",
    "                \n",
    "        data = data.float()\n",
    "        target = target.float()\n",
    "        \n",
    "        output = model(data)\n",
    "        output = torch.squeeze(output)\n",
    "        \n",
    "        val_loss += loss_fn(output, target).item()  # Sum up batch loss\n",
    "        \n",
    "        threshold = torch.tensor([0.5])\n",
    "        pred = (output>threshold).float()*1\n",
    "        correct += pred.eq(target.view_as(pred)).sum().item()\n",
    "        \n",
    "        preds.extend(pred)\n",
    "        targets.extend(target)\n",
    "        pred_probs.extend(output)\n",
    "\n",
    "val_loss /= len(val_loader.dataset)\n",
    "\n",
    "print('Test set: Average loss: %.4f, Accuracy: %d/%d (%.4f)' %\n",
    "      (val_loss, correct, len(val_loader.dataset),\n",
    "       100. * correct / len(val_loader.dataset)))\n",
    "\n",
    "print(\"ROC AUC score: \", roc_auc_score(targets, pred_probs))"
   ]
  },
  {
   "cell_type": "code",
   "execution_count": 128,
   "id": "35893f27-620e-4712-8146-66204480ab32",
   "metadata": {},
   "outputs": [
    {
     "data": {
      "text/plain": [
       "array([[29981,  3367],\n",
       "       [ 4885,  1217]])"
      ]
     },
     "execution_count": 128,
     "metadata": {},
     "output_type": "execute_result"
    }
   ],
   "source": [
    "confusion_matrix(targets,preds)"
   ]
  },
  {
   "cell_type": "markdown",
   "id": "c5256e6d-49c2-4bd8-96cd-6685a2f92e45",
   "metadata": {
    "tags": []
   },
   "source": [
    "## not quite sure why tensorflow's NN didn't really train?\n",
    "\n",
    "probably something wonky with my installation since leaky_relu wasn't found for some reason..."
   ]
  },
  {
   "cell_type": "code",
   "execution_count": null,
   "id": "51909ea5-d319-46b6-907b-a6c71e3a53c4",
   "metadata": {
    "tags": []
   },
   "outputs": [],
   "source": [
    "import tensorflow as tf\n",
    "from tensorflow.keras.utils import to_categorical\n",
    "from tensorflow.keras import models\n",
    "from tensorflow.keras import layers\n",
    "from tensorflow.keras import regularizers\n",
    "from tensorflow.keras import activations"
   ]
  },
  {
   "cell_type": "code",
   "execution_count": null,
   "id": "90b53cd0-f80c-42df-ac2a-3789d7ce6e5e",
   "metadata": {
    "tags": []
   },
   "outputs": [
    {
     "name": "stdout",
     "output_type": "stream",
     "text": [
      "1233/1233 [==============================] - 1s 555us/step - loss: 0.0000e+00 - accuracy: 0.1547\n",
      "the final accuracy on the holdout set was  15.47 %\n",
      "ROC AUC score:  0.5\n"
     ]
    }
   ],
   "source": [
    "network = models.Sequential()\n",
    "network.add(layers.Dense(200, activation=\"relu\", input_shape=(X_blend.shape[1],)))\n",
    "network.add(layers.Dropout(0.15))\n",
    "network.add(layers.Dense(110, activation=\"relu\", input_shape=(X_blend.shape[1],)))\n",
    "network.add(layers.Dropout(0.15))\n",
    "network.add(layers.Dense(10, activation=\"relu\"))\n",
    "network.add(layers.Dense(1, activation=\"softmax\"))\n",
    "network.compile(loss=\"categorical_crossentropy\",\n",
    "                optimizer=\"adam\",\n",
    "                metrics=[\"accuracy\"])\n",
    "\n",
    "history = network.fit(X_blend, Y_train.values, batch_size=16, epochs=10, validation_split=0.2, shuffle=True, verbose=False)\n",
    "\n",
    "test_loss, test_acc = network.evaluate(X_blend_val, Y_val.values)\n",
    "print('the final accuracy on the holdout set was ', np.round(test_acc * 100, 2), '%')\n",
    "\n",
    "y_pred_prob_nn = network.predict(X_blend_val)\n",
    "y_pred_nn = network.predict(X_blend)\n",
    "y_pred_nn[y_pred_nn>=0.5] = 1\n",
    "y_pred_nn[y_pred_nn<0.5] = 0\n",
    "y_val_pred_nn = network.predict(X_blend_val)\n",
    "y_val_pred_nn[y_val_pred_nn>=0.5] = 1\n",
    "y_val_pred_nn[y_val_pred_nn<0.5] = 0\n",
    "print(\"ROC AUC score: \", roc_auc_score(Y_val.values, y_pred_prob_nn))"
   ]
  },
  {
   "cell_type": "code",
   "execution_count": 54,
   "id": "93c97274-b2c9-42d4-8f40-8a4cf81c39ee",
   "metadata": {
    "tags": []
   },
   "outputs": [
    {
     "data": {
      "text/html": [
       "\n",
       "\n",
       "\n",
       "\n",
       "\n",
       "\n",
       "  <div class=\"bk-root\" id=\"4fde1681-7cf5-4c5d-b14f-72f44e7de0b6\" data-root-id=\"1122\"></div>\n"
      ]
     },
     "metadata": {},
     "output_type": "display_data"
    },
    {
     "data": {
      "application/javascript": [
       "(function(root) {\n",
       "  function embed_document(root) {\n",
       "    \n",
       "  var docs_json = {\"b8b21cc6-caae-4645-971e-7437c9ec1e63\":{\"defs\":[],\"roots\":{\"references\":[{\"attributes\":{\"children\":[{\"id\":\"1008\"},{\"id\":\"1065\"}]},\"id\":\"1122\",\"type\":\"Row\"},{\"attributes\":{\"axis_label\":\"Loss\",\"formatter\":{\"id\":\"1040\"},\"major_label_policy\":{\"id\":\"1039\"},\"ticker\":{\"id\":\"1024\"}},\"id\":\"1023\",\"type\":\"LinearAxis\"},{\"attributes\":{\"label\":{\"value\":\"training\"},\"renderers\":[{\"id\":\"1092\"}]},\"id\":\"1104\",\"type\":\"LegendItem\"},{\"attributes\":{\"label\":{\"value\":\"Validation loss\"},\"renderers\":[{\"id\":\"1051\"}]},\"id\":\"1064\",\"type\":\"LegendItem\"},{\"attributes\":{},\"id\":\"1011\",\"type\":\"DataRange1d\"},{\"attributes\":{},\"id\":\"1013\",\"type\":\"DataRange1d\"},{\"attributes\":{\"data_source\":{\"id\":\"1089\"},\"glyph\":{\"id\":\"1090\"},\"hover_glyph\":null,\"muted_glyph\":null,\"nonselection_glyph\":{\"id\":\"1091\"},\"view\":{\"id\":\"1093\"}},\"id\":\"1092\",\"type\":\"GlyphRenderer\"},{\"attributes\":{\"data_source\":{\"id\":\"1105\"},\"glyph\":{\"id\":\"1106\"},\"hover_glyph\":null,\"muted_glyph\":null,\"nonselection_glyph\":{\"id\":\"1107\"},\"view\":{\"id\":\"1109\"}},\"id\":\"1108\",\"type\":\"GlyphRenderer\"},{\"attributes\":{\"line_alpha\":0.1,\"line_color\":\"blue\",\"x\":{\"field\":\"x\"},\"y\":{\"field\":\"y\"}},\"id\":\"1034\",\"type\":\"Line\"},{\"attributes\":{\"source\":{\"id\":\"1032\"}},\"id\":\"1036\",\"type\":\"CDSView\"},{\"attributes\":{},\"id\":\"1042\",\"type\":\"AllLabels\"},{\"attributes\":{\"click_policy\":\"hide\",\"items\":[{\"id\":\"1047\"},{\"id\":\"1064\"}],\"visible\":false},\"id\":\"1046\",\"type\":\"Legend\"},{\"attributes\":{},\"id\":\"1045\",\"type\":\"Selection\"},{\"attributes\":{\"text\":\"Training and validation accuracy\"},\"id\":\"1066\",\"type\":\"Title\"},{\"attributes\":{},\"id\":\"1120\",\"type\":\"Selection\"},{\"attributes\":{\"text\":\"Training and validation loss\"},\"id\":\"1009\",\"type\":\"Title\"},{\"attributes\":{},\"id\":\"1099\",\"type\":\"AllLabels\"},{\"attributes\":{\"active_multi\":null,\"tools\":[{\"id\":\"1004\"},{\"id\":\"1005\"},{\"id\":\"1006\"},{\"id\":\"1007\"}]},\"id\":\"1084\",\"type\":\"Toolbar\"},{\"attributes\":{},\"id\":\"1081\",\"type\":\"BasicTicker\"},{\"attributes\":{\"line_alpha\":0.1,\"line_color\":\"red\",\"x\":{\"field\":\"x\"},\"y\":{\"field\":\"y\"}},\"id\":\"1107\",\"type\":\"Line\"},{\"attributes\":{\"line_color\":\"blue\",\"x\":{\"field\":\"x\"},\"y\":{\"field\":\"y\"}},\"id\":\"1090\",\"type\":\"Line\"},{\"attributes\":{},\"id\":\"1006\",\"type\":\"ResetTool\"},{\"attributes\":{\"axis\":{\"id\":\"1080\"},\"dimension\":1,\"ticker\":null},\"id\":\"1083\",\"type\":\"Grid\"},{\"attributes\":{\"data_source\":{\"id\":\"1032\"},\"glyph\":{\"id\":\"1033\"},\"hover_glyph\":null,\"muted_glyph\":null,\"nonselection_glyph\":{\"id\":\"1034\"},\"view\":{\"id\":\"1036\"}},\"id\":\"1035\",\"type\":\"GlyphRenderer\"},{\"attributes\":{},\"id\":\"1004\",\"type\":\"PanTool\"},{\"attributes\":{},\"id\":\"1077\",\"type\":\"BasicTicker\"},{\"attributes\":{\"below\":[{\"id\":\"1019\"}],\"center\":[{\"id\":\"1022\"},{\"id\":\"1026\"},{\"id\":\"1046\"}],\"left\":[{\"id\":\"1023\"}],\"renderers\":[{\"id\":\"1035\"},{\"id\":\"1051\"}],\"title\":{\"id\":\"1009\"},\"toolbar\":{\"id\":\"1027\"},\"x_range\":{\"id\":\"1011\"},\"x_scale\":{\"id\":\"1015\"},\"y_range\":{\"id\":\"1013\"},\"y_scale\":{\"id\":\"1017\"}},\"id\":\"1008\",\"subtype\":\"Figure\",\"type\":\"Plot\"},{\"attributes\":{},\"id\":\"1074\",\"type\":\"LinearScale\"},{\"attributes\":{},\"id\":\"1043\",\"type\":\"BasicTickFormatter\"},{\"attributes\":{\"line_alpha\":0.1,\"line_color\":\"blue\",\"x\":{\"field\":\"x\"},\"y\":{\"field\":\"y\"}},\"id\":\"1091\",\"type\":\"Line\"},{\"attributes\":{},\"id\":\"1101\",\"type\":\"UnionRenderers\"},{\"attributes\":{\"callback\":null},\"id\":\"1007\",\"type\":\"HoverTool\"},{\"attributes\":{\"line_alpha\":0.1,\"line_color\":\"red\",\"x\":{\"field\":\"x\"},\"y\":{\"field\":\"y\"}},\"id\":\"1050\",\"type\":\"Line\"},{\"attributes\":{\"source\":{\"id\":\"1048\"}},\"id\":\"1052\",\"type\":\"CDSView\"},{\"attributes\":{},\"id\":\"1100\",\"type\":\"BasicTickFormatter\"},{\"attributes\":{},\"id\":\"1063\",\"type\":\"Selection\"},{\"attributes\":{\"active_multi\":null,\"tools\":[{\"id\":\"1004\"},{\"id\":\"1005\"},{\"id\":\"1006\"},{\"id\":\"1007\"}]},\"id\":\"1027\",\"type\":\"Toolbar\"},{\"attributes\":{\"axis\":{\"id\":\"1019\"},\"ticker\":null},\"id\":\"1022\",\"type\":\"Grid\"},{\"attributes\":{\"source\":{\"id\":\"1089\"}},\"id\":\"1093\",\"type\":\"CDSView\"},{\"attributes\":{\"below\":[{\"id\":\"1076\"}],\"center\":[{\"id\":\"1079\"},{\"id\":\"1083\"},{\"id\":\"1103\"}],\"left\":[{\"id\":\"1080\"}],\"renderers\":[{\"id\":\"1092\"},{\"id\":\"1108\"}],\"title\":{\"id\":\"1066\"},\"toolbar\":{\"id\":\"1084\"},\"x_range\":{\"id\":\"1068\"},\"x_scale\":{\"id\":\"1072\"},\"y_range\":{\"id\":\"1070\"},\"y_scale\":{\"id\":\"1074\"}},\"id\":\"1065\",\"subtype\":\"Figure\",\"type\":\"Plot\"},{\"attributes\":{},\"id\":\"1070\",\"type\":\"DataRange1d\"},{\"attributes\":{},\"id\":\"1039\",\"type\":\"AllLabels\"},{\"attributes\":{},\"id\":\"1005\",\"type\":\"WheelZoomTool\"},{\"attributes\":{\"click_policy\":\"hide\",\"items\":[{\"id\":\"1104\"},{\"id\":\"1121\"}],\"location\":\"bottom_right\"},\"id\":\"1103\",\"type\":\"Legend\"},{\"attributes\":{},\"id\":\"1040\",\"type\":\"BasicTickFormatter\"},{\"attributes\":{\"axis_label\":\"Epochs\",\"formatter\":{\"id\":\"1100\"},\"major_label_policy\":{\"id\":\"1099\"},\"ticker\":{\"id\":\"1077\"}},\"id\":\"1076\",\"type\":\"LinearAxis\"},{\"attributes\":{\"data\":{\"x\":[1,2,3,4,5,6,7,8,9,10],\"y\":[0.0,0.0,0.0,0.0,0.0,0.0,0.0,0.0,0.0,0.0]},\"selected\":{\"id\":\"1045\"},\"selection_policy\":{\"id\":\"1044\"}},\"id\":\"1032\",\"type\":\"ColumnDataSource\"},{\"attributes\":{},\"id\":\"1020\",\"type\":\"BasicTicker\"},{\"attributes\":{},\"id\":\"1017\",\"type\":\"LinearScale\"},{\"attributes\":{},\"id\":\"1072\",\"type\":\"LinearScale\"},{\"attributes\":{},\"id\":\"1068\",\"type\":\"DataRange1d\"},{\"attributes\":{\"axis_label\":\"Epochs\",\"formatter\":{\"id\":\"1043\"},\"major_label_policy\":{\"id\":\"1042\"},\"ticker\":{\"id\":\"1020\"}},\"id\":\"1019\",\"type\":\"LinearAxis\"},{\"attributes\":{},\"id\":\"1015\",\"type\":\"LinearScale\"},{\"attributes\":{\"label\":{\"value\":\"Training loss\"},\"renderers\":[{\"id\":\"1035\"}]},\"id\":\"1047\",\"type\":\"LegendItem\"},{\"attributes\":{\"source\":{\"id\":\"1105\"}},\"id\":\"1109\",\"type\":\"CDSView\"},{\"attributes\":{},\"id\":\"1044\",\"type\":\"UnionRenderers\"},{\"attributes\":{\"axis_label\":\"Accuracy\",\"formatter\":{\"id\":\"1097\"},\"major_label_policy\":{\"id\":\"1096\"},\"ticker\":{\"id\":\"1081\"}},\"id\":\"1080\",\"type\":\"LinearAxis\"},{\"attributes\":{\"data\":{\"x\":[1,2,3,4,5,6,7,8,9,10],\"y\":[1.0,1.0,1.0,1.0,1.0,1.0,1.0,1.0,1.0,1.0]},\"selected\":{\"id\":\"1120\"},\"selection_policy\":{\"id\":\"1119\"}},\"id\":\"1105\",\"type\":\"ColumnDataSource\"},{\"attributes\":{\"line_color\":\"blue\",\"x\":{\"field\":\"x\"},\"y\":{\"field\":\"y\"}},\"id\":\"1033\",\"type\":\"Line\"},{\"attributes\":{\"data\":{\"x\":[1,2,3,4,5,6,7,8,9,10],\"y\":[0.0,0.0,0.0,0.0,0.0,0.0,0.0,0.0,0.0,0.0]},\"selected\":{\"id\":\"1063\"},\"selection_policy\":{\"id\":\"1062\"}},\"id\":\"1048\",\"type\":\"ColumnDataSource\"},{\"attributes\":{},\"id\":\"1097\",\"type\":\"BasicTickFormatter\"},{\"attributes\":{},\"id\":\"1096\",\"type\":\"AllLabels\"},{\"attributes\":{\"label\":{\"value\":\"validation\"},\"renderers\":[{\"id\":\"1108\"}]},\"id\":\"1121\",\"type\":\"LegendItem\"},{\"attributes\":{\"axis\":{\"id\":\"1076\"},\"ticker\":null},\"id\":\"1079\",\"type\":\"Grid\"},{\"attributes\":{\"data\":{\"x\":[1,2,3,4,5,6,7,8,9,10],\"y\":[0.1666635423898697,0.1666635423898697,0.1666635423898697,0.1666635423898697,0.1666635423898697,0.1666635423898697,0.1666635423898697,0.1666635423898697,0.1666635423898697,0.1666635423898697]},\"selected\":{\"id\":\"1102\"},\"selection_policy\":{\"id\":\"1101\"}},\"id\":\"1089\",\"type\":\"ColumnDataSource\"},{\"attributes\":{},\"id\":\"1102\",\"type\":\"Selection\"},{\"attributes\":{},\"id\":\"1119\",\"type\":\"UnionRenderers\"},{\"attributes\":{},\"id\":\"1062\",\"type\":\"UnionRenderers\"},{\"attributes\":{\"data_source\":{\"id\":\"1048\"},\"glyph\":{\"id\":\"1049\"},\"hover_glyph\":null,\"muted_glyph\":null,\"nonselection_glyph\":{\"id\":\"1050\"},\"view\":{\"id\":\"1052\"}},\"id\":\"1051\",\"type\":\"GlyphRenderer\"},{\"attributes\":{\"line_color\":\"red\",\"x\":{\"field\":\"x\"},\"y\":{\"field\":\"y\"}},\"id\":\"1106\",\"type\":\"Line\"},{\"attributes\":{},\"id\":\"1024\",\"type\":\"BasicTicker\"},{\"attributes\":{\"axis\":{\"id\":\"1023\"},\"dimension\":1,\"ticker\":null},\"id\":\"1026\",\"type\":\"Grid\"},{\"attributes\":{\"line_color\":\"red\",\"x\":{\"field\":\"x\"},\"y\":{\"field\":\"y\"}},\"id\":\"1049\",\"type\":\"Line\"}],\"root_ids\":[\"1122\"]},\"title\":\"Bokeh Application\",\"version\":\"2.3.3\"}};\n",
       "  var render_items = [{\"docid\":\"b8b21cc6-caae-4645-971e-7437c9ec1e63\",\"root_ids\":[\"1122\"],\"roots\":{\"1122\":\"4fde1681-7cf5-4c5d-b14f-72f44e7de0b6\"}}];\n",
       "  root.Bokeh.embed.embed_items_notebook(docs_json, render_items);\n",
       "\n",
       "  }\n",
       "  if (root.Bokeh !== undefined) {\n",
       "    embed_document(root);\n",
       "  } else {\n",
       "    var attempts = 0;\n",
       "    var timer = setInterval(function(root) {\n",
       "      if (root.Bokeh !== undefined) {\n",
       "        clearInterval(timer);\n",
       "        embed_document(root);\n",
       "      } else {\n",
       "        attempts++;\n",
       "        if (attempts > 100) {\n",
       "          clearInterval(timer);\n",
       "          console.log(\"Bokeh: ERROR: Unable to run BokehJS code because BokehJS library is missing\");\n",
       "        }\n",
       "      }\n",
       "    }, 10, root)\n",
       "  }\n",
       "})(window);"
      ],
      "application/vnd.bokehjs_exec.v0+json": ""
     },
     "metadata": {
      "application/vnd.bokehjs_exec.v0+json": {
       "id": "1122"
      }
     },
     "output_type": "display_data"
    }
   ],
   "source": [
    "plot_results(history)"
   ]
  },
  {
   "cell_type": "markdown",
   "id": "6838cdc2-85ea-44c9-87b7-cdff04ab9249",
   "metadata": {},
   "source": [
    "## Logistic Regression for ensembling\n",
    "didn't work too well"
   ]
  },
  {
   "cell_type": "code",
   "execution_count": null,
   "id": "f83dad48-6d3e-4128-8749-3ea15f51f2fe",
   "metadata": {},
   "outputs": [],
   "source": [
    "clf = LogisticRegression(random_state=0).fit(X_blend, Y_train)\n",
    "Y_val_pred_prob=clf.predict_proba(X_blend_val)[:,1]\n",
    "AUC_score(Y_val,Y_val_pred_prob)"
   ]
  },
  {
   "cell_type": "markdown",
   "id": "c8cd3bb4-078e-4f54-aa1c-39c36ed3e3db",
   "metadata": {},
   "source": [
    "## Use average voting\n",
    "Works pretty well! "
   ]
  },
  {
   "cell_type": "code",
   "execution_count": 129,
   "id": "98c4e096-4049-4ed6-8c9b-3619d1bd5209",
   "metadata": {},
   "outputs": [
    {
     "name": "stdout",
     "output_type": "stream",
     "text": [
      "0.6933912352901007\n"
     ]
    },
    {
     "data": {
      "text/plain": [
       "array([[22357, 10991],\n",
       "       [ 2393,  3709]])"
      ]
     },
     "execution_count": 129,
     "metadata": {},
     "output_type": "execute_result"
    }
   ],
   "source": [
    "Y_average = np.mean([Y_val_pred_prob_lgbm,Y_val_pred_prob_rf,Y_val_pred_prob_gb, Y_val_pred_prob_lgbm2], axis=0)\n",
    "\n",
    "print(AUC_score(Y_val,Y_average))\n",
    "\n",
    "Y_average[Y_average>=0.5] = 1\n",
    "Y_average[Y_average<0.5] = 0\n",
    "confusion_matrix(Y_val,Y_average)"
   ]
  },
  {
   "cell_type": "markdown",
   "id": "37346238-e236-418a-ba4c-4f8eb162d6a8",
   "metadata": {},
   "source": [
    "## Try classweights rather than oversampling\n",
    "To test the difference from the above scores. Appears to do better if we use class weights instead. This is our best performing model. "
   ]
  },
  {
   "cell_type": "code",
   "execution_count": 134,
   "id": "ec30e91c-8675-460c-9c4a-c5a86ee9b89f",
   "metadata": {},
   "outputs": [],
   "source": [
    "X_train_nosamp, X_val_nosamp, Y_train_nosamp, Y_val_nosamp = train_test_split(X_train_full, Y_train_full, train_size=0.80, random_state=42)\n",
    "\n",
    "gb_clf_cw = GradientBoostingClassifier(max_depth=3, n_estimators=250, random_state=0)\n",
    "gb_clf_cw.fit(X_train_nosamp, Y_train_nosamp, sample_weight=copy.deepcopy(Y_train_nosamp)*4 + 1)\n",
    "Y_val_pred_prob_gb_cw=gb_clf_cw.predict_proba(X_val_nosamp)[:,1]\n",
    "\n",
    "\n",
    "lgbm_clf_cw = LGBMClassifier(class_weight='balanced', max_depth=11, min_child_samples=60, n_estimators=80)\n",
    "lgbm_clf_cw.fit(X_train_nosamp, Y_train_nosamp)\n",
    "Y_val_pred_prob_lgbm_cw=lgbm_clf_cw.predict_proba(X_val_nosamp)[:,1]\n",
    "\n",
    "lgbm_clf_cw2 = LGBMClassifier(class_weight='balanced', max_depth=5, min_child_samples=75, n_estimators=120)\n",
    "lgbm_clf_cw2.fit(X_train_nosamp, Y_train_nosamp)\n",
    "Y_val_pred_prob_lgbm_cw2=lgbm_clf_cw2.predict_proba(X_val_nosamp)[:,1]\n",
    "\n",
    "\n",
    "rf_clf_cw = RandomForestClassifier(class_weight='balanced', max_depth=20, min_samples_leaf=25, n_estimators=400)\n",
    "rf_clf_cw.fit(X_train_nosamp, Y_train_nosamp)\n",
    "Y_val_pred_prob_rf_cw=rf_clf_cw.predict_proba(X_val_nosamp)[:,1]\n",
    "\n",
    "val_probs = [Y_val_pred_prob_gb_cw,Y_val_pred_prob_lgbm_cw, Y_val_pred_prob_lgbm_cw2, Y_val_pred_prob_rf_cw]\n"
   ]
  },
  {
   "cell_type": "code",
   "execution_count": 135,
   "id": "8113e5ac-e60e-4efa-b074-217183271732",
   "metadata": {},
   "outputs": [
    {
     "data": {
      "text/plain": [
       "0.69412843796124"
      ]
     },
     "execution_count": 135,
     "metadata": {},
     "output_type": "execute_result"
    }
   ],
   "source": [
    "Y_val_average = np.mean(val_probs, axis=0)\n",
    "roc_auc_score(Y_val_nosamp,Y_val_average)"
   ]
  },
  {
   "cell_type": "code",
   "execution_count": 136,
   "id": "5f0c61ee-ed1a-4123-8760-626b49a8350f",
   "metadata": {},
   "outputs": [
    {
     "data": {
      "text/plain": [
       "0.6936251441696037"
      ]
     },
     "execution_count": 136,
     "metadata": {},
     "output_type": "execute_result"
    }
   ],
   "source": [
    "roc_auc_score(Y_val_nosamp,Y_val_pred_prob_gb_cw)"
   ]
  },
  {
   "cell_type": "code",
   "execution_count": 137,
   "id": "84bc957c-ed08-4106-8fa4-741855eda2ac",
   "metadata": {},
   "outputs": [
    {
     "data": {
      "text/plain": [
       "0.6922932719829431"
      ]
     },
     "execution_count": 137,
     "metadata": {},
     "output_type": "execute_result"
    }
   ],
   "source": [
    "roc_auc_score(Y_val_nosamp,Y_val_pred_prob_lgbm_cw)"
   ]
  },
  {
   "cell_type": "code",
   "execution_count": 138,
   "id": "32282928-0cb4-4b1e-a010-d08946f410e9",
   "metadata": {},
   "outputs": [
    {
     "data": {
      "text/plain": [
       "0.6933680891322271"
      ]
     },
     "execution_count": 138,
     "metadata": {},
     "output_type": "execute_result"
    }
   ],
   "source": [
    "roc_auc_score(Y_val_nosamp,Y_val_pred_prob_lgbm_cw2)"
   ]
  },
  {
   "cell_type": "code",
   "execution_count": 139,
   "id": "d20de309-c557-4f39-bb46-332a8fc1745a",
   "metadata": {},
   "outputs": [
    {
     "data": {
      "text/plain": [
       "0.689694454793873"
      ]
     },
     "execution_count": 139,
     "metadata": {},
     "output_type": "execute_result"
    }
   ],
   "source": [
    "roc_auc_score(Y_val_nosamp,Y_val_pred_prob_rf_cw)"
   ]
  },
  {
   "cell_type": "markdown",
   "id": "f72a7824-67c3-4795-aad4-3755765eef40",
   "metadata": {},
   "source": [
    "## Output to submission"
   ]
  },
  {
   "cell_type": "code",
   "execution_count": 131,
   "id": "a0a6eec2-1563-4f41-a575-d7486c58a96a",
   "metadata": {},
   "outputs": [],
   "source": [
    "gb_clf_full = GradientBoostingClassifier(max_depth=3, n_estimators=250, random_state=0)\n",
    "gb_clf_full.fit(X_train_full, Y_train_full, sample_weight=copy.deepcopy(Y_train_full)*4 + 1)\n",
    "Y_test_pred_prob_gb=gb_clf_full.predict_proba(X_test)[:,1]\n",
    "\n",
    "\n",
    "lgbm_clf_full = LGBMClassifier(class_weight='balanced', max_depth=11, min_child_samples=60, n_estimators=80)\n",
    "lgbm_clf_full.fit(X_train_full, Y_train_full)\n",
    "Y_test_pred_prob_lgbm=lgbm_clf_full.predict_proba(X_test)[:,1]\n",
    "\n",
    "lgbm_clf_full2 = LGBMClassifier(class_weight='balanced', max_depth=5, min_child_samples=75, n_estimators=120)\n",
    "lgbm_clf_full2.fit(X_train_full, Y_train_full)\n",
    "Y_test_pred_prob_lgbm2=lgbm_clf_full2.predict_proba(X_test)[:,1]\n",
    "\n",
    "\n",
    "rf_clf_full = RandomForestClassifier(class_weight='balanced', max_depth=20, min_samples_leaf=25, n_estimators=400)\n",
    "rf_clf_full.fit(X_train_full, Y_train_full)\n",
    "Y_test_pred_prob_rf=rf_clf_full.predict_proba(X_test)[:,1]\n",
    "\n",
    "test_probs = [Y_test_pred_prob_lgbm,Y_test_pred_prob_rf, Y_test_pred_prob_gb, Y_test_pred_prob_lgbm2]\n"
   ]
  },
  {
   "cell_type": "code",
   "execution_count": 143,
   "id": "62ec3a23-0870-4662-b0d6-fc29c81f8128",
   "metadata": {},
   "outputs": [],
   "source": [
    "def to_submission(ids, y_test_predicted_probability):\n",
    "    y_test=pd.DataFrame(y_test_predicted_probability,columns=['loan_status'], index=ids)\n",
    "    y_test.index.name = 'id'\n",
    "    y_test.to_csv('data/submission.csv')\n",
    "    return\n",
    "\n",
    "Y_test_average = np.mean(test_probs, axis=0)\n",
    "to_submission(pd.read_csv(\"data/2022-02-07_LOANS_TEST.csv\")['id'].values, Y_test_average)"
   ]
  }
 ],
 "metadata": {
  "kernelspec": {
   "display_name": "Python 3 (ipykernel)",
   "language": "python",
   "name": "python3"
  },
  "language_info": {
   "codemirror_mode": {
    "name": "ipython",
    "version": 3
   },
   "file_extension": ".py",
   "mimetype": "text/x-python",
   "name": "python",
   "nbconvert_exporter": "python",
   "pygments_lexer": "ipython3",
   "version": "3.8.12"
  }
 },
 "nbformat": 4,
 "nbformat_minor": 5
}
