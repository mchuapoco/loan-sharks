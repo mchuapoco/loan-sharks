{
 "cells": [
  {
   "cell_type": "code",
   "execution_count": 17,
   "id": "11160b4a-5a8e-471d-ac7d-e5abcd5c7555",
   "metadata": {},
   "outputs": [],
   "source": [
    "import numpy as np\n",
    "import pandas as pd\n",
    "from collections import Counter\n",
    "\n",
    "from sklearn.model_selection import train_test_split\n",
    "from sklearn.preprocessing import StandardScaler\n",
    "from sklearn.metrics import roc_auc_score, confusion_matrix\n",
    "\n",
    "from imblearn.over_sampling import SMOTE, ADASYN\n",
    "\n",
    "import torch\n",
    "import torch.nn as nn\n",
    "import torch.nn.functional as F\n",
    "from torch.utils.data import DataLoader, TensorDataset"
   ]
  },
  {
   "cell_type": "code",
   "execution_count": 18,
   "id": "d9cd2cfd-c24d-4cb1-bd79-458d157114f4",
   "metadata": {},
   "outputs": [],
   "source": [
    "def AUC_score(y_ground_truth, y_predicted_probability):\n",
    "    return roc_auc_score(y_ground_truth, y_predicted_probability)\n",
    "\n",
    "def to_submission(ids, y_test_predicted_probability):\n",
    "    y_test=pd.DataFrame(y_test_predicted_probability,columns=['loan_status'], index=ids)\n",
    "    y_test.index.name = 'id'\n",
    "    y_test.to_csv('data/submission.csv')\n",
    "    \n",
    "def regularization_fn(mdl, lambda_l2=1e-3, lambda_l1=0):\n",
    "    \"\"\"Regularization function\n",
    "\n",
    "    Parameters\n",
    "    ----------\n",
    "    mdl: PyTorch model, such as `Sequential`\n",
    "    lambda_l2: l2-regularization strength for all weights\n",
    "    labmda_l1: l1-regularization strength for all weights\n",
    "    \"\"\"\n",
    "    # Initializa regularization term\n",
    "    reg = 0\n",
    "    for (name, param) in model.named_parameters():\n",
    "        # Usually, don't regularize bias terms\n",
    "        if 'weight' in name:\n",
    "            # l2-regularization\n",
    "            reg = reg + lambda_l2 * param.square().sum()\n",
    "            # l1-regularization\n",
    "            reg = reg + lambda_l1 * param.abs().sum()\n",
    "    return reg\n",
    "    \n",
    "data_train=pd.read_csv(\"data/2022-02-07_LOANS_TRAIN.csv\")\n",
    "data_test=pd.read_csv(\"data/2022-02-07_LOANS_TEST.csv\")\n",
    "y_submission_id = data_test[\"id\"].to_numpy()\n",
    "\n",
    "data_train.drop(columns=\"id\", inplace=True)\n",
    "data_test.drop(columns=\"id\", inplace=True)\n",
    "\n",
    "X_train = data_train.drop(columns='loan_status').to_numpy()\n",
    "y_train = data_train['loan_status'].to_numpy()\n",
    "X_test = data_test.to_numpy()\n",
    "\n",
    "scaler = StandardScaler()\n",
    "X_train = scaler.fit_transform(X_train)\n",
    "X_test = scaler.fit_transform(X_test)"
   ]
  },
  {
   "cell_type": "code",
   "execution_count": 19,
   "id": "b787c51e-ae97-4669-bd38-b922cfa03f10",
   "metadata": {},
   "outputs": [
    {
     "name": "stdout",
     "output_type": "stream",
     "text": [
      "[(0, 133549), (1, 24251)]\n",
      "[(0, 133549), (1, 133549)]\n"
     ]
    }
   ],
   "source": [
    "X_train, X_val, y_train, y_val = train_test_split(X_train, y_train, test_size=0.20)\n",
    "\n",
    "print(sorted(Counter(y_train).items()))\n",
    "X_train, y_train = SMOTE().fit_resample(X_train, y_train)\n",
    "print(sorted(Counter(y_train).items()))"
   ]
  },
  {
   "cell_type": "code",
   "execution_count": 20,
   "id": "5ea7f73a-97eb-429a-a231-ed2d120340a4",
   "metadata": {},
   "outputs": [],
   "source": [
    "train_ds = TensorDataset(torch.Tensor(X_train), torch.Tensor(y_train).type(torch.LongTensor))\n",
    "test_ds = TensorDataset(torch.Tensor(X_val), torch.Tensor(y_val).type(torch.LongTensor))"
   ]
  },
  {
   "cell_type": "code",
   "execution_count": 58,
   "id": "cfbc80d7-8231-428b-8376-35870521b9a1",
   "metadata": {},
   "outputs": [],
   "source": [
    "n_features = X_train.shape[1]\n",
    "\n",
    "l1 = 300\n",
    "l2 = 100\n",
    "l3 = 50\n",
    "lout = 2\n",
    "\n",
    "dropout=0\n",
    "\n",
    "lambda_l2=1e-3\n",
    "lr = 1e-3\n",
    "momentum=0.1\n",
    "\n",
    "model = nn.Sequential(\n",
    "    nn.Flatten(),  \n",
    "    nn.Linear(n_features, l1),\n",
    "    nn.ReLU(),\n",
    "    nn.Dropout(dropout),\n",
    "\n",
    "    nn.Linear(l1, l2),\n",
    "    nn.ReLU(),\n",
    "    nn.Dropout(dropout),\n",
    "\n",
    "    nn.Linear(l2, l3),\n",
    "    nn.ReLU(),\n",
    "    nn.Dropout(dropout),\n",
    "\n",
    "    nn.Linear(l3, lout),\n",
    "    nn.Softmax(dim=1)\n",
    ")"
   ]
  },
  {
   "cell_type": "code",
   "execution_count": 59,
   "id": "86ad660c-9bee-4a04-b0dc-aafa1d13f7a3",
   "metadata": {},
   "outputs": [
    {
     "name": "stdout",
     "output_type": "stream",
     "text": [
      "Epoch 1/10: loss: 0.6384, acc: 0.6620, AUC: 0.6786, val loss: 0.00203204, val acc: 0.5885, val AUC: 0.8542\n",
      "Epoch 2/10: loss: 0.6264, acc: 0.6818, AUC: 0.8303, val loss: 0.00184794, val acc: 0.6681, val AUC: 0.8125\n",
      "Epoch 3/10: loss: 0.6234, acc: 0.6879, AUC: 0.7394, val loss: 0.00168882, val acc: 0.6820, val AUC: 0.8400\n",
      "Epoch 4/10: loss: 0.6226, acc: 0.6909, AUC: 0.7337, val loss: 0.00192229, val acc: 0.6180, val AUC: 0.8333\n",
      "Epoch 5/10: loss: 0.6217, acc: 0.6937, AUC: 0.7811, val loss: 0.00191642, val acc: 0.6459, val AUC: 0.7955\n",
      "Epoch 6/10: loss: 0.6101, acc: 0.7097, AUC: 0.7212, val loss: 0.00204661, val acc: 0.6680, val AUC: 0.6381\n",
      "Epoch 7/10: loss: 0.6068, acc: 0.7135, AUC: 0.7937, val loss: 0.00182083, val acc: 0.6495, val AUC: 0.3768\n",
      "Epoch 8/10: loss: 0.6057, acc: 0.7151, AUC: 0.7758, val loss: 0.00204569, val acc: 0.6469, val AUC: 0.7905\n",
      "Epoch 9/10: loss: 0.6049, acc: 0.7155, AUC: 0.8788, val loss: 0.00256728, val acc: 0.6515, val AUC: 0.3250\n",
      "Epoch 10/10: loss: 0.6042, acc: 0.7167, AUC: 0.6686, val loss: 0.00184397, val acc: 0.6786, val AUC: 0.7582\n"
     ]
    }
   ],
   "source": [
    "bs = 32\n",
    "n_epochs = 10\n",
    "\n",
    "train_loader = DataLoader(train_ds, batch_size=bs, shuffle=True)\n",
    "test_loader = DataLoader(test_ds, batch_size=bs*4, shuffle=True)\n",
    "\n",
    "# optimizer = torch.optim.Adam(model.parameters(), lr=lr)\n",
    "optimizer = torch.optim.RMSprop(model.parameters(), lr=lr, momentum=momentum)\n",
    "loss_fn = nn.CrossEntropyLoss()\n",
    "\n",
    "training_accuracy_history = np.zeros([n_epochs, 1])\n",
    "training_loss_history = np.zeros([n_epochs, 1])\n",
    "validation_accuracy_history = np.zeros([n_epochs, 1])\n",
    "validation_loss_history = np.zeros([n_epochs, 1])\n",
    "\n",
    "for epoch in range(n_epochs):\n",
    "    print(f'Epoch {epoch+1}/{n_epochs}:', end='')\n",
    "\n",
    "    if epoch==5:\n",
    "        new_state = optimizer.state_dict()\n",
    "        new_state['param_groups'][0]['lr']=lr/10\n",
    "        new_state['param_groups'][0]['momentum']=0.75\n",
    "        optimizer.load_state_dict(new_state)\n",
    "\n",
    "    train_total = 0\n",
    "    train_correct = 0\n",
    "    model.train()\n",
    "\n",
    "    for batch_idx, (data, label) in enumerate(train_loader):\n",
    "        # Erase accumulated gradients\n",
    "        optimizer.zero_grad()\n",
    "        # Forward pass\n",
    "        output = model(data)\n",
    "        # Calculate loss\n",
    "        loss = loss_fn(output, label) + regularization_fn(model, lambda_l2=lambda_l2)\n",
    "        # loss = loss_fn(output, label)\n",
    "        # Backward pass\n",
    "        loss.backward()\n",
    "        # Weight update\n",
    "        optimizer.step()\n",
    "\n",
    "        # track training accuracy\n",
    "        _, predicted = torch.max(output.data, 1)\n",
    "        \n",
    "        \n",
    "        y_pred=output.data[:,1].numpy()\n",
    "        try:\n",
    "            score = AUC_score(label, y_pred)\n",
    "        except:\n",
    "            score = -1\n",
    "        \n",
    "        train_total += label.size(0)\n",
    "        train_correct += (predicted == label).sum().item()\n",
    "        # track training loss\n",
    "        training_loss_history[epoch] += loss.item()\n",
    "\n",
    "    training_loss_history[epoch] /= len(train_loader)\n",
    "    training_accuracy_history[epoch] = train_correct / train_total\n",
    "    print(f' loss: {training_loss_history[epoch,0]:0.4f}, acc: {training_accuracy_history[epoch,0]:0.4f}, AUC: {score:0.4f}',end='')\n",
    "\n",
    "    # validate\n",
    "    test_total = 0\n",
    "    test_correct = 0\n",
    "\n",
    "    with torch.no_grad():\n",
    "        model.eval()\n",
    "        for batch_idx, (data, label) in enumerate(test_loader):\n",
    "            # forward pass\n",
    "            output = model(data)\n",
    "            \n",
    "            y_pred=output.data[:,1].numpy()\n",
    "            try: \n",
    "                score = AUC_score(label, y_pred)\n",
    "            except:\n",
    "                score = -1\n",
    "            \n",
    "            # find accuracy\n",
    "            _, predicted = torch.max(output.data, 1)\n",
    "            test_total += label.size(0)\n",
    "            test_correct += (predicted == label).sum().item()\n",
    "            # find loss\n",
    "            loss = loss_fn(output, label)\n",
    "            validation_loss_history[epoch] += loss.item()\n",
    "\n",
    "            validation_loss_history[epoch] /= len(test_loader)\n",
    "            validation_accuracy_history[epoch] = test_correct / test_total\n",
    "\n",
    "    print(f', val loss: {validation_loss_history[epoch,0]:0.8f}, val acc: {validation_accuracy_history[epoch,0]:0.4f}, val AUC: {score:0.4f}')"
   ]
  },
  {
   "cell_type": "code",
   "execution_count": 60,
   "id": "7a0c1b61-f094-4127-8f3c-3c91dd8c443e",
   "metadata": {},
   "outputs": [
    {
     "data": {
      "text/plain": [
       "0.6561848643296664"
      ]
     },
     "execution_count": 60,
     "metadata": {},
     "output_type": "execute_result"
    }
   ],
   "source": [
    "model.eval()\n",
    "output = model(torch.Tensor(X_val))\n",
    "y_pred=output.data[:,1].numpy()\n",
    "\n",
    "AUC_score(y_val, y_pred)"
   ]
  },
  {
   "cell_type": "code",
   "execution_count": 61,
   "id": "1731c16b-4845-4a2e-9a78-d3258d032864",
   "metadata": {},
   "outputs": [
    {
     "data": {
      "text/plain": [
       "0.6786058301647655"
      ]
     },
     "execution_count": 61,
     "metadata": {},
     "output_type": "execute_result"
    }
   ],
   "source": [
    "_, predicted = torch.max(output.data, 1)\n",
    "np.sum(y_val==predicted.numpy()) / len(y_val)"
   ]
  },
  {
   "cell_type": "code",
   "execution_count": 52,
   "id": "9ed61ba8-7ed7-471f-8db3-a52333939af8",
   "metadata": {},
   "outputs": [
    {
     "data": {
      "text/plain": [
       "tensor(0.9640)"
      ]
     },
     "execution_count": 52,
     "metadata": {},
     "output_type": "execute_result"
    }
   ],
   "source": [
    "(output.data).max(axis=1)[0].mean()"
   ]
  },
  {
   "cell_type": "code",
   "execution_count": null,
   "id": "7b470506-b064-44c3-92f1-d20896888967",
   "metadata": {},
   "outputs": [],
   "source": []
  }
 ],
 "metadata": {
  "kernelspec": {
   "display_name": "Python 3 (ipykernel)",
   "language": "python",
   "name": "python3"
  },
  "language_info": {
   "codemirror_mode": {
    "name": "ipython",
    "version": 3
   },
   "file_extension": ".py",
   "mimetype": "text/x-python",
   "name": "python",
   "nbconvert_exporter": "python",
   "pygments_lexer": "ipython3",
   "version": "3.8.12"
  }
 },
 "nbformat": 4,
 "nbformat_minor": 5
}
