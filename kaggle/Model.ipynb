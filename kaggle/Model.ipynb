{
 "cells": [
  {
   "cell_type": "markdown",
   "id": "continuous-madness",
   "metadata": {},
   "source": [
    "## Importing libraries"
   ]
  },
  {
   "cell_type": "code",
   "execution_count": 1,
   "id": "dependent-tiger",
   "metadata": {},
   "outputs": [],
   "source": [
    "import pandas as pd\n",
    "import numpy as np\n",
    "## Models\n",
    "from sklearn.ensemble import AdaBoostClassifier\n",
    "from sklearn.linear_model import LogisticRegression\n",
    "from sklearn.svm import SVC\n",
    "from sklearn.linear_model import RidgeClassifier\n",
    "from sklearn.neighbors import KNeighborsClassifier\n",
    "## Other stuff\n",
    "from sklearn.metrics import roc_auc_score,confusion_matrix\n",
    "from sklearn.model_selection import train_test_split\n",
    "from sklearn.decomposition import PCA\n",
    "## Samplers\n",
    "from imblearn.under_sampling import RandomUnderSampler\n",
    "from imblearn.under_sampling import ClusterCentroids \n",
    "from imblearn.combine import SMOTEENN "
   ]
  },
  {
   "cell_type": "markdown",
   "id": "collectible-transcript",
   "metadata": {},
   "source": [
    "## Utility functions"
   ]
  },
  {
   "cell_type": "code",
   "execution_count": 2,
   "id": "prostate-continuity",
   "metadata": {},
   "outputs": [],
   "source": [
    "# Utiliy Functions\n",
    "def min_max_data_normalize(data_train,data_test):\n",
    "    data_min=data_train.min()\n",
    "    data_max=data_train.max()\n",
    "    normal_data_train=(data_train-data_min)/(data_max-data_min)\n",
    "    normal_data_test=(data_test-data_min)/(data_max-data_min)\n",
    "    return normal_data_train,normal_data_test"
   ]
  },
  {
   "cell_type": "code",
   "execution_count": 33,
   "id": "moderate-exhaust",
   "metadata": {},
   "outputs": [],
   "source": [
    "def data_processed():\n",
    "    '''\n",
    "    Used to read & normalize processed test and train data\n",
    "    '''\n",
    "    data_train=pd.read_csv(\"data/2022-02-06_LOANS_TRAIN.csv\")\n",
    "    data_test=pd.read_csv(\"data/2022-02-06_LOANS_TEST.csv\")\n",
    "    y_train=data_train['loan_status']\n",
    "    data_train.drop('loan_status',1,inplace=True)\n",
    "    normal_data_train,normal_data_test=min_max_data_normalize(data_train,data_test)\n",
    "    return normal_data_train,normal_data_test,y_train\n",
    "\n",
    "def AUC_score(y_ground_truth,y_predicted_probability):\n",
    "    return roc_auc_score(y_ground_truth, y_predicted_probability)\n",
    "\n",
    "def to_submission(y_test_predicted_probability):\n",
    "    y_test=pd.DataFrame(y_test_predicted_probability,columns=['loan_status'])\n",
    "    y_test.index = np.arange(200000, 200000+len(y_test))\n",
    "    y_test.to_csv('data/submission.csv', index_label='id')\n",
    "    return\n",
    "\n",
    "def feature_engineering(data_train,data_test,n):\n",
    "    pca = PCA(n_components=n)\n",
    "    new_data_train = pca.fit_transform(data_train)\n",
    "    new_data_test = pca.transform(data_test)\n",
    "    return new_data_train,new_data_test\n",
    "\n",
    "def over_under_sampling(X_train,Y_train,method,fraction):\n",
    "    if method==\"random\":\n",
    "        rus = RandomUnderSampler(random_state=0,sampling_strategy=fraction)\n",
    "    elif method==\"centroid\":\n",
    "        rus = ClusterCentroids(random_state=42,sampling_strategy=fraction)\n",
    "    elif method==\"SMOTENN\":\n",
    "        rus = SMOTEENN(random_state=42,sampling_strategy=fraction)\n",
    "    X_resampled, y_resampled = rus.fit_resample(X_train, Y_train)\n",
    "    return X_resampled, y_resampled"
   ]
  },
  {
   "cell_type": "markdown",
   "id": "described-german",
   "metadata": {},
   "source": [
    "## Data Split and Dimensionality Reduction"
   ]
  },
  {
   "cell_type": "code",
   "execution_count": 12,
   "id": "backed-flour",
   "metadata": {},
   "outputs": [],
   "source": [
    "X_train,X_test,Y_train=data_processed()\n",
    "X_train,Y_train=over_under_sampling(X_train,Y_train,method=\"random\",fraction=5/6)\n",
    "X_train,X_test=feature_engineering(X_train,X_test,n=15)\n",
    "X_train, X_val, Y_train, Y_val = train_test_split(X_train, Y_train, test_size=0.33, random_state=42)"
   ]
  },
  {
   "cell_type": "markdown",
   "id": "aggressive-process",
   "metadata": {},
   "source": [
    "## Modeling"
   ]
  },
  {
   "cell_type": "markdown",
   "id": "promising-samba",
   "metadata": {},
   "source": [
    "### AdaBoost"
   ]
  },
  {
   "cell_type": "code",
   "execution_count": 19,
   "id": "indirect-shannon",
   "metadata": {},
   "outputs": [
    {
     "data": {
      "text/plain": [
       "0.6622763448287391"
      ]
     },
     "execution_count": 19,
     "metadata": {},
     "output_type": "execute_result"
    }
   ],
   "source": [
    "clf = AdaBoostClassifier(n_estimators=100, random_state=0)\n",
    "clf.fit(X_train, Y_train)\n",
    "Y_train_pred_ada=clf.predict(X_train)\n",
    "Y_val_pred_ada=clf.predict(X_val)\n",
    "Y_val_pred_prob_ada=clf.predict_proba(X_val)[:,1]\n",
    "AUC_score(Y_val,Y_val_pred_prob_ada)"
   ]
  },
  {
   "cell_type": "markdown",
   "id": "wrapped-upper",
   "metadata": {},
   "source": [
    "### SVC"
   ]
  },
  {
   "cell_type": "markdown",
   "id": "shared-personal",
   "metadata": {},
   "source": [
    "SVC Takes forver to run becuase of huge dataset."
   ]
  },
  {
   "cell_type": "code",
   "execution_count": null,
   "id": "appointed-custody",
   "metadata": {},
   "outputs": [],
   "source": [
    "clf = SVC(gamma='auto',probability=True)\n",
    "clf.fit(X_train, Y_train)"
   ]
  },
  {
   "cell_type": "markdown",
   "id": "global-continent",
   "metadata": {},
   "source": [
    "### kNN"
   ]
  },
  {
   "cell_type": "code",
   "execution_count": 16,
   "id": "joined-compatibility",
   "metadata": {},
   "outputs": [
    {
     "data": {
      "text/plain": [
       "KNeighborsClassifier(n_neighbors=2)"
      ]
     },
     "execution_count": 16,
     "metadata": {},
     "output_type": "execute_result"
    }
   ],
   "source": [
    "clf = KNeighborsClassifier(n_neighbors=2)\n",
    "clf.fit(X_train, Y_train)"
   ]
  },
  {
   "cell_type": "markdown",
   "id": "stunning-concern",
   "metadata": {},
   "source": [
    "### Logistic Regression"
   ]
  },
  {
   "cell_type": "code",
   "execution_count": 14,
   "id": "australian-belarus",
   "metadata": {},
   "outputs": [
    {
     "data": {
      "text/plain": [
       "0.6664574451973246"
      ]
     },
     "execution_count": 14,
     "metadata": {},
     "output_type": "execute_result"
    }
   ],
   "source": [
    "clf = LogisticRegression(random_state=0).fit(X_train, Y_train)\n",
    "Y_train_pred_log=clf.predict(X_train)\n",
    "Y_val_pred_log=clf.predict_proba(X_val)[:,1]\n",
    "Y_val_pred_prob_log=clf.predict_proba(X_val)[:,1]\n",
    "AUC_score(Y_val,Y_val_pred_prob_log)"
   ]
  },
  {
   "cell_type": "markdown",
   "id": "german-drawing",
   "metadata": {},
   "source": [
    "## Testing"
   ]
  },
  {
   "cell_type": "code",
   "execution_count": 9,
   "id": "infectious-briefs",
   "metadata": {},
   "outputs": [
    {
     "data": {
      "text/plain": [
       "array([[8976, 2980],\n",
       "       [5283, 4704]])"
      ]
     },
     "execution_count": 9,
     "metadata": {},
     "output_type": "execute_result"
    }
   ],
   "source": [
    "confusion_matrix(Y_val,Y_val_pred)"
   ]
  },
  {
   "cell_type": "markdown",
   "id": "special-chemistry",
   "metadata": {},
   "source": [
    "## Blending\n",
    "Linear combination of few models. ( Using Val set )\n",
    "Under sampling of majority class in few models."
   ]
  },
  {
   "cell_type": "code",
   "execution_count": 18,
   "id": "sweet-surgeon",
   "metadata": {},
   "outputs": [
    {
     "data": {
      "text/plain": [
       "0.4937175688716509"
      ]
     },
     "execution_count": 18,
     "metadata": {},
     "output_type": "execute_result"
    }
   ],
   "source": [
    "X_blend=np.vstack((Y_train_pred_ada,Y_train_pred_log)).reshape(-1,2)\n",
    "clf = LogisticRegression(random_state=0).fit(X_blend, Y_train)\n",
    "X_blend=np.vstack((Y_val_pred_ada,Y_val_pred_ada)).reshape(-1,2)\n",
    "Y_val_pred_prob=clf.predict_proba(X_blend)[:,1]\n",
    "AUC_score(Y_val,Y_val_pred_prob)"
   ]
  },
  {
   "cell_type": "markdown",
   "id": "attended-destruction",
   "metadata": {},
   "source": [
    "## Preping for submission"
   ]
  },
  {
   "cell_type": "code",
   "execution_count": 34,
   "id": "radio-budget",
   "metadata": {},
   "outputs": [],
   "source": [
    "Y_test_pred_prob=clf.predict_proba(X_test)[:,1]\n",
    "to_submission(Y_test_pred_prob)"
   ]
  },
  {
   "cell_type": "code",
   "execution_count": 35,
   "id": "differential-botswana",
   "metadata": {},
   "outputs": [
    {
     "data": {
      "text/plain": [
       "0.5003545792718493"
      ]
     },
     "execution_count": 35,
     "metadata": {},
     "output_type": "execute_result"
    }
   ],
   "source": [
    "np.mean(Y_test_pred_prob)"
   ]
  },
  {
   "cell_type": "code",
   "execution_count": null,
   "id": "aggregate-handbook",
   "metadata": {},
   "outputs": [],
   "source": []
  }
 ],
 "metadata": {
  "kernelspec": {
   "display_name": "Python 3",
   "language": "python",
   "name": "python3"
  },
  "language_info": {
   "codemirror_mode": {
    "name": "ipython",
    "version": 3
   },
   "file_extension": ".py",
   "mimetype": "text/x-python",
   "name": "python",
   "nbconvert_exporter": "python",
   "pygments_lexer": "ipython3",
   "version": "3.7.7"
  }
 },
 "nbformat": 4,
 "nbformat_minor": 5
}
