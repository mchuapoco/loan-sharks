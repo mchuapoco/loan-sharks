{
 "cells": [
  {
   "cell_type": "markdown",
   "id": "6b8581e9-a4c6-4181-955b-97433b43ecfb",
   "metadata": {},
   "source": [
    "# Logistic Regression\n",
    "\n",
    "Goals of this notebook: \n",
    "- Test the performance of a logistic regression model in classifying if a loan was paid off or not\n",
    "- Use a grid search algorithm to determine an optimal regularization value for the model"
   ]
  },
  {
   "cell_type": "code",
   "execution_count": 6,
   "id": "6df3f0c0-e1d1-4e7f-896d-1a9e51fe52bf",
   "metadata": {},
   "outputs": [],
   "source": [
    "import numpy as np \n",
    "import pandas as pd\n",
    "from sklearn.model_selection import train_test_split, GridSearchCV\n",
    "from sklearn.linear_model import LogisticRegression\n",
    "from sklearn.metrics import roc_auc_score, confusion_matrix, ConfusionMatrixDisplay\n",
    "from sklearn.preprocessing import StandardScaler\n",
    "from tensorflow.keras.utils import to_categorical\n",
    "from sklearn.decomposition import PCA\n",
    "import matplotlib.pyplot as plt"
   ]
  },
  {
   "cell_type": "markdown",
   "id": "5360518a-f104-4a3f-bf68-dddf70f4706d",
   "metadata": {},
   "source": [
    "#### Load the data, normalize, and split into a training and validation set"
   ]
  },
  {
   "cell_type": "code",
   "execution_count": 7,
   "id": "465c8993-542a-4eac-895d-c2c4b4521aa5",
   "metadata": {},
   "outputs": [],
   "source": [
    "def min_max_data_normalize(data_train, data_test):\n",
    "    data_min = data_train.min()\n",
    "    data_max = data_train.max()\n",
    "    normal_data_train = (data_train - data_min) / (data_max - data_min)\n",
    "    normal_data_test = (data_test - data_min) / (data_max - data_min)\n",
    "    \n",
    "    return normal_data_train, normal_data_test\n",
    "\n",
    "def data_processed():\n",
    "    '''\n",
    "    Used to read & normalize processed test and train data\n",
    "    '''\n",
    "    data_train = pd.read_csv(\"data/2022-02-06_LOANS_TRAIN.csv\")\n",
    "    data_test = pd.read_csv(\"data/2022-02-06_LOANS_TEST.csv\")\n",
    "    y_train = data_train['loan_status']\n",
    "    data_train.drop('loan_status', 1, inplace=True)\n",
    "    normal_data_train, normal_data_test = min_max_data_normalize(data_train, data_test)\n",
    "    \n",
    "    return normal_data_train, normal_data_test, y_train\n",
    "\n",
    "def to_submission(y_test_predicted_probability):\n",
    "    y_test = pd.DataFrame(y_test_predicted_probability, columns=['loan_status'])\n",
    "    y_test.to_csv('data/submission.csv', index_label='id')\n",
    "    return"
   ]
  },
  {
   "cell_type": "code",
   "execution_count": 8,
   "id": "f717e5e8-391b-402f-ab37-7a7b0b88566d",
   "metadata": {},
   "outputs": [
    {
     "name": "stderr",
     "output_type": "stream",
     "text": [
      "/var/folders/h7/dxctt03x2vjdfbhcmgymr3400000gn/T/ipykernel_11626/493885001.py:16: FutureWarning: In a future version of pandas all arguments of DataFrame.drop except for the argument 'labels' will be keyword-only\n",
      "  data_train.drop('loan_status', 1, inplace=True)\n"
     ]
    },
    {
     "name": "stdout",
     "output_type": "stream",
     "text": [
      "\n",
      "X_train shape: (132157, 29)\n",
      "y_train shape: (132157,)\n",
      "X_val shape: (65093, 29)\n",
      "y_val shape: (65093,)\n",
      "\n"
     ]
    }
   ],
   "source": [
    "X_train, X_test, y_train = data_processed()\n",
    "X_train, X_val, y_train, y_val = train_test_split(X_train, y_train, test_size=0.33, random_state=42, shuffle=True)\n",
    "\n",
    "print(f\"\"\"\n",
    "X_train shape: {X_train.shape}\n",
    "y_train shape: {y_train.shape}\n",
    "X_val shape: {X_val.shape}\n",
    "y_val shape: {y_val.shape}\n",
    "\"\"\")"
   ]
  },
  {
   "cell_type": "markdown",
   "id": "f1324fff-3c00-4ac6-9dfa-b44f43bd967c",
   "metadata": {},
   "source": [
    "#### Train a logistic regression model using the default parameters"
   ]
  },
  {
   "cell_type": "code",
   "execution_count": 5,
   "id": "1913e563-022b-4b24-9bea-1c0d9f6df90a",
   "metadata": {},
   "outputs": [
    {
     "data": {
      "text/plain": [
       "LogisticRegression(max_iter=400)"
      ]
     },
     "execution_count": 5,
     "metadata": {},
     "output_type": "execute_result"
    }
   ],
   "source": [
    "logistic = LogisticRegression(max_iter=400) \n",
    "\n",
    "# Fit the logistic regression model to the data\n",
    "logistic.fit(X_train, y_train)   "
   ]
  },
  {
   "cell_type": "code",
   "execution_count": 6,
   "id": "7f28393e-6532-47cc-befc-3e228fa9fffe",
   "metadata": {},
   "outputs": [
    {
     "data": {
      "text/plain": [
       "0.8464811884534436"
      ]
     },
     "execution_count": 6,
     "metadata": {},
     "output_type": "execute_result"
    }
   ],
   "source": [
    "logistic.score(X_val, y_val)"
   ]
  },
  {
   "cell_type": "code",
   "execution_count": 7,
   "id": "9f89f469-482f-450b-84f3-9437049cf0ab",
   "metadata": {},
   "outputs": [],
   "source": [
    "# convert to one-hot encoding\n",
    "y_val_oh = to_categorical(y_val)"
   ]
  },
  {
   "cell_type": "code",
   "execution_count": 8,
   "id": "a5923c57-9e03-4d01-be2e-191060e0015f",
   "metadata": {},
   "outputs": [
    {
     "data": {
      "text/plain": [
       "0.6785396237311278"
      ]
     },
     "execution_count": 8,
     "metadata": {},
     "output_type": "execute_result"
    }
   ],
   "source": [
    "y_pred = logistic.predict_proba(X_val)\n",
    "roc_auc_score(y_val_oh, y_pred)"
   ]
  },
  {
   "cell_type": "code",
   "execution_count": 9,
   "id": "90b50b80-384a-4bbb-9606-f9e4e83b13e9",
   "metadata": {},
   "outputs": [],
   "source": [
    "prediction = logistic.predict(X_val)"
   ]
  },
  {
   "cell_type": "code",
   "execution_count": 16,
   "id": "967d0053-4475-4755-8010-e4b0e8c7b234",
   "metadata": {},
   "outputs": [
    {
     "data": {
      "text/plain": [
       "<sklearn.metrics._plot.confusion_matrix.ConfusionMatrixDisplay at 0x7fe2d5fb2d30>"
      ]
     },
     "execution_count": 16,
     "metadata": {},
     "output_type": "execute_result"
    },
    {
     "data": {
      "image/png": "[encoded data removed]",
      "text/plain": [
       "<Figure size 432x288 with 2 Axes>"
      ]
     },
     "metadata": {
      "needs_background": "light"
     },
     "output_type": "display_data"
    }
   ],
   "source": [
    "conf = confusion_matrix(y_val, prediction, normalize='true')\n",
    "disp = ConfusionMatrixDisplay(conf)\n",
    "disp.plot()"
   ]
  },
  {
   "cell_type": "markdown",
   "id": "50dbaac6-a49a-409e-ac1d-3886786083fb",
   "metadata": {},
   "source": [
    "Note: I initially got a convergence error, so I increased the maximum number of iterations."
   ]
  },
  {
   "cell_type": "markdown",
   "id": "091ec7db-2760-4823-8f4b-cbecebf363be",
   "metadata": {},
   "source": [
    "#### Use the grid search algorithm to determine the best regularization parameter\n",
    "I'll use 10-fold cross validation. I'll use the default scoring metric for now, then see if the performance is comparable when using the roc_auc_score. I also am only looking at different regularization values - other parameters can potentially be tuned, but I won't worry about it for now."
   ]
  },
  {
   "cell_type": "markdown",
   "id": "4861f014-83bf-4ab4-9c2b-34d991e5ad28",
   "metadata": {},
   "source": [
    "~ Note: The following cell takes a long time to run!"
   ]
  },
  {
   "cell_type": "code",
   "execution_count": 40,
   "id": "90310298-d15e-4ac4-8f92-75344d8b1c6d",
   "metadata": {},
   "outputs": [
    {
     "data": {
      "text/plain": [
       "GridSearchCV(cv=10, estimator=LogisticRegression(max_iter=1000),\n",
       "             param_grid={'C': [0.001, 0.1, 1, 10, 100]})"
      ]
     },
     "execution_count": 40,
     "metadata": {},
     "output_type": "execute_result"
    }
   ],
   "source": [
    "logistic = LogisticRegression(max_iter=1000) \n",
    "parameters = {'C':[0.001, 0.1, 1, 10, 100]}\n",
    "\n",
    "clf = GridSearchCV(logistic, parameters, cv=10)\n",
    "clf.fit(X_train, y_train)  "
   ]
  },
  {
   "cell_type": "code",
   "execution_count": 41,
   "id": "d257c0e2-0bf6-4c14-acb0-273e5d9d7991",
   "metadata": {},
   "outputs": [
    {
     "data": {
      "text/html": [
       "<div>\n",
       "<style scoped>\n",
       "    .dataframe tbody tr th:only-of-type {\n",
       "        vertical-align: middle;\n",
       "    }\n",
       "\n",
       "    .dataframe tbody tr th {\n",
       "        vertical-align: top;\n",
       "    }\n",
       "\n",
       "    .dataframe thead th {\n",
       "        text-align: right;\n",
       "    }\n",
       "</style>\n",
       "<table border=\"1\" class=\"dataframe\">\n",
       "  <thead>\n",
       "    <tr style=\"text-align: right;\">\n",
       "      <th></th>\n",
       "      <th>mean_fit_time</th>\n",
       "      <th>std_fit_time</th>\n",
       "      <th>mean_score_time</th>\n",
       "      <th>std_score_time</th>\n",
       "      <th>param_C</th>\n",
       "      <th>params</th>\n",
       "      <th>split0_test_score</th>\n",
       "      <th>split1_test_score</th>\n",
       "      <th>split2_test_score</th>\n",
       "      <th>split3_test_score</th>\n",
       "      <th>split4_test_score</th>\n",
       "      <th>split5_test_score</th>\n",
       "      <th>split6_test_score</th>\n",
       "      <th>split7_test_score</th>\n",
       "      <th>split8_test_score</th>\n",
       "      <th>split9_test_score</th>\n",
       "      <th>mean_test_score</th>\n",
       "      <th>std_test_score</th>\n",
       "      <th>rank_test_score</th>\n",
       "    </tr>\n",
       "  </thead>\n",
       "  <tbody>\n",
       "    <tr>\n",
       "      <th>0</th>\n",
       "      <td>0.378030</td>\n",
       "      <td>0.029960</td>\n",
       "      <td>0.003524</td>\n",
       "      <td>0.000953</td>\n",
       "      <td>0.001</td>\n",
       "      <td>{'C': 0.001}</td>\n",
       "      <td>0.846852</td>\n",
       "      <td>0.846852</td>\n",
       "      <td>0.846852</td>\n",
       "      <td>0.846852</td>\n",
       "      <td>0.846852</td>\n",
       "      <td>0.846852</td>\n",
       "      <td>0.846852</td>\n",
       "      <td>0.846841</td>\n",
       "      <td>0.846841</td>\n",
       "      <td>0.846841</td>\n",
       "      <td>0.846849</td>\n",
       "      <td>0.000005</td>\n",
       "      <td>1</td>\n",
       "    </tr>\n",
       "    <tr>\n",
       "      <th>3</th>\n",
       "      <td>4.801042</td>\n",
       "      <td>0.629342</td>\n",
       "      <td>0.003430</td>\n",
       "      <td>0.001374</td>\n",
       "      <td>10</td>\n",
       "      <td>{'C': 10}</td>\n",
       "      <td>0.846928</td>\n",
       "      <td>0.846701</td>\n",
       "      <td>0.846701</td>\n",
       "      <td>0.846777</td>\n",
       "      <td>0.846398</td>\n",
       "      <td>0.846928</td>\n",
       "      <td>0.847004</td>\n",
       "      <td>0.846614</td>\n",
       "      <td>0.846614</td>\n",
       "      <td>0.846614</td>\n",
       "      <td>0.846728</td>\n",
       "      <td>0.000175</td>\n",
       "      <td>2</td>\n",
       "    </tr>\n",
       "    <tr>\n",
       "      <th>4</th>\n",
       "      <td>5.308550</td>\n",
       "      <td>0.938221</td>\n",
       "      <td>0.003262</td>\n",
       "      <td>0.001067</td>\n",
       "      <td>100</td>\n",
       "      <td>{'C': 100}</td>\n",
       "      <td>0.847004</td>\n",
       "      <td>0.846701</td>\n",
       "      <td>0.846701</td>\n",
       "      <td>0.846625</td>\n",
       "      <td>0.846474</td>\n",
       "      <td>0.846928</td>\n",
       "      <td>0.846928</td>\n",
       "      <td>0.846689</td>\n",
       "      <td>0.846538</td>\n",
       "      <td>0.846614</td>\n",
       "      <td>0.846720</td>\n",
       "      <td>0.000168</td>\n",
       "      <td>3</td>\n",
       "    </tr>\n",
       "    <tr>\n",
       "      <th>2</th>\n",
       "      <td>2.742473</td>\n",
       "      <td>0.463577</td>\n",
       "      <td>0.003051</td>\n",
       "      <td>0.000409</td>\n",
       "      <td>1</td>\n",
       "      <td>{'C': 1}</td>\n",
       "      <td>0.846852</td>\n",
       "      <td>0.846777</td>\n",
       "      <td>0.846701</td>\n",
       "      <td>0.846701</td>\n",
       "      <td>0.846474</td>\n",
       "      <td>0.846777</td>\n",
       "      <td>0.846852</td>\n",
       "      <td>0.846614</td>\n",
       "      <td>0.846614</td>\n",
       "      <td>0.846538</td>\n",
       "      <td>0.846690</td>\n",
       "      <td>0.000122</td>\n",
       "      <td>4</td>\n",
       "    </tr>\n",
       "    <tr>\n",
       "      <th>1</th>\n",
       "      <td>1.760527</td>\n",
       "      <td>0.107468</td>\n",
       "      <td>0.003638</td>\n",
       "      <td>0.000992</td>\n",
       "      <td>0.1</td>\n",
       "      <td>{'C': 0.1}</td>\n",
       "      <td>0.846701</td>\n",
       "      <td>0.846701</td>\n",
       "      <td>0.846625</td>\n",
       "      <td>0.846701</td>\n",
       "      <td>0.846474</td>\n",
       "      <td>0.846777</td>\n",
       "      <td>0.846625</td>\n",
       "      <td>0.846538</td>\n",
       "      <td>0.846614</td>\n",
       "      <td>0.846538</td>\n",
       "      <td>0.846629</td>\n",
       "      <td>0.000088</td>\n",
       "      <td>5</td>\n",
       "    </tr>\n",
       "  </tbody>\n",
       "</table>\n",
       "</div>"
      ],
      "text/plain": [
       "   mean_fit_time  std_fit_time  mean_score_time  std_score_time param_C  \\\n",
       "0       0.378030      0.029960         0.003524        0.000953   0.001   \n",
       "3       4.801042      0.629342         0.003430        0.001374      10   \n",
       "4       5.308550      0.938221         0.003262        0.001067     100   \n",
       "2       2.742473      0.463577         0.003051        0.000409       1   \n",
       "1       1.760527      0.107468         0.003638        0.000992     0.1   \n",
       "\n",
       "         params  split0_test_score  split1_test_score  split2_test_score  \\\n",
       "0  {'C': 0.001}           0.846852           0.846852           0.846852   \n",
       "3     {'C': 10}           0.846928           0.846701           0.846701   \n",
       "4    {'C': 100}           0.847004           0.846701           0.846701   \n",
       "2      {'C': 1}           0.846852           0.846777           0.846701   \n",
       "1    {'C': 0.1}           0.846701           0.846701           0.846625   \n",
       "\n",
       "   split3_test_score  split4_test_score  split5_test_score  split6_test_score  \\\n",
       "0           0.846852           0.846852           0.846852           0.846852   \n",
       "3           0.846777           0.846398           0.846928           0.847004   \n",
       "4           0.846625           0.846474           0.846928           0.846928   \n",
       "2           0.846701           0.846474           0.846777           0.846852   \n",
       "1           0.846701           0.846474           0.846777           0.846625   \n",
       "\n",
       "   split7_test_score  split8_test_score  split9_test_score  mean_test_score  \\\n",
       "0           0.846841           0.846841           0.846841         0.846849   \n",
       "3           0.846614           0.846614           0.846614         0.846728   \n",
       "4           0.846689           0.846538           0.846614         0.846720   \n",
       "2           0.846614           0.846614           0.846538         0.846690   \n",
       "1           0.846538           0.846614           0.846538         0.846629   \n",
       "\n",
       "   std_test_score  rank_test_score  \n",
       "0        0.000005                1  \n",
       "3        0.000175                2  \n",
       "4        0.000168                3  \n",
       "2        0.000122                4  \n",
       "1        0.000088                5  "
      ]
     },
     "execution_count": 41,
     "metadata": {},
     "output_type": "execute_result"
    }
   ],
   "source": [
    "pd.DataFrame(clf.cv_results_).sort_values('rank_test_score')"
   ]
  },
  {
   "cell_type": "markdown",
   "id": "bfe36ab9-ef62-4c3c-b2c8-f15d3db7a209",
   "metadata": {},
   "source": [
    "C = 0.001 performed best with 20-fold cross validation for the logistic regression."
   ]
  },
  {
   "cell_type": "markdown",
   "id": "f9818ee4-8006-49aa-bc2a-577cb73f3844",
   "metadata": {},
   "source": [
    "#### Implement a logistic regression model with C=0.001 and evaluate with roc_auc_score"
   ]
  },
  {
   "cell_type": "code",
   "execution_count": 59,
   "id": "8b902e47-ff51-4135-9717-e4affd886311",
   "metadata": {},
   "outputs": [
    {
     "data": {
      "text/plain": [
       "0.6691286962440637"
      ]
     },
     "execution_count": 59,
     "metadata": {},
     "output_type": "execute_result"
    }
   ],
   "source": [
    "logistic = LogisticRegression(max_iter=400, C=0.001) \n",
    "\n",
    "# Fit the logistic regression model to the data\n",
    "logistic.fit(X_train, y_train)   \n",
    "\n",
    "y_pred = logistic.predict_proba(X_val)\n",
    "y_val_oh = to_categorical(y_val)\n",
    "roc_auc = roc_auc_score(y_val_oh, y_pred)\n",
    "roc_auc"
   ]
  },
  {
   "cell_type": "markdown",
   "id": "8329a726-b054-4de1-9791-331e18622c85",
   "metadata": {},
   "source": [
    "#### Since there was not a significant difference in the accuracy of the different C values, I also implemented a logistic regression model with C=100"
   ]
  },
  {
   "cell_type": "code",
   "execution_count": 62,
   "id": "f23fe53d-f8b5-4e1b-8ae1-0fd2b488362b",
   "metadata": {},
   "outputs": [
    {
     "data": {
      "text/plain": [
       "0.6817261153565823"
      ]
     },
     "execution_count": 62,
     "metadata": {},
     "output_type": "execute_result"
    }
   ],
   "source": [
    "logistic = LogisticRegression(max_iter=1000, C=100) \n",
    "\n",
    "# Fit the logistic regression model to the data\n",
    "logistic.fit(X_train, y_train)   \n",
    "\n",
    "y_pred = logistic.predict_proba(X_val)\n",
    "y_val_oh = to_categorical(y_val)\n",
    "roc_auc = roc_auc_score(y_val_oh, y_pred)\n",
    "roc_auc"
   ]
  },
  {
   "cell_type": "markdown",
   "id": "0dbff514-6818-489b-ab28-801cec40ac80",
   "metadata": {},
   "source": [
    "#### Implement PCA upstream of logistic regression"
   ]
  },
  {
   "cell_type": "code",
   "execution_count": 67,
   "id": "411eabfc-b8f0-4345-bf7c-9b38bdf82996",
   "metadata": {},
   "outputs": [
    {
     "data": {
      "image/png": "[encoded data removed]",
      "text/plain": [
       "<Figure size 1080x432 with 1 Axes>"
      ]
     },
     "metadata": {
      "needs_background": "light"
     },
     "output_type": "display_data"
    }
   ],
   "source": [
    "pca = PCA().fit(X_train)\n",
    "\n",
    "plt.rcParams[\"figure.figsize\"] = (15,6)\n",
    "\n",
    "fig, ax = plt.subplots()\n",
    "xi = np.arange(1, 30, step=1)\n",
    "y = np.cumsum(pca.explained_variance_ratio_)\n",
    "\n",
    "plt.ylim(0.0,1.1)\n",
    "plt.plot(xi, y, marker='o', linestyle='--', color='b')\n",
    "\n",
    "plt.xlabel('Number of Components')\n",
    "plt.xticks(np.arange(0, 30, step=1)) \n",
    "plt.ylabel('Cumulative variance (%)')\n",
    "plt.title('The number of components needed to explain variance')\n",
    "\n",
    "plt.axhline(y=0.95, color='r', linestyle='-')\n",
    "plt.text(0.5, 0.85, '95% cut-off threshold', color = 'red', fontsize=16)\n",
    "\n",
    "ax.grid(axis='x')\n",
    "plt.show()"
   ]
  },
  {
   "cell_type": "code",
   "execution_count": 68,
   "id": "5acc3d71-e26c-4c90-992e-79399d5d97d1",
   "metadata": {},
   "outputs": [],
   "source": [
    "pca = PCA(n_components = 0.95)\n",
    "pca.fit(X_train)\n",
    "X_train = pca.transform(X_train)\n",
    "X_val = pca.transform(X_val)"
   ]
  },
  {
   "cell_type": "code",
   "execution_count": 69,
   "id": "28fdb42a-6161-4216-8b7b-67d8d85d6265",
   "metadata": {},
   "outputs": [
    {
     "data": {
      "text/plain": [
       "0.6621991037517256"
      ]
     },
     "execution_count": 69,
     "metadata": {},
     "output_type": "execute_result"
    }
   ],
   "source": [
    "logistic = LogisticRegression(max_iter=400, C=0.001) \n",
    "\n",
    "# Fit the logistic regression model to the data\n",
    "logistic.fit(X_train, y_train)   \n",
    "\n",
    "y_pred = logistic.predict_proba(X_val)\n",
    "y_val_oh = to_categorical(y_val)\n",
    "roc_auc = roc_auc_score(y_val_oh, y_pred)\n",
    "roc_auc"
   ]
  },
  {
   "cell_type": "markdown",
   "id": "8accb4fc-3eb5-4b9d-97a6-f7cb978d4609",
   "metadata": {},
   "source": [
    "#### Try TomekLinks"
   ]
  },
  {
   "cell_type": "code",
   "execution_count": 1,
   "id": "010de1a1-f24e-4239-97fc-a1b52aeeef9b",
   "metadata": {},
   "outputs": [],
   "source": [
    "from imblearn.under_sampling import TomekLinks"
   ]
  },
  {
   "cell_type": "code",
   "execution_count": 23,
   "id": "42300129-d187-4a15-9777-2d9a2b859625",
   "metadata": {},
   "outputs": [],
   "source": [
    "def over_under_sampling(X_train,Y_train,method,fraction):\n",
    "    if method==\"random\":\n",
    "        rus = RandomUnderSampler(random_state=0,sampling_strategy=fraction)\n",
    "    elif method==\"centroid\":\n",
    "        rus = ClusterCentroids(random_state=42,sampling_strategy=fraction)\n",
    "    elif method==\"SMOTENN\":\n",
    "        rus = SMOTEENN(random_state=42,sampling_strategy=fraction)\n",
    "    elif method==\"Tomek\":\n",
    "        rus = TomekLinks(sampling_strategy='majority')\n",
    "    X_resampled, y_resampled = rus.fit_resample(X_train, Y_train)\n",
    "    return X_resampled, y_resampled"
   ]
  },
  {
   "cell_type": "code",
   "execution_count": null,
   "id": "e899592d-c0c1-46da-82a1-c9b2378e2aa3",
   "metadata": {},
   "outputs": [],
   "source": [
    "X_train, y_train = over_under_sampling(X_train, y_train, 'Tomek', 0)"
   ]
  },
  {
   "cell_type": "code",
   "execution_count": null,
   "id": "243471a9-7923-4812-a28c-09f19e93bbce",
   "metadata": {},
   "outputs": [],
   "source": [
    "logistic = LogisticRegression(max_iter=400, C=0.001) \n",
    "\n",
    "# Fit the logistic regression model to the data\n",
    "logistic.fit(X_train, y_train)   \n",
    "\n",
    "y_pred = logistic.predict_proba(X_val)\n",
    "y_val_oh = to_categorical(y_val)\n",
    "roc_auc = roc_auc_score(y_val_oh, y_pred)\n",
    "roc_auc"
   ]
  },
  {
   "cell_type": "code",
   "execution_count": null,
   "id": "713125d1-f57e-4daa-9858-14b9ed773bcc",
   "metadata": {},
   "outputs": [],
   "source": [
    "prediction = logistic.predict(X_val)\n",
    "conf = confusion_matrix(y_val, prediction, normalize='true')\n",
    "disp = ConfusionMatrixDisplay(conf)\n",
    "disp.plot();"
   ]
  },
  {
   "cell_type": "code",
   "execution_count": 20,
   "id": "e6f26f5e-7efa-4c73-adb1-d65ef16a2fc8",
   "metadata": {},
   "outputs": [
    {
     "data": {
      "text/plain": [
       "array([[55109,     0],\n",
       "       [ 9984,     0]])"
      ]
     },
     "execution_count": 20,
     "metadata": {},
     "output_type": "execute_result"
    }
   ],
   "source": [
    "confusion_matrix(y_val, prediction)"
   ]
  },
  {
   "cell_type": "markdown",
   "id": "0cb7b5c2-fa1b-49ea-b546-e62c52ed7bc3",
   "metadata": {
    "tags": []
   },
   "source": [
    "### Summary of findings\n",
    "\n",
    "- Using a logistic regression model with l2 regularization achieved ~67% accuracy in classifying the loan data.\n",
    "- The grid search algorithm was used to optimize the C regularization parameter, but this showed no significant improvement in performance \n",
    "- PCA was performed upstream of the logistic regression model, but also showed no significant improvement in performance\n",
    "- The tomek method was used for undersampling, but did not help. It just exclusively predicted label 1 for all points."
   ]
  },
  {
   "cell_type": "code",
   "execution_count": null,
   "id": "3172f043-bd72-4173-9a53-7338348676dd",
   "metadata": {},
   "outputs": [],
   "source": []
  }
 ],
 "metadata": {
  "kernelspec": {
   "display_name": "Python 3 (ipykernel)",
   "language": "python",
   "name": "python3"
  },
  "language_info": {
   "codemirror_mode": {
    "name": "ipython",
    "version": 3
   },
   "file_extension": ".py",
   "mimetype": "text/x-python",
   "name": "python",
   "nbconvert_exporter": "python",
   "pygments_lexer": "ipython3",
   "version": "3.8.11"
  }
 },
 "nbformat": 4,
 "nbformat_minor": 5
}
